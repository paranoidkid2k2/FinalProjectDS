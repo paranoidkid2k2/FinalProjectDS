{
 "cells": [
  {
   "cell_type": "markdown",
   "metadata": {},
   "source": [
    "# Đồ án thực hành Nhập môn Khoa học Dữ liệu"
   ]
  },
  {
   "cell_type": "markdown",
   "metadata": {},
   "source": [
    "### Thành viên:\n",
    "- 20120632: Trần Thái Vỹ\n",
    "- 20120409: Trần Thanh Tùng\n",
    "- 21120531: Nguyễn Văn Phúc\n",
    "\n"
   ]
  },
  {
   "cell_type": "markdown",
   "metadata": {},
   "source": [
    "## **Mô tả đồ án:**\n",
    "- Cào dữ liệu lấy thông tin của 10000 anime trên web. Thời điểm cào bắt đầu từ lúc cào dữ liệu trên đây.\n",
    "- Từ dữ liệu thu thập được tiến hành phân tích, khám phá, xử lý và đưa ra mô hình phù hợp cho dữ liệu.\n",
    "\n",
    "#### **Thời gian kết thúc đồ án:** ~7/01/2024\n",
    "#### **Thời gian vấn đáp:** ~5/1/2024\n",
    "#### **Nguồn của dữ liệu:**  [myanimelist.net](https://myanimelist.net)"
   ]
  },
  {
   "cell_type": "markdown",
   "metadata": {},
   "source": [
    "## Import thư viện"
   ]
  },
  {
   "cell_type": "code",
   "execution_count": 2,
   "metadata": {},
   "outputs": [],
   "source": [
    "import pandas as pd\n",
    "import matplotlib.pyplot as plt\n",
    "import seaborn as sns\n",
    "import numpy as np\n",
    "import re\n",
    "import datetime\n",
    "import warnings\n",
    "warnings.simplefilter('ignore')\n",
    "sns.set_theme()"
   ]
  },
  {
   "cell_type": "markdown",
   "metadata": {},
   "source": [
    "Thư viện pandas: đọc, ghi dữ liệu và thực hiện các xử lý dữ liệu trên dataframe.\\\n",
    "Thư viện mathplotlib: trực quan hóa dữ liệu.\\\n",
    "Thư viện numpy: làm việc với toán học một cách dễ dàng.\\\n",
    "Thư viện seaborn : Hỗ trợ trực quan hoá."
   ]
  },
  {
   "cell_type": "markdown",
   "metadata": {},
   "source": [
    "---"
   ]
  },
  {
   "cell_type": "markdown",
   "metadata": {},
   "source": [
    "## Thu thập dữ liệu"
   ]
  },
  {
   "cell_type": "markdown",
   "metadata": {},
   "source": [
    "### Thông tin về dữ liệu"
   ]
  },
  {
   "cell_type": "markdown",
   "metadata": {},
   "source": [
    "- Dữ liệu được sử dụng trong đồ án là tập dữ liệu về các **bộ anime** với những thông tin được lưu trữ liên quan tới những yếu tố được quan tâm với một bộ phim hoạt hình.\n",
    "- Tập dữ liệu được cào và download trực tiếp thông qua [đường dẫn](https://myanimelist.net/anime.php)."
   ]
  },
  {
   "cell_type": "markdown",
   "metadata": {},
   "source": [
    "### Dữ liệu được thu thập thế nào ?"
   ]
  },
  {
   "cell_type": "markdown",
   "metadata": {},
   "source": [
    "- Nhóm tiến hành crawl dữ liệu với thư viện scrapy.\n",
    "- Ở đây nhóm không crawl hết toàn bộ các anime mà chỉ crawl 10000 bộ nổi nhất được sắp xếp trên web."
   ]
  },
  {
   "cell_type": "markdown",
   "metadata": {},
   "source": [
    "---"
   ]
  },
  {
   "cell_type": "markdown",
   "metadata": {},
   "source": [
    "## Khám phá dữ liệu"
   ]
  },
  {
   "cell_type": "markdown",
   "metadata": {},
   "source": [
    "### Đọc dữ liệu từ file json vào dataframe"
   ]
  },
  {
   "cell_type": "markdown",
   "metadata": {},
   "source": [
    "Dữ liệu sau khi thu thập được lưu duy nhất trong 1 file JSON duy nhất là dataset/animes_info.json"
   ]
  },
  {
   "cell_type": "code",
   "execution_count": 3,
   "metadata": {},
   "outputs": [],
   "source": [
    "df = pd.read_json('./anime_crawler/anime_crawler/dataset/animes_info.json')"
   ]
  },
  {
   "cell_type": "code",
   "execution_count": 4,
   "metadata": {},
   "outputs": [
    {
     "data": {
      "text/html": [
       "<div>\n",
       "<style scoped>\n",
       "    .dataframe tbody tr th:only-of-type {\n",
       "        vertical-align: middle;\n",
       "    }\n",
       "\n",
       "    .dataframe tbody tr th {\n",
       "        vertical-align: top;\n",
       "    }\n",
       "\n",
       "    .dataframe thead th {\n",
       "        text-align: right;\n",
       "    }\n",
       "</style>\n",
       "<table border=\"1\" class=\"dataframe\">\n",
       "  <thead>\n",
       "    <tr style=\"text-align: right;\">\n",
       "      <th></th>\n",
       "      <th>Name</th>\n",
       "      <th>Score</th>\n",
       "      <th>Rank</th>\n",
       "      <th>Type</th>\n",
       "      <th>Episodes</th>\n",
       "      <th>Aired</th>\n",
       "      <th>Premiered</th>\n",
       "      <th>Producers</th>\n",
       "      <th>Studios</th>\n",
       "      <th>Genres</th>\n",
       "      <th>Popularity</th>\n",
       "      <th>Members</th>\n",
       "      <th>Favorites</th>\n",
       "    </tr>\n",
       "  </thead>\n",
       "  <tbody>\n",
       "    <tr>\n",
       "      <th>0</th>\n",
       "      <td>Fullmetal Alchemist: Brotherhood</td>\n",
       "      <td>9.11</td>\n",
       "      <td>1</td>\n",
       "      <td>TV</td>\n",
       "      <td>64</td>\n",
       "      <td>Apr 5, 2009 to Jul 4, 2010</td>\n",
       "      <td>Spring 2009</td>\n",
       "      <td>[Mainichi Broadcasting System, Studio Moriken,...</td>\n",
       "      <td>[Bones]</td>\n",
       "      <td>[Adventure, Drama, Fantasy, Action]</td>\n",
       "      <td>#3</td>\n",
       "      <td>3,037,641</td>\n",
       "      <td>211,082</td>\n",
       "    </tr>\n",
       "    <tr>\n",
       "      <th>1</th>\n",
       "      <td>Bleach: Sennen Kessen-hen</td>\n",
       "      <td>9.10</td>\n",
       "      <td>2</td>\n",
       "      <td>TV</td>\n",
       "      <td>13</td>\n",
       "      <td>Oct 11, 2022 to Dec 27, 2022</td>\n",
       "      <td>Fall 2022</td>\n",
       "      <td>[TV Tokyo, Shueisha, Dentsu, Aniplex]</td>\n",
       "      <td>[Pierrot]</td>\n",
       "      <td>[Adventure, Fantasy, Action]</td>\n",
       "      <td>#669</td>\n",
       "      <td>310,979</td>\n",
       "      <td>11,798</td>\n",
       "    </tr>\n",
       "    <tr>\n",
       "      <th>2</th>\n",
       "      <td>Kaguya-sama wa Kokurasetai: Ultra Romantic</td>\n",
       "      <td>9.09</td>\n",
       "      <td>3</td>\n",
       "      <td>TV</td>\n",
       "      <td>13</td>\n",
       "      <td>Apr 9, 2022 to Jun 25, 2022</td>\n",
       "      <td>Spring 2022</td>\n",
       "      <td>[JR East Marketing &amp; Communications, Mainichi ...</td>\n",
       "      <td>[A-1 Pictures]</td>\n",
       "      <td>[Comedy, Romance]</td>\n",
       "      <td>#238</td>\n",
       "      <td>703,336</td>\n",
       "      <td>25,895</td>\n",
       "    </tr>\n",
       "    <tr>\n",
       "      <th>3</th>\n",
       "      <td>Steins;Gate</td>\n",
       "      <td>9.08</td>\n",
       "      <td>4</td>\n",
       "      <td>TV</td>\n",
       "      <td>24</td>\n",
       "      <td>Apr 6, 2011 to Sep 14, 2011</td>\n",
       "      <td>Spring 2011</td>\n",
       "      <td>[Movic, AT-X, Nitroplus, Kadokawa Pictures Jap...</td>\n",
       "      <td>[White Fox]</td>\n",
       "      <td>[Drama, Sci-Fi, Suspense]</td>\n",
       "      <td>#13</td>\n",
       "      <td>2,338,343</td>\n",
       "      <td>177,381</td>\n",
       "    </tr>\n",
       "    <tr>\n",
       "      <th>4</th>\n",
       "      <td>Gintama°</td>\n",
       "      <td>9.07</td>\n",
       "      <td>5</td>\n",
       "      <td>TV</td>\n",
       "      <td>51</td>\n",
       "      <td>Apr 8, 2015 to Mar 30, 2016</td>\n",
       "      <td>Spring 2015</td>\n",
       "      <td>[TV Tokyo, Dentsu, Aniplex]</td>\n",
       "      <td>[Bandai Namco Pictures]</td>\n",
       "      <td>[Sci-Fi, Comedy, Action]</td>\n",
       "      <td>#337</td>\n",
       "      <td>567,213</td>\n",
       "      <td>15,323</td>\n",
       "    </tr>\n",
       "  </tbody>\n",
       "</table>\n",
       "</div>"
      ],
      "text/plain": [
       "                                         Name  Score  Rank Type Episodes  \\\n",
       "0            Fullmetal Alchemist: Brotherhood   9.11     1   TV       64   \n",
       "1                   Bleach: Sennen Kessen-hen   9.10     2   TV       13   \n",
       "2  Kaguya-sama wa Kokurasetai: Ultra Romantic   9.09     3   TV       13   \n",
       "3                                 Steins;Gate   9.08     4   TV       24   \n",
       "4                                    Gintama°   9.07     5   TV       51   \n",
       "\n",
       "                          Aired    Premiered  \\\n",
       "0    Apr 5, 2009 to Jul 4, 2010  Spring 2009   \n",
       "1  Oct 11, 2022 to Dec 27, 2022    Fall 2022   \n",
       "2   Apr 9, 2022 to Jun 25, 2022  Spring 2022   \n",
       "3   Apr 6, 2011 to Sep 14, 2011  Spring 2011   \n",
       "4   Apr 8, 2015 to Mar 30, 2016  Spring 2015   \n",
       "\n",
       "                                           Producers                  Studios  \\\n",
       "0  [Mainichi Broadcasting System, Studio Moriken,...                  [Bones]   \n",
       "1              [TV Tokyo, Shueisha, Dentsu, Aniplex]                [Pierrot]   \n",
       "2  [JR East Marketing & Communications, Mainichi ...           [A-1 Pictures]   \n",
       "3  [Movic, AT-X, Nitroplus, Kadokawa Pictures Jap...              [White Fox]   \n",
       "4                        [TV Tokyo, Dentsu, Aniplex]  [Bandai Namco Pictures]   \n",
       "\n",
       "                                Genres Popularity    Members Favorites  \n",
       "0  [Adventure, Drama, Fantasy, Action]         #3  3,037,641   211,082  \n",
       "1         [Adventure, Fantasy, Action]       #669    310,979    11,798  \n",
       "2                    [Comedy, Romance]       #238    703,336    25,895  \n",
       "3            [Drama, Sci-Fi, Suspense]        #13  2,338,343   177,381  \n",
       "4             [Sci-Fi, Comedy, Action]       #337    567,213    15,323  "
      ]
     },
     "execution_count": 4,
     "metadata": {},
     "output_type": "execute_result"
    }
   ],
   "source": [
    "df.head()"
   ]
  },
  {
   "cell_type": "markdown",
   "metadata": {},
   "source": [
    "### Dữ liệu có bao nhiêu dòng và bao nhiêu cột?"
   ]
  },
  {
   "cell_type": "markdown",
   "metadata": {},
   "source": [
    "Tiến hành tính số dòng và số cột rồi lưu vào 2 biến `num_rows` và `num_cols`."
   ]
  },
  {
   "cell_type": "code",
   "execution_count": 5,
   "metadata": {},
   "outputs": [],
   "source": [
    "num_rows = len(df.axes[0])\n",
    "num_cols = len(df.axes[1])"
   ]
  },
  {
   "cell_type": "code",
   "execution_count": 6,
   "metadata": {},
   "outputs": [
    {
     "name": "stdout",
     "output_type": "stream",
     "text": [
      "Số dòng: 10000\n",
      "Số cột: 13\n"
     ]
    }
   ],
   "source": [
    "print('Số dòng: {}'.format(num_rows))\n",
    "print('Số cột: {}'.format(num_cols))"
   ]
  },
  {
   "cell_type": "markdown",
   "metadata": {},
   "source": [
    "**Nhận xét:**\n",
    "* Tập dữ liệu gồm 10000 dòng và 13 cột.\n",
    "* Ngoài ra, theo thông tin của bộ dữ liệu, dữ liệu được khảo sát ngay từ lúc bắt đầu cào dữ liệu từ web nên đảm bảo tính tức thời, tuy nhiên có một điểm bất lợi được chỉ ra là ta không thể so sánh các số liệu theo các thời gian cào khác nhau."
   ]
  },
  {
   "cell_type": "markdown",
   "metadata": {},
   "source": [
    "### Mỗi dòng có ý nghĩa gì? Có vấn đề các dòng có ý nghĩa khác nhau không?"
   ]
  },
  {
   "cell_type": "markdown",
   "metadata": {},
   "source": [
    "- Theo quan sát, mỗi dòng là thông tin của một bộ anime với các trường dữ liệu giống nhau nhưng nội dung là riêng biệt.\n",
    "- Các dòng không có ý nghĩa khác nhau\n",
    "- Mỗi dòng là một đặc tả khác biệt về một bộ phim nhất định với cái nhìn khách quan nhất cho người xem."
   ]
  },
  {
   "cell_type": "markdown",
   "metadata": {},
   "source": [
    "### Dữ liệu các dòng có bị lặp không?"
   ]
  },
  {
   "cell_type": "markdown",
   "metadata": {},
   "source": [
    "Tiến hành kiểm tra bằng cách lưu kết quả vào biến `have_duplicated_rows`. Biến có giá trị True nếu dữ liệu có các dòng bị lặp và False nếu ngược lại."
   ]
  },
  {
   "cell_type": "code",
   "execution_count": 7,
   "metadata": {},
   "outputs": [
    {
     "name": "stdout",
     "output_type": "stream",
     "text": [
      "Các dòng dữ liệu không bị lặp\n"
     ]
    }
   ],
   "source": [
    "have_duplicated_rows=df.Name.duplicated().any()\n",
    "if have_duplicated_rows:\n",
    "    print('Các dòng dữ liệu bị lặp')\n",
    "else:\n",
    "    print('Các dòng dữ liệu không bị lặp')"
   ]
  },
  {
   "cell_type": "markdown",
   "metadata": {},
   "source": [
    "### Mỗi cột có ý nghĩa gì?"
   ]
  },
  {
   "cell_type": "markdown",
   "metadata": {},
   "source": [
    "Mô tả ý nghĩa các cột có trong `df`:\n",
    "- **Name**: Tên anime\n",
    "- **Score**: Số điểm trung bình được đánh giá bởi cộng đồng người dùng của anime đó\n",
    "- **Rank**: Thứ hạng của anime\n",
    "- **Type**: Loại anime (TV, Movie, OVA, ONA, Special, Music)\n",
    "- **Episodes**: Số tập hiện có\n",
    "- **Aired**: Thời gian phát sóng\n",
    "- **Premiered**: Mùa ra mắt\n",
    "- **Producers**: Các nhà sản xuất\n",
    "- **Studios**: Các studio\n",
    "- **Genres**: Thể loại anime\n",
    "- **Popularity**: Xếp hạng độ phổ biến\n",
    "- **Members**: Số lượng người dùng đã thêm anime vào danh sách anime của họ\n",
    "- **Favorites**: Số lượng người dùng đã thêm anime vào danh sách yêu thích của họ"
   ]
  },
  {
   "cell_type": "markdown",
   "metadata": {},
   "source": [
    "### Mỗi cột hiện đang có kiểu dữ liệu gì? Khoảng biểu diễn của kiểu dữ liệu đó ra sao? Có cột nào có kiểu dữ liệu chưa phù hợp để có thể xử lý tiếp không?"
   ]
  },
  {
   "cell_type": "markdown",
   "metadata": {},
   "source": [
    "Tiến hành lấy `dtype` của mỗi cột và lưu kết quả vào col_dtypes."
   ]
  },
  {
   "cell_type": "code",
   "execution_count": null,
   "metadata": {},
   "outputs": [
    {
     "data": {
      "text/plain": [
       "Name           object\n",
       "Score         float64\n",
       "Rank            int64\n",
       "Type           object\n",
       "Episodes       object\n",
       "Aired          object\n",
       "Premiered      object\n",
       "Producers      object\n",
       "Studios        object\n",
       "Genres         object\n",
       "Popularity     object\n",
       "Members        object\n",
       "Favorites      object\n",
       "dtype: object"
      ]
     },
     "execution_count": 7,
     "metadata": {},
     "output_type": "execute_result"
    }
   ],
   "source": [
    "col_dtypes = df.dtypes\n",
    "col_dtypes"
   ]
  },
  {
   "cell_type": "markdown",
   "metadata": {},
   "source": [
    "Khoảng biểu diễn của kiểu dữ liệu từng cột:\n",
    "- **Name**: object\n",
    "- **Score**: [np.float64, np.float32]\n",
    "- **Rank**: [np.int64, np.int32]\n",
    "- **Type**: object\n",
    "- **Episodes**: object\n",
    "- **Aired**: object\n",
    "- **Premiered**: object\n",
    "- **Producers**: object\n",
    "- **Studios**: object\n",
    "- **Genres**: object\n",
    "- **Popularity**: object\n",
    "- **Members**: object\n",
    "- **Favorites**: object"
   ]
  },
  {
   "cell_type": "markdown",
   "metadata": {},
   "source": [
    "Các cột có kiểu dữ liệu chưa phù hợp và các vấn đề cần xử lý:\n",
    "- Cột `Episode` có kiểu dữ liệu object, chứa số tập, một số dòng có giá trị \"Unknown\". Cần chuyển sang kiểu int để dễ thao tác\n",
    "- Cột `Aired` có kiểu dữ liệu object, chứa thông tin thời gian phát sóng, có dạng \"**Ngày bắt đầu** to **Ngày kết thúc**, trong đó **Ngày bắt đầu** được viết dưới dạng *%b %-d, %Y*, **Ngày kết thúc** có thể viết dưới dạng như **Ngày bắt đầu** hoặc có thể là dấu \"?\" thể hiện cho việc anime chưa kết thúc. Ngoài ra, một số anime thể loại đặc biệt như movie, OVA, ONA, Special, Music thì *thường* không có ngày kết thúc mà chỉ có ngày bắt đầu.\n",
    "- Cột `Popularites`, `Members`, `Favorites` có kiểu dữ liệu object, cần chuyển sang kiểu int"
   ]
  },
  {
   "cell_type": "markdown",
   "metadata": {},
   "source": [
    "## Tiền xử lý"
   ]
  },
  {
   "cell_type": "markdown",
   "metadata": {},
   "source": [
    "### Tiến hành để đưa các cột về kiểu dữ liệu phù hợp"
   ]
  },
  {
   "cell_type": "markdown",
   "metadata": {},
   "source": [
    "Ta tiến hành tiền xử lý các cột trên như sau:\n",
    "- Ở cột `Episodes`, ta chuyển các giá trị \"Unknown\" thành NaN và các giá trị khác thành kiểu int\n",
    "- Ở cột `Aired`, ta tách thành 2 cột là `From` và `To` lần lượt biểu diễn **Ngày bắt đầu** và **Ngày kết thúc**. Ở cột `From`, ta để kiểu dữ liệu datetime, còn ở cột `To`, ta để kiểu dữ liệu datetime đối với các anime có **Ngày kết thúc**, những anime chỉ có **Ngày bắt đầu** hoặc **Ngày kết thúc** có dạng \"?\" thì ta để giá trị NaN. Đặc biệt những bộ anime chỉ có 1 tập thì **Ngày bắt đầu** cũng là ngày **Ngày kết thúc**.\n",
    "- Ở cột `Popularity`, ta loại bỏ dấu \"#\" ở đầu và chuyển nó về kiểu dữ liệu int\n",
    "- Lần lượt chuyển 2 cột `Members` và `Favorites` về kiểu dữ liệu int (loại bỏ dấu \",\")"
   ]
  },
  {
   "cell_type": "code",
   "execution_count": null,
   "metadata": {},
   "outputs": [],
   "source": [
    "\n",
    "df['Episodes'].replace(to_replace=\"Unknown\",value=np.nan,inplace=True)\n",
    "# df['Episodes']=df['Episodes'].astype(int,errors='ignore')\n",
    "df['Episodes'] = df['Episodes'].astype('Int64')\n",
    "\n",
    "df['Aired']=df['Aired'].astype(str)\n",
    "df['From']=df['Aired'].transform(lambda x: x.split(' to ')[0])\n",
    "df['To']=df['Aired'].transform(\n",
    "    lambda x:x.split(' to ')[1] if len(x.split(' to ')) == 2 and x.split(' to ')[1]!= '?' else np.nan)\n",
    "df.drop(columns=['Aired'],inplace=True)\n",
    "df['From']=df['From'].transform(lambda x: np.nan if x==\"Not available\" else x)\n",
    "df['From']=pd.to_datetime(df['From'],infer_datetime_format=True)\n",
    "df['To']=pd.to_datetime(df['To'],infer_datetime_format=True)\n",
    "df['To'] = np.where((df['Episodes'].notna()) & (df['Episodes'] == 1) & (df['To'].isna()),df['From'], df['To'])\n",
    "\n",
    "df['Premiered'].replace(\"?\",np.nan,inplace=True)\n",
    "df['Premiered']=df['Premiered'].transform(lambda x: re.findall(\"[a-zA-Z]+\",x)[0] if x is not np.nan else x)\n",
    "\n",
    "df['Popularity']=df['Popularity'].transform(lambda x: int(x.replace(\"#\",\"\")))\n",
    "\n",
    "df['Members']=df['Members'].transform(lambda x: int(x.replace(\",\",\"\")))\n",
    "df['Favorites']=df['Favorites'].transform(lambda x: int(x.replace(\",\",\"\")))"
   ]
  },
  {
   "cell_type": "code",
   "execution_count": null,
   "metadata": {},
   "outputs": [
    {
     "data": {
      "text/plain": [
       "Name                  object\n",
       "Score                float64\n",
       "Rank                   int64\n",
       "Type                  object\n",
       "Episodes               Int64\n",
       "Premiered             object\n",
       "Producers             object\n",
       "Studios               object\n",
       "Genres                object\n",
       "Popularity             int64\n",
       "Members                int64\n",
       "Favorites              int64\n",
       "From          datetime64[ns]\n",
       "To            datetime64[ns]\n",
       "dtype: object"
      ]
     },
     "execution_count": 9,
     "metadata": {},
     "output_type": "execute_result"
    }
   ],
   "source": [
    "df.dtypes"
   ]
  },
  {
   "cell_type": "markdown",
   "metadata": {},
   "source": [
    "## Khám phá dữ liệu (tiếp tục)"
   ]
  },
  {
   "cell_type": "markdown",
   "metadata": {},
   "source": [
    "### Với mỗi cột có kiểu dữ liệu dạng numeric, các giá trị được phân bố như thế nào?"
   ]
  },
  {
   "cell_type": "markdown",
   "metadata": {},
   "source": [
    "Ta nhận thấy các cột có giá trị **numeric** là:\n",
    "Score, \n",
    "Rank, \n",
    "Episodes, \n",
    "From, \n",
    "To, \n",
    "Popularity, \n",
    "Members, \n",
    "Favorites\\\n",
    "Chia làm 2 loại:\n",
    "- Số thông thường có thể tính toán (float64, int64): Score, Rank, Episodes, Popularity, Members, Favorites\n",
    "- Ngày ( datetime64[ns]): From, To"
   ]
  },
  {
   "cell_type": "markdown",
   "metadata": {},
   "source": [
    "Với mỗi cột với dtypes là  ***'***datetime64[ns]***'***, ta tiến hành tính tỉ lệ % giá trị thiếu (từ 0 đến 100), min, max. Sau đó lưu kết quả vào dataframe `nume_col_profiles_df`. Dataframe này có 3 dòng là \"missing_ratio\", \"min\", \"max\"; và có các cột là các cột numeric."
   ]
  },
  {
   "cell_type": "code",
   "execution_count": null,
   "metadata": {},
   "outputs": [
    {
     "data": {
      "text/html": [
       "<div>\n",
       "<style scoped>\n",
       "    .dataframe tbody tr th:only-of-type {\n",
       "        vertical-align: middle;\n",
       "    }\n",
       "\n",
       "    .dataframe tbody tr th {\n",
       "        vertical-align: top;\n",
       "    }\n",
       "\n",
       "    .dataframe thead th {\n",
       "        text-align: right;\n",
       "    }\n",
       "</style>\n",
       "<table border=\"1\" class=\"dataframe\">\n",
       "  <thead>\n",
       "    <tr style=\"text-align: right;\">\n",
       "      <th></th>\n",
       "      <th>missing_ratio</th>\n",
       "      <th>min</th>\n",
       "      <th>max</th>\n",
       "    </tr>\n",
       "  </thead>\n",
       "  <tbody>\n",
       "    <tr>\n",
       "      <th>From</th>\n",
       "      <td>0.04</td>\n",
       "      <td>1917-02-01</td>\n",
       "      <td>2022-12-08</td>\n",
       "    </tr>\n",
       "    <tr>\n",
       "      <th>To</th>\n",
       "      <td>4.29</td>\n",
       "      <td>1917-02-01</td>\n",
       "      <td>2023-01-08</td>\n",
       "    </tr>\n",
       "  </tbody>\n",
       "</table>\n",
       "</div>"
      ],
      "text/plain": [
       "      missing_ratio        min        max\n",
       "From           0.04 1917-02-01 2022-12-08\n",
       "To             4.29 1917-02-01 2023-01-08"
      ]
     },
     "execution_count": 10,
     "metadata": {},
     "output_type": "execute_result"
    }
   ],
   "source": [
    "nume_col_df_1 = df.loc[:,[\"From\",\"To\"]]\n",
    "missing_ratio = pd.DataFrame(nume_col_df_1.isnull().sum()*100/len(nume_col_df_1),columns=['missing_ratio'])\n",
    "min = pd.DataFrame(pd.Series({'From':nume_col_df_1.loc[:,'From'].min(),'To':nume_col_df_1.loc[:,'To'].min()}),columns=['min'])\n",
    "max = pd.DataFrame(pd.Series({'From':nume_col_df_1.loc[:,'From'].max(),'To':nume_col_df_1.loc[:,'To'].max()}),columns=['max'])\n",
    "nume_col_profiles_df = pd.concat([missing_ratio, min,max],axis=1)\n",
    "nume_col_profiles_df"
   ]
  },
  {
   "cell_type": "markdown",
   "metadata": {},
   "source": [
    "Với mỗi cột với dtypes là  ***'***float64, int64***'***, tính kết quả được vào Data Frame `nume_col_df_2`, là \"missing_ratio\", \"count\", \"mean\", \"std\", \"min\", \"25%\", \"50%\", \"75%\", \"max\";"
   ]
  },
  {
   "cell_type": "code",
   "execution_count": null,
   "metadata": {},
   "outputs": [
    {
     "data": {
      "text/html": [
       "<div>\n",
       "<style scoped>\n",
       "    .dataframe tbody tr th:only-of-type {\n",
       "        vertical-align: middle;\n",
       "    }\n",
       "\n",
       "    .dataframe tbody tr th {\n",
       "        vertical-align: top;\n",
       "    }\n",
       "\n",
       "    .dataframe thead th {\n",
       "        text-align: right;\n",
       "    }\n",
       "</style>\n",
       "<table border=\"1\" class=\"dataframe\">\n",
       "  <thead>\n",
       "    <tr style=\"text-align: right;\">\n",
       "      <th></th>\n",
       "      <th>Score</th>\n",
       "      <th>Rank</th>\n",
       "      <th>Episodes</th>\n",
       "      <th>Popularity</th>\n",
       "      <th>Members</th>\n",
       "      <th>Favorites</th>\n",
       "    </tr>\n",
       "  </thead>\n",
       "  <tbody>\n",
       "    <tr>\n",
       "      <th>missing_ratio</th>\n",
       "      <td>0.000000</td>\n",
       "      <td>0.000000</td>\n",
       "      <td>0.51</td>\n",
       "      <td>0.00000</td>\n",
       "      <td>0.000000e+00</td>\n",
       "      <td>0.00000</td>\n",
       "    </tr>\n",
       "    <tr>\n",
       "      <th>count</th>\n",
       "      <td>10000.000000</td>\n",
       "      <td>10000.000000</td>\n",
       "      <td>9949.0</td>\n",
       "      <td>10000.00000</td>\n",
       "      <td>1.000000e+04</td>\n",
       "      <td>10000.00000</td>\n",
       "    </tr>\n",
       "    <tr>\n",
       "      <th>mean</th>\n",
       "      <td>6.865628</td>\n",
       "      <td>5000.501300</td>\n",
       "      <td>14.359634</td>\n",
       "      <td>6310.71830</td>\n",
       "      <td>8.269937e+04</td>\n",
       "      <td>1003.94020</td>\n",
       "    </tr>\n",
       "    <tr>\n",
       "      <th>std</th>\n",
       "      <td>0.648243</td>\n",
       "      <td>2886.894709</td>\n",
       "      <td>47.566261</td>\n",
       "      <td>4324.82702</td>\n",
       "      <td>2.259088e+05</td>\n",
       "      <td>6549.66395</td>\n",
       "    </tr>\n",
       "    <tr>\n",
       "      <th>min</th>\n",
       "      <td>5.860000</td>\n",
       "      <td>1.000000</td>\n",
       "      <td>1.0</td>\n",
       "      <td>1.00000</td>\n",
       "      <td>1.700000e+02</td>\n",
       "      <td>0.00000</td>\n",
       "    </tr>\n",
       "    <tr>\n",
       "      <th>25%</th>\n",
       "      <td>6.340000</td>\n",
       "      <td>2500.750000</td>\n",
       "      <td>1.0</td>\n",
       "      <td>2604.75000</td>\n",
       "      <td>2.479000e+03</td>\n",
       "      <td>3.00000</td>\n",
       "    </tr>\n",
       "    <tr>\n",
       "      <th>50%</th>\n",
       "      <td>6.780000</td>\n",
       "      <td>5000.500000</td>\n",
       "      <td>5.0</td>\n",
       "      <td>5615.50000</td>\n",
       "      <td>1.079300e+04</td>\n",
       "      <td>17.00000</td>\n",
       "    </tr>\n",
       "    <tr>\n",
       "      <th>75%</th>\n",
       "      <td>7.300000</td>\n",
       "      <td>7500.250000</td>\n",
       "      <td>13.0</td>\n",
       "      <td>9657.75000</td>\n",
       "      <td>5.594475e+04</td>\n",
       "      <td>150.00000</td>\n",
       "    </tr>\n",
       "    <tr>\n",
       "      <th>max</th>\n",
       "      <td>9.110000</td>\n",
       "      <td>10000.000000</td>\n",
       "      <td>3057.0</td>\n",
       "      <td>18426.00000</td>\n",
       "      <td>3.583787e+06</td>\n",
       "      <td>211082.00000</td>\n",
       "    </tr>\n",
       "  </tbody>\n",
       "</table>\n",
       "</div>"
      ],
      "text/plain": [
       "                      Score          Rank   Episodes   Popularity  \\\n",
       "missing_ratio      0.000000      0.000000       0.51      0.00000   \n",
       "count          10000.000000  10000.000000     9949.0  10000.00000   \n",
       "mean               6.865628   5000.501300  14.359634   6310.71830   \n",
       "std                0.648243   2886.894709  47.566261   4324.82702   \n",
       "min                5.860000      1.000000        1.0      1.00000   \n",
       "25%                6.340000   2500.750000        1.0   2604.75000   \n",
       "50%                6.780000   5000.500000        5.0   5615.50000   \n",
       "75%                7.300000   7500.250000       13.0   9657.75000   \n",
       "max                9.110000  10000.000000     3057.0  18426.00000   \n",
       "\n",
       "                    Members     Favorites  \n",
       "missing_ratio  0.000000e+00       0.00000  \n",
       "count          1.000000e+04   10000.00000  \n",
       "mean           8.269937e+04    1003.94020  \n",
       "std            2.259088e+05    6549.66395  \n",
       "min            1.700000e+02       0.00000  \n",
       "25%            2.479000e+03       3.00000  \n",
       "50%            1.079300e+04      17.00000  \n",
       "75%            5.594475e+04     150.00000  \n",
       "max            3.583787e+06  211082.00000  "
      ]
     },
     "execution_count": 11,
     "metadata": {},
     "output_type": "execute_result"
    }
   ],
   "source": [
    "nume_col_df_2 =  df.loc[:,['Score','Rank','Episodes','Popularity','Members','Favorites']]\n",
    "def missing_ratio(s):\n",
    "    return s.isna().mean() * 100\n",
    "missing_df = nume_col_df_2.agg([missing_ratio])\n",
    "nume_col_df = pd.concat([missing_df,nume_col_df_2.describe()])\n",
    "nume_col_df"
   ]
  },
  {
   "cell_type": "markdown",
   "metadata": {},
   "source": [
    "***Nhận xét:*** Với sự phân bố ở trê của các cột dữ liệu có dạng numeric, ta có thể đánh giá về dữ liệu là có tốt hay không bằng việc quan sát và đưa ra kết luận phù hợp cho bước tiền xử lí tiếp theo"
   ]
  },
  {
   "cell_type": "markdown",
   "metadata": {},
   "source": [
    "### Với mỗi cột có kiểu dữ liệu dạng categorical, các giá trị được phân bố như thế nào?"
   ]
  },
  {
   "cell_type": "markdown",
   "metadata": {},
   "source": [
    "**Các cột có giá trị categorical:**\\\n",
    "Type, Premiered, Producers, Studios, và Genres\\\n",
    "Ở đây ta không xét tới cột Name vì các giá trị của cột này đều là duy nhất."
   ]
  },
  {
   "cell_type": "markdown",
   "metadata": {},
   "source": [
    "Với mỗi cột categorical, ta tiến hành tính:\n",
    "- Tỉ lệ % giá trị thiếu (từ 0 đến 100)\n",
    "- Số lượng giá trị khác nhau (không xét giá trị thiếu), 3 cột Producers, Studios, và Genres chứa thông tin ở dạng list nên việc đếm các giá trị không có ý nghĩa mấy vì số lượng tổ hợp khá nhiều, nên ta sẽ đếm số lượng các phần tử có trong list\n",
    "- Tỉ lệ % (từ 0 đến 100) của mỗi giá trị được sort theo tỉ lệ % giảm dần (không xét giá trị thiếu, tỉ lệ là tỉ lệ so với số lượng các giá trị không thiếu): sử dụng dictionary với key là giá trị, value là tỉ lệ %\\\n",
    "Sau đó lưu kết quả vào dataframe `cate_col_profiles_df`. Dataframe này có 3 dòng là \"missing_ratio\", \"num_vals\", \"vals_ratios\"; và có các cột là các cột categorical"
   ]
  },
  {
   "cell_type": "code",
   "execution_count": null,
   "metadata": {},
   "outputs": [
    {
     "data": {
      "text/html": [
       "<div>\n",
       "<style scoped>\n",
       "    .dataframe tbody tr th:only-of-type {\n",
       "        vertical-align: middle;\n",
       "    }\n",
       "\n",
       "    .dataframe tbody tr th {\n",
       "        vertical-align: top;\n",
       "    }\n",
       "\n",
       "    .dataframe thead th {\n",
       "        text-align: right;\n",
       "    }\n",
       "</style>\n",
       "<table border=\"1\" class=\"dataframe\">\n",
       "  <thead>\n",
       "    <tr style=\"text-align: right;\">\n",
       "      <th></th>\n",
       "      <th>Type</th>\n",
       "      <th>Premiered</th>\n",
       "      <th>Producers</th>\n",
       "      <th>Studios</th>\n",
       "      <th>Genres</th>\n",
       "    </tr>\n",
       "  </thead>\n",
       "  <tbody>\n",
       "    <tr>\n",
       "      <th>missing_ratio</th>\n",
       "      <td>0.0</td>\n",
       "      <td>61.1</td>\n",
       "      <td>0.0</td>\n",
       "      <td>0.0</td>\n",
       "      <td>7.64</td>\n",
       "    </tr>\n",
       "    <tr>\n",
       "      <th>num_vals</th>\n",
       "      <td>7</td>\n",
       "      <td>4</td>\n",
       "      <td>692</td>\n",
       "      <td>557</td>\n",
       "      <td>19</td>\n",
       "    </tr>\n",
       "    <tr>\n",
       "      <th>value_ratios</th>\n",
       "      <td>{'TV': 39.1, 'Movie': 16.2, 'Special': 15.1, '...</td>\n",
       "      <td>{'Spring': 32.5, 'Fall': 30.2, 'Winter': 19.9,...</td>\n",
       "      <td>{'None found, ': 7.8, 'add some': 7.8, 'Aniple...</td>\n",
       "      <td>{'add some': 7.8, 'None found, ': 7.8, 'Toei A...</td>\n",
       "      <td>{'Comedy': 16.5, 'Action': 14.8, 'Drama': 10.4...</td>\n",
       "    </tr>\n",
       "  </tbody>\n",
       "</table>\n",
       "</div>"
      ],
      "text/plain": [
       "                                                            Type  \\\n",
       "missing_ratio                                                0.0   \n",
       "num_vals                                                       7   \n",
       "value_ratios   {'TV': 39.1, 'Movie': 16.2, 'Special': 15.1, '...   \n",
       "\n",
       "                                                       Premiered  \\\n",
       "missing_ratio                                               61.1   \n",
       "num_vals                                                       4   \n",
       "value_ratios   {'Spring': 32.5, 'Fall': 30.2, 'Winter': 19.9,...   \n",
       "\n",
       "                                                       Producers  \\\n",
       "missing_ratio                                                0.0   \n",
       "num_vals                                                     692   \n",
       "value_ratios   {'None found, ': 7.8, 'add some': 7.8, 'Aniple...   \n",
       "\n",
       "                                                         Studios  \\\n",
       "missing_ratio                                                0.0   \n",
       "num_vals                                                     557   \n",
       "value_ratios   {'add some': 7.8, 'None found, ': 7.8, 'Toei A...   \n",
       "\n",
       "                                                          Genres  \n",
       "missing_ratio                                               7.64  \n",
       "num_vals                                                      19  \n",
       "value_ratios   {'Comedy': 16.5, 'Action': 14.8, 'Drama': 10.4...  "
      ]
     },
     "execution_count": 12,
     "metadata": {},
     "output_type": "execute_result"
    }
   ],
   "source": [
    "cate_col_df = df[[\"Type\",\"Premiered\", \"Producers\", \"Studios\", \"Genres\"]].copy()\n",
    "missing_ratio = cate_col_df.isnull().sum() * 100 / len(cate_col_df)\n",
    "cate_col_df[[\"Producers\", \"Studios\", \"Genres\"]] = cate_col_df[[\"Producers\", \"Studios\", \"Genres\"]].apply(lambda x: x.explode(ignore_index=True))\n",
    "num_values = cate_col_df.nunique()\n",
    "value_ratios = cate_col_df.apply(lambda x: dict(x.value_counts(normalize = True).mul(100).round(1)))\n",
    "\n",
    "\n",
    "r_name = [\"missing_ratio\", \"num_vals\", \"value_ratios\"]\n",
    "\n",
    "cate_col_profiles_df = pd.DataFrame([missing_ratio,num_values,pd.Series(value_ratios,index=[\"Type\",\"Premiered\", \"Producers\", \"Studios\", \"Genres\"])],index=r_name)\n",
    "cate_col_profiles_df"
   ]
  },
  {
   "cell_type": "markdown",
   "metadata": {},
   "source": [
    "**Nhận xét:**\n",
    " - Các cột {Type, Producers, Studios,Genres} đều không có giá trị thiếu. Riêng về cột {Premiered và Genres} vẫn có thiếu. \n",
    " - Hoàn toàn phù hợp vì các trường thiếu dữ kiện là không quá cần thiết cho một bộ phim."
   ]
  },
  {
   "cell_type": "markdown",
   "metadata": {},
   "source": [
    "---"
   ]
  },
  {
   "cell_type": "markdown",
   "metadata": {},
   "source": [
    "## Đặt câu hỏi có ý nghĩa cần trả lời"
   ]
  },
  {
   "cell_type": "markdown",
   "metadata": {},
   "source": [
    "### Câu hỏi 1: Các Studio nào hiện đang chiếm ưu thế về mặt chất lượng cũng như số lượng người xem"
   ]
  },
  {
   "cell_type": "markdown",
   "metadata": {},
   "source": [
    "Hiện tại không thể phủ định chất lượng của những bộ phim được sản xuất ra cùng một 'lò' với chất lượng ngang nhau và tư duy sáng tạo khác biệt với mặt bằng chung, vậy nên việc người xem có thể lựa chọn về phía studio nào là một trong những vấn đề đáng nhắc đến của những người 'nghiện' thể loại hoạt hình anime."
   ]
  },
  {
   "cell_type": "code",
   "execution_count": null,
   "metadata": {},
   "outputs": [
    {
     "data": {
      "text/html": [
       "<div>\n",
       "<style scoped>\n",
       "    .dataframe tbody tr th:only-of-type {\n",
       "        vertical-align: middle;\n",
       "    }\n",
       "\n",
       "    .dataframe tbody tr th {\n",
       "        vertical-align: top;\n",
       "    }\n",
       "\n",
       "    .dataframe thead th {\n",
       "        text-align: right;\n",
       "    }\n",
       "</style>\n",
       "<table border=\"1\" class=\"dataframe\">\n",
       "  <thead>\n",
       "    <tr style=\"text-align: right;\">\n",
       "      <th></th>\n",
       "      <th>Studio</th>\n",
       "      <th>Score</th>\n",
       "      <th>Members</th>\n",
       "    </tr>\n",
       "  </thead>\n",
       "  <tbody>\n",
       "    <tr>\n",
       "      <th>0</th>\n",
       "      <td>10Gauge</td>\n",
       "      <td>6.784000</td>\n",
       "      <td>3053.400000</td>\n",
       "    </tr>\n",
       "    <tr>\n",
       "      <th>1</th>\n",
       "      <td>2:10 AM Animation</td>\n",
       "      <td>6.784000</td>\n",
       "      <td>2965.000000</td>\n",
       "    </tr>\n",
       "    <tr>\n",
       "      <th>2</th>\n",
       "      <td>5 Inc.</td>\n",
       "      <td>6.380000</td>\n",
       "      <td>5531.000000</td>\n",
       "    </tr>\n",
       "    <tr>\n",
       "      <th>3</th>\n",
       "      <td>7doc</td>\n",
       "      <td>6.385000</td>\n",
       "      <td>717.500000</td>\n",
       "    </tr>\n",
       "    <tr>\n",
       "      <th>4</th>\n",
       "      <td>8bit</td>\n",
       "      <td>7.164231</td>\n",
       "      <td>181995.557692</td>\n",
       "    </tr>\n",
       "    <tr>\n",
       "      <th>...</th>\n",
       "      <td>...</td>\n",
       "      <td>...</td>\n",
       "      <td>...</td>\n",
       "    </tr>\n",
       "    <tr>\n",
       "      <th>611</th>\n",
       "      <td>production doA</td>\n",
       "      <td>7.080000</td>\n",
       "      <td>70614.250000</td>\n",
       "    </tr>\n",
       "    <tr>\n",
       "      <th>612</th>\n",
       "      <td>studio MOTHER</td>\n",
       "      <td>7.084000</td>\n",
       "      <td>97721.000000</td>\n",
       "    </tr>\n",
       "    <tr>\n",
       "      <th>613</th>\n",
       "      <td>team Yamahitsuji</td>\n",
       "      <td>7.230000</td>\n",
       "      <td>106246.000000</td>\n",
       "    </tr>\n",
       "    <tr>\n",
       "      <th>614</th>\n",
       "      <td>teamKG</td>\n",
       "      <td>6.170000</td>\n",
       "      <td>34867.333333</td>\n",
       "    </tr>\n",
       "    <tr>\n",
       "      <th>615</th>\n",
       "      <td>ufotable</td>\n",
       "      <td>7.290781</td>\n",
       "      <td>233929.109375</td>\n",
       "    </tr>\n",
       "  </tbody>\n",
       "</table>\n",
       "<p>616 rows × 3 columns</p>\n",
       "</div>"
      ],
      "text/plain": [
       "                Studio     Score        Members\n",
       "0              10Gauge  6.784000    3053.400000\n",
       "1    2:10 AM Animation  6.784000    2965.000000\n",
       "2               5 Inc.  6.380000    5531.000000\n",
       "3                 7doc  6.385000     717.500000\n",
       "4                 8bit  7.164231  181995.557692\n",
       "..                 ...       ...            ...\n",
       "611     production doA  7.080000   70614.250000\n",
       "612      studio MOTHER  7.084000   97721.000000\n",
       "613   team Yamahitsuji  7.230000  106246.000000\n",
       "614             teamKG  6.170000   34867.333333\n",
       "615           ufotable  7.290781  233929.109375\n",
       "\n",
       "[616 rows x 3 columns]"
      ]
     },
     "execution_count": 13,
     "metadata": {},
     "output_type": "execute_result"
    }
   ],
   "source": [
    "df1=df[['Score','Studios','Members']].copy()\n",
    "df1=df1.Studios.apply(pd.Series).merge(df1,right_index=True,left_index=True)\n",
    "df1=df1.melt(id_vars=['Score','Members','Studios'],value_name=\"Studio\")\n",
    "df1=df1.drop([\"variable\",\"Studios\"],axis=1).dropna()\n",
    "df1=df1.groupby(['Studio'])[['Score','Members']].mean().reset_index()\n",
    "df1"
   ]
  },
  {
   "cell_type": "code",
   "execution_count": null,
   "metadata": {},
   "outputs": [
    {
     "data": {
      "text/plain": [
       "count         616\n",
       "unique        616\n",
       "top       10Gauge\n",
       "freq            1\n",
       "Name: Studio, dtype: object"
      ]
     },
     "execution_count": 14,
     "metadata": {},
     "output_type": "execute_result"
    }
   ],
   "source": [
    "df1['Studio'].describe()"
   ]
  },
  {
   "cell_type": "code",
   "execution_count": null,
   "metadata": {},
   "outputs": [
    {
     "data": {
      "text/plain": [
       "count    616.000000\n",
       "mean       6.704220\n",
       "std        0.457654\n",
       "min        5.870000\n",
       "25%        6.370000\n",
       "50%        6.676910\n",
       "75%        7.015312\n",
       "max        8.403333\n",
       "Name: Score, dtype: float64"
      ]
     },
     "execution_count": 15,
     "metadata": {},
     "output_type": "execute_result"
    }
   ],
   "source": [
    "df1['Score'].describe()"
   ]
  },
  {
   "cell_type": "markdown",
   "metadata": {},
   "source": [
    "Ở đây chúng ta điểm danh 616 studio được ghi nhận trong bảng dữ liệu với 2 chỉ số là số lượng (được đánh giá qua lượng người xem) và chất lượng (được đánh giá qua điểm số trung bình được người xem bình chọn trong từng bộ phim của studio đó).\\\n",
    "Nhìn chung thì điểm số của các studio dao động trong khoảng  5.87-8.4 tương đối là cao nhưng vẫn có độ chênh lệch nhất định."
   ]
  },
  {
   "cell_type": "markdown",
   "metadata": {},
   "source": [
    "### Biểu đồ thể hiện mật độ điểm số trung bình của các studio"
   ]
  },
  {
   "cell_type": "code",
   "execution_count": null,
   "metadata": {},
   "outputs": [
    {
     "data": {
      "text/plain": [
       "<AxesSubplot: xlabel='Score', ylabel='Count'>"
      ]
     },
     "execution_count": 16,
     "metadata": {},
     "output_type": "execute_result"
    },
    {
     "data": {
      "image/png": "[encoded data removed]",
      "text/plain": [
       "<Figure size 1296x576 with 1 Axes>"
      ]
     },
     "metadata": {
      "needs_background": "light"
     },
     "output_type": "display_data"
    }
   ],
   "source": [
    "plt.subplots(figsize=(18,8))\n",
    "sns.histplot(data=df1,x=\"Score\",kde=True,binwidth=0.1)"
   ]
  },
  {
   "cell_type": "markdown",
   "metadata": {},
   "source": [
    "***Nhận xét***\n",
    "Mật độ studio tập trung nhiều ở múc điểm 6.3~7.0, điểm được đánh giá là khá cao vì không dưới trung bình, vẫn xuất hiện những studio được đánh giá với điểm trung bình cao (lên tới 8.3, 8.4, 8.5) nhưng không nhiều cho thấy các studio duy trì được phong độ ở các bộ phim là không cao tuy nhiên vẫn được chào đón."
   ]
  },
  {
   "cell_type": "code",
   "execution_count": null,
   "metadata": {},
   "outputs": [
    {
     "data": {
      "text/html": [
       "<div>\n",
       "<style scoped>\n",
       "    .dataframe tbody tr th:only-of-type {\n",
       "        vertical-align: middle;\n",
       "    }\n",
       "\n",
       "    .dataframe tbody tr th {\n",
       "        vertical-align: top;\n",
       "    }\n",
       "\n",
       "    .dataframe thead th {\n",
       "        text-align: right;\n",
       "    }\n",
       "</style>\n",
       "<table border=\"1\" class=\"dataframe\">\n",
       "  <thead>\n",
       "    <tr style=\"text-align: right;\">\n",
       "      <th></th>\n",
       "      <th>Studio</th>\n",
       "      <th>Score</th>\n",
       "    </tr>\n",
       "  </thead>\n",
       "  <tbody>\n",
       "    <tr>\n",
       "      <th>0</th>\n",
       "      <td>K-Factory</td>\n",
       "      <td>8.403333</td>\n",
       "    </tr>\n",
       "    <tr>\n",
       "      <th>1</th>\n",
       "      <td>Studio Bind</td>\n",
       "      <td>8.346667</td>\n",
       "    </tr>\n",
       "    <tr>\n",
       "      <th>2</th>\n",
       "      <td>Egg Firm</td>\n",
       "      <td>8.292500</td>\n",
       "    </tr>\n",
       "    <tr>\n",
       "      <th>3</th>\n",
       "      <td>Nippon Ramayana Film Co.</td>\n",
       "      <td>8.250000</td>\n",
       "    </tr>\n",
       "    <tr>\n",
       "      <th>4</th>\n",
       "      <td>Studio Signpost</td>\n",
       "      <td>8.053333</td>\n",
       "    </tr>\n",
       "  </tbody>\n",
       "</table>\n",
       "</div>"
      ],
      "text/plain": [
       "                     Studio     Score\n",
       "0                 K-Factory  8.403333\n",
       "1               Studio Bind  8.346667\n",
       "2                  Egg Firm  8.292500\n",
       "3  Nippon Ramayana Film Co.  8.250000\n",
       "4           Studio Signpost  8.053333"
      ]
     },
     "execution_count": 17,
     "metadata": {},
     "output_type": "execute_result"
    }
   ],
   "source": [
    "# Top 5 Score\n",
    "top=5\n",
    "df1.sort_values(by=['Score'],ascending=False,ignore_index=True)[:top][['Studio','Score']]"
   ]
  },
  {
   "cell_type": "code",
   "execution_count": null,
   "metadata": {},
   "outputs": [
    {
     "data": {
      "text/html": [
       "<div>\n",
       "<style scoped>\n",
       "    .dataframe tbody tr th:only-of-type {\n",
       "        vertical-align: middle;\n",
       "    }\n",
       "\n",
       "    .dataframe tbody tr th {\n",
       "        vertical-align: top;\n",
       "    }\n",
       "\n",
       "    .dataframe thead th {\n",
       "        text-align: right;\n",
       "    }\n",
       "</style>\n",
       "<table border=\"1\" class=\"dataframe\">\n",
       "  <thead>\n",
       "    <tr style=\"text-align: right;\">\n",
       "      <th></th>\n",
       "      <th>Studio</th>\n",
       "      <th>Members</th>\n",
       "    </tr>\n",
       "  </thead>\n",
       "  <tbody>\n",
       "    <tr>\n",
       "      <th>0</th>\n",
       "      <td>Trash Studio</td>\n",
       "      <td>241.000000</td>\n",
       "    </tr>\n",
       "    <tr>\n",
       "      <th>1</th>\n",
       "      <td>Pops Inc.</td>\n",
       "      <td>293.000000</td>\n",
       "    </tr>\n",
       "    <tr>\n",
       "      <th>2</th>\n",
       "      <td>Studio Gohan</td>\n",
       "      <td>313.777778</td>\n",
       "    </tr>\n",
       "    <tr>\n",
       "      <th>3</th>\n",
       "      <td>Animation Lab Japan</td>\n",
       "      <td>326.000000</td>\n",
       "    </tr>\n",
       "    <tr>\n",
       "      <th>4</th>\n",
       "      <td>Gyorai Eizo Inc.</td>\n",
       "      <td>347.000000</td>\n",
       "    </tr>\n",
       "  </tbody>\n",
       "</table>\n",
       "</div>"
      ],
      "text/plain": [
       "                Studio     Members\n",
       "0         Trash Studio  241.000000\n",
       "1            Pops Inc.  293.000000\n",
       "2         Studio Gohan  313.777778\n",
       "3  Animation Lab Japan  326.000000\n",
       "4     Gyorai Eizo Inc.  347.000000"
      ]
     },
     "execution_count": 18,
     "metadata": {},
     "output_type": "execute_result"
    }
   ],
   "source": [
    "# Top 5 Score\n",
    "top=5\n",
    "df1.sort_values(by=['Members'],ascending=True,ignore_index=True)[:top][['Studio','Members']]"
   ]
  },
  {
   "cell_type": "code",
   "execution_count": null,
   "metadata": {},
   "outputs": [
    {
     "data": {
      "text/html": [
       "<div>\n",
       "<style scoped>\n",
       "    .dataframe tbody tr th:only-of-type {\n",
       "        vertical-align: middle;\n",
       "    }\n",
       "\n",
       "    .dataframe tbody tr th {\n",
       "        vertical-align: top;\n",
       "    }\n",
       "\n",
       "    .dataframe thead th {\n",
       "        text-align: right;\n",
       "    }\n",
       "</style>\n",
       "<table border=\"1\" class=\"dataframe\">\n",
       "  <thead>\n",
       "    <tr style=\"text-align: right;\">\n",
       "      <th></th>\n",
       "      <th>Studio</th>\n",
       "      <th>Score</th>\n",
       "      <th>Members</th>\n",
       "      <th>Final-Score</th>\n",
       "    </tr>\n",
       "  </thead>\n",
       "  <tbody>\n",
       "    <tr>\n",
       "      <th>0</th>\n",
       "      <td>Studio Bind</td>\n",
       "      <td>8.346667</td>\n",
       "      <td>613023.333333</td>\n",
       "      <td>0.024748</td>\n",
       "    </tr>\n",
       "    <tr>\n",
       "      <th>1</th>\n",
       "      <td>Egg Firm</td>\n",
       "      <td>8.292500</td>\n",
       "      <td>485864.250000</td>\n",
       "      <td>0.020021</td>\n",
       "    </tr>\n",
       "    <tr>\n",
       "      <th>2</th>\n",
       "      <td>White Fox</td>\n",
       "      <td>7.328605</td>\n",
       "      <td>397112.209302</td>\n",
       "      <td>0.016497</td>\n",
       "    </tr>\n",
       "    <tr>\n",
       "      <th>3</th>\n",
       "      <td>Studio Chizu</td>\n",
       "      <td>7.917500</td>\n",
       "      <td>351697.500000</td>\n",
       "      <td>0.014956</td>\n",
       "    </tr>\n",
       "    <tr>\n",
       "      <th>4</th>\n",
       "      <td>Wit Studio</td>\n",
       "      <td>7.426393</td>\n",
       "      <td>354050.557377</td>\n",
       "      <td>0.014924</td>\n",
       "    </tr>\n",
       "    <tr>\n",
       "      <th>5</th>\n",
       "      <td>MAPPA</td>\n",
       "      <td>7.321803</td>\n",
       "      <td>305373.967213</td>\n",
       "      <td>0.013094</td>\n",
       "    </tr>\n",
       "    <tr>\n",
       "      <th>6</th>\n",
       "      <td>Bones</td>\n",
       "      <td>7.346276</td>\n",
       "      <td>299298.572414</td>\n",
       "      <td>0.012875</td>\n",
       "    </tr>\n",
       "    <tr>\n",
       "      <th>7</th>\n",
       "      <td>CloverWorks</td>\n",
       "      <td>7.382326</td>\n",
       "      <td>290409.302326</td>\n",
       "      <td>0.012554</td>\n",
       "    </tr>\n",
       "    <tr>\n",
       "      <th>8</th>\n",
       "      <td>Trigger</td>\n",
       "      <td>7.202800</td>\n",
       "      <td>291343.680000</td>\n",
       "      <td>0.012545</td>\n",
       "    </tr>\n",
       "    <tr>\n",
       "      <th>9</th>\n",
       "      <td>AIC Build</td>\n",
       "      <td>7.017778</td>\n",
       "      <td>290722.888889</td>\n",
       "      <td>0.012478</td>\n",
       "    </tr>\n",
       "  </tbody>\n",
       "</table>\n",
       "</div>"
      ],
      "text/plain": [
       "         Studio     Score        Members  Final-Score\n",
       "0   Studio Bind  8.346667  613023.333333     0.024748\n",
       "1      Egg Firm  8.292500  485864.250000     0.020021\n",
       "2     White Fox  7.328605  397112.209302     0.016497\n",
       "3  Studio Chizu  7.917500  351697.500000     0.014956\n",
       "4    Wit Studio  7.426393  354050.557377     0.014924\n",
       "5         MAPPA  7.321803  305373.967213     0.013094\n",
       "6         Bones  7.346276  299298.572414     0.012875\n",
       "7   CloverWorks  7.382326  290409.302326     0.012554\n",
       "8       Trigger  7.202800  291343.680000     0.012545\n",
       "9     AIC Build  7.017778  290722.888889     0.012478"
      ]
     },
     "execution_count": 19,
     "metadata": {},
     "output_type": "execute_result"
    }
   ],
   "source": [
    "# Tinh tuong quan theo % cua 2 cot Score va Members\n",
    "# Final-Score = %Score  + %Members\n",
    "df1['Final-Score'] = df1['Score']/df1['Score'].sum()+df1['Members']/df1['Members'].sum()\n",
    "df1.sort_values(by=['Final-Score'], ascending=False,\n",
    "                ignore_index=True, inplace=True)\n",
    "df1.head(10)"
   ]
  },
  {
   "cell_type": "markdown",
   "metadata": {},
   "source": [
    "#### Biểu đồ thể hiện Top 10 studios có điểm và độ nổi tiếng cao"
   ]
  },
  {
   "cell_type": "code",
   "execution_count": null,
   "metadata": {},
   "outputs": [
    {
     "data": {
      "text/plain": [
       "<AxesSubplot: xlabel='Studio', ylabel='Members'>"
      ]
     },
     "execution_count": 20,
     "metadata": {},
     "output_type": "execute_result"
    },
    {
     "data": {
      "image/png": "[encoded data removed]",
      "text/plain": [
       "<Figure size 2016x720 with 2 Axes>"
      ]
     },
     "metadata": {
      "needs_background": "light"
     },
     "output_type": "display_data"
    }
   ],
   "source": [
    "# Top 10 studios có điểm và độ nổi tiếng cao\n",
    "show_amount=10\n",
    "fig,axis=plt.subplots(figsize=(28,10))\n",
    "sns.barplot(\n",
    "    data=df1[:show_amount],\n",
    "x=\"Studio\",y=\"Score\",color=\"blue\",\n",
    "ax=axis)\n",
    "axis2=axis.twinx()\n",
    "sns.pointplot(data=df1[:show_amount],\n",
    "            x=\"Studio\",\n",
    "            y=\"Members\",\n",
    "            color='orange',\n",
    "            ax=axis2)"
   ]
  },
  {
   "cell_type": "markdown",
   "metadata": {},
   "source": [
    "***Nhận xét:***\n",
    "Từ câu hỏi này giúp người xem có được đánh giá về việc lựa chọn 1 studio phim anime đứng top và có được những trải nghiệm tốt nhất."
   ]
  },
  {
   "cell_type": "markdown",
   "metadata": {},
   "source": [
    "### Câu hỏi 2: Tương quan rating với số lượng người xem. Có phải phim nhiều người xem thì rating cao không ?"
   ]
  },
  {
   "cell_type": "markdown",
   "metadata": {},
   "source": [
    "***Ý nghĩa câu hỏi:*** Câu hỏi này đặt ra nhằm xác nhận lại chiều hướng suy nghĩ phổ thông của đại đa số người khi cho răng những phim được nhiều người xem luôn là những phim thu hút các lượt đánh giá với điểm số cao, và ngược lại những bộ phim có lượt xem ít ỏi hay thu về những đánh giá dở tệ:\n",
    "- Điều này cũng xác minh thêm về việc liệu rằng người xem có đang đánh giá đúng về tiêu chuẩn của một bộ phim truyền hình và nên đánh đồng hiệu ứng tỉ lệ thuận giữa lượt xem và đánh giá. \n",
    "- Tránh trường hợp người xem đã có quan điểm không tốt về một bộ phim và mới chỉ mới lượt đánh giá ít ỏi mà quyết định không xem."
   ]
  },
  {
   "cell_type": "markdown",
   "metadata": {},
   "source": [
    "Đầu tiên ta lấy ra các đặc trưng \"Score\", \"Members\", \"From\" và lưu vào `sco_mem_df`"
   ]
  },
  {
   "cell_type": "code",
   "execution_count": null,
   "metadata": {},
   "outputs": [
    {
     "data": {
      "text/html": [
       "<div>\n",
       "<style scoped>\n",
       "    .dataframe tbody tr th:only-of-type {\n",
       "        vertical-align: middle;\n",
       "    }\n",
       "\n",
       "    .dataframe tbody tr th {\n",
       "        vertical-align: top;\n",
       "    }\n",
       "\n",
       "    .dataframe thead th {\n",
       "        text-align: right;\n",
       "    }\n",
       "</style>\n",
       "<table border=\"1\" class=\"dataframe\">\n",
       "  <thead>\n",
       "    <tr style=\"text-align: right;\">\n",
       "      <th></th>\n",
       "      <th>Score</th>\n",
       "      <th>Members</th>\n",
       "      <th>From</th>\n",
       "    </tr>\n",
       "  </thead>\n",
       "  <tbody>\n",
       "    <tr>\n",
       "      <th>0</th>\n",
       "      <td>9.11</td>\n",
       "      <td>3037641</td>\n",
       "      <td>2009-04-05</td>\n",
       "    </tr>\n",
       "    <tr>\n",
       "      <th>1</th>\n",
       "      <td>9.10</td>\n",
       "      <td>310979</td>\n",
       "      <td>2022-10-11</td>\n",
       "    </tr>\n",
       "    <tr>\n",
       "      <th>2</th>\n",
       "      <td>9.09</td>\n",
       "      <td>703336</td>\n",
       "      <td>2022-04-09</td>\n",
       "    </tr>\n",
       "    <tr>\n",
       "      <th>3</th>\n",
       "      <td>9.08</td>\n",
       "      <td>2338343</td>\n",
       "      <td>2011-04-06</td>\n",
       "    </tr>\n",
       "    <tr>\n",
       "      <th>4</th>\n",
       "      <td>9.07</td>\n",
       "      <td>567213</td>\n",
       "      <td>2015-04-08</td>\n",
       "    </tr>\n",
       "    <tr>\n",
       "      <th>...</th>\n",
       "      <td>...</td>\n",
       "      <td>...</td>\n",
       "      <td>...</td>\n",
       "    </tr>\n",
       "    <tr>\n",
       "      <th>9995</th>\n",
       "      <td>5.86</td>\n",
       "      <td>758</td>\n",
       "      <td>2012-11-01</td>\n",
       "    </tr>\n",
       "    <tr>\n",
       "      <th>9996</th>\n",
       "      <td>5.86</td>\n",
       "      <td>16518</td>\n",
       "      <td>2015-07-23</td>\n",
       "    </tr>\n",
       "    <tr>\n",
       "      <th>9997</th>\n",
       "      <td>5.86</td>\n",
       "      <td>354</td>\n",
       "      <td>1992-09-05</td>\n",
       "    </tr>\n",
       "    <tr>\n",
       "      <th>9998</th>\n",
       "      <td>5.86</td>\n",
       "      <td>7270</td>\n",
       "      <td>2019-10-03</td>\n",
       "    </tr>\n",
       "    <tr>\n",
       "      <th>9999</th>\n",
       "      <td>5.86</td>\n",
       "      <td>1308</td>\n",
       "      <td>1917-02-01</td>\n",
       "    </tr>\n",
       "  </tbody>\n",
       "</table>\n",
       "<p>9996 rows × 3 columns</p>\n",
       "</div>"
      ],
      "text/plain": [
       "      Score  Members       From\n",
       "0      9.11  3037641 2009-04-05\n",
       "1      9.10   310979 2022-10-11\n",
       "2      9.09   703336 2022-04-09\n",
       "3      9.08  2338343 2011-04-06\n",
       "4      9.07   567213 2015-04-08\n",
       "...     ...      ...        ...\n",
       "9995   5.86      758 2012-11-01\n",
       "9996   5.86    16518 2015-07-23\n",
       "9997   5.86      354 1992-09-05\n",
       "9998   5.86     7270 2019-10-03\n",
       "9999   5.86     1308 1917-02-01\n",
       "\n",
       "[9996 rows x 3 columns]"
      ]
     },
     "execution_count": 21,
     "metadata": {},
     "output_type": "execute_result"
    }
   ],
   "source": [
    "sco_mem_df = df[[\"Score\", \"Members\", \"From\"]].copy().dropna()\n",
    "sco_mem_df"
   ]
  },
  {
   "cell_type": "markdown",
   "metadata": {},
   "source": [
    "Vì lượng người xem có xu hướng tăng dần theo thời gian nên ta chỉ xét số lượng người xem trung bình từng năm (để tính được, ta lấy số lượng người xem hiện tại chia cho số năm kể từ lúc anime được ra mắt)"
   ]
  },
  {
   "cell_type": "code",
   "execution_count": null,
   "metadata": {},
   "outputs": [
    {
     "data": {
      "text/html": [
       "<div>\n",
       "<style scoped>\n",
       "    .dataframe tbody tr th:only-of-type {\n",
       "        vertical-align: middle;\n",
       "    }\n",
       "\n",
       "    .dataframe tbody tr th {\n",
       "        vertical-align: top;\n",
       "    }\n",
       "\n",
       "    .dataframe thead th {\n",
       "        text-align: right;\n",
       "    }\n",
       "</style>\n",
       "<table border=\"1\" class=\"dataframe\">\n",
       "  <thead>\n",
       "    <tr style=\"text-align: right;\">\n",
       "      <th></th>\n",
       "      <th>Score</th>\n",
       "      <th>Members</th>\n",
       "      <th>From</th>\n",
       "      <th>FromYear</th>\n",
       "      <th>AverageMembers</th>\n",
       "    </tr>\n",
       "  </thead>\n",
       "  <tbody>\n",
       "    <tr>\n",
       "      <th>0</th>\n",
       "      <td>9.11</td>\n",
       "      <td>3037641</td>\n",
       "      <td>2009-04-05</td>\n",
       "      <td>2009</td>\n",
       "      <td>233664</td>\n",
       "    </tr>\n",
       "    <tr>\n",
       "      <th>1</th>\n",
       "      <td>9.10</td>\n",
       "      <td>310979</td>\n",
       "      <td>2022-10-11</td>\n",
       "      <td>2022</td>\n",
       "      <td>310979</td>\n",
       "    </tr>\n",
       "    <tr>\n",
       "      <th>2</th>\n",
       "      <td>9.09</td>\n",
       "      <td>703336</td>\n",
       "      <td>2022-04-09</td>\n",
       "      <td>2022</td>\n",
       "      <td>703336</td>\n",
       "    </tr>\n",
       "    <tr>\n",
       "      <th>3</th>\n",
       "      <td>9.08</td>\n",
       "      <td>2338343</td>\n",
       "      <td>2011-04-06</td>\n",
       "      <td>2011</td>\n",
       "      <td>212576</td>\n",
       "    </tr>\n",
       "    <tr>\n",
       "      <th>4</th>\n",
       "      <td>9.07</td>\n",
       "      <td>567213</td>\n",
       "      <td>2015-04-08</td>\n",
       "      <td>2015</td>\n",
       "      <td>81030</td>\n",
       "    </tr>\n",
       "    <tr>\n",
       "      <th>...</th>\n",
       "      <td>...</td>\n",
       "      <td>...</td>\n",
       "      <td>...</td>\n",
       "      <td>...</td>\n",
       "      <td>...</td>\n",
       "    </tr>\n",
       "    <tr>\n",
       "      <th>9995</th>\n",
       "      <td>5.86</td>\n",
       "      <td>758</td>\n",
       "      <td>2012-11-01</td>\n",
       "      <td>2012</td>\n",
       "      <td>75</td>\n",
       "    </tr>\n",
       "    <tr>\n",
       "      <th>9996</th>\n",
       "      <td>5.86</td>\n",
       "      <td>16518</td>\n",
       "      <td>2015-07-23</td>\n",
       "      <td>2015</td>\n",
       "      <td>2359</td>\n",
       "    </tr>\n",
       "    <tr>\n",
       "      <th>9997</th>\n",
       "      <td>5.86</td>\n",
       "      <td>354</td>\n",
       "      <td>1992-09-05</td>\n",
       "      <td>1992</td>\n",
       "      <td>11</td>\n",
       "    </tr>\n",
       "    <tr>\n",
       "      <th>9998</th>\n",
       "      <td>5.86</td>\n",
       "      <td>7270</td>\n",
       "      <td>2019-10-03</td>\n",
       "      <td>2019</td>\n",
       "      <td>2423</td>\n",
       "    </tr>\n",
       "    <tr>\n",
       "      <th>9999</th>\n",
       "      <td>5.86</td>\n",
       "      <td>1308</td>\n",
       "      <td>1917-02-01</td>\n",
       "      <td>1917</td>\n",
       "      <td>12</td>\n",
       "    </tr>\n",
       "  </tbody>\n",
       "</table>\n",
       "<p>9996 rows × 5 columns</p>\n",
       "</div>"
      ],
      "text/plain": [
       "      Score  Members       From  FromYear  AverageMembers\n",
       "0      9.11  3037641 2009-04-05      2009          233664\n",
       "1      9.10   310979 2022-10-11      2022          310979\n",
       "2      9.09   703336 2022-04-09      2022          703336\n",
       "3      9.08  2338343 2011-04-06      2011          212576\n",
       "4      9.07   567213 2015-04-08      2015           81030\n",
       "...     ...      ...        ...       ...             ...\n",
       "9995   5.86      758 2012-11-01      2012              75\n",
       "9996   5.86    16518 2015-07-23      2015            2359\n",
       "9997   5.86      354 1992-09-05      1992              11\n",
       "9998   5.86     7270 2019-10-03      2019            2423\n",
       "9999   5.86     1308 1917-02-01      1917              12\n",
       "\n",
       "[9996 rows x 5 columns]"
      ]
     },
     "execution_count": 22,
     "metadata": {},
     "output_type": "execute_result"
    }
   ],
   "source": [
    "current_year = datetime.datetime.now().year\n",
    "sco_mem_df['FromYear'] = pd.DatetimeIndex(sco_mem_df['From']).year\n",
    "def ave_mem(row):\n",
    "    if current_year == row[\"FromYear\"]:\n",
    "        ave = row[\"Members\"]\n",
    "    else:\n",
    "        ave = row[\"Members\"]/(current_year-row[\"FromYear\"])\n",
    "    return int(ave)\n",
    "sco_mem_df[\"AverageMembers\"] = sco_mem_df.apply(ave_mem, axis = 1)\n",
    "sco_mem_df"
   ]
  },
  {
   "cell_type": "markdown",
   "metadata": {},
   "source": [
    "Ta tính độ tương quan giữa 2 số điểm và lượng người xem trung bình"
   ]
  },
  {
   "cell_type": "code",
   "execution_count": null,
   "metadata": {},
   "outputs": [
    {
     "data": {
      "text/plain": [
       "0.3480820556404249"
      ]
     },
     "execution_count": 23,
     "metadata": {},
     "output_type": "execute_result"
    }
   ],
   "source": [
    "sco_mem_df[\"Score\"].corr(sco_mem_df[\"AverageMembers\"])"
   ]
  },
  {
   "cell_type": "markdown",
   "metadata": {},
   "source": [
    "Nhìn chung độ tương quan có vẻ thấp, ta thử vẽ biểu đồ tương quan giữa hai đặc trưng trên xem."
   ]
  },
  {
   "cell_type": "code",
   "execution_count": null,
   "metadata": {},
   "outputs": [
    {
     "data": {
      "text/plain": [
       "<AxesSubplot: xlabel='Score', ylabel='AverageMembers'>"
      ]
     },
     "execution_count": 24,
     "metadata": {},
     "output_type": "execute_result"
    },
    {
     "data": {
      "image/png": "[encoded data removed]",
      "text/plain": [
       "<Figure size 1080x720 with 1 Axes>"
      ]
     },
     "metadata": {
      "needs_background": "light"
     },
     "output_type": "display_data"
    }
   ],
   "source": [
    "plt.figure(figsize=(15, 10))\n",
    "sns.regplot(x = \"Score\", y = \"AverageMembers\", data = sco_mem_df, x_estimator=np.mean)"
   ]
  },
  {
   "cell_type": "markdown",
   "metadata": {},
   "source": [
    "Dựa vào độ tương quan đã tính và biểu đồ trên, ta có thể thấy điểm số phần nào có liên quan đến số lượng người xem."
   ]
  },
  {
   "cell_type": "markdown",
   "metadata": {},
   "source": [
    "### Câu hỏi 3: Xem xu hướng xem của người xem. Sự thay đổi về thể loại phim ưa thích của người xem ngày trước và bây giờ."
   ]
  },
  {
   "cell_type": "markdown",
   "metadata": {},
   "source": [
    "***Ý nghĩa khi trả lời câu hỏi:*** Trả lời được câu hỏi này, ta có thể được cái nhìn tổng quan về các thể loại được quan tâm trong ngành công nghiệp phim trong các năm gần đây thõa mãn các câu hỏi:\n",
    "- Của nhà sản xuất phim: biết về định hướng tốt và xấu trong các thể loại (tìm hiểu lí do tại sao loại phim này không còn phổ biến và phân tích điểm mạnh của các thể loại phim phổ biến)\n",
    "- Của nhà đầu tư phim: lựa chọn những bộ phim có thể loại thích hợp đem lại lợi nhuận để có thể mạnh dạn đem tiền làm cổ đông.\n",
    "- Của người xem: họ có xu hướng xem theo đám đông vì đó là những thể loại được đánh giá cao nhất, nên họ có thể không lo lắng nhiều về chất lượng phim được công chiếu trong những năm đó dưới các thể loại đó."
   ]
  },
  {
   "cell_type": "code",
   "execution_count": null,
   "metadata": {},
   "outputs": [
    {
     "data": {
      "text/html": [
       "<div>\n",
       "<style scoped>\n",
       "    .dataframe tbody tr th:only-of-type {\n",
       "        vertical-align: middle;\n",
       "    }\n",
       "\n",
       "    .dataframe tbody tr th {\n",
       "        vertical-align: top;\n",
       "    }\n",
       "\n",
       "    .dataframe thead th {\n",
       "        text-align: right;\n",
       "    }\n",
       "</style>\n",
       "<table border=\"1\" class=\"dataframe\">\n",
       "  <thead>\n",
       "    <tr style=\"text-align: right;\">\n",
       "      <th></th>\n",
       "      <th>Genres</th>\n",
       "      <th>Members</th>\n",
       "      <th>From</th>\n",
       "      <th>FromYear</th>\n",
       "    </tr>\n",
       "  </thead>\n",
       "  <tbody>\n",
       "    <tr>\n",
       "      <th>0</th>\n",
       "      <td>[Adventure, Drama, Fantasy, Action]</td>\n",
       "      <td>3037641</td>\n",
       "      <td>2009-04-05</td>\n",
       "      <td>2009</td>\n",
       "    </tr>\n",
       "    <tr>\n",
       "      <th>1</th>\n",
       "      <td>[Adventure, Fantasy, Action]</td>\n",
       "      <td>310979</td>\n",
       "      <td>2022-10-11</td>\n",
       "      <td>2022</td>\n",
       "    </tr>\n",
       "    <tr>\n",
       "      <th>2</th>\n",
       "      <td>[Comedy, Romance]</td>\n",
       "      <td>703336</td>\n",
       "      <td>2022-04-09</td>\n",
       "      <td>2022</td>\n",
       "    </tr>\n",
       "    <tr>\n",
       "      <th>3</th>\n",
       "      <td>[Drama, Sci-Fi, Suspense]</td>\n",
       "      <td>2338343</td>\n",
       "      <td>2011-04-06</td>\n",
       "      <td>2011</td>\n",
       "    </tr>\n",
       "    <tr>\n",
       "      <th>4</th>\n",
       "      <td>[Sci-Fi, Comedy, Action]</td>\n",
       "      <td>567213</td>\n",
       "      <td>2015-04-08</td>\n",
       "      <td>2015</td>\n",
       "    </tr>\n",
       "    <tr>\n",
       "      <th>...</th>\n",
       "      <td>...</td>\n",
       "      <td>...</td>\n",
       "      <td>...</td>\n",
       "      <td>...</td>\n",
       "    </tr>\n",
       "    <tr>\n",
       "      <th>9994</th>\n",
       "      <td>[Supernatural, Slice of Life]</td>\n",
       "      <td>680</td>\n",
       "      <td>2015-06-24</td>\n",
       "      <td>2015</td>\n",
       "    </tr>\n",
       "    <tr>\n",
       "      <th>9995</th>\n",
       "      <td>[Drama, Suspense]</td>\n",
       "      <td>758</td>\n",
       "      <td>2012-11-01</td>\n",
       "      <td>2012</td>\n",
       "    </tr>\n",
       "    <tr>\n",
       "      <th>9996</th>\n",
       "      <td>[Fantasy, Sci-Fi, Comedy, Romance, Action]</td>\n",
       "      <td>16518</td>\n",
       "      <td>2015-07-23</td>\n",
       "      <td>2015</td>\n",
       "    </tr>\n",
       "    <tr>\n",
       "      <th>9998</th>\n",
       "      <td>[Supernatural]</td>\n",
       "      <td>7270</td>\n",
       "      <td>2019-10-03</td>\n",
       "      <td>2019</td>\n",
       "    </tr>\n",
       "    <tr>\n",
       "      <th>9999</th>\n",
       "      <td>[Comedy]</td>\n",
       "      <td>1308</td>\n",
       "      <td>1917-02-01</td>\n",
       "      <td>1917</td>\n",
       "    </tr>\n",
       "  </tbody>\n",
       "</table>\n",
       "<p>9233 rows × 4 columns</p>\n",
       "</div>"
      ],
      "text/plain": [
       "                                          Genres  Members       From  FromYear\n",
       "0            [Adventure, Drama, Fantasy, Action]  3037641 2009-04-05      2009\n",
       "1                   [Adventure, Fantasy, Action]   310979 2022-10-11      2022\n",
       "2                              [Comedy, Romance]   703336 2022-04-09      2022\n",
       "3                      [Drama, Sci-Fi, Suspense]  2338343 2011-04-06      2011\n",
       "4                       [Sci-Fi, Comedy, Action]   567213 2015-04-08      2015\n",
       "...                                          ...      ...        ...       ...\n",
       "9994               [Supernatural, Slice of Life]      680 2015-06-24      2015\n",
       "9995                           [Drama, Suspense]      758 2012-11-01      2012\n",
       "9996  [Fantasy, Sci-Fi, Comedy, Romance, Action]    16518 2015-07-23      2015\n",
       "9998                              [Supernatural]     7270 2019-10-03      2019\n",
       "9999                                    [Comedy]     1308 1917-02-01      1917\n",
       "\n",
       "[9233 rows x 4 columns]"
      ]
     },
     "execution_count": 25,
     "metadata": {},
     "output_type": "execute_result"
    }
   ],
   "source": [
    "genres_df = df[[\"Genres\", \"Members\", \"From\"]].copy()\n",
    "genres_df = genres_df.dropna()\n",
    "genres_df[\"FromYear\"] = pd.DatetimeIndex(genres_df['From']).year\n",
    "genres_df"
   ]
  },
  {
   "cell_type": "markdown",
   "metadata": {},
   "source": [
    "Chia các năm thành 3 giai đoạn:\n",
    "- Trước năm 2000\n",
    "- Từ 2000-2010\n",
    "- Từ năm 2010 trở đi\\\n",
    "Sau đó đưa vào bảng"
   ]
  },
  {
   "cell_type": "code",
   "execution_count": null,
   "metadata": {},
   "outputs": [
    {
     "data": {
      "text/html": [
       "<div>\n",
       "<style scoped>\n",
       "    .dataframe tbody tr th:only-of-type {\n",
       "        vertical-align: middle;\n",
       "    }\n",
       "\n",
       "    .dataframe tbody tr th {\n",
       "        vertical-align: top;\n",
       "    }\n",
       "\n",
       "    .dataframe thead th {\n",
       "        text-align: right;\n",
       "    }\n",
       "</style>\n",
       "<table border=\"1\" class=\"dataframe\">\n",
       "  <thead>\n",
       "    <tr style=\"text-align: right;\">\n",
       "      <th></th>\n",
       "      <th>Genres</th>\n",
       "      <th>Members</th>\n",
       "      <th>From</th>\n",
       "      <th>FromYear</th>\n",
       "      <th>YearRange</th>\n",
       "    </tr>\n",
       "  </thead>\n",
       "  <tbody>\n",
       "    <tr>\n",
       "      <th>0</th>\n",
       "      <td>[Adventure, Drama, Fantasy, Action]</td>\n",
       "      <td>3037641</td>\n",
       "      <td>2009-04-05</td>\n",
       "      <td>2009</td>\n",
       "      <td>(2000, 2010)</td>\n",
       "    </tr>\n",
       "    <tr>\n",
       "      <th>1</th>\n",
       "      <td>[Adventure, Fantasy, Action]</td>\n",
       "      <td>310979</td>\n",
       "      <td>2022-10-11</td>\n",
       "      <td>2022</td>\n",
       "      <td>(2010, 2022)</td>\n",
       "    </tr>\n",
       "    <tr>\n",
       "      <th>2</th>\n",
       "      <td>[Comedy, Romance]</td>\n",
       "      <td>703336</td>\n",
       "      <td>2022-04-09</td>\n",
       "      <td>2022</td>\n",
       "      <td>(2010, 2022)</td>\n",
       "    </tr>\n",
       "    <tr>\n",
       "      <th>3</th>\n",
       "      <td>[Drama, Sci-Fi, Suspense]</td>\n",
       "      <td>2338343</td>\n",
       "      <td>2011-04-06</td>\n",
       "      <td>2011</td>\n",
       "      <td>(2010, 2022)</td>\n",
       "    </tr>\n",
       "    <tr>\n",
       "      <th>4</th>\n",
       "      <td>[Sci-Fi, Comedy, Action]</td>\n",
       "      <td>567213</td>\n",
       "      <td>2015-04-08</td>\n",
       "      <td>2015</td>\n",
       "      <td>(2010, 2022)</td>\n",
       "    </tr>\n",
       "    <tr>\n",
       "      <th>...</th>\n",
       "      <td>...</td>\n",
       "      <td>...</td>\n",
       "      <td>...</td>\n",
       "      <td>...</td>\n",
       "      <td>...</td>\n",
       "    </tr>\n",
       "    <tr>\n",
       "      <th>9994</th>\n",
       "      <td>[Supernatural, Slice of Life]</td>\n",
       "      <td>680</td>\n",
       "      <td>2015-06-24</td>\n",
       "      <td>2015</td>\n",
       "      <td>(2010, 2022)</td>\n",
       "    </tr>\n",
       "    <tr>\n",
       "      <th>9995</th>\n",
       "      <td>[Drama, Suspense]</td>\n",
       "      <td>758</td>\n",
       "      <td>2012-11-01</td>\n",
       "      <td>2012</td>\n",
       "      <td>(2010, 2022)</td>\n",
       "    </tr>\n",
       "    <tr>\n",
       "      <th>9996</th>\n",
       "      <td>[Fantasy, Sci-Fi, Comedy, Romance, Action]</td>\n",
       "      <td>16518</td>\n",
       "      <td>2015-07-23</td>\n",
       "      <td>2015</td>\n",
       "      <td>(2010, 2022)</td>\n",
       "    </tr>\n",
       "    <tr>\n",
       "      <th>9998</th>\n",
       "      <td>[Supernatural]</td>\n",
       "      <td>7270</td>\n",
       "      <td>2019-10-03</td>\n",
       "      <td>2019</td>\n",
       "      <td>(2010, 2022)</td>\n",
       "    </tr>\n",
       "    <tr>\n",
       "      <th>9999</th>\n",
       "      <td>[Comedy]</td>\n",
       "      <td>1308</td>\n",
       "      <td>1917-02-01</td>\n",
       "      <td>1917</td>\n",
       "      <td>(1917, 1999)</td>\n",
       "    </tr>\n",
       "  </tbody>\n",
       "</table>\n",
       "<p>9233 rows × 5 columns</p>\n",
       "</div>"
      ],
      "text/plain": [
       "                                          Genres  Members       From  \\\n",
       "0            [Adventure, Drama, Fantasy, Action]  3037641 2009-04-05   \n",
       "1                   [Adventure, Fantasy, Action]   310979 2022-10-11   \n",
       "2                              [Comedy, Romance]   703336 2022-04-09   \n",
       "3                      [Drama, Sci-Fi, Suspense]  2338343 2011-04-06   \n",
       "4                       [Sci-Fi, Comedy, Action]   567213 2015-04-08   \n",
       "...                                          ...      ...        ...   \n",
       "9994               [Supernatural, Slice of Life]      680 2015-06-24   \n",
       "9995                           [Drama, Suspense]      758 2012-11-01   \n",
       "9996  [Fantasy, Sci-Fi, Comedy, Romance, Action]    16518 2015-07-23   \n",
       "9998                              [Supernatural]     7270 2019-10-03   \n",
       "9999                                    [Comedy]     1308 1917-02-01   \n",
       "\n",
       "      FromYear     YearRange  \n",
       "0         2009  (2000, 2010)  \n",
       "1         2022  (2010, 2022)  \n",
       "2         2022  (2010, 2022)  \n",
       "3         2011  (2010, 2022)  \n",
       "4         2015  (2010, 2022)  \n",
       "...        ...           ...  \n",
       "9994      2015  (2010, 2022)  \n",
       "9995      2012  (2010, 2022)  \n",
       "9996      2015  (2010, 2022)  \n",
       "9998      2019  (2010, 2022)  \n",
       "9999      1917  (1917, 1999)  \n",
       "\n",
       "[9233 rows x 5 columns]"
      ]
     },
     "execution_count": 26,
     "metadata": {},
     "output_type": "execute_result"
    }
   ],
   "source": [
    "#divide into 3 year ranges: <2000, 2000-2010, >2010\n",
    "min_year = genres_df[\"FromYear\"].min()\n",
    "max_year = genres_df[\"FromYear\"].max()\n",
    "def year_range(x):\n",
    "    if x>=2010:\n",
    "        return (2010, max_year)\n",
    "    if x>=2000:\n",
    "        return (2000, 2010)\n",
    "    if x<2000:\n",
    "        return (min_year, 1999)\n",
    "genres_df[\"YearRange\"] = genres_df[\"FromYear\"].apply(year_range)\n",
    "genres_df"
   ]
  },
  {
   "cell_type": "markdown",
   "metadata": {},
   "source": [
    "Ta tính lượng người xem trung bình của từng thể loại theo từng giai đoạn."
   ]
  },
  {
   "cell_type": "code",
   "execution_count": null,
   "metadata": {},
   "outputs": [
    {
     "data": {
      "text/html": [
       "<div>\n",
       "<style scoped>\n",
       "    .dataframe tbody tr th:only-of-type {\n",
       "        vertical-align: middle;\n",
       "    }\n",
       "\n",
       "    .dataframe tbody tr th {\n",
       "        vertical-align: top;\n",
       "    }\n",
       "\n",
       "    .dataframe thead th {\n",
       "        text-align: right;\n",
       "    }\n",
       "</style>\n",
       "<table border=\"1\" class=\"dataframe\">\n",
       "  <thead>\n",
       "    <tr style=\"text-align: right;\">\n",
       "      <th>YearRange</th>\n",
       "      <th>(1917, 1999)</th>\n",
       "      <th>(2000, 2010)</th>\n",
       "      <th>(2010, 2022)</th>\n",
       "    </tr>\n",
       "    <tr>\n",
       "      <th>Genres_split</th>\n",
       "      <th></th>\n",
       "      <th></th>\n",
       "      <th></th>\n",
       "    </tr>\n",
       "  </thead>\n",
       "  <tbody>\n",
       "    <tr>\n",
       "      <th>Action</th>\n",
       "      <td>34728.010340</td>\n",
       "      <td>108176.952045</td>\n",
       "      <td>156729.391991</td>\n",
       "    </tr>\n",
       "    <tr>\n",
       "      <th>Adventure</th>\n",
       "      <td>29864.451985</td>\n",
       "      <td>77564.376396</td>\n",
       "      <td>124798.624250</td>\n",
       "    </tr>\n",
       "    <tr>\n",
       "      <th>Avant Garde</th>\n",
       "      <td>269407.666667</td>\n",
       "      <td>118644.705882</td>\n",
       "      <td>55567.658537</td>\n",
       "    </tr>\n",
       "    <tr>\n",
       "      <th>Award Winning</th>\n",
       "      <td>197773.272727</td>\n",
       "      <td>240550.487805</td>\n",
       "      <td>390224.555556</td>\n",
       "    </tr>\n",
       "    <tr>\n",
       "      <th>Boys Love</th>\n",
       "      <td>10755.545455</td>\n",
       "      <td>52115.095238</td>\n",
       "      <td>67752.034483</td>\n",
       "    </tr>\n",
       "    <tr>\n",
       "      <th>Comedy</th>\n",
       "      <td>23666.766839</td>\n",
       "      <td>54747.992599</td>\n",
       "      <td>105720.296209</td>\n",
       "    </tr>\n",
       "    <tr>\n",
       "      <th>Drama</th>\n",
       "      <td>33732.610672</td>\n",
       "      <td>93287.856655</td>\n",
       "      <td>177143.376370</td>\n",
       "    </tr>\n",
       "    <tr>\n",
       "      <th>Ecchi</th>\n",
       "      <td>17740.471698</td>\n",
       "      <td>73349.145729</td>\n",
       "      <td>179311.064690</td>\n",
       "    </tr>\n",
       "    <tr>\n",
       "      <th>Fantasy</th>\n",
       "      <td>39001.769401</td>\n",
       "      <td>86142.599297</td>\n",
       "      <td>136156.832045</td>\n",
       "    </tr>\n",
       "    <tr>\n",
       "      <th>Girls Love</th>\n",
       "      <td>44874.000000</td>\n",
       "      <td>57195.068966</td>\n",
       "      <td>102967.928571</td>\n",
       "    </tr>\n",
       "    <tr>\n",
       "      <th>Gourmet</th>\n",
       "      <td>4354.428571</td>\n",
       "      <td>34153.000000</td>\n",
       "      <td>154093.607143</td>\n",
       "    </tr>\n",
       "    <tr>\n",
       "      <th>Horror</th>\n",
       "      <td>40366.437500</td>\n",
       "      <td>121331.533333</td>\n",
       "      <td>242001.276786</td>\n",
       "    </tr>\n",
       "    <tr>\n",
       "      <th>Mystery</th>\n",
       "      <td>33485.257732</td>\n",
       "      <td>127605.907104</td>\n",
       "      <td>157610.052198</td>\n",
       "    </tr>\n",
       "    <tr>\n",
       "      <th>Romance</th>\n",
       "      <td>26587.945652</td>\n",
       "      <td>101699.607921</td>\n",
       "      <td>188293.972798</td>\n",
       "    </tr>\n",
       "    <tr>\n",
       "      <th>Sci-Fi</th>\n",
       "      <td>27520.607656</td>\n",
       "      <td>62204.718166</td>\n",
       "      <td>104339.982385</td>\n",
       "    </tr>\n",
       "    <tr>\n",
       "      <th>Slice of Life</th>\n",
       "      <td>11850.173611</td>\n",
       "      <td>54604.628866</td>\n",
       "      <td>60804.177877</td>\n",
       "    </tr>\n",
       "    <tr>\n",
       "      <th>Sports</th>\n",
       "      <td>8356.870968</td>\n",
       "      <td>49117.888889</td>\n",
       "      <td>95890.444444</td>\n",
       "    </tr>\n",
       "    <tr>\n",
       "      <th>Supernatural</th>\n",
       "      <td>40318.794393</td>\n",
       "      <td>138655.773852</td>\n",
       "      <td>168815.666187</td>\n",
       "    </tr>\n",
       "    <tr>\n",
       "      <th>Suspense</th>\n",
       "      <td>286536.000000</td>\n",
       "      <td>263660.545455</td>\n",
       "      <td>362633.641304</td>\n",
       "    </tr>\n",
       "  </tbody>\n",
       "</table>\n",
       "</div>"
      ],
      "text/plain": [
       "YearRange       (1917, 1999)   (2000, 2010)   (2010, 2022)\n",
       "Genres_split                                              \n",
       "Action          34728.010340  108176.952045  156729.391991\n",
       "Adventure       29864.451985   77564.376396  124798.624250\n",
       "Avant Garde    269407.666667  118644.705882   55567.658537\n",
       "Award Winning  197773.272727  240550.487805  390224.555556\n",
       "Boys Love       10755.545455   52115.095238   67752.034483\n",
       "Comedy          23666.766839   54747.992599  105720.296209\n",
       "Drama           33732.610672   93287.856655  177143.376370\n",
       "Ecchi           17740.471698   73349.145729  179311.064690\n",
       "Fantasy         39001.769401   86142.599297  136156.832045\n",
       "Girls Love      44874.000000   57195.068966  102967.928571\n",
       "Gourmet          4354.428571   34153.000000  154093.607143\n",
       "Horror          40366.437500  121331.533333  242001.276786\n",
       "Mystery         33485.257732  127605.907104  157610.052198\n",
       "Romance         26587.945652  101699.607921  188293.972798\n",
       "Sci-Fi          27520.607656   62204.718166  104339.982385\n",
       "Slice of Life   11850.173611   54604.628866   60804.177877\n",
       "Sports           8356.870968   49117.888889   95890.444444\n",
       "Supernatural    40318.794393  138655.773852  168815.666187\n",
       "Suspense       286536.000000  263660.545455  362633.641304"
      ]
     },
     "execution_count": 27,
     "metadata": {},
     "output_type": "execute_result"
    }
   ],
   "source": [
    "genres_df = genres_df.Genres.apply(pd.Series).merge(genres_df, right_index=True, left_index=True)\n",
    "genres_df = genres_df.melt(id_vars=['Genres','Members','From','FromYear','YearRange'], value_name=\"Genres_split\")\n",
    "genres_df = genres_df.drop(['Genres','From', 'FromYear','variable'], axis=1).dropna()\n",
    "genres_df=genres_df.groupby(['YearRange','Genres_split'])['Members'].mean()\n",
    "genres_df=genres_df.unstack(level=0)\n",
    "genres_df"
   ]
  },
  {
   "cell_type": "markdown",
   "metadata": {},
   "source": [
    "Xem xét lại các thể loại phim"
   ]
  },
  {
   "cell_type": "code",
   "execution_count": null,
   "metadata": {},
   "outputs": [
    {
     "data": {
      "text/plain": [
       "Index(['Action', 'Adventure', 'Avant Garde', 'Award Winning', 'Boys Love',\n",
       "       'Comedy', 'Drama', 'Ecchi', 'Fantasy', 'Girls Love', 'Gourmet',\n",
       "       'Horror', 'Mystery', 'Romance', 'Sci-Fi', 'Slice of Life', 'Sports',\n",
       "       'Supernatural', 'Suspense'],\n",
       "      dtype='object', name='Genres_split')"
      ]
     },
     "execution_count": 28,
     "metadata": {},
     "output_type": "execute_result"
    }
   ],
   "source": [
    "genres_df.index.unique()"
   ]
  },
  {
   "cell_type": "markdown",
   "metadata": {},
   "source": [
    "*Nhận xét*\n",
    "(Loại bỏ: Award winning, Avant Garde)"
   ]
  },
  {
   "cell_type": "markdown",
   "metadata": {},
   "source": [
    "Đây là 2 thể loại không cần thiết để đưa vào danh sách xem xét vì:\n",
    "- Award winning: các bộ phim đạt giải\n",
    "- Avant Garde: các bộ phm tiên phong (cho các thể loại phim mới)\n",
    "Khác với những thể loại rõ ràng tường minh"
   ]
  },
  {
   "cell_type": "code",
   "execution_count": null,
   "metadata": {},
   "outputs": [],
   "source": [
    "genres_df.drop(['Avant Garde', 'Award Winning'],inplace=True)"
   ]
  },
  {
   "cell_type": "markdown",
   "metadata": {},
   "source": [
    "Trực quan hóa bằng biểu đồ cột"
   ]
  },
  {
   "cell_type": "code",
   "execution_count": null,
   "metadata": {},
   "outputs": [
    {
     "data": {
      "image/png": "[encoded data removed]",
      "text/plain": [
       "<Figure size 1828.8x720 with 3 Axes>"
      ]
     },
     "metadata": {
      "needs_background": "light"
     },
     "output_type": "display_data"
    }
   ],
   "source": [
    "genres_df['Palette']=sns.color_palette(n_colors=len(genres_df))\n",
    "fig,(ax1,ax2,ax3)=plt.subplots(1,3,figsize=(25.4,10))\n",
    "axis=[ax1,ax2,ax3]\n",
    "i=0\n",
    "for col in genres_df.columns:\n",
    "    if col == \"Palette\": continue\n",
    "    genres_df.sort_values(by=[col],ascending=False,inplace=True)\n",
    "    genres=genres_df.index\n",
    "    # plt.subplots(figsize=(12,6))\n",
    "    sns.barplot(data=genres_df,\n",
    "                x=col,\n",
    "                y=genres,\n",
    "                ax=axis[i],\n",
    "                palette=genres_df['Palette'])\n",
    "    axis[i].set_ylabel(\"\")\n",
    "    i=i+1"
   ]
  },
  {
   "cell_type": "markdown",
   "metadata": {},
   "source": [
    "Từ hình ảnh được trực quan hóa trên, ta thấy có sự thay đổi về thể loại yêu thích của người xem đối với phim anime, cụ thể là:\n",
    "- Điểm chung: Thể loại phim suspense giữ vững vị trí top đầu sau cả 1 giai đoạn dài, đặc biệt là ở giai đoạn trước 2000, thể loại phim này giành vị trí tuyệt đối cách rất xa với vị trí thứ 2. Nguyên nhân là lúc đó người xem chưa chấp nhận những thể loại khác và thể loại những phim hồi họp này được ưa chuộng\n",
    "- Khác biệt: \n",
    "  - Có sự thay đổi vị trí của các thể loại phim khác => sự thay đổi về yêu cầu của người dùng\n",
    "  - Các thể loại khác vị trí thứ 1 đang được chấp nhận và mở rộng ra, cách biệt không còn quá lớn."
   ]
  },
  {
   "cell_type": "markdown",
   "metadata": {},
   "source": [
    "### Câu hỏi 4: Thời kì nào là thời kì hoàng kim của anime?"
   ]
  },
  {
   "cell_type": "markdown",
   "metadata": {},
   "source": [
    "Anime chưa kết thúc, điền tạm ngày hiện tại vào cột To"
   ]
  },
  {
   "cell_type": "code",
   "execution_count": null,
   "metadata": {},
   "outputs": [],
   "source": [
    "today = np.datetime64(datetime.datetime.now())\n",
    "df['To'] = np.where((df['Episodes'].isna()) & (\n",
    "    df['To'].isna()), today, df['To'])"
   ]
  },
  {
   "cell_type": "markdown",
   "metadata": {},
   "source": [
    "Lấy ra các năm được chiếu trên thị trường của các bộ phim"
   ]
  },
  {
   "cell_type": "code",
   "execution_count": null,
   "metadata": {},
   "outputs": [
    {
     "data": {
      "text/html": [
       "<div>\n",
       "<style scoped>\n",
       "    .dataframe tbody tr th:only-of-type {\n",
       "        vertical-align: middle;\n",
       "    }\n",
       "\n",
       "    .dataframe tbody tr th {\n",
       "        vertical-align: top;\n",
       "    }\n",
       "\n",
       "    .dataframe thead th {\n",
       "        text-align: right;\n",
       "    }\n",
       "</style>\n",
       "<table border=\"1\" class=\"dataframe\">\n",
       "  <thead>\n",
       "    <tr style=\"text-align: right;\">\n",
       "      <th></th>\n",
       "      <th>Year_Split</th>\n",
       "    </tr>\n",
       "  </thead>\n",
       "  <tbody>\n",
       "    <tr>\n",
       "      <th>0</th>\n",
       "      <td>2009.0</td>\n",
       "    </tr>\n",
       "    <tr>\n",
       "      <th>1</th>\n",
       "      <td>2022.0</td>\n",
       "    </tr>\n",
       "    <tr>\n",
       "      <th>2</th>\n",
       "      <td>2022.0</td>\n",
       "    </tr>\n",
       "    <tr>\n",
       "      <th>3</th>\n",
       "      <td>2011.0</td>\n",
       "    </tr>\n",
       "    <tr>\n",
       "      <th>4</th>\n",
       "      <td>2015.0</td>\n",
       "    </tr>\n",
       "    <tr>\n",
       "      <th>...</th>\n",
       "      <td>...</td>\n",
       "    </tr>\n",
       "    <tr>\n",
       "      <th>479944</th>\n",
       "      <td>2018.0</td>\n",
       "    </tr>\n",
       "    <tr>\n",
       "      <th>489566</th>\n",
       "      <td>2019.0</td>\n",
       "    </tr>\n",
       "    <tr>\n",
       "      <th>499188</th>\n",
       "      <td>2020.0</td>\n",
       "    </tr>\n",
       "    <tr>\n",
       "      <th>508810</th>\n",
       "      <td>2021.0</td>\n",
       "    </tr>\n",
       "    <tr>\n",
       "      <th>518432</th>\n",
       "      <td>2022.0</td>\n",
       "    </tr>\n",
       "  </tbody>\n",
       "</table>\n",
       "<p>12942 rows × 1 columns</p>\n",
       "</div>"
      ],
      "text/plain": [
       "        Year_Split\n",
       "0           2009.0\n",
       "1           2022.0\n",
       "2           2022.0\n",
       "3           2011.0\n",
       "4           2015.0\n",
       "...            ...\n",
       "479944      2018.0\n",
       "489566      2019.0\n",
       "499188      2020.0\n",
       "508810      2021.0\n",
       "518432      2022.0\n",
       "\n",
       "[12942 rows x 1 columns]"
      ]
     },
     "execution_count": 32,
     "metadata": {},
     "output_type": "execute_result"
    }
   ],
   "source": [
    "df1 = df[['From', 'To']].copy().dropna()\n",
    "df1['Year'] = df1.apply(lambda x: range(int(x['From'].year), int(x['To'].year)+1), axis=1)\n",
    "df1 = df1.Year.apply(pd.Series).merge(df1, right_index=True, left_index=True)\n",
    "df1 = df1.melt(id_vars=['Year', 'From', 'To'], value_name=\"Year_Split\")\n",
    "df1 = df1.drop([\"variable\", \"Year\", \"From\", \"To\"], axis=1).dropna()\n",
    "df1"
   ]
  },
  {
   "cell_type": "code",
   "execution_count": null,
   "metadata": {},
   "outputs": [
    {
     "data": {
      "image/png": "[encoded data removed]",
      "text/plain": [
       "<Figure size 1448.8x720 with 1 Axes>"
      ]
     },
     "metadata": {
      "needs_background": "light"
     },
     "output_type": "display_data"
    }
   ],
   "source": [
    "g = sns.FacetGrid(df1, height=10, aspect=2)\n",
    "g = g.map_dataframe(sns.histplot, x=\"Year_Split\", kde=True, discrete=True)\n",
    "g = g.set(xticks=np.arange(1960, 2022, 5))\n",
    "g = g.add_legend()"
   ]
  },
  {
   "cell_type": "markdown",
   "metadata": {},
   "source": [
    "***Nhận xét***\\\n",
    "Số lượng phim từ năm 1960 tới hiện tại có chiều hướng tăng lên nhưng đạt tới ngưỡng cao nhất lại là năm 2017 và ở hiện tại thì có xu hướng giảm những bộ phim được phát hành. Tới năm 2019 thì bắt đầu có dấu hiệu đi xuống do tác động của dịch covid 19"
   ]
  },
  {
   "cell_type": "markdown",
   "metadata": {},
   "source": [
    "### Câu hỏi 5: Liệu mùa phát hành có ảnh hưởng tới số lượt xem các bộ anime không? Xét trong 10 năm trở lại đây, xem thử có sự biến động nào về lượt xem ở các mùa qua từng năm không?"
   ]
  },
  {
   "cell_type": "code",
   "execution_count": null,
   "metadata": {},
   "outputs": [
    {
     "data": {
      "text/html": [
       "<div>\n",
       "<style scoped>\n",
       "    .dataframe tbody tr th:only-of-type {\n",
       "        vertical-align: middle;\n",
       "    }\n",
       "\n",
       "    .dataframe tbody tr th {\n",
       "        vertical-align: top;\n",
       "    }\n",
       "\n",
       "    .dataframe thead th {\n",
       "        text-align: right;\n",
       "    }\n",
       "</style>\n",
       "<table border=\"1\" class=\"dataframe\">\n",
       "  <thead>\n",
       "    <tr style=\"text-align: right;\">\n",
       "      <th></th>\n",
       "      <th>Premiered</th>\n",
       "      <th>Members</th>\n",
       "      <th>From</th>\n",
       "      <th>FromYear</th>\n",
       "      <th>AverageMembers</th>\n",
       "    </tr>\n",
       "  </thead>\n",
       "  <tbody>\n",
       "    <tr>\n",
       "      <th>0</th>\n",
       "      <td>Spring</td>\n",
       "      <td>3037641</td>\n",
       "      <td>2009-04-05</td>\n",
       "      <td>2009.0</td>\n",
       "      <td>233664</td>\n",
       "    </tr>\n",
       "    <tr>\n",
       "      <th>1</th>\n",
       "      <td>Fall</td>\n",
       "      <td>310979</td>\n",
       "      <td>2022-10-11</td>\n",
       "      <td>2022.0</td>\n",
       "      <td>310979</td>\n",
       "    </tr>\n",
       "    <tr>\n",
       "      <th>2</th>\n",
       "      <td>Spring</td>\n",
       "      <td>703336</td>\n",
       "      <td>2022-04-09</td>\n",
       "      <td>2022.0</td>\n",
       "      <td>703336</td>\n",
       "    </tr>\n",
       "    <tr>\n",
       "      <th>3</th>\n",
       "      <td>Spring</td>\n",
       "      <td>2338343</td>\n",
       "      <td>2011-04-06</td>\n",
       "      <td>2011.0</td>\n",
       "      <td>212576</td>\n",
       "    </tr>\n",
       "    <tr>\n",
       "      <th>4</th>\n",
       "      <td>Spring</td>\n",
       "      <td>567213</td>\n",
       "      <td>2015-04-08</td>\n",
       "      <td>2015.0</td>\n",
       "      <td>81030</td>\n",
       "    </tr>\n",
       "    <tr>\n",
       "      <th>...</th>\n",
       "      <td>...</td>\n",
       "      <td>...</td>\n",
       "      <td>...</td>\n",
       "      <td>...</td>\n",
       "      <td>...</td>\n",
       "    </tr>\n",
       "    <tr>\n",
       "      <th>9987</th>\n",
       "      <td>Spring</td>\n",
       "      <td>36447</td>\n",
       "      <td>2020-04-05</td>\n",
       "      <td>2020.0</td>\n",
       "      <td>18223</td>\n",
       "    </tr>\n",
       "    <tr>\n",
       "      <th>9988</th>\n",
       "      <td>Spring</td>\n",
       "      <td>639</td>\n",
       "      <td>2019-04-02</td>\n",
       "      <td>2019.0</td>\n",
       "      <td>213</td>\n",
       "    </tr>\n",
       "    <tr>\n",
       "      <th>9990</th>\n",
       "      <td>Winter</td>\n",
       "      <td>1064</td>\n",
       "      <td>1982-02-13</td>\n",
       "      <td>1982.0</td>\n",
       "      <td>26</td>\n",
       "    </tr>\n",
       "    <tr>\n",
       "      <th>9991</th>\n",
       "      <td>Spring</td>\n",
       "      <td>954</td>\n",
       "      <td>1983-04-09</td>\n",
       "      <td>1983.0</td>\n",
       "      <td>24</td>\n",
       "    </tr>\n",
       "    <tr>\n",
       "      <th>9992</th>\n",
       "      <td>Winter</td>\n",
       "      <td>57500</td>\n",
       "      <td>2016-01-07</td>\n",
       "      <td>2016.0</td>\n",
       "      <td>9583</td>\n",
       "    </tr>\n",
       "  </tbody>\n",
       "</table>\n",
       "<p>3890 rows × 5 columns</p>\n",
       "</div>"
      ],
      "text/plain": [
       "     Premiered  Members       From  FromYear  AverageMembers\n",
       "0       Spring  3037641 2009-04-05    2009.0          233664\n",
       "1         Fall   310979 2022-10-11    2022.0          310979\n",
       "2       Spring   703336 2022-04-09    2022.0          703336\n",
       "3       Spring  2338343 2011-04-06    2011.0          212576\n",
       "4       Spring   567213 2015-04-08    2015.0           81030\n",
       "...        ...      ...        ...       ...             ...\n",
       "9987    Spring    36447 2020-04-05    2020.0           18223\n",
       "9988    Spring      639 2019-04-02    2019.0             213\n",
       "9990    Winter     1064 1982-02-13    1982.0              26\n",
       "9991    Spring      954 1983-04-09    1983.0              24\n",
       "9992    Winter    57500 2016-01-07    2016.0            9583\n",
       "\n",
       "[3890 rows x 5 columns]"
      ]
     },
     "execution_count": 34,
     "metadata": {},
     "output_type": "execute_result"
    }
   ],
   "source": [
    "season_df = df[[\"Premiered\",\"Members\",\"From\"]]\n",
    "season_df[\"FromYear\"] =  pd.DatetimeIndex(season_df['From']).year\n",
    "season_df = season_df.dropna()\n",
    "season_df[\"AverageMembers\"] = season_df.apply(ave_mem, axis = 1)\n",
    "season_df"
   ]
  },
  {
   "cell_type": "code",
   "execution_count": null,
   "metadata": {},
   "outputs": [
    {
     "data": {
      "text/html": [
       "<div>\n",
       "<style scoped>\n",
       "    .dataframe tbody tr th:only-of-type {\n",
       "        vertical-align: middle;\n",
       "    }\n",
       "\n",
       "    .dataframe tbody tr th {\n",
       "        vertical-align: top;\n",
       "    }\n",
       "\n",
       "    .dataframe thead th {\n",
       "        text-align: right;\n",
       "    }\n",
       "</style>\n",
       "<table border=\"1\" class=\"dataframe\">\n",
       "  <thead>\n",
       "    <tr style=\"text-align: right;\">\n",
       "      <th></th>\n",
       "      <th>Premiered</th>\n",
       "      <th>Members</th>\n",
       "      <th>From</th>\n",
       "      <th>FromYear</th>\n",
       "      <th>AverageMembers</th>\n",
       "    </tr>\n",
       "  </thead>\n",
       "  <tbody>\n",
       "    <tr>\n",
       "      <th>1</th>\n",
       "      <td>Fall</td>\n",
       "      <td>310979</td>\n",
       "      <td>2022-10-11</td>\n",
       "      <td>2022.0</td>\n",
       "      <td>310979</td>\n",
       "    </tr>\n",
       "    <tr>\n",
       "      <th>2</th>\n",
       "      <td>Spring</td>\n",
       "      <td>703336</td>\n",
       "      <td>2022-04-09</td>\n",
       "      <td>2022.0</td>\n",
       "      <td>703336</td>\n",
       "    </tr>\n",
       "    <tr>\n",
       "      <th>4</th>\n",
       "      <td>Spring</td>\n",
       "      <td>567213</td>\n",
       "      <td>2015-04-08</td>\n",
       "      <td>2015.0</td>\n",
       "      <td>81030</td>\n",
       "    </tr>\n",
       "    <tr>\n",
       "      <th>5</th>\n",
       "      <td>Spring</td>\n",
       "      <td>1972472</td>\n",
       "      <td>2019-04-29</td>\n",
       "      <td>2019.0</td>\n",
       "      <td>657490</td>\n",
       "    </tr>\n",
       "    <tr>\n",
       "      <th>8</th>\n",
       "      <td>Fall</td>\n",
       "      <td>296566</td>\n",
       "      <td>2012-10-04</td>\n",
       "      <td>2012.0</td>\n",
       "      <td>29656</td>\n",
       "    </tr>\n",
       "    <tr>\n",
       "      <th>...</th>\n",
       "      <td>...</td>\n",
       "      <td>...</td>\n",
       "      <td>...</td>\n",
       "      <td>...</td>\n",
       "      <td>...</td>\n",
       "    </tr>\n",
       "    <tr>\n",
       "      <th>9976</th>\n",
       "      <td>Fall</td>\n",
       "      <td>5697</td>\n",
       "      <td>2021-10-03</td>\n",
       "      <td>2021.0</td>\n",
       "      <td>5697</td>\n",
       "    </tr>\n",
       "    <tr>\n",
       "      <th>9978</th>\n",
       "      <td>Winter</td>\n",
       "      <td>22989</td>\n",
       "      <td>2020-01-07</td>\n",
       "      <td>2020.0</td>\n",
       "      <td>11494</td>\n",
       "    </tr>\n",
       "    <tr>\n",
       "      <th>9987</th>\n",
       "      <td>Spring</td>\n",
       "      <td>36447</td>\n",
       "      <td>2020-04-05</td>\n",
       "      <td>2020.0</td>\n",
       "      <td>18223</td>\n",
       "    </tr>\n",
       "    <tr>\n",
       "      <th>9988</th>\n",
       "      <td>Spring</td>\n",
       "      <td>639</td>\n",
       "      <td>2019-04-02</td>\n",
       "      <td>2019.0</td>\n",
       "      <td>213</td>\n",
       "    </tr>\n",
       "    <tr>\n",
       "      <th>9992</th>\n",
       "      <td>Winter</td>\n",
       "      <td>57500</td>\n",
       "      <td>2016-01-07</td>\n",
       "      <td>2016.0</td>\n",
       "      <td>9583</td>\n",
       "    </tr>\n",
       "  </tbody>\n",
       "</table>\n",
       "<p>1789 rows × 5 columns</p>\n",
       "</div>"
      ],
      "text/plain": [
       "     Premiered  Members       From  FromYear  AverageMembers\n",
       "1         Fall   310979 2022-10-11    2022.0          310979\n",
       "2       Spring   703336 2022-04-09    2022.0          703336\n",
       "4       Spring   567213 2015-04-08    2015.0           81030\n",
       "5       Spring  1972472 2019-04-29    2019.0          657490\n",
       "8         Fall   296566 2012-10-04    2012.0           29656\n",
       "...        ...      ...        ...       ...             ...\n",
       "9976      Fall     5697 2021-10-03    2021.0            5697\n",
       "9978    Winter    22989 2020-01-07    2020.0           11494\n",
       "9987    Spring    36447 2020-04-05    2020.0           18223\n",
       "9988    Spring      639 2019-04-02    2019.0             213\n",
       "9992    Winter    57500 2016-01-07    2016.0            9583\n",
       "\n",
       "[1789 rows x 5 columns]"
      ]
     },
     "execution_count": 35,
     "metadata": {},
     "output_type": "execute_result"
    }
   ],
   "source": [
    "ten_nearest_years = max_year - 10\n",
    "season_df = season_df.drop(season_df[season_df[\"FromYear\"] < ten_nearest_years].index)\n",
    "season_df"
   ]
  },
  {
   "cell_type": "code",
   "execution_count": null,
   "metadata": {},
   "outputs": [
    {
     "data": {
      "text/html": [
       "<div>\n",
       "<style scoped>\n",
       "    .dataframe tbody tr th:only-of-type {\n",
       "        vertical-align: middle;\n",
       "    }\n",
       "\n",
       "    .dataframe tbody tr th {\n",
       "        vertical-align: top;\n",
       "    }\n",
       "\n",
       "    .dataframe thead th {\n",
       "        text-align: right;\n",
       "    }\n",
       "</style>\n",
       "<table border=\"1\" class=\"dataframe\">\n",
       "  <thead>\n",
       "    <tr style=\"text-align: right;\">\n",
       "      <th></th>\n",
       "      <th></th>\n",
       "      <th>AverageMembers</th>\n",
       "    </tr>\n",
       "    <tr>\n",
       "      <th>FromYear</th>\n",
       "      <th>Premiered</th>\n",
       "      <th></th>\n",
       "    </tr>\n",
       "  </thead>\n",
       "  <tbody>\n",
       "    <tr>\n",
       "      <th rowspan=\"4\" valign=\"top\">2012.0</th>\n",
       "      <th>Fall</th>\n",
       "      <td>1515101</td>\n",
       "    </tr>\n",
       "    <tr>\n",
       "      <th>Spring</th>\n",
       "      <td>881192</td>\n",
       "    </tr>\n",
       "    <tr>\n",
       "      <th>Summer</th>\n",
       "      <td>737348</td>\n",
       "    </tr>\n",
       "    <tr>\n",
       "      <th>Winter</th>\n",
       "      <td>741880</td>\n",
       "    </tr>\n",
       "    <tr>\n",
       "      <th rowspan=\"4\" valign=\"top\">2013.0</th>\n",
       "      <th>Fall</th>\n",
       "      <td>1413645</td>\n",
       "    </tr>\n",
       "    <tr>\n",
       "      <th>Spring</th>\n",
       "      <td>1215306</td>\n",
       "    </tr>\n",
       "    <tr>\n",
       "      <th>Summer</th>\n",
       "      <td>876558</td>\n",
       "    </tr>\n",
       "    <tr>\n",
       "      <th>Winter</th>\n",
       "      <td>544894</td>\n",
       "    </tr>\n",
       "    <tr>\n",
       "      <th rowspan=\"4\" valign=\"top\">2014.0</th>\n",
       "      <th>Fall</th>\n",
       "      <td>2035039</td>\n",
       "    </tr>\n",
       "    <tr>\n",
       "      <th>Spring</th>\n",
       "      <td>1827741</td>\n",
       "    </tr>\n",
       "    <tr>\n",
       "      <th>Summer</th>\n",
       "      <td>1764871</td>\n",
       "    </tr>\n",
       "    <tr>\n",
       "      <th>Winter</th>\n",
       "      <td>1032626</td>\n",
       "    </tr>\n",
       "    <tr>\n",
       "      <th rowspan=\"4\" valign=\"top\">2015.0</th>\n",
       "      <th>Fall</th>\n",
       "      <td>1713544</td>\n",
       "    </tr>\n",
       "    <tr>\n",
       "      <th>Spring</th>\n",
       "      <td>1998782</td>\n",
       "    </tr>\n",
       "    <tr>\n",
       "      <th>Summer</th>\n",
       "      <td>1914499</td>\n",
       "    </tr>\n",
       "    <tr>\n",
       "      <th>Winter</th>\n",
       "      <td>1598774</td>\n",
       "    </tr>\n",
       "    <tr>\n",
       "      <th rowspan=\"4\" valign=\"top\">2016.0</th>\n",
       "      <th>Fall</th>\n",
       "      <td>1368230</td>\n",
       "    </tr>\n",
       "    <tr>\n",
       "      <th>Spring</th>\n",
       "      <td>2319722</td>\n",
       "    </tr>\n",
       "    <tr>\n",
       "      <th>Summer</th>\n",
       "      <td>2035358</td>\n",
       "    </tr>\n",
       "    <tr>\n",
       "      <th>Winter</th>\n",
       "      <td>1871743</td>\n",
       "    </tr>\n",
       "    <tr>\n",
       "      <th rowspan=\"4\" valign=\"top\">2017.0</th>\n",
       "      <th>Fall</th>\n",
       "      <td>1928579</td>\n",
       "    </tr>\n",
       "    <tr>\n",
       "      <th>Spring</th>\n",
       "      <td>2323955</td>\n",
       "    </tr>\n",
       "    <tr>\n",
       "      <th>Summer</th>\n",
       "      <td>2014147</td>\n",
       "    </tr>\n",
       "    <tr>\n",
       "      <th>Winter</th>\n",
       "      <td>1864643</td>\n",
       "    </tr>\n",
       "    <tr>\n",
       "      <th rowspan=\"4\" valign=\"top\">2018.0</th>\n",
       "      <th>Fall</th>\n",
       "      <td>2699919</td>\n",
       "    </tr>\n",
       "    <tr>\n",
       "      <th>Spring</th>\n",
       "      <td>2701161</td>\n",
       "    </tr>\n",
       "    <tr>\n",
       "      <th>Summer</th>\n",
       "      <td>2415297</td>\n",
       "    </tr>\n",
       "    <tr>\n",
       "      <th>Winter</th>\n",
       "      <td>2900084</td>\n",
       "    </tr>\n",
       "    <tr>\n",
       "      <th rowspan=\"4\" valign=\"top\">2019.0</th>\n",
       "      <th>Fall</th>\n",
       "      <td>3157693</td>\n",
       "    </tr>\n",
       "    <tr>\n",
       "      <th>Spring</th>\n",
       "      <td>3739471</td>\n",
       "    </tr>\n",
       "    <tr>\n",
       "      <th>Summer</th>\n",
       "      <td>3097718</td>\n",
       "    </tr>\n",
       "    <tr>\n",
       "      <th>Winter</th>\n",
       "      <td>3775273</td>\n",
       "    </tr>\n",
       "    <tr>\n",
       "      <th rowspan=\"4\" valign=\"top\">2020.0</th>\n",
       "      <th>Fall</th>\n",
       "      <td>4324465</td>\n",
       "    </tr>\n",
       "    <tr>\n",
       "      <th>Spring</th>\n",
       "      <td>3278958</td>\n",
       "    </tr>\n",
       "    <tr>\n",
       "      <th>Summer</th>\n",
       "      <td>3412036</td>\n",
       "    </tr>\n",
       "    <tr>\n",
       "      <th>Winter</th>\n",
       "      <td>4399579</td>\n",
       "    </tr>\n",
       "    <tr>\n",
       "      <th rowspan=\"4\" valign=\"top\">2021.0</th>\n",
       "      <th>Fall</th>\n",
       "      <td>6897483</td>\n",
       "    </tr>\n",
       "    <tr>\n",
       "      <th>Spring</th>\n",
       "      <td>10588784</td>\n",
       "    </tr>\n",
       "    <tr>\n",
       "      <th>Summer</th>\n",
       "      <td>6241586</td>\n",
       "    </tr>\n",
       "    <tr>\n",
       "      <th>Winter</th>\n",
       "      <td>11687143</td>\n",
       "    </tr>\n",
       "    <tr>\n",
       "      <th rowspan=\"4\" valign=\"top\">2022.0</th>\n",
       "      <th>Fall</th>\n",
       "      <td>5187909</td>\n",
       "    </tr>\n",
       "    <tr>\n",
       "      <th>Spring</th>\n",
       "      <td>7143961</td>\n",
       "    </tr>\n",
       "    <tr>\n",
       "      <th>Summer</th>\n",
       "      <td>5100282</td>\n",
       "    </tr>\n",
       "    <tr>\n",
       "      <th>Winter</th>\n",
       "      <td>5004774</td>\n",
       "    </tr>\n",
       "  </tbody>\n",
       "</table>\n",
       "</div>"
      ],
      "text/plain": [
       "                    AverageMembers\n",
       "FromYear Premiered                \n",
       "2012.0   Fall              1515101\n",
       "         Spring             881192\n",
       "         Summer             737348\n",
       "         Winter             741880\n",
       "2013.0   Fall              1413645\n",
       "         Spring            1215306\n",
       "         Summer             876558\n",
       "         Winter             544894\n",
       "2014.0   Fall              2035039\n",
       "         Spring            1827741\n",
       "         Summer            1764871\n",
       "         Winter            1032626\n",
       "2015.0   Fall              1713544\n",
       "         Spring            1998782\n",
       "         Summer            1914499\n",
       "         Winter            1598774\n",
       "2016.0   Fall              1368230\n",
       "         Spring            2319722\n",
       "         Summer            2035358\n",
       "         Winter            1871743\n",
       "2017.0   Fall              1928579\n",
       "         Spring            2323955\n",
       "         Summer            2014147\n",
       "         Winter            1864643\n",
       "2018.0   Fall              2699919\n",
       "         Spring            2701161\n",
       "         Summer            2415297\n",
       "         Winter            2900084\n",
       "2019.0   Fall              3157693\n",
       "         Spring            3739471\n",
       "         Summer            3097718\n",
       "         Winter            3775273\n",
       "2020.0   Fall              4324465\n",
       "         Spring            3278958\n",
       "         Summer            3412036\n",
       "         Winter            4399579\n",
       "2021.0   Fall              6897483\n",
       "         Spring           10588784\n",
       "         Summer            6241586\n",
       "         Winter           11687143\n",
       "2022.0   Fall              5187909\n",
       "         Spring            7143961\n",
       "         Summer            5100282\n",
       "         Winter            5004774"
      ]
     },
     "execution_count": 36,
     "metadata": {},
     "output_type": "execute_result"
    }
   ],
   "source": [
    "season_mem = season_df.groupby([\"FromYear\",\"Premiered\"])[\"AverageMembers\"].sum()\n",
    "temp=season_mem.to_frame()\n",
    "temp"
   ]
  },
  {
   "cell_type": "code",
   "execution_count": null,
   "metadata": {},
   "outputs": [
    {
     "data": {
      "text/plain": [
       "<AxesSubplot: xlabel='FromYear', ylabel='AverageMembers'>"
      ]
     },
     "execution_count": 37,
     "metadata": {},
     "output_type": "execute_result"
    },
    {
     "data": {
      "image/png": "[encoded data removed]",
      "text/plain": [
       "<Figure size 2016x720 with 1 Axes>"
      ]
     },
     "metadata": {
      "needs_background": "light"
     },
     "output_type": "display_data"
    }
   ],
   "source": [
    "fig,ax=plt.subplots(figsize=(28,10))\n",
    "sns.lineplot(data = temp, x = temp.index.get_level_values('FromYear'),\n",
    "             y = temp['AverageMembers'],\n",
    "             hue = temp.index.get_level_values('Premiered'),\n",
    "             marker = 'o')"
   ]
  },
  {
   "cell_type": "markdown",
   "metadata": {},
   "source": [
    "**Nhận xét**\\\n",
    "Nhìn chung trung bình lượt xem qua các mùa là không quá cách biệt nhau và có thể thấy được là số lượng người xem qua từng năm có xu hướng tăng dần, đỉnh điểm là năm 2021, số lượng người xem tăng đột biến, đặc biệt là vào các mùa xuân và đông, điều này có thể là do đang trong đợt dịch covid nên số người ở nhà và xem anime ngày càng tăng, đặc biệt là 2 mùa xuân và đông là 2 mùa nghỉ lễ. "
   ]
  },
  {
   "cell_type": "markdown",
   "metadata": {},
   "source": [
    "### Câu hỏi 6: Thời điểm phát hành nội dung thích hợp trong năm?"
   ]
  },
  {
   "cell_type": "code",
   "execution_count": null,
   "metadata": {},
   "outputs": [
    {
     "data": {
      "text/html": [
       "<div>\n",
       "<style scoped>\n",
       "    .dataframe tbody tr th:only-of-type {\n",
       "        vertical-align: middle;\n",
       "    }\n",
       "\n",
       "    .dataframe tbody tr th {\n",
       "        vertical-align: top;\n",
       "    }\n",
       "\n",
       "    .dataframe thead th {\n",
       "        text-align: right;\n",
       "    }\n",
       "</style>\n",
       "<table border=\"1\" class=\"dataframe\">\n",
       "  <thead>\n",
       "    <tr style=\"text-align: right;\">\n",
       "      <th>Year</th>\n",
       "      <th>2008</th>\n",
       "      <th>2009</th>\n",
       "      <th>2010</th>\n",
       "      <th>2011</th>\n",
       "      <th>2012</th>\n",
       "      <th>2013</th>\n",
       "      <th>2014</th>\n",
       "      <th>2015</th>\n",
       "      <th>2016</th>\n",
       "      <th>2017</th>\n",
       "      <th>2018</th>\n",
       "      <th>2019</th>\n",
       "      <th>2020</th>\n",
       "      <th>2021</th>\n",
       "      <th>2022</th>\n",
       "    </tr>\n",
       "    <tr>\n",
       "      <th>Month</th>\n",
       "      <th></th>\n",
       "      <th></th>\n",
       "      <th></th>\n",
       "      <th></th>\n",
       "      <th></th>\n",
       "      <th></th>\n",
       "      <th></th>\n",
       "      <th></th>\n",
       "      <th></th>\n",
       "      <th></th>\n",
       "      <th></th>\n",
       "      <th></th>\n",
       "      <th></th>\n",
       "      <th></th>\n",
       "      <th></th>\n",
       "    </tr>\n",
       "  </thead>\n",
       "  <tbody>\n",
       "    <tr>\n",
       "      <th>January</th>\n",
       "      <td>35</td>\n",
       "      <td>35</td>\n",
       "      <td>32</td>\n",
       "      <td>33</td>\n",
       "      <td>47</td>\n",
       "      <td>40</td>\n",
       "      <td>60</td>\n",
       "      <td>52</td>\n",
       "      <td>61</td>\n",
       "      <td>58</td>\n",
       "      <td>67</td>\n",
       "      <td>56</td>\n",
       "      <td>72</td>\n",
       "      <td>67</td>\n",
       "      <td>64</td>\n",
       "    </tr>\n",
       "    <tr>\n",
       "      <th>February</th>\n",
       "      <td>15</td>\n",
       "      <td>13</td>\n",
       "      <td>13</td>\n",
       "      <td>20</td>\n",
       "      <td>19</td>\n",
       "      <td>14</td>\n",
       "      <td>23</td>\n",
       "      <td>14</td>\n",
       "      <td>22</td>\n",
       "      <td>25</td>\n",
       "      <td>17</td>\n",
       "      <td>23</td>\n",
       "      <td>24</td>\n",
       "      <td>28</td>\n",
       "      <td>28</td>\n",
       "    </tr>\n",
       "    <tr>\n",
       "      <th>March</th>\n",
       "      <td>23</td>\n",
       "      <td>17</td>\n",
       "      <td>29</td>\n",
       "      <td>34</td>\n",
       "      <td>32</td>\n",
       "      <td>32</td>\n",
       "      <td>41</td>\n",
       "      <td>29</td>\n",
       "      <td>36</td>\n",
       "      <td>30</td>\n",
       "      <td>33</td>\n",
       "      <td>29</td>\n",
       "      <td>22</td>\n",
       "      <td>29</td>\n",
       "      <td>38</td>\n",
       "    </tr>\n",
       "    <tr>\n",
       "      <th>April</th>\n",
       "      <td>55</td>\n",
       "      <td>56</td>\n",
       "      <td>47</td>\n",
       "      <td>61</td>\n",
       "      <td>60</td>\n",
       "      <td>54</td>\n",
       "      <td>69</td>\n",
       "      <td>63</td>\n",
       "      <td>68</td>\n",
       "      <td>84</td>\n",
       "      <td>83</td>\n",
       "      <td>64</td>\n",
       "      <td>65</td>\n",
       "      <td>75</td>\n",
       "      <td>70</td>\n",
       "    </tr>\n",
       "    <tr>\n",
       "      <th>May</th>\n",
       "      <td>4</td>\n",
       "      <td>11</td>\n",
       "      <td>9</td>\n",
       "      <td>18</td>\n",
       "      <td>11</td>\n",
       "      <td>12</td>\n",
       "      <td>12</td>\n",
       "      <td>15</td>\n",
       "      <td>24</td>\n",
       "      <td>28</td>\n",
       "      <td>20</td>\n",
       "      <td>19</td>\n",
       "      <td>21</td>\n",
       "      <td>19</td>\n",
       "      <td>14</td>\n",
       "    </tr>\n",
       "    <tr>\n",
       "      <th>June</th>\n",
       "      <td>11</td>\n",
       "      <td>20</td>\n",
       "      <td>14</td>\n",
       "      <td>23</td>\n",
       "      <td>21</td>\n",
       "      <td>21</td>\n",
       "      <td>23</td>\n",
       "      <td>23</td>\n",
       "      <td>25</td>\n",
       "      <td>17</td>\n",
       "      <td>25</td>\n",
       "      <td>30</td>\n",
       "      <td>19</td>\n",
       "      <td>25</td>\n",
       "      <td>21</td>\n",
       "    </tr>\n",
       "    <tr>\n",
       "      <th>July</th>\n",
       "      <td>36</td>\n",
       "      <td>28</td>\n",
       "      <td>45</td>\n",
       "      <td>51</td>\n",
       "      <td>52</td>\n",
       "      <td>63</td>\n",
       "      <td>63</td>\n",
       "      <td>68</td>\n",
       "      <td>67</td>\n",
       "      <td>68</td>\n",
       "      <td>74</td>\n",
       "      <td>61</td>\n",
       "      <td>49</td>\n",
       "      <td>86</td>\n",
       "      <td>67</td>\n",
       "    </tr>\n",
       "    <tr>\n",
       "      <th>August</th>\n",
       "      <td>18</td>\n",
       "      <td>25</td>\n",
       "      <td>19</td>\n",
       "      <td>17</td>\n",
       "      <td>25</td>\n",
       "      <td>26</td>\n",
       "      <td>26</td>\n",
       "      <td>18</td>\n",
       "      <td>25</td>\n",
       "      <td>25</td>\n",
       "      <td>30</td>\n",
       "      <td>30</td>\n",
       "      <td>25</td>\n",
       "      <td>32</td>\n",
       "      <td>24</td>\n",
       "    </tr>\n",
       "    <tr>\n",
       "      <th>September</th>\n",
       "      <td>18</td>\n",
       "      <td>13</td>\n",
       "      <td>18</td>\n",
       "      <td>22</td>\n",
       "      <td>28</td>\n",
       "      <td>23</td>\n",
       "      <td>29</td>\n",
       "      <td>22</td>\n",
       "      <td>34</td>\n",
       "      <td>36</td>\n",
       "      <td>25</td>\n",
       "      <td>25</td>\n",
       "      <td>25</td>\n",
       "      <td>28</td>\n",
       "      <td>17</td>\n",
       "    </tr>\n",
       "    <tr>\n",
       "      <th>October</th>\n",
       "      <td>50</td>\n",
       "      <td>59</td>\n",
       "      <td>42</td>\n",
       "      <td>47</td>\n",
       "      <td>63</td>\n",
       "      <td>59</td>\n",
       "      <td>68</td>\n",
       "      <td>67</td>\n",
       "      <td>73</td>\n",
       "      <td>72</td>\n",
       "      <td>69</td>\n",
       "      <td>73</td>\n",
       "      <td>78</td>\n",
       "      <td>76</td>\n",
       "      <td>59</td>\n",
       "    </tr>\n",
       "    <tr>\n",
       "      <th>November</th>\n",
       "      <td>9</td>\n",
       "      <td>10</td>\n",
       "      <td>17</td>\n",
       "      <td>13</td>\n",
       "      <td>24</td>\n",
       "      <td>20</td>\n",
       "      <td>17</td>\n",
       "      <td>25</td>\n",
       "      <td>34</td>\n",
       "      <td>30</td>\n",
       "      <td>25</td>\n",
       "      <td>33</td>\n",
       "      <td>21</td>\n",
       "      <td>18</td>\n",
       "      <td>13</td>\n",
       "    </tr>\n",
       "    <tr>\n",
       "      <th>December</th>\n",
       "      <td>13</td>\n",
       "      <td>24</td>\n",
       "      <td>26</td>\n",
       "      <td>25</td>\n",
       "      <td>29</td>\n",
       "      <td>30</td>\n",
       "      <td>33</td>\n",
       "      <td>34</td>\n",
       "      <td>43</td>\n",
       "      <td>29</td>\n",
       "      <td>31</td>\n",
       "      <td>34</td>\n",
       "      <td>30</td>\n",
       "      <td>39</td>\n",
       "      <td>3</td>\n",
       "    </tr>\n",
       "  </tbody>\n",
       "</table>\n",
       "</div>"
      ],
      "text/plain": [
       "Year       2008  2009  2010  2011  2012  2013  2014  2015  2016  2017  2018  \\\n",
       "Month                                                                         \n",
       "January      35    35    32    33    47    40    60    52    61    58    67   \n",
       "February     15    13    13    20    19    14    23    14    22    25    17   \n",
       "March        23    17    29    34    32    32    41    29    36    30    33   \n",
       "April        55    56    47    61    60    54    69    63    68    84    83   \n",
       "May           4    11     9    18    11    12    12    15    24    28    20   \n",
       "June         11    20    14    23    21    21    23    23    25    17    25   \n",
       "July         36    28    45    51    52    63    63    68    67    68    74   \n",
       "August       18    25    19    17    25    26    26    18    25    25    30   \n",
       "September    18    13    18    22    28    23    29    22    34    36    25   \n",
       "October      50    59    42    47    63    59    68    67    73    72    69   \n",
       "November      9    10    17    13    24    20    17    25    34    30    25   \n",
       "December     13    24    26    25    29    30    33    34    43    29    31   \n",
       "\n",
       "Year       2019  2020  2021  2022  \n",
       "Month                              \n",
       "January      56    72    67    64  \n",
       "February     23    24    28    28  \n",
       "March        29    22    29    38  \n",
       "April        64    65    75    70  \n",
       "May          19    21    19    14  \n",
       "June         30    19    25    21  \n",
       "July         61    49    86    67  \n",
       "August       30    25    32    24  \n",
       "September    25    25    28    17  \n",
       "October      73    78    76    59  \n",
       "November     33    21    18    13  \n",
       "December     34    30    39     3  "
      ]
     },
     "execution_count": 38,
     "metadata": {},
     "output_type": "execute_result"
    }
   ],
   "source": [
    "# Thoi diem phat hanh noi dung thich hop\n",
    "df1 = df[['Name', 'From']].copy()\n",
    "df1.dropna(inplace=True)\n",
    "df1['Month'] = df1['From'].transform(lambda x: x.month_name())\n",
    "df1['Year'] = df1['From'].transform(lambda x: x.year)\n",
    "df1 = df1[df1['Year'] >= 2008]\n",
    "# df1.sort_values(by=['Month'],inplace=True)\n",
    "# df1['Month']=df1['From'].transform(lambda x: x.month_name())\n",
    "df1 = df1.groupby(['Year', 'Month'])['Name'].count().unstack(level=0)\n",
    "df1 = df1.reindex(['January', 'February', 'March', 'April', 'May', 'June',\n",
    "                  'July', 'August', 'September', 'October', 'November', 'December'])\n",
    "df1 = df1.fillna(0)\n",
    "df1"
   ]
  },
  {
   "cell_type": "code",
   "execution_count": null,
   "metadata": {},
   "outputs": [
    {
     "data": {
      "text/plain": [
       "Text(138.453125, 0.5, 'Month')"
      ]
     },
     "execution_count": 39,
     "metadata": {},
     "output_type": "execute_result"
    },
    {
     "data": {
      "image/png": "[encoded data removed]",
      "text/plain": [
       "<Figure size 1296x576 with 2 Axes>"
      ]
     },
     "metadata": {
      "needs_background": "light"
     },
     "output_type": "display_data"
    }
   ],
   "source": [
    "plt.subplots(figsize=(18, 8))\n",
    "sns.heatmap(data=df1,\n",
    "            cmap='afmhot_r')\n",
    "plt.title('Số lượng phim phát hành vào các tháng qua thời gian')\n",
    "plt.xlabel('Year', color=\"blue\")\n",
    "plt.ylabel('Month', color=\"blue\")"
   ]
  },
  {
   "cell_type": "markdown",
   "metadata": {},
   "source": [
    "***Nhận xét***\\\n",
    "Nhìn vào Heat map hiển thị, thời điểm được các nhà phát hành phim yêu thích để tung ra những sản phẩn là tháng 1, tháng 4, tháng 7 và tháng 10. Đó là do đó là lúc phù hợp cho những dịp lễ hay kì nghỉ dài là lúc mà những tín đồ anime dành thời gian để \"cày\" những bộ phim mới phát hành.\\\n",
    "Ngoài ra nếu xét sâu hơn, các tháng này được phân bố đều trong năm để có thể giảm lượng cạnh tranh giữa các phim, không còn bị chỉ một thời điểm mà cho ra qua nhiều bộ được.\\\n",
    "Tuy nhiên nó cũng được phân bố ở các thời điểm nhát định để tăng độ nóng cho loạt những bộ phim ra mắt, vì nó được đưa ra vào một thời điểm mà không có những bộ phim làm sức nóng thì khó để tạo marketing hay độ khó nhằm nhân nhiệt cho phim"
   ]
  },
  {
   "cell_type": "markdown",
   "metadata": {},
   "source": [
    "---"
   ]
  },
  {
   "cell_type": "markdown",
   "metadata": {},
   "source": [
    "## Mô hình hóa dữ liệu"
   ]
  },
  {
   "cell_type": "markdown",
   "metadata": {},
   "source": [
    "### Giới thiệu bài toán\n"
   ]
  },
  {
   "cell_type": "markdown",
   "metadata": {},
   "source": [
    "MAL là một trang web phục vụ cho những người yêu thích anime, nó có một hệ thống chấm điểm cho từng anime dựa trên những đánh giá của người dùng về bộ anime đó. Dựa vào thông tin có được từ dữ liệu mà chúng em đã thu thập, mục tiêu trong việc mô hình hóa dữ liệu của chúng em chính là làm sao có thể đánh giá một bộ anime dựa vào số lượng người xem cũng như số lượng người yêu thích của nó. Qua đó ta có thể dựa vào những thông số được thống kê của các bộ anime mới để dự đoán chất lượng của chúng."
   ]
  },
  {
   "cell_type": "markdown",
   "metadata": {},
   "source": [
    "### Phân tích, lựa chọn các đặc trưng có mức độ liên quan cao, có tính quan trọng cho bài toán"
   ]
  },
  {
   "cell_type": "markdown",
   "metadata": {},
   "source": [
    "Theo như tìm hiểu, công thức tính score trên MAL của từng anime liên quan đến rating của tất cả người dùng và số lượng người dùng đã xem bộ đó, do không thể biết được rating của từng người dùng như thế nào nên ta sẽ thử dự đoán score của nó thông qua các thông tin đã có được. Ta xét tới các đặc trưng sau:\n",
    "- `Members`: Số lượng người xem, ta chọn đặc trưng này vì nó có liên quan đến tiêu chí tính điểm của MAL\n",
    "- `Favorites`: Số lượng người yêu thích, vì không có cách nào biết được rating của người xem như nào nên ta sẽ đánh giá dựa trên số lượng người yêu thích, vì anime có càng nhiều người yêu thích thì khả năng cao là mức rating của nó cũng tăng lên\n",
    "- `From`: Năm phát hành, vì có những bộ anime chỉ mới vừa ra mắt nên sẽ rất khó để đạt mức lượng người xem và lượng yêu thích vượt trội, thế điểm số của nó vẫn có thể đạt được top một cách dễ dàng, vậy nên ta chọn đặc trưng này để xét tới thời gian tồn tại của anime đó."
   ]
  },
  {
   "cell_type": "markdown",
   "metadata": {},
   "source": [
    "### Lựa chọn mô hình máy học"
   ]
  },
  {
   "cell_type": "markdown",
   "metadata": {},
   "source": [
    "Vì bài toán là dự đoán `Score` của một bộ phim - dữ liệu dạng số nên cần sử dụng các model Regression. Cho bài toán này, nhóm chọn sử dụng 2 mô hình để sử dụng và so sánh là Linear Regression và K-Nearest-Neighbors Regression."
   ]
  },
  {
   "cell_type": "code",
   "execution_count": null,
   "metadata": {},
   "outputs": [],
   "source": [
    "from sklearn.linear_model import LinearRegression\n",
    "from sklearn.neighbors import KNeighborsRegressor\n",
    "# from sklearn.preprocessing import MultiLabelBinarizer,LabelEncoder\n",
    "from sklearn.preprocessing import StandardScaler\n",
    "from sklearn.model_selection import GridSearchCV\n",
    "from sklearn.pipeline import Pipeline\n",
    "from sklearn.model_selection import train_test_split\n",
    "from sklearn.metrics import mean_squared_error,make_scorer\n",
    "from sklearn.metrics import r2_score"
   ]
  },
  {
   "cell_type": "markdown",
   "metadata": {},
   "source": [
    "*Lấy ra các dữ liệu cần thiết và tiền xử lí*"
   ]
  },
  {
   "cell_type": "code",
   "execution_count": null,
   "metadata": {},
   "outputs": [
    {
     "data": {
      "text/html": [
       "<div>\n",
       "<style scoped>\n",
       "    .dataframe tbody tr th:only-of-type {\n",
       "        vertical-align: middle;\n",
       "    }\n",
       "\n",
       "    .dataframe tbody tr th {\n",
       "        vertical-align: top;\n",
       "    }\n",
       "\n",
       "    .dataframe thead th {\n",
       "        text-align: right;\n",
       "    }\n",
       "</style>\n",
       "<table border=\"1\" class=\"dataframe\">\n",
       "  <thead>\n",
       "    <tr style=\"text-align: right;\">\n",
       "      <th></th>\n",
       "      <th>Score</th>\n",
       "      <th>Members</th>\n",
       "      <th>Favorites</th>\n",
       "      <th>Years</th>\n",
       "    </tr>\n",
       "  </thead>\n",
       "  <tbody>\n",
       "    <tr>\n",
       "      <th>0</th>\n",
       "      <td>9.11</td>\n",
       "      <td>3037641</td>\n",
       "      <td>211082</td>\n",
       "      <td>2009.0</td>\n",
       "    </tr>\n",
       "    <tr>\n",
       "      <th>1</th>\n",
       "      <td>9.10</td>\n",
       "      <td>310979</td>\n",
       "      <td>11798</td>\n",
       "      <td>2022.0</td>\n",
       "    </tr>\n",
       "    <tr>\n",
       "      <th>2</th>\n",
       "      <td>9.09</td>\n",
       "      <td>703336</td>\n",
       "      <td>25895</td>\n",
       "      <td>2022.0</td>\n",
       "    </tr>\n",
       "    <tr>\n",
       "      <th>3</th>\n",
       "      <td>9.08</td>\n",
       "      <td>2338343</td>\n",
       "      <td>177381</td>\n",
       "      <td>2011.0</td>\n",
       "    </tr>\n",
       "    <tr>\n",
       "      <th>4</th>\n",
       "      <td>9.07</td>\n",
       "      <td>567213</td>\n",
       "      <td>15323</td>\n",
       "      <td>2015.0</td>\n",
       "    </tr>\n",
       "  </tbody>\n",
       "</table>\n",
       "</div>"
      ],
      "text/plain": [
       "   Score  Members  Favorites   Years\n",
       "0   9.11  3037641     211082  2009.0\n",
       "1   9.10   310979      11798  2022.0\n",
       "2   9.09   703336      25895  2022.0\n",
       "3   9.08  2338343     177381  2011.0\n",
       "4   9.07   567213      15323  2015.0"
      ]
     },
     "execution_count": 41,
     "metadata": {},
     "output_type": "execute_result"
    }
   ],
   "source": [
    "df1=df[['Score','Members','Favorites','From']]\n",
    "df1['Years'] = df1['From'].dt.year\n",
    "df1.drop(columns=['From'],inplace=True)\n",
    "df1.dropna(inplace=True)\n",
    "df1.head()"
   ]
  },
  {
   "cell_type": "markdown",
   "metadata": {},
   "source": [
    "*Tách dữ liệu thành các tập huấn luyện (training) và kiểm thử (testing)*\n",
    "- Mục đích: Nếu sử dụng cùng 1 tập dữ liệu cho cả traning và testing sẽ dẫn tới tình trạng như học thuộc lòng, khi đánh giá mô hình sẽ đạt được tỉ lệ chính xác rất cao, có thể lên đến 100% dẫn đến over fitting.\n",
    "- Vì thế, chúng ta cần chia tập dữ liệu ban đầu thành 2 tập riêng biệt cho việc training và testing. Ở đây nhóm sẽ chia như sau:\n",
    "    + Traning set : 80% dữ liệu\n",
    "    + Testing set : 20% dữ liệu"
   ]
  },
  {
   "cell_type": "code",
   "execution_count": null,
   "metadata": {},
   "outputs": [],
   "source": [
    "X=df1.drop(columns=['Score'])\n",
    "y=df1['Score']\n",
    "X_train,X_test,y_train,y_test=train_test_split(X,y,test_size=0.2)"
   ]
  },
  {
   "cell_type": "markdown",
   "metadata": {},
   "source": [
    "**Linear Regression**"
   ]
  },
  {
   "cell_type": "markdown",
   "metadata": {},
   "source": [
    "- Phân tích hồi quy tuyến tính là một phương pháp phân tích quan hệ giữa biến phụ thuộc Y với một hay nhiều biến độc lập X. Mô hình hóa sử dụng hàm tuyến tính (bậc 1). Các tham số của mô hình (hay hàm số) được ước lượng từ dữ liệu.\n",
    "\n",
    "- Hồi quy tuyến tính được sử dụng rộng rãi trong thực tế do tính chất đơn giản hóa của hồi quy. Nó cũng dễ ước lượng."
   ]
  },
  {
   "cell_type": "code",
   "execution_count": null,
   "metadata": {},
   "outputs": [],
   "source": [
    "# Linear Regression\n",
    "# <lý thuyết tóm tắt linear Regression> (wiki)\n",
    "\n",
    "linearModel=Pipeline([('model',LinearRegression())])\n",
    "# linearModel = LinearRegression().fit(X_train, y_train)\n",
    "linearModel.fit(X_train, y_train)  \n",
    "predictions = linearModel.predict(X_test)"
   ]
  },
  {
   "cell_type": "markdown",
   "metadata": {},
   "source": [
    "*Kết quả dự đoán của mô hình Linear Regression so với thực tế*"
   ]
  },
  {
   "cell_type": "code",
   "execution_count": null,
   "metadata": {},
   "outputs": [
    {
     "data": {
      "text/plain": [
       "Text(0, 0.5, 'Predict')"
      ]
     },
     "execution_count": 44,
     "metadata": {},
     "output_type": "execute_result"
    },
    {
     "data": {
      "image/png": "[encoded data removed]",
      "text/plain": [
       "<Figure size 720x720 with 1 Axes>"
      ]
     },
     "metadata": {
      "needs_background": "light"
     },
     "output_type": "display_data"
    }
   ],
   "source": [
    "# Visualize kết quả dữ đoán và kết quả thật sự\n",
    "\n",
    "plt.figure(figsize=(10, 10))\n",
    "plt.scatter(y_test, predictions)\n",
    "plt.plot([6,10],[6,10],color=\"red\")\n",
    "plt.xlabel(\"Truth\")\n",
    "plt.ylabel(\"Predict\")\n",
    "# plt.xlim(5.5,10)\n",
    "# plt.ylim(5.5,10)"
   ]
  },
  {
   "cell_type": "markdown",
   "metadata": {},
   "source": [
    "Dễ thấy các điểm được vẽ có xu hướng cũng tập trung gần đường chéo, chứng tỏ việc sử dụng mô hình là phần nào dự đoán gần đúng số điểm của các bộ anime, tuy không hoàn toàn chính xác nhưng kết quả vẫn có thể chấp nhận được. Ta cùng thử đi tính độ lỗi bằng MSE để xem hiệu suất của mô hình ra sao."
   ]
  },
  {
   "cell_type": "markdown",
   "metadata": {},
   "source": [
    "*Độ lỗi đo bằng MSE*"
   ]
  },
  {
   "cell_type": "code",
   "execution_count": null,
   "metadata": {},
   "outputs": [
    {
     "data": {
      "text/plain": [
       "0.33208931800957486"
      ]
     },
     "execution_count": 45,
     "metadata": {},
     "output_type": "execute_result"
    }
   ],
   "source": [
    "loss_linear = mean_squared_error(y_test,predictions)\n",
    "loss_linear"
   ]
  },
  {
   "cell_type": "markdown",
   "metadata": {},
   "source": [
    "Độ lỗi nhìn chung có vẻ thấp, có thể thấy đây là một mô hình tương đối tốt."
   ]
  },
  {
   "cell_type": "markdown",
   "metadata": {},
   "source": [
    "**K Nearest Neightbors Regression**"
   ]
  },
  {
   "cell_type": "markdown",
   "metadata": {},
   "source": [
    "- Trong thống kê, giải thuật k hàng xóm gần nhất (hay còn gọi là thuật toán k hàng xóm gần nhất, viết tắt từ tiếng Anh k-NN) là một phương pháp thống kê phi tham số (nonparametric statistics) được đề xuất bởi Thomas M. Cover để sử dụng cho phân loại bằng thống kê và `phân tích hồi quy`. Cụm từ hàng xóm có thể hiểu là láng giềng hoặc lân cận.\n",
    "- Trong cả hai trường hợp, đầu vào chứa các ví dụ huấn luyện k gần nhất trong không gian thuộc tính (feature space). Đầu ra phụ thuộc vào việc k-NN được dùng cho phân loại hay cho hồi quy (ở đây ta chỉ chú ý đến hồi quy)\n",
    "- Trong hồi quy k-NN, đầu ra là một giá trị thuộc tính của đối tượng. Giá trị là giá trị trung bình của các giá trị hàng xóm k gần nhất."
   ]
  },
  {
   "cell_type": "markdown",
   "metadata": {},
   "source": [
    "*Mô hình k-NN cần được cung cấp tham số k (số hàng xóm gần nhất)*\\\n",
    "Để bắt đầu, ta sẽ sử dụng tham số mặc định của `sklearn` cho k là `5`"
   ]
  },
  {
   "cell_type": "code",
   "execution_count": null,
   "metadata": {},
   "outputs": [],
   "source": [
    "knnModel = Pipeline([('model',KNeighborsRegressor())])\n",
    "knnModel.fit(X_train,y_train)\n",
    "knn_predictions=knnModel.predict(X_test)"
   ]
  },
  {
   "cell_type": "markdown",
   "metadata": {},
   "source": [
    "*Kết quả dự đoán của mô hình k-NN so với thực tế*"
   ]
  },
  {
   "cell_type": "code",
   "execution_count": null,
   "metadata": {},
   "outputs": [
    {
     "data": {
      "text/plain": [
       "Text(0, 0.5, 'Predict')"
      ]
     },
     "execution_count": 47,
     "metadata": {},
     "output_type": "execute_result"
    },
    {
     "data": {
      "image/png": "[encoded data removed]",
      "text/plain": [
       "<Figure size 720x720 with 1 Axes>"
      ]
     },
     "metadata": {
      "needs_background": "light"
     },
     "output_type": "display_data"
    }
   ],
   "source": [
    "plt.figure(figsize=(10, 10))\n",
    "plt.plot(np.arange(6,10,0.2),np.arange(6,10,0.2),color='red')\n",
    "plt.scatter(y_test, knn_predictions)\n",
    "plt.xlabel(\"Truth\")\n",
    "plt.ylabel(\"Predict\")"
   ]
  },
  {
   "cell_type": "markdown",
   "metadata": {},
   "source": [
    "Dễ thấy được là so với mô hình hồi quy tuyến tính trước, mô hình lần này có vẻ thể hiện tốt hơn khi mà các điểm hầu như là rất gần với đường chéo. Ta cùng tính thử độ lỗi MSE để so sánh với mô hình trước xem sao."
   ]
  },
  {
   "cell_type": "markdown",
   "metadata": {},
   "source": [
    "*Độ lỗi đo bằng MSE*"
   ]
  },
  {
   "cell_type": "code",
   "execution_count": null,
   "metadata": {},
   "outputs": [
    {
     "data": {
      "text/plain": [
       "0.24744741799999997"
      ]
     },
     "execution_count": 48,
     "metadata": {},
     "output_type": "execute_result"
    }
   ],
   "source": [
    "loss_knn_default = mean_squared_error(y_test,knn_predictions)\n",
    "loss_knn_default"
   ]
  },
  {
   "cell_type": "markdown",
   "metadata": {},
   "source": [
    "Ta có thể thấy độ lỗi của mô hình hồi quy KNN (k = 5) thấp hơn mô hình hồi quy tuyến tính"
   ]
  },
  {
   "cell_type": "markdown",
   "metadata": {},
   "source": [
    "*Do các trường dữ liệu đầu vào ở các thang đo và đơn vị khác nhau nên sẽ ảnh hưởng đến khoảng cách xa gần của các điểm dữ liệu mà mô hình KNN lại phụ thuộc vào khoảng cách này để dự đoán. Vì vậy các trường dữ liệu cần được chuyển đổi về một khoảng giá trị phù hợp hơn để đưa vào mô hình bằng `Feature Scaling`*"
   ]
  },
  {
   "cell_type": "markdown",
   "metadata": {},
   "source": [
    "*Feature Scaling*\n",
    "- Có 3 phương pháp chính là:\n",
    "    + Standardisation: Làm cho tập dữ liệu có trung bình là 0 và độ lệch chuẩn là 1 và được áp dụng cho hầu hết các trường hợp cần feature scaling.\n",
    "    + Normalisation: Làm cho các giá trị trong tập dữ liệu thuộc đoạn [0, 1] và được áp dụng nếu tập dữ liệu tuân theo phân phối chuẩn.\n",
    "    + MinMax Scaler: Đưa các giá trị về khoảng giữa 2 giá trị min và max trong miền giá trị của thuộc tính, có thể là đoạn [-1, 0], [0, 1], [-1, 1],...\n",
    "- Trong bài này nhóm chọn phương pháp Standardisation để scaling khoảng giá trị của thuộc tính."
   ]
  },
  {
   "cell_type": "code",
   "execution_count": null,
   "metadata": {},
   "outputs": [],
   "source": [
    "knnModel = Pipeline([('scaler',StandardScaler()),('model',KNeighborsRegressor())])\n",
    "knnModel.fit(X_train,y_train)\n",
    "knn_predictions=knnModel.predict(X_test)"
   ]
  },
  {
   "cell_type": "markdown",
   "metadata": {},
   "source": [
    "*Kết quả dự đoán của mô hình k-NN sau khi Feature Scaling so với thực tế*"
   ]
  },
  {
   "cell_type": "code",
   "execution_count": null,
   "metadata": {},
   "outputs": [
    {
     "data": {
      "text/plain": [
       "Text(0, 0.5, 'Predict')"
      ]
     },
     "execution_count": 50,
     "metadata": {},
     "output_type": "execute_result"
    },
    {
     "data": {
      "image/png": "[encoded data removed]",
      "text/plain": [
       "<Figure size 720x720 with 1 Axes>"
      ]
     },
     "metadata": {
      "needs_background": "light"
     },
     "output_type": "display_data"
    }
   ],
   "source": [
    "plt.figure(figsize=(10, 10))\n",
    "plt.plot(np.arange(6,10,0.2),np.arange(6,10,0.2),color='red')\n",
    "plt.scatter(y_test, knn_predictions)\n",
    "plt.xlabel(\"Truth\")\n",
    "plt.ylabel(\"Predict\")"
   ]
  },
  {
   "cell_type": "markdown",
   "metadata": {},
   "source": [
    "*Độ lỗi đo bằng MSE*"
   ]
  },
  {
   "cell_type": "code",
   "execution_count": null,
   "metadata": {},
   "outputs": [
    {
     "data": {
      "text/plain": [
       "0.22006279199999998"
      ]
     },
     "execution_count": 51,
     "metadata": {},
     "output_type": "execute_result"
    }
   ],
   "source": [
    "loss_knn_standard = mean_squared_error(y_test,knn_predictions)\n",
    "loss_knn_standard"
   ]
  },
  {
   "cell_type": "markdown",
   "metadata": {},
   "source": [
    "*Nhận xét*\\\n",
    "Sau khi thực hiện Feature Scaling độ lỗi MSE đã giảm"
   ]
  },
  {
   "cell_type": "markdown",
   "metadata": {},
   "source": [
    "*Tinh chỉnh tham số*\n",
    "- Ban đầu ta sử dụng k-NN với đầu vào k=5 nhưng chưa chắc k=5 thì mô hình có độ lỗi thấp nhất\n",
    "- Để xác định tham số k tốt nhất cho model, nhóm sử dụng class `GridSearchCV` và kĩ thuật `cross-validation` có sẵn trong thư viện sklearn:\n",
    "    + Thực hiện cross-validation với cách chia bộ dữ liệu thành 5 phần, mục tiêu để đánh giá các tham số k trong nhiều trường hợp để tổng quát hơn kết quả đánh giá\n",
    "    + Xét k trong khoảng [1, 50] và chọn ra giá trị k có điểm đánh giá cao nhất"
   ]
  },
  {
   "cell_type": "markdown",
   "metadata": {},
   "source": [
    "*Xây dựng hàm tính điểm để đánh giá*\n",
    "- Ở đây, nhóm sẽ đánh giá theo độ lỗi MSE\n",
    "- Vì độ lỗi càng thấp thì model càng hiệu quả nên điểm sẽ được tính bằng: -MSE"
   ]
  },
  {
   "cell_type": "code",
   "execution_count": null,
   "metadata": {},
   "outputs": [],
   "source": [
    "def mse_score(y_true,y_predict):\n",
    "    return -mean_squared_error(y_true,y_predict)"
   ]
  },
  {
   "cell_type": "markdown",
   "metadata": {},
   "source": [
    "*Xây dựng mô hình đánh giá tham số k*"
   ]
  },
  {
   "cell_type": "code",
   "execution_count": null,
   "metadata": {},
   "outputs": [
    {
     "data": {
      "text/html": [
       "<style>#sk-container-id-1 {color: black;background-color: white;}#sk-container-id-1 pre{padding: 0;}#sk-container-id-1 div.sk-toggleable {background-color: white;}#sk-container-id-1 label.sk-toggleable__label {cursor: pointer;display: block;width: 100%;margin-bottom: 0;padding: 0.3em;box-sizing: border-box;text-align: center;}#sk-container-id-1 label.sk-toggleable__label-arrow:before {content: \"▸\";float: left;margin-right: 0.25em;color: #696969;}#sk-container-id-1 label.sk-toggleable__label-arrow:hover:before {color: black;}#sk-container-id-1 div.sk-estimator:hover label.sk-toggleable__label-arrow:before {color: black;}#sk-container-id-1 div.sk-toggleable__content {max-height: 0;max-width: 0;overflow: hidden;text-align: left;background-color: #f0f8ff;}#sk-container-id-1 div.sk-toggleable__content pre {margin: 0.2em;color: black;border-radius: 0.25em;background-color: #f0f8ff;}#sk-container-id-1 input.sk-toggleable__control:checked~div.sk-toggleable__content {max-height: 200px;max-width: 100%;overflow: auto;}#sk-container-id-1 input.sk-toggleable__control:checked~label.sk-toggleable__label-arrow:before {content: \"▾\";}#sk-container-id-1 div.sk-estimator input.sk-toggleable__control:checked~label.sk-toggleable__label {background-color: #d4ebff;}#sk-container-id-1 div.sk-label input.sk-toggleable__control:checked~label.sk-toggleable__label {background-color: #d4ebff;}#sk-container-id-1 input.sk-hidden--visually {border: 0;clip: rect(1px 1px 1px 1px);clip: rect(1px, 1px, 1px, 1px);height: 1px;margin: -1px;overflow: hidden;padding: 0;position: absolute;width: 1px;}#sk-container-id-1 div.sk-estimator {font-family: monospace;background-color: #f0f8ff;border: 1px dotted black;border-radius: 0.25em;box-sizing: border-box;margin-bottom: 0.5em;}#sk-container-id-1 div.sk-estimator:hover {background-color: #d4ebff;}#sk-container-id-1 div.sk-parallel-item::after {content: \"\";width: 100%;border-bottom: 1px solid gray;flex-grow: 1;}#sk-container-id-1 div.sk-label:hover label.sk-toggleable__label {background-color: #d4ebff;}#sk-container-id-1 div.sk-serial::before {content: \"\";position: absolute;border-left: 1px solid gray;box-sizing: border-box;top: 0;bottom: 0;left: 50%;z-index: 0;}#sk-container-id-1 div.sk-serial {display: flex;flex-direction: column;align-items: center;background-color: white;padding-right: 0.2em;padding-left: 0.2em;position: relative;}#sk-container-id-1 div.sk-item {position: relative;z-index: 1;}#sk-container-id-1 div.sk-parallel {display: flex;align-items: stretch;justify-content: center;background-color: white;position: relative;}#sk-container-id-1 div.sk-item::before, #sk-container-id-1 div.sk-parallel-item::before {content: \"\";position: absolute;border-left: 1px solid gray;box-sizing: border-box;top: 0;bottom: 0;left: 50%;z-index: -1;}#sk-container-id-1 div.sk-parallel-item {display: flex;flex-direction: column;z-index: 1;position: relative;background-color: white;}#sk-container-id-1 div.sk-parallel-item:first-child::after {align-self: flex-end;width: 50%;}#sk-container-id-1 div.sk-parallel-item:last-child::after {align-self: flex-start;width: 50%;}#sk-container-id-1 div.sk-parallel-item:only-child::after {width: 0;}#sk-container-id-1 div.sk-dashed-wrapped {border: 1px dashed gray;margin: 0 0.4em 0.5em 0.4em;box-sizing: border-box;padding-bottom: 0.4em;background-color: white;}#sk-container-id-1 div.sk-label label {font-family: monospace;font-weight: bold;display: inline-block;line-height: 1.2em;}#sk-container-id-1 div.sk-label-container {text-align: center;}#sk-container-id-1 div.sk-container {/* jupyter's `normalize.less` sets `[hidden] { display: none; }` but bootstrap.min.css set `[hidden] { display: none !important; }` so we also need the `!important` here to be able to override the default hidden behavior on the sphinx rendered scikit-learn.org. See: https://github.com/scikit-learn/scikit-learn/issues/21755 */display: inline-block !important;position: relative;}#sk-container-id-1 div.sk-text-repr-fallback {display: none;}</style><div id=\"sk-container-id-1\" class=\"sk-top-container\"><div class=\"sk-text-repr-fallback\"><pre>GridSearchCV(cv=5,\n",
       "             estimator=Pipeline(steps=[(&#x27;scaler&#x27;, StandardScaler()),\n",
       "                                       (&#x27;model&#x27;, KNeighborsRegressor())]),\n",
       "             param_grid={&#x27;model__n_neighbors&#x27;: array([ 1,  2,  3,  4,  5,  6,  7,  8,  9, 10, 11, 12, 13, 14, 15, 16, 17,\n",
       "       18, 19, 20, 21, 22, 23, 24, 25, 26, 27, 28, 29, 30, 31, 32, 33, 34,\n",
       "       35, 36, 37, 38, 39, 40, 41, 42, 43, 44, 45, 46, 47, 48, 49])},\n",
       "             refit=&#x27;mse&#x27;, scoring={&#x27;mse&#x27;: make_scorer(mse_score)})</pre><b>In a Jupyter environment, please rerun this cell to show the HTML representation or trust the notebook. <br />On GitHub, the HTML representation is unable to render, please try loading this page with nbviewer.org.</b></div><div class=\"sk-container\" hidden><div class=\"sk-item sk-dashed-wrapped\"><div class=\"sk-label-container\"><div class=\"sk-label sk-toggleable\"><input class=\"sk-toggleable__control sk-hidden--visually\" id=\"sk-estimator-id-1\" type=\"checkbox\" ><label for=\"sk-estimator-id-1\" class=\"sk-toggleable__label sk-toggleable__label-arrow\">GridSearchCV</label><div class=\"sk-toggleable__content\"><pre>GridSearchCV(cv=5,\n",
       "             estimator=Pipeline(steps=[(&#x27;scaler&#x27;, StandardScaler()),\n",
       "                                       (&#x27;model&#x27;, KNeighborsRegressor())]),\n",
       "             param_grid={&#x27;model__n_neighbors&#x27;: array([ 1,  2,  3,  4,  5,  6,  7,  8,  9, 10, 11, 12, 13, 14, 15, 16, 17,\n",
       "       18, 19, 20, 21, 22, 23, 24, 25, 26, 27, 28, 29, 30, 31, 32, 33, 34,\n",
       "       35, 36, 37, 38, 39, 40, 41, 42, 43, 44, 45, 46, 47, 48, 49])},\n",
       "             refit=&#x27;mse&#x27;, scoring={&#x27;mse&#x27;: make_scorer(mse_score)})</pre></div></div></div><div class=\"sk-parallel\"><div class=\"sk-parallel-item\"><div class=\"sk-item\"><div class=\"sk-label-container\"><div class=\"sk-label sk-toggleable\"><input class=\"sk-toggleable__control sk-hidden--visually\" id=\"sk-estimator-id-2\" type=\"checkbox\" ><label for=\"sk-estimator-id-2\" class=\"sk-toggleable__label sk-toggleable__label-arrow\">estimator: Pipeline</label><div class=\"sk-toggleable__content\"><pre>Pipeline(steps=[(&#x27;scaler&#x27;, StandardScaler()), (&#x27;model&#x27;, KNeighborsRegressor())])</pre></div></div></div><div class=\"sk-serial\"><div class=\"sk-item\"><div class=\"sk-serial\"><div class=\"sk-item\"><div class=\"sk-estimator sk-toggleable\"><input class=\"sk-toggleable__control sk-hidden--visually\" id=\"sk-estimator-id-3\" type=\"checkbox\" ><label for=\"sk-estimator-id-3\" class=\"sk-toggleable__label sk-toggleable__label-arrow\">StandardScaler</label><div class=\"sk-toggleable__content\"><pre>StandardScaler()</pre></div></div></div><div class=\"sk-item\"><div class=\"sk-estimator sk-toggleable\"><input class=\"sk-toggleable__control sk-hidden--visually\" id=\"sk-estimator-id-4\" type=\"checkbox\" ><label for=\"sk-estimator-id-4\" class=\"sk-toggleable__label sk-toggleable__label-arrow\">KNeighborsRegressor</label><div class=\"sk-toggleable__content\"><pre>KNeighborsRegressor()</pre></div></div></div></div></div></div></div></div></div></div></div></div>"
      ],
      "text/plain": [
       "GridSearchCV(cv=5,\n",
       "             estimator=Pipeline(steps=[('scaler', StandardScaler()),\n",
       "                                       ('model', KNeighborsRegressor())]),\n",
       "             param_grid={'model__n_neighbors': array([ 1,  2,  3,  4,  5,  6,  7,  8,  9, 10, 11, 12, 13, 14, 15, 16, 17,\n",
       "       18, 19, 20, 21, 22, 23, 24, 25, 26, 27, 28, 29, 30, 31, 32, 33, 34,\n",
       "       35, 36, 37, 38, 39, 40, 41, 42, 43, 44, 45, 46, 47, 48, 49])},\n",
       "             refit='mse', scoring={'mse': make_scorer(mse_score)})"
      ]
     },
     "execution_count": 53,
     "metadata": {},
     "output_type": "execute_result"
    }
   ],
   "source": [
    "knnModel = Pipeline([('scaler',StandardScaler()),('model',KNeighborsRegressor())])\n",
    "mod=GridSearchCV(estimator=knnModel,\n",
    "                param_grid={'model__n_neighbors':np.arange(1,50)},\n",
    "                scoring={'mse':make_scorer(mse_score)},\n",
    "                refit='mse',\n",
    "                cv=5)\n",
    "mod.fit(X,y)"
   ]
  },
  {
   "cell_type": "markdown",
   "metadata": {},
   "source": [
    "*Điểm đánh giá của từng giá trị k*"
   ]
  },
  {
   "cell_type": "code",
   "execution_count": null,
   "metadata": {},
   "outputs": [
    {
     "data": {
      "text/plain": [
       "[<matplotlib.lines.Line2D at 0x1d94a8bf580>]"
      ]
     },
     "execution_count": 54,
     "metadata": {},
     "output_type": "execute_result"
    },
    {
     "data": {
      "image/png": "[encoded data removed]",
      "text/plain": [
       "<Figure size 432x288 with 1 Axes>"
      ]
     },
     "metadata": {
      "needs_background": "light"
     },
     "output_type": "display_data"
    }
   ],
   "source": [
    "# plt.figure(figsize=(12, 12))\n",
    "df_result=pd.DataFrame(mod.cv_results_)\n",
    "plt.plot(df_result['param_model__n_neighbors'],\n",
    "        df_result['mean_test_mse'])\n",
    "best_index=list(df_result['param_model__n_neighbors']).index(mod.best_params_['model__n_neighbors'])\n",
    "best=(\n",
    "        list(df_result['param_model__n_neighbors'])[best_index],\n",
    "        list(df_result['mean_test_mse'])[best_index]\n",
    ")\n",
    "plt.plot([best[0],best[0]],[df_result['mean_test_mse'].min(),best[1]],\n",
    "        linestyle='dashed',color='red')\n",
    "plt.plot([0,best[0]],[best[1],best[1]],\n",
    "        linestyle='dashed',color='red')"
   ]
  },
  {
   "cell_type": "markdown",
   "metadata": {},
   "source": [
    "*Tham số k có điểm đánh giá cao nhất*"
   ]
  },
  {
   "cell_type": "code",
   "execution_count": null,
   "metadata": {},
   "outputs": [
    {
     "data": {
      "text/plain": [
       "{'model__n_neighbors': 11}"
      ]
     },
     "execution_count": 55,
     "metadata": {},
     "output_type": "execute_result"
    }
   ],
   "source": [
    "mod.best_params_"
   ]
  },
  {
   "cell_type": "markdown",
   "metadata": {},
   "source": [
    "*Mô hình k-NN với tham số k tốt nhất*"
   ]
  },
  {
   "cell_type": "code",
   "execution_count": null,
   "metadata": {},
   "outputs": [],
   "source": [
    "knnModel1 = Pipeline([('scaler',StandardScaler()),('model',\n",
    "                                KNeighborsRegressor(n_neighbors=mod.best_params_['model__n_neighbors']))])\n",
    "knnModel1.fit(X_train,y_train)\n",
    "knn_predictions=knnModel1.predict(X_test)"
   ]
  },
  {
   "cell_type": "markdown",
   "metadata": {},
   "source": [
    "*Kết quả dự đoán của mô hình k-NN sau khi tinh chỉnh tham số k so với thực tế*"
   ]
  },
  {
   "cell_type": "code",
   "execution_count": null,
   "metadata": {},
   "outputs": [
    {
     "data": {
      "text/plain": [
       "Text(0, 0.5, 'Predict')"
      ]
     },
     "execution_count": 57,
     "metadata": {},
     "output_type": "execute_result"
    },
    {
     "data": {
      "image/png": "[encoded data removed]",
      "text/plain": [
       "<Figure size 720x720 with 1 Axes>"
      ]
     },
     "metadata": {
      "needs_background": "light"
     },
     "output_type": "display_data"
    }
   ],
   "source": [
    "plt.figure(figsize=(10, 10))\n",
    "plt.plot(np.arange(6,10,0.2),np.arange(6,10,0.2),color='red')\n",
    "plt.scatter(y_test, knn_predictions)\n",
    "plt.xlabel(\"Truth\")\n",
    "plt.ylabel(\"Predict\")"
   ]
  },
  {
   "cell_type": "markdown",
   "metadata": {},
   "source": [
    "*Độ lỗi đo bằng MSE*"
   ]
  },
  {
   "cell_type": "code",
   "execution_count": null,
   "metadata": {},
   "outputs": [
    {
     "data": {
      "text/plain": [
       "0.20917376487603304"
      ]
     },
     "execution_count": 58,
     "metadata": {},
     "output_type": "execute_result"
    }
   ],
   "source": [
    "loss = mean_squared_error(y_test, knn_predictions)\n",
    "loss"
   ]
  },
  {
   "cell_type": "markdown",
   "metadata": {},
   "source": [
    "**Nhận xét**"
   ]
  },
  {
   "cell_type": "markdown",
   "metadata": {},
   "source": [
    "Nhìn chung, hai mô hình làm việc khá tốt đối với tập dữ liệu này với, được thể hiện ở độ lỗi khi cả hai đều cho ra độ lỗi khá thấp (0.3 đối với Hồi quy tuyến tính và 0.2 đối với Hồi quy KNN). "
   ]
  },
  {
   "cell_type": "markdown",
   "metadata": {},
   "source": [
    "**So sánh 2 mô hình**"
   ]
  },
  {
   "cell_type": "markdown",
   "metadata": {},
   "source": [
    "Dễ dàng thấy là mô hình KNN thể hiện độ chính xác có phần nhỉnh hơn một chút so với mô hình hồi quy tuyến tính"
   ]
  },
  {
   "cell_type": "markdown",
   "metadata": {},
   "source": [
    "---"
   ]
  },
  {
   "cell_type": "markdown",
   "metadata": {},
   "source": [
    "# THE END"
   ]
  }
 ],
 "metadata": {
  "kernelspec": {
   "display_name": "Python 3 (ipykernel)",
   "language": "python",
   "name": "python3"
  },
  "language_info": {
   "codemirror_mode": {
    "name": "ipython",
    "version": 3
   },
   "file_extension": ".py",
   "mimetype": "text/x-python",
   "name": "python",
   "nbconvert_exporter": "python",
   "pygments_lexer": "ipython3",
   "version": "3.11.5"
  },
  "vscode": {
   "interpreter": {
    "hash": "6bfec4ce93f3c8730c5305a78a297c4af7425bada9233a6e3b20f480ff32d241"
   }
  }
 },
 "nbformat": 4,
 "nbformat_minor": 2
}
