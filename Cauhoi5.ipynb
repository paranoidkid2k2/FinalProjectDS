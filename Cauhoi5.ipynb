{
 "cells": [
  {
   "cell_type": "markdown",
   "metadata": {},
   "source": [
    "# Đồ án thực hành Nhập môn Khoa học Dữ liệu"
   ]
  },
  {
   "cell_type": "markdown",
   "metadata": {},
   "source": [
    "### Nhóm: 12\n",
    "### Thành viên:\n",
    "- 21120531: Nguyễn Văn Phúc\n",
    "- 20120409: Trần Thanh Tùng\n"
   ]
  },
  {
   "cell_type": "markdown",
   "metadata": {},
   "source": [
    "## **Mô tả đồ án:**\n",
    "- Thu thập dữ liệu của 10000 anime trên website.\n",
    "- Từ dữ liệu thu thập được tiến hành phân tích, khám phá, xử lý và đưa ra mô hình phù hợp.\n",
    "\n",
    "#### **Nguồn:**  [myanimelist.net](https://myanimelist.net)"
   ]
  },
  {
   "cell_type": "markdown",
   "metadata": {},
   "source": [
    "## Import thư viện"
   ]
  },
  {
   "cell_type": "code",
   "execution_count": 1,
   "metadata": {},
   "outputs": [],
   "source": [
    "import pandas as pd\n",
    "import matplotlib.pyplot as plt\n",
    "import seaborn as sns\n",
    "import numpy as np\n",
    "import re\n",
    "from datetime import datetime\n",
    "import warnings\n",
    "warnings.simplefilter('ignore')\n",
    "sns.set_theme()"
   ]
  },
  {
   "cell_type": "markdown",
   "metadata": {},
   "source": [
    "## Thu thập dữ liệu"
   ]
  },
  {
   "cell_type": "markdown",
   "metadata": {},
   "source": [
    "### Thông tin về dữ liệu"
   ]
  },
  {
   "cell_type": "markdown",
   "metadata": {},
   "source": [
    "- Dữ liệu được sử dụng trong đồ án là tập dữ liệu về các **bộ anime** với những thông tin được lưu trữ liên quan tới những yếu tố được quan tâm với một bộ phim hoạt hình.\n",
    "- Tập dữ liệu được cào và download trực tiếp thông qua [đường dẫn](https://myanimelist.net/anime.php)."
   ]
  },
  {
   "cell_type": "markdown",
   "metadata": {},
   "source": [
    "### Dữ liệu được thu thập thế nào ?"
   ]
  },
  {
   "cell_type": "markdown",
   "metadata": {},
   "source": [
    "- Nhóm tiến hành crawl dữ liệu với thư viện scrapy.\n",
    "- Ở đây nhóm không crawl hết toàn bộ các anime mà chỉ crawl 10000 bộ nổi nhất được sắp xếp trên web."
   ]
  },
  {
   "cell_type": "markdown",
   "metadata": {},
   "source": [
    "## Khám phá dữ liệu"
   ]
  },
  {
   "cell_type": "markdown",
   "metadata": {},
   "source": [
    "### Đọc dữ liệu từ file json vào dataframe"
   ]
  },
  {
   "cell_type": "markdown",
   "metadata": {},
   "source": [
    "Dữ liệu sau khi thu thập được lưu duy nhất trong 1 file JSON duy nhất là dataset/animes_info.json"
   ]
  },
  {
   "cell_type": "code",
   "execution_count": 2,
   "metadata": {
    "scrolled": true
   },
   "outputs": [
    {
     "name": "stdout",
     "output_type": "stream",
     "text": [
      "/home/irene/Nhóm 12\n"
     ]
    }
   ],
   "source": [
    "%cd ..\n",
    "anime_df = pd.read_json('anime_crawler/anime_crawler/dataset/animes_data.json')"
   ]
  },
  {
   "cell_type": "code",
   "execution_count": 3,
   "metadata": {},
   "outputs": [
    {
     "data": {
      "text/html": [
       "<div>\n",
       "<style scoped>\n",
       "    .dataframe tbody tr th:only-of-type {\n",
       "        vertical-align: middle;\n",
       "    }\n",
       "\n",
       "    .dataframe tbody tr th {\n",
       "        vertical-align: top;\n",
       "    }\n",
       "\n",
       "    .dataframe thead th {\n",
       "        text-align: right;\n",
       "    }\n",
       "</style>\n",
       "<table border=\"1\" class=\"dataframe\">\n",
       "  <thead>\n",
       "    <tr style=\"text-align: right;\">\n",
       "      <th></th>\n",
       "      <th>Name</th>\n",
       "      <th>Score</th>\n",
       "      <th>Rank</th>\n",
       "      <th>Type</th>\n",
       "      <th>Episodes</th>\n",
       "      <th>Aired</th>\n",
       "      <th>Premiered</th>\n",
       "      <th>Producers</th>\n",
       "      <th>Studios</th>\n",
       "      <th>Genres</th>\n",
       "      <th>Popularity</th>\n",
       "      <th>Members</th>\n",
       "      <th>Favorites</th>\n",
       "    </tr>\n",
       "  </thead>\n",
       "  <tbody>\n",
       "    <tr>\n",
       "      <th>0</th>\n",
       "      <td>Fullmetal Alchemist: Brotherhood</td>\n",
       "      <td>9.11</td>\n",
       "      <td>1</td>\n",
       "      <td>TV</td>\n",
       "      <td>64</td>\n",
       "      <td>Apr 5, 2009 to Jul 4, 2010</td>\n",
       "      <td>Spring 2009</td>\n",
       "      <td>[Mainichi Broadcasting System, Studio Moriken,...</td>\n",
       "      <td>[Bones]</td>\n",
       "      <td>[Adventure, Drama, Fantasy, Action]</td>\n",
       "      <td>#3</td>\n",
       "      <td>3,037,641</td>\n",
       "      <td>211,082</td>\n",
       "    </tr>\n",
       "    <tr>\n",
       "      <th>1</th>\n",
       "      <td>Bleach: Sennen Kessen-hen</td>\n",
       "      <td>9.10</td>\n",
       "      <td>2</td>\n",
       "      <td>TV</td>\n",
       "      <td>13</td>\n",
       "      <td>Oct 11, 2022 to Dec 27, 2022</td>\n",
       "      <td>Fall 2022</td>\n",
       "      <td>[TV Tokyo, Shueisha, Dentsu, Aniplex]</td>\n",
       "      <td>[Pierrot]</td>\n",
       "      <td>[Adventure, Fantasy, Action]</td>\n",
       "      <td>#669</td>\n",
       "      <td>310,979</td>\n",
       "      <td>11,798</td>\n",
       "    </tr>\n",
       "    <tr>\n",
       "      <th>2</th>\n",
       "      <td>Kaguya-sama wa Kokurasetai: Ultra Romantic</td>\n",
       "      <td>9.09</td>\n",
       "      <td>3</td>\n",
       "      <td>TV</td>\n",
       "      <td>13</td>\n",
       "      <td>Apr 9, 2022 to Jun 25, 2022</td>\n",
       "      <td>Spring 2022</td>\n",
       "      <td>[JR East Marketing &amp; Communications, Mainichi ...</td>\n",
       "      <td>[A-1 Pictures]</td>\n",
       "      <td>[Comedy, Romance]</td>\n",
       "      <td>#238</td>\n",
       "      <td>703,336</td>\n",
       "      <td>25,895</td>\n",
       "    </tr>\n",
       "    <tr>\n",
       "      <th>3</th>\n",
       "      <td>Steins;Gate</td>\n",
       "      <td>9.08</td>\n",
       "      <td>4</td>\n",
       "      <td>TV</td>\n",
       "      <td>24</td>\n",
       "      <td>Apr 6, 2011 to Sep 14, 2011</td>\n",
       "      <td>Spring 2011</td>\n",
       "      <td>[Movic, AT-X, Nitroplus, Kadokawa Pictures Jap...</td>\n",
       "      <td>[White Fox]</td>\n",
       "      <td>[Drama, Sci-Fi, Suspense]</td>\n",
       "      <td>#13</td>\n",
       "      <td>2,338,343</td>\n",
       "      <td>177,381</td>\n",
       "    </tr>\n",
       "    <tr>\n",
       "      <th>4</th>\n",
       "      <td>Gintama°</td>\n",
       "      <td>9.07</td>\n",
       "      <td>5</td>\n",
       "      <td>TV</td>\n",
       "      <td>51</td>\n",
       "      <td>Apr 8, 2015 to Mar 30, 2016</td>\n",
       "      <td>Spring 2015</td>\n",
       "      <td>[TV Tokyo, Dentsu, Aniplex]</td>\n",
       "      <td>[Bandai Namco Pictures]</td>\n",
       "      <td>[Sci-Fi, Comedy, Action]</td>\n",
       "      <td>#337</td>\n",
       "      <td>567,213</td>\n",
       "      <td>15,323</td>\n",
       "    </tr>\n",
       "  </tbody>\n",
       "</table>\n",
       "</div>"
      ],
      "text/plain": [
       "                                         Name  Score  Rank Type Episodes  \\\n",
       "0            Fullmetal Alchemist: Brotherhood   9.11     1   TV       64   \n",
       "1                   Bleach: Sennen Kessen-hen   9.10     2   TV       13   \n",
       "2  Kaguya-sama wa Kokurasetai: Ultra Romantic   9.09     3   TV       13   \n",
       "3                                 Steins;Gate   9.08     4   TV       24   \n",
       "4                                    Gintama°   9.07     5   TV       51   \n",
       "\n",
       "                          Aired    Premiered  \\\n",
       "0    Apr 5, 2009 to Jul 4, 2010  Spring 2009   \n",
       "1  Oct 11, 2022 to Dec 27, 2022    Fall 2022   \n",
       "2   Apr 9, 2022 to Jun 25, 2022  Spring 2022   \n",
       "3   Apr 6, 2011 to Sep 14, 2011  Spring 2011   \n",
       "4   Apr 8, 2015 to Mar 30, 2016  Spring 2015   \n",
       "\n",
       "                                           Producers                  Studios  \\\n",
       "0  [Mainichi Broadcasting System, Studio Moriken,...                  [Bones]   \n",
       "1              [TV Tokyo, Shueisha, Dentsu, Aniplex]                [Pierrot]   \n",
       "2  [JR East Marketing & Communications, Mainichi ...           [A-1 Pictures]   \n",
       "3  [Movic, AT-X, Nitroplus, Kadokawa Pictures Jap...              [White Fox]   \n",
       "4                        [TV Tokyo, Dentsu, Aniplex]  [Bandai Namco Pictures]   \n",
       "\n",
       "                                Genres Popularity    Members Favorites  \n",
       "0  [Adventure, Drama, Fantasy, Action]         #3  3,037,641   211,082  \n",
       "1         [Adventure, Fantasy, Action]       #669    310,979    11,798  \n",
       "2                    [Comedy, Romance]       #238    703,336    25,895  \n",
       "3            [Drama, Sci-Fi, Suspense]        #13  2,338,343   177,381  \n",
       "4             [Sci-Fi, Comedy, Action]       #337    567,213    15,323  "
      ]
     },
     "execution_count": 3,
     "metadata": {},
     "output_type": "execute_result"
    }
   ],
   "source": [
    "anime_df.head()"
   ]
  },
  {
   "cell_type": "markdown",
   "metadata": {},
   "source": [
    "### Dữ liệu có bao nhiêu dòng và bao nhiêu cột?"
   ]
  },
  {
   "cell_type": "markdown",
   "metadata": {},
   "source": [
    "Tiến hành tính số dòng và số cột rồi lưu vào 2 biến `num_rows` và `num_cols`."
   ]
  },
  {
   "cell_type": "code",
   "execution_count": 4,
   "metadata": {},
   "outputs": [],
   "source": [
    "num_rows = len(anime_df.axes[0])\n",
    "num_cols = len(anime_df.axes[1])"
   ]
  },
  {
   "cell_type": "code",
   "execution_count": 5,
   "metadata": {},
   "outputs": [
    {
     "name": "stdout",
     "output_type": "stream",
     "text": [
      "Số dòng:  10000\n",
      "Số cột: 13\n"
     ]
    }
   ],
   "source": [
    "print('Số dòng: ', num_rows)\n",
    "print('Số cột:' , num_cols)"
   ]
  },
  {
   "cell_type": "markdown",
   "metadata": {},
   "source": [
    "**Nhận xét:**\n",
    "* Tập dữ liệu gồm 10000 dòng và 13 cột."
   ]
  },
  {
   "cell_type": "markdown",
   "metadata": {},
   "source": [
    "### Mỗi dòng có ý nghĩa gì? Có vấn đề các dòng có ý nghĩa khác nhau không?"
   ]
  },
  {
   "cell_type": "markdown",
   "metadata": {},
   "source": [
    "- Mỗi dòng là thông tin của một bộ anime với các trường giống nhau nhưng dữ liệu bên trong là riêng biệt.\n",
    "- Các dòng không có ý nghĩa khác nhau\n",
    "- Mỗi dòng đại diện cho một bộ phim nhất định với những yếu tố khác nhau để thể hiện cái nhìn khách quan nhất cho người xem."
   ]
  },
  {
   "cell_type": "markdown",
   "metadata": {},
   "source": [
    "### Dữ liệu các dòng có bị lặp không?"
   ]
  },
  {
   "cell_type": "markdown",
   "metadata": {},
   "source": [
    "Tiến hành kiểm tra bằng cách lưu kết quả vào biến `have_duplicated_rows`. Biến có giá trị True nếu dữ liệu có các dòng bị lặp và False nếu ngược lại."
   ]
  },
  {
   "cell_type": "code",
   "execution_count": 6,
   "metadata": {},
   "outputs": [
    {
     "name": "stdout",
     "output_type": "stream",
     "text": [
      "Các dòng dữ liệu không bị lặp\n"
     ]
    }
   ],
   "source": [
    "have_duplicated_rows=anime_df.Name.duplicated().any()\n",
    "if have_duplicated_rows:\n",
    "    print('Các dòng dữ liệu bị lặp')\n",
    "else:\n",
    "    print('Các dòng dữ liệu không bị lặp')"
   ]
  },
  {
   "cell_type": "markdown",
   "metadata": {},
   "source": [
    "### Mỗi cột có ý nghĩa gì?"
   ]
  },
  {
   "cell_type": "markdown",
   "metadata": {},
   "source": [
    "|Column Name    | Meaning      |\n",
    "|---------------|-----------------------------------------------------------------------------|\n",
    "|Name           |Tên anime                                                                    |\n",
    "|Score          |Số điểm trung bình được đánh giá bởi cộng đồng người dùng của anime đó       |\n",
    "|Rank           |Thứ hạng của anime                                                           |\n",
    "|Type           |Loại anime (TV, Movie, OVA, ONA, Special, Music)                             |\n",
    "|Episodes       |Số tập hiện có                                                               |\n",
    "|Aired          |Thời gian phát sóng                                                          | \n",
    "|Premiered      |Mùa ra mắt                                                                   |\n",
    "|Producers      |Các nhà sản xuất                                                             |\n",
    "|Studios        |Các studio                                                                   |\n",
    "|Genres         |Các yếu tố có trong bộ anime (Trinh thám, Kinh Dị, Phiêu Lưu)                |\n",
    "|Popularity     |Độ phổ biến                                                                  |\n",
    "|Members        |Số lượng người dùng đã thêm anime vào danh sách anime của họ                 |\n",
    "|Favorites      |Số lượng người dùng đã thêm anime vào danh sách yêu thích của họ             |"
   ]
  },
  {
   "cell_type": "markdown",
   "metadata": {},
   "source": [
    "### Mỗi cột hiện đang có kiểu dữ liệu gì? Khoảng biểu diễn của kiểu dữ liệu đó ra sao? Có cột nào có kiểu dữ liệu chưa phù hợp để có thể xử lý tiếp không?"
   ]
  },
  {
   "cell_type": "markdown",
   "metadata": {},
   "source": [
    "Tiến hành lấy `dtype` của mỗi cột và lưu kết quả vào col_dtypes."
   ]
  },
  {
   "cell_type": "code",
   "execution_count": 7,
   "metadata": {},
   "outputs": [
    {
     "data": {
      "text/plain": [
       "Name           object\n",
       "Score         float64\n",
       "Rank            int64\n",
       "Type           object\n",
       "Episodes       object\n",
       "Aired          object\n",
       "Premiered      object\n",
       "Producers      object\n",
       "Studios        object\n",
       "Genres         object\n",
       "Popularity     object\n",
       "Members        object\n",
       "Favorites      object\n",
       "dtype: object"
      ]
     },
     "execution_count": 7,
     "metadata": {},
     "output_type": "execute_result"
    }
   ],
   "source": [
    "col_dtypes = anime_df.dtypes\n",
    "col_dtypes"
   ]
  },
  {
   "cell_type": "markdown",
   "metadata": {},
   "source": [
    "Khoảng biểu diễn của kiểu dữ liệu từng cột:\n",
    "- **Name**: object\n",
    "- **Score**: [np.float64, np.float32]\n",
    "- **Rank**: [np.int64, np.int32]\n",
    "- **Type**: object\n",
    "- **Episodes**: object\n",
    "- **Aired**: object\n",
    "- **Premiered**: object\n",
    "- **Producers**: object\n",
    "- **Studios**: object\n",
    "- **Genres**: object\n",
    "- **Popularity**: object\n",
    "- **Members**: object\n",
    "- **Favorites**: object"
   ]
  },
  {
   "cell_type": "markdown",
   "metadata": {},
   "source": [
    "**Nhận xét:**\n",
    "- Cột `Episode` chứa số tập phim (cần lưu dữ liệu ở dạng numeric) nhưng lại có kiểu dữ liệu object, một số dòng có giá trị \"Unknown\". Cần chuyển sang kiểu int để dễ thao tác\n",
    "- Cột `Aired` có kiểu dữ liệu object, chứa thông tin thời gian phát sóng, có dạng \"**Ngày bắt đầu** to **Ngày kết thúc**, trong đó **Ngày bắt đầu** được viết dưới dạng *%b %-d, %Y*, **Ngày kết thúc** có thể viết dưới dạng như **Ngày bắt đầu** hoặc có thể là dấu \"?\" thể hiện cho việc anime chưa kết thúc. Ngoài ra, một số anime thể loại đặc biệt như movie, OVA, ONA, Special, Music thì *thường* không có ngày kết thúc mà chỉ có ngày bắt đầu.\n",
    "- Cột `Popularites`, `Members`, `Favorites` có kiểu dữ liệu object, cần chuyển sang kiểu int"
   ]
  },
  {
   "cell_type": "markdown",
   "metadata": {},
   "source": [
    "## Tiền xử lý"
   ]
  },
  {
   "cell_type": "markdown",
   "metadata": {},
   "source": [
    "### Tiến hành để đưa các cột về kiểu dữ liệu phù hợp"
   ]
  },
  {
   "cell_type": "markdown",
   "metadata": {},
   "source": [
    "***Nhận xét***\n",
    "Mật độ studio tập trung nhiều ở múc điểm 6.3~7.0, điểm được đánh giá là khá cao vì không dưới trung bình, vẫn xuất hiện những studio được đánh giá với điểm trung bình cao (lên tới 8.3, 8.4, 8.5) nhưng không nhiều cho thấy các studio duy trì được phong độ ở các bộ phim là không cao tuy nhiên vẫn được chào đón."
   ]
  },
  {
   "cell_type": "markdown",
   "metadata": {},
   "source": [
    "***Nhận xét***\n",
    "Mật độ studio tập trung nhiều ở múc điểm 6.3~7.0, điểm được đánh giá là khá cao vì không dưới trung bình, vẫn xuất hiện những studio được đánh giá với điểm trung bình cao (lên tới 8.3, 8.4, 8.5) nhưng không nhiều cho thấy các studio duy trì được phong độ ở các bộ phim là không cao tuy nhiên vẫn được chào đón."
   ]
  },
  {
   "cell_type": "code",
   "execution_count": null,
   "metadata": {},
   "outputs": [],
   "source": [
    "# Top 10 studios có điểm và độ nổi tiếng cao\n",
    "show_amount=10\n",
    "fig,axis=plt.subplots(figsize=(28,10))\n",
    "sns.barplot(\n",
    "    data=df1[:show_amount],\n",
    "x=\"Studio\",y=\"Score\",color=\"blue\",\n",
    "ax=axis)\n",
    "axis2=axis.twinx()\n",
    "sns.pointplot(data=df1[:show_amount],\n",
    "            x=\"Studio\",\n",
    "            y=\"Members\",\n",
    "            color='orange',\n",
    "            ax=axis2)"
   ]
  },
  {
   "cell_type": "code",
   "execution_count": null,
   "metadata": {},
   "outputs": [],
   "source": [
    "# Top 5 Score\n",
    "top=5\n",
    "df1.sort_values(by=['Score'],ascending=False,ignore_index=True)[:top][['Studio','Score']]"
   ]
  },
  {
   "cell_type": "code",
   "execution_count": null,
   "metadata": {},
   "outputs": [],
   "source": [
    "# Top 5 Score\n",
    "top=5\n",
    "df1.sort_values(by=['Members'],ascending=True,ignore_index=True)[:top][['Studio','Members']]"
   ]
  },
  {
   "cell_type": "code",
   "execution_count": null,
   "metadata": {},
   "outputs": [],
   "source": [
    "# Tinh tuong quan theo % cua 2 cot Score va Members\n",
    "# Final-Score = %Score  + %Members\n",
    "df1['Final-Score'] = df1['Score']/df1['Score'].sum()+df1['Members']/df1['Members'].sum()\n",
    "df1.sort_values(by=['Final-Score'], ascending=False,\n",
    "                ignore_index=True, inplace=True)\n",
    "df1.head(10)"
   ]
  },
  {
   "cell_type": "code",
   "execution_count": null,
   "metadata": {},
   "outputs": [],
   "source": [
    "# Top 5 Score\n",
    "top=5\n",
    "df1.sort_values(by=['Score'],ascending=False,ignore_index=True)[:top][['Studio','Score']]"
   ]
  },
  {
   "cell_type": "code",
   "execution_count": null,
   "metadata": {},
   "outputs": [],
   "source": [
    "# Top 5 Score\n",
    "top=5\n",
    "df1.sort_values(by=['Members'],ascending=True,ignore_index=True)[:top][['Studio','Members']]"
   ]
  },
  {
   "cell_type": "code",
   "execution_count": null,
   "metadata": {},
   "outputs": [],
   "source": [
    "# Tinh tuong quan theo % cua 2 cot Score va Members\n",
    "# Final-Score = %Score  + %Members\n",
    "df1['Final-Score'] = df1['Score']/df1['Score'].sum()+df1['Members']/df1['Members'].sum()\n",
    "df1.sort_values(by=['Final-Score'], ascending=False,\n",
    "                ignore_index=True, inplace=True)\n",
    "df1.head(10)"
   ]
  },
  {
   "cell_type": "markdown",
   "metadata": {},
   "source": [
    "Ta tiến hành tiền xử lý các cột trên như sau:\n",
    "- Ở cột `Episodes`, ta chuyển các giá trị \"Unknown\" thành NaN và các giá trị khác thành kiểu int\n",
    "- Ở cột `Aired`, ta tách thành 2 cột là `From` và `To` lần lượt biểu diễn **Ngày bắt đầu** và **Ngày kết thúc**. Ở cột `From`, ta để kiểu dữ liệu datetime, còn ở cột `To`, ta để kiểu dữ liệu datetime đối với các anime có **Ngày kết thúc**, những anime chỉ có **Ngày bắt đầu** hoặc **Ngày kết thúc** có dạng \"?\" thì ta để giá trị NaN. Đặc biệt những bộ anime chỉ có 1 tập thì **Ngày bắt đầu** cũng là ngày **Ngày kết thúc**.\n",
    "- Ở cột `Popularity`, ta loại bỏ dấu \"#\" ở đầu và chuyển nó về kiểu dữ liệu int\n",
    "- Chuyển 2 cột `Members` và `Favorites` về kiểu dữ liệu int (loại bỏ dấu \",\")\n",
    "- Ở Cột `Premiered`, ta giữ lại giá trị mùa (Xuân, hạ, thu, đông) và loại bỏ yếu tố thời gian (năm)"
   ]
  },
  {
   "cell_type": "code",
   "execution_count": 8,
   "metadata": {},
   "outputs": [],
   "source": [
    "# Chuyển các giá trị \"Unknown\" thành NaN và các giá trị khác thành kiểu int ở cột Episodes\n",
    "anime_df['Episodes'].replace(to_replace = \"Unknown\", value=np.nan, inplace=True)\n",
    "anime_df['Episodes'] = anime_df['Episodes'].astype('Int64')\n",
    "\n",
    "anime_df['Aired'] = anime_df['Aired'].astype(str)\n",
    "\n",
    "# Hàm để chuyển đổi chuỗi thành đối tượng datetime\n",
    "def convert_to_datetime(date_str):\n",
    "    try:\n",
    "        return datetime.strptime(date_str, \"%b %d, %Y\")\n",
    "    except ValueError:\n",
    "        return np.nan\n",
    "\n",
    "# Tách thành 2 cột From và To\n",
    "anime_df['From'] = anime_df['Aired'].apply(lambda x: convert_to_datetime(x.split(' to ')[0]))\n",
    "\n",
    "# Tạo cột To và xử lý giá trị \"?\"\n",
    "anime_df['To'] = anime_df['Aired'].apply(lambda x: convert_to_datetime(x.split(' to ')[1]) if ' to ' in x else convert_to_datetime(x) if '?' not in x else np.nan)\n",
    "\n",
    "# Xóa Cột Aired\n",
    "anime_df.drop(columns=['Aired'], inplace=True)\n",
    "\n",
    "# Giữ lại giá trị mùa (Xuân, hạ, thu, đông) và loại bỏ yếu tố thời gian (năm) ở cột Premiered\n",
    "anime_df['Premiered'].replace(\"?\",np.nan,inplace=True)\n",
    "anime_df['Premiered'] = anime_df['Premiered'].transform(lambda x: re.findall(\"[a-zA-Z]+\",x)[0] if x is not np.nan else x)\n",
    "\n",
    "# Ở cột `Popularity`, ta loại bỏ dấu \"#\" ở đầu và chuyển nó về kiểu dữ liệu int\n",
    "anime_df['Popularity']=anime_df['Popularity'].transform(lambda x: int(x.replace(\"#\",\"\")))\n",
    "\n",
    "# Chuyển 2 cột `Members` và `Favorites` về kiểu dữ liệu int (loại bỏ dấu \",\")\n",
    "anime_df['Members'] = anime_df['Members'].transform(lambda x: int(x.replace(\",\",\"\")))\n",
    "anime_df['Favorites'] = anime_df['Favorites'].transform(lambda x: int(x.replace(\",\",\"\")))"
   ]
  },
  {
   "cell_type": "code",
   "execution_count": 9,
   "metadata": {},
   "outputs": [
    {
     "data": {
      "text/plain": [
       "Name                  object\n",
       "Score                float64\n",
       "Rank                   int64\n",
       "Type                  object\n",
       "Episodes               Int64\n",
       "Premiered             object\n",
       "Producers             object\n",
       "Studios               object\n",
       "Genres                object\n",
       "Popularity             int64\n",
       "Members                int64\n",
       "Favorites              int64\n",
       "From          datetime64[ns]\n",
       "To            datetime64[ns]\n",
       "dtype: object"
      ]
     },
     "execution_count": 9,
     "metadata": {},
     "output_type": "execute_result"
    }
   ],
   "source": [
    "anime_df.dtypes"
   ]
  },
  {
   "cell_type": "markdown",
   "metadata": {},
   "source": [
    "## Khám phá dữ liệu (tiếp tục)"
   ]
  },
  {
   "cell_type": "markdown",
   "metadata": {},
   "source": [
    "### Với mỗi cột có kiểu dữ liệu dạng numeric, các giá trị được phân bố như thế nào?"
   ]
  },
  {
   "cell_type": "markdown",
   "metadata": {},
   "source": [
    "Ta thấy các cột có giá trị **numeric** là:\n",
    "`Score`, \n",
    "`Rank`, \n",
    "`Episodes`, \n",
    "`From`, \n",
    "`To`, \n",
    "`Popularity`, \n",
    "`Members`, \n",
    "`Favorites`\\\n",
    "Các Cột này có thể Chia làm 2 nhóm:\n",
    "- Số thông thường có thể tính toán (float64, int64): `Score`, `Rank`, `Episodes`, `Popularity`, `Members`, `Favorites`\n",
    "- Ngày ( datetime64[ns]): `From`, `To`"
   ]
  },
  {
   "cell_type": "markdown",
   "metadata": {},
   "source": [
    "Với mỗi cột có kiểu dữ liệu `datetime`, ta tiến hành tính tỉ lệ % giá trị thiếu (từ 0 đến 100), min, max. Sau đó lưu kết quả vào dataframe `nume_col_profiles_df`. Dataframe này có 3 dòng là \"missing_ratio\", \"min\", \"max\"; và có các cột là các cột numeric."
   ]
  },
  {
   "cell_type": "code",
   "execution_count": 10,
   "metadata": {},
   "outputs": [
    {
     "data": {
      "text/html": [
       "<div>\n",
       "<style scoped>\n",
       "    .dataframe tbody tr th:only-of-type {\n",
       "        vertical-align: middle;\n",
       "    }\n",
       "\n",
       "    .dataframe tbody tr th {\n",
       "        vertical-align: top;\n",
       "    }\n",
       "\n",
       "    .dataframe thead th {\n",
       "        text-align: right;\n",
       "    }\n",
       "</style>\n",
       "<table border=\"1\" class=\"dataframe\">\n",
       "  <thead>\n",
       "    <tr style=\"text-align: right;\">\n",
       "      <th></th>\n",
       "      <th>missing_ratio</th>\n",
       "      <th>min</th>\n",
       "      <th>max</th>\n",
       "    </tr>\n",
       "  </thead>\n",
       "  <tbody>\n",
       "    <tr>\n",
       "      <th>From</th>\n",
       "      <td>1.94</td>\n",
       "      <td>1929-10-14</td>\n",
       "      <td>2022-12-08</td>\n",
       "    </tr>\n",
       "    <tr>\n",
       "      <th>To</th>\n",
       "      <td>3.09</td>\n",
       "      <td>1929-10-14</td>\n",
       "      <td>2023-01-08</td>\n",
       "    </tr>\n",
       "  </tbody>\n",
       "</table>\n",
       "</div>"
      ],
      "text/plain": [
       "      missing_ratio        min        max\n",
       "From           1.94 1929-10-14 2022-12-08\n",
       "To             3.09 1929-10-14 2023-01-08"
      ]
     },
     "execution_count": 10,
     "metadata": {},
     "output_type": "execute_result"
    }
   ],
   "source": [
    "nume_col_df_1 = anime_df.loc[:,[\"From\",\"To\"]]\n",
    "missing_ratio = pd.DataFrame(nume_col_df_1.isnull().sum()*100/len(nume_col_df_1),columns=['missing_ratio'])\n",
    "min = pd.DataFrame(pd.Series({'From':nume_col_df_1.loc[:,'From'].min(),'To':nume_col_df_1.loc[:,'To'].min()}),columns=['min'])\n",
    "max = pd.DataFrame(pd.Series({'From':nume_col_df_1.loc[:,'From'].max(),'To':nume_col_df_1.loc[:,'To'].max()}),columns=['max'])\n",
    "nume_col_profiles_df = pd.concat([missing_ratio, min,max],axis=1)\n",
    "nume_col_profiles_df"
   ]
  },
  {
   "cell_type": "markdown",
   "metadata": {},
   "source": [
    "Với mỗi cột có kiểu dữ liệu `numeric`, ta tính kết quả thu được và lưu vào Data Frame `nume_col_df_2`. Dataframe này gồm các dòng: \"missing_ratio\", \"count\", \"mean\", \"std\", \"min\", \"25%\", \"50%\", \"75%\", \"max\";"
   ]
  },
  {
   "cell_type": "code",
   "execution_count": 11,
   "metadata": {},
   "outputs": [
    {
     "data": {
      "text/html": [
       "<div>\n",
       "<style scoped>\n",
       "    .dataframe tbody tr th:only-of-type {\n",
       "        vertical-align: middle;\n",
       "    }\n",
       "\n",
       "    .dataframe tbody tr th {\n",
       "        vertical-align: top;\n",
       "    }\n",
       "\n",
       "    .dataframe thead th {\n",
       "        text-align: right;\n",
       "    }\n",
       "</style>\n",
       "<table border=\"1\" class=\"dataframe\">\n",
       "  <thead>\n",
       "    <tr style=\"text-align: right;\">\n",
       "      <th></th>\n",
       "      <th>Score</th>\n",
       "      <th>Rank</th>\n",
       "      <th>Episodes</th>\n",
       "      <th>Popularity</th>\n",
       "      <th>Members</th>\n",
       "      <th>Favorites</th>\n",
       "    </tr>\n",
       "  </thead>\n",
       "  <tbody>\n",
       "    <tr>\n",
       "      <th>missing_ratio</th>\n",
       "      <td>0.000000</td>\n",
       "      <td>0.000000</td>\n",
       "      <td>0.51</td>\n",
       "      <td>0.00000</td>\n",
       "      <td>0.000000e+00</td>\n",
       "      <td>0.00000</td>\n",
       "    </tr>\n",
       "    <tr>\n",
       "      <th>count</th>\n",
       "      <td>10000.000000</td>\n",
       "      <td>10000.000000</td>\n",
       "      <td>9949.0</td>\n",
       "      <td>10000.00000</td>\n",
       "      <td>1.000000e+04</td>\n",
       "      <td>10000.00000</td>\n",
       "    </tr>\n",
       "    <tr>\n",
       "      <th>mean</th>\n",
       "      <td>6.865628</td>\n",
       "      <td>5000.501300</td>\n",
       "      <td>14.359634</td>\n",
       "      <td>6310.71830</td>\n",
       "      <td>8.269937e+04</td>\n",
       "      <td>1003.94020</td>\n",
       "    </tr>\n",
       "    <tr>\n",
       "      <th>std</th>\n",
       "      <td>0.648243</td>\n",
       "      <td>2886.894709</td>\n",
       "      <td>47.566261</td>\n",
       "      <td>4324.82702</td>\n",
       "      <td>2.259088e+05</td>\n",
       "      <td>6549.66395</td>\n",
       "    </tr>\n",
       "    <tr>\n",
       "      <th>min</th>\n",
       "      <td>5.860000</td>\n",
       "      <td>1.000000</td>\n",
       "      <td>1.0</td>\n",
       "      <td>1.00000</td>\n",
       "      <td>1.700000e+02</td>\n",
       "      <td>0.00000</td>\n",
       "    </tr>\n",
       "    <tr>\n",
       "      <th>25%</th>\n",
       "      <td>6.340000</td>\n",
       "      <td>2500.750000</td>\n",
       "      <td>1.0</td>\n",
       "      <td>2604.75000</td>\n",
       "      <td>2.479000e+03</td>\n",
       "      <td>3.00000</td>\n",
       "    </tr>\n",
       "    <tr>\n",
       "      <th>50%</th>\n",
       "      <td>6.780000</td>\n",
       "      <td>5000.500000</td>\n",
       "      <td>5.0</td>\n",
       "      <td>5615.50000</td>\n",
       "      <td>1.079300e+04</td>\n",
       "      <td>17.00000</td>\n",
       "    </tr>\n",
       "    <tr>\n",
       "      <th>75%</th>\n",
       "      <td>7.300000</td>\n",
       "      <td>7500.250000</td>\n",
       "      <td>13.0</td>\n",
       "      <td>9657.75000</td>\n",
       "      <td>5.594475e+04</td>\n",
       "      <td>150.00000</td>\n",
       "    </tr>\n",
       "    <tr>\n",
       "      <th>max</th>\n",
       "      <td>9.110000</td>\n",
       "      <td>10000.000000</td>\n",
       "      <td>3057.0</td>\n",
       "      <td>18426.00000</td>\n",
       "      <td>3.583787e+06</td>\n",
       "      <td>211082.00000</td>\n",
       "    </tr>\n",
       "  </tbody>\n",
       "</table>\n",
       "</div>"
      ],
      "text/plain": [
       "                      Score          Rank   Episodes   Popularity  \\\n",
       "missing_ratio      0.000000      0.000000       0.51      0.00000   \n",
       "count          10000.000000  10000.000000     9949.0  10000.00000   \n",
       "mean               6.865628   5000.501300  14.359634   6310.71830   \n",
       "std                0.648243   2886.894709  47.566261   4324.82702   \n",
       "min                5.860000      1.000000        1.0      1.00000   \n",
       "25%                6.340000   2500.750000        1.0   2604.75000   \n",
       "50%                6.780000   5000.500000        5.0   5615.50000   \n",
       "75%                7.300000   7500.250000       13.0   9657.75000   \n",
       "max                9.110000  10000.000000     3057.0  18426.00000   \n",
       "\n",
       "                    Members     Favorites  \n",
       "missing_ratio  0.000000e+00       0.00000  \n",
       "count          1.000000e+04   10000.00000  \n",
       "mean           8.269937e+04    1003.94020  \n",
       "std            2.259088e+05    6549.66395  \n",
       "min            1.700000e+02       0.00000  \n",
       "25%            2.479000e+03       3.00000  \n",
       "50%            1.079300e+04      17.00000  \n",
       "75%            5.594475e+04     150.00000  \n",
       "max            3.583787e+06  211082.00000  "
      ]
     },
     "execution_count": 11,
     "metadata": {},
     "output_type": "execute_result"
    }
   ],
   "source": [
    "nume_col_df_2 =  anime_df.loc[:,['Score','Rank','Episodes','Popularity','Members','Favorites']]\n",
    "def missing_ratio(s):\n",
    "    return s.isna().mean() * 100\n",
    "missing_df = nume_col_df_2.agg([missing_ratio])\n",
    "nume_col_df = pd.concat([missing_df,nume_col_df_2.describe()])\n",
    "nume_col_df"
   ]
  },
  {
   "cell_type": "markdown",
   "metadata": {},
   "source": [
    "### Với mỗi cột có kiểu dữ liệu dạng categorical, các giá trị được phân bố như thế nào?"
   ]
  },
  {
   "cell_type": "markdown",
   "metadata": {},
   "source": [
    "Ta thấy các cột có giá trị categorical:\n",
    "`Type`, `Premiered`, `Producers`, `Studios` và `Genres`\\\n",
    "Ta không xét tới cột Name vì các giá trị của cột này đều là duy nhất."
   ]
  },
  {
   "cell_type": "markdown",
   "metadata": {},
   "source": [
    "Với mỗi cột categorical, ta tiến hành tính:\n",
    "- Tỉ lệ % giá trị thiếu (từ 0 đến 100)\n",
    "- Số lượng giá trị khác nhau (không xét giá trị thiếu), 3 cột Producers, Studios, và Genres chứa thông tin ở dạng list nên việc đếm các giá trị không có ý nghĩa mấy vì số lượng tổ hợp khá nhiều, nên ta sẽ đếm số lượng các phần tử có trong list\n",
    "- Tỉ lệ % (từ 0 đến 100) của mỗi giá trị được sort theo tỉ lệ % giảm dần (không xét giá trị thiếu, tỉ lệ là tỉ lệ so với số lượng các giá trị không thiếu): sử dụng dictionary với key là giá trị, value là tỉ lệ %\\\n",
    "\n",
    "Sau đó ta tiến hành lưu kết quả vào dataframe `cate_col_profiles_df`. Dataframe này có 3 dòng là \"missing_ratio\", \"num_vals\", \"vals_ratios\"; và có các cột là các cột categorical"
   ]
  },
  {
   "cell_type": "code",
   "execution_count": 12,
   "metadata": {},
   "outputs": [
    {
     "data": {
      "text/html": [
       "<div>\n",
       "<style scoped>\n",
       "    .dataframe tbody tr th:only-of-type {\n",
       "        vertical-align: middle;\n",
       "    }\n",
       "\n",
       "    .dataframe tbody tr th {\n",
       "        vertical-align: top;\n",
       "    }\n",
       "\n",
       "    .dataframe thead th {\n",
       "        text-align: right;\n",
       "    }\n",
       "</style>\n",
       "<table border=\"1\" class=\"dataframe\">\n",
       "  <thead>\n",
       "    <tr style=\"text-align: right;\">\n",
       "      <th></th>\n",
       "      <th>Type</th>\n",
       "      <th>Premiered</th>\n",
       "      <th>Producers</th>\n",
       "      <th>Studios</th>\n",
       "      <th>Genres</th>\n",
       "    </tr>\n",
       "  </thead>\n",
       "  <tbody>\n",
       "    <tr>\n",
       "      <th>missing_ratio</th>\n",
       "      <td>0.0</td>\n",
       "      <td>61.1</td>\n",
       "      <td>0.0</td>\n",
       "      <td>0.0</td>\n",
       "      <td>7.64</td>\n",
       "    </tr>\n",
       "    <tr>\n",
       "      <th>num_vals</th>\n",
       "      <td>7</td>\n",
       "      <td>4</td>\n",
       "      <td>692</td>\n",
       "      <td>557</td>\n",
       "      <td>19</td>\n",
       "    </tr>\n",
       "    <tr>\n",
       "      <th>value_ratios</th>\n",
       "      <td>{'TV': 39.1, 'Movie': 16.2, 'Special': 15.1, '...</td>\n",
       "      <td>{'Spring': 32.5, 'Fall': 30.2, 'Winter': 19.9,...</td>\n",
       "      <td>{'None found, ': 7.8, 'add some': 7.8, 'Aniple...</td>\n",
       "      <td>{'None found, ': 7.8, 'add some': 7.8, 'Toei A...</td>\n",
       "      <td>{'Comedy': 16.5, 'Action': 14.8, 'Drama': 10.4...</td>\n",
       "    </tr>\n",
       "  </tbody>\n",
       "</table>\n",
       "</div>"
      ],
      "text/plain": [
       "                                                            Type  \\\n",
       "missing_ratio                                                0.0   \n",
       "num_vals                                                       7   \n",
       "value_ratios   {'TV': 39.1, 'Movie': 16.2, 'Special': 15.1, '...   \n",
       "\n",
       "                                                       Premiered  \\\n",
       "missing_ratio                                               61.1   \n",
       "num_vals                                                       4   \n",
       "value_ratios   {'Spring': 32.5, 'Fall': 30.2, 'Winter': 19.9,...   \n",
       "\n",
       "                                                       Producers  \\\n",
       "missing_ratio                                                0.0   \n",
       "num_vals                                                     692   \n",
       "value_ratios   {'None found, ': 7.8, 'add some': 7.8, 'Aniple...   \n",
       "\n",
       "                                                         Studios  \\\n",
       "missing_ratio                                                0.0   \n",
       "num_vals                                                     557   \n",
       "value_ratios   {'None found, ': 7.8, 'add some': 7.8, 'Toei A...   \n",
       "\n",
       "                                                          Genres  \n",
       "missing_ratio                                               7.64  \n",
       "num_vals                                                      19  \n",
       "value_ratios   {'Comedy': 16.5, 'Action': 14.8, 'Drama': 10.4...  "
      ]
     },
     "execution_count": 12,
     "metadata": {},
     "output_type": "execute_result"
    }
   ],
   "source": [
    "cate_col_df = anime_df[[\"Type\",\"Premiered\", \"Producers\", \"Studios\", \"Genres\"]].copy()\n",
    "missing_ratio = cate_col_df.isnull().sum() * 100 / len(cate_col_df)\n",
    "cate_col_df[[\"Producers\", \"Studios\", \"Genres\"]] = cate_col_df[[\"Producers\", \"Studios\", \"Genres\"]].apply(lambda x: x.explode(ignore_index=True))\n",
    "num_values = cate_col_df.nunique()\n",
    "value_ratios = cate_col_df.apply(lambda x: dict(x.value_counts(normalize = True).mul(100).round(1)))\n",
    "\n",
    "r_name = [\"missing_ratio\", \"num_vals\", \"value_ratios\"]\n",
    "\n",
    "cate_col_profiles_df = pd.DataFrame([missing_ratio,num_values,pd.Series(value_ratios,index=[\"Type\",\"Premiered\", \"Producers\", \"Studios\", \"Genres\"])],index=r_name)\n",
    "cate_col_profiles_df"
   ]
  },
  {
   "cell_type": "markdown",
   "metadata": {},
   "source": [
    "**Nhận xét:**\n",
    " - Các cột `Type`, `Producers`, `Studios` đều không có giá trị thiếu. Có 2 cột `Premiered` và `Genres` vẫn có thiếu, đặc biệt cột 'Premiered' có tỉ lệ giá trị thiếu khá cao (hơn 50%). \n",
    " - Tuy nhiên điều này hoàn toàn có thể chấp nhận đươc vì các trường thiếu dữ liệu này không quá cần thiết cho một bộ phim."
   ]
  },
  {
   "cell_type": "markdown",
   "metadata": {},
   "source": [
    "---"
   ]
  },
  {
   "cell_type": "markdown",
   "metadata": {},
   "source": [
    "## Đặt ra câu hỏi có ý nghĩa cần trả lời"
   ]
  },
  {
   "cell_type": "markdown",
   "metadata": {},
   "source": [
    "### Câu 1: Có mối liên hệ nào giữa độ phổ biến của bộ anime và số người xem hay không? Có phải người dùng sẽ có xu hướng xem những bộ anime đang \"hot\" hay không?"
   ]
  },
  {
   "cell_type": "markdown",
   "metadata": {},
   "source": [
    "***Ý nghĩa câu hỏi:*** Câu hỏi này giúp ta xác định được xu hướng lựa chọn một bộ anime của người xem trong bối cảnh mỗi năm lại có thêm nhiều bộ anime ra mắt. Liệu người dùng chọn xem bộ anime này vì những yếu tố như kỹ xảo, nội dung,...hay chỉ đơn thuần là vì những người khác cũng xem bộ anime này?\n",
    "- Điều này giúp cho các nhà sản xuất có thể đưa ra các chiến lược quảng bá cho bộ phim phù hợp, hướng đến nhiều đối tượng hơn và mang lại lợi nhuận cao hơn."
   ]
  },
  {
   "cell_type": "markdown",
   "metadata": {},
   "source": [
    "***Trả lời:*** \\\n",
    "Đầu tiên ta lấy ra các cột `Popularity`, `Members`, `From` và lưu vào `pop_mem_df`. Lưu ý là không lấy các trị `NaN`."
   ]
  },
  {
   "cell_type": "code",
   "execution_count": 13,
   "metadata": {},
   "outputs": [
    {
     "data": {
      "text/html": [
       "<div>\n",
       "<style scoped>\n",
       "    .dataframe tbody tr th:only-of-type {\n",
       "        vertical-align: middle;\n",
       "    }\n",
       "\n",
       "    .dataframe tbody tr th {\n",
       "        vertical-align: top;\n",
       "    }\n",
       "\n",
       "    .dataframe thead th {\n",
       "        text-align: right;\n",
       "    }\n",
       "</style>\n",
       "<table border=\"1\" class=\"dataframe\">\n",
       "  <thead>\n",
       "    <tr style=\"text-align: right;\">\n",
       "      <th></th>\n",
       "      <th>Popularity</th>\n",
       "      <th>Members</th>\n",
       "      <th>From</th>\n",
       "    </tr>\n",
       "  </thead>\n",
       "  <tbody>\n",
       "    <tr>\n",
       "      <th>0</th>\n",
       "      <td>3</td>\n",
       "      <td>3037641</td>\n",
       "      <td>2009-04-05</td>\n",
       "    </tr>\n",
       "    <tr>\n",
       "      <th>1</th>\n",
       "      <td>669</td>\n",
       "      <td>310979</td>\n",
       "      <td>2022-10-11</td>\n",
       "    </tr>\n",
       "    <tr>\n",
       "      <th>2</th>\n",
       "      <td>238</td>\n",
       "      <td>703336</td>\n",
       "      <td>2022-04-09</td>\n",
       "    </tr>\n",
       "    <tr>\n",
       "      <th>3</th>\n",
       "      <td>13</td>\n",
       "      <td>2338343</td>\n",
       "      <td>2011-04-06</td>\n",
       "    </tr>\n",
       "    <tr>\n",
       "      <th>4</th>\n",
       "      <td>337</td>\n",
       "      <td>567213</td>\n",
       "      <td>2015-04-08</td>\n",
       "    </tr>\n",
       "    <tr>\n",
       "      <th>...</th>\n",
       "      <td>...</td>\n",
       "      <td>...</td>\n",
       "      <td>...</td>\n",
       "    </tr>\n",
       "    <tr>\n",
       "      <th>9994</th>\n",
       "      <td>13310</td>\n",
       "      <td>680</td>\n",
       "      <td>2015-06-24</td>\n",
       "    </tr>\n",
       "    <tr>\n",
       "      <th>9995</th>\n",
       "      <td>12979</td>\n",
       "      <td>758</td>\n",
       "      <td>2012-11-01</td>\n",
       "    </tr>\n",
       "    <tr>\n",
       "      <th>9996</th>\n",
       "      <td>4761</td>\n",
       "      <td>16518</td>\n",
       "      <td>2015-07-23</td>\n",
       "    </tr>\n",
       "    <tr>\n",
       "      <th>9997</th>\n",
       "      <td>15638</td>\n",
       "      <td>354</td>\n",
       "      <td>1992-09-05</td>\n",
       "    </tr>\n",
       "    <tr>\n",
       "      <th>9998</th>\n",
       "      <td>6617</td>\n",
       "      <td>7270</td>\n",
       "      <td>2019-10-03</td>\n",
       "    </tr>\n",
       "  </tbody>\n",
       "</table>\n",
       "<p>9806 rows × 3 columns</p>\n",
       "</div>"
      ],
      "text/plain": [
       "      Popularity  Members       From\n",
       "0              3  3037641 2009-04-05\n",
       "1            669   310979 2022-10-11\n",
       "2            238   703336 2022-04-09\n",
       "3             13  2338343 2011-04-06\n",
       "4            337   567213 2015-04-08\n",
       "...          ...      ...        ...\n",
       "9994       13310      680 2015-06-24\n",
       "9995       12979      758 2012-11-01\n",
       "9996        4761    16518 2015-07-23\n",
       "9997       15638      354 1992-09-05\n",
       "9998        6617     7270 2019-10-03\n",
       "\n",
       "[9806 rows x 3 columns]"
      ]
     },
     "execution_count": 13,
     "metadata": {},
     "output_type": "execute_result"
    }
   ],
   "source": [
    "pop_mem_df = anime_df[[\"Popularity\", \"Members\", \"From\"]].dropna()\n",
    "pop_mem_df"
   ]
  },
  {
   "cell_type": "markdown",
   "metadata": {},
   "source": [
    "Vì lượng người xem có xu hướng thay đổi theo thời gian nên ta chỉ xét số lượng người xem trung bình từng năm (để tính được, ta lấy số lượng người xem hiện tại chia cho số năm kể từ lúc anime được ra mắt)"
   ]
  },
  {
   "cell_type": "code",
   "execution_count": 14,
   "metadata": {},
   "outputs": [
    {
     "data": {
      "text/html": [
       "<div>\n",
       "<style scoped>\n",
       "    .dataframe tbody tr th:only-of-type {\n",
       "        vertical-align: middle;\n",
       "    }\n",
       "\n",
       "    .dataframe tbody tr th {\n",
       "        vertical-align: top;\n",
       "    }\n",
       "\n",
       "    .dataframe thead th {\n",
       "        text-align: right;\n",
       "    }\n",
       "</style>\n",
       "<table border=\"1\" class=\"dataframe\">\n",
       "  <thead>\n",
       "    <tr style=\"text-align: right;\">\n",
       "      <th></th>\n",
       "      <th>Popularity</th>\n",
       "      <th>Members</th>\n",
       "      <th>From</th>\n",
       "      <th>From Year</th>\n",
       "      <th>Average Members</th>\n",
       "    </tr>\n",
       "  </thead>\n",
       "  <tbody>\n",
       "    <tr>\n",
       "      <th>0</th>\n",
       "      <td>3</td>\n",
       "      <td>3037641</td>\n",
       "      <td>2009-04-05</td>\n",
       "      <td>2009</td>\n",
       "      <td>202509</td>\n",
       "    </tr>\n",
       "    <tr>\n",
       "      <th>1</th>\n",
       "      <td>669</td>\n",
       "      <td>310979</td>\n",
       "      <td>2022-10-11</td>\n",
       "      <td>2022</td>\n",
       "      <td>155489</td>\n",
       "    </tr>\n",
       "    <tr>\n",
       "      <th>2</th>\n",
       "      <td>238</td>\n",
       "      <td>703336</td>\n",
       "      <td>2022-04-09</td>\n",
       "      <td>2022</td>\n",
       "      <td>351668</td>\n",
       "    </tr>\n",
       "    <tr>\n",
       "      <th>3</th>\n",
       "      <td>13</td>\n",
       "      <td>2338343</td>\n",
       "      <td>2011-04-06</td>\n",
       "      <td>2011</td>\n",
       "      <td>179872</td>\n",
       "    </tr>\n",
       "    <tr>\n",
       "      <th>4</th>\n",
       "      <td>337</td>\n",
       "      <td>567213</td>\n",
       "      <td>2015-04-08</td>\n",
       "      <td>2015</td>\n",
       "      <td>63023</td>\n",
       "    </tr>\n",
       "    <tr>\n",
       "      <th>...</th>\n",
       "      <td>...</td>\n",
       "      <td>...</td>\n",
       "      <td>...</td>\n",
       "      <td>...</td>\n",
       "      <td>...</td>\n",
       "    </tr>\n",
       "    <tr>\n",
       "      <th>9994</th>\n",
       "      <td>13310</td>\n",
       "      <td>680</td>\n",
       "      <td>2015-06-24</td>\n",
       "      <td>2015</td>\n",
       "      <td>75</td>\n",
       "    </tr>\n",
       "    <tr>\n",
       "      <th>9995</th>\n",
       "      <td>12979</td>\n",
       "      <td>758</td>\n",
       "      <td>2012-11-01</td>\n",
       "      <td>2012</td>\n",
       "      <td>63</td>\n",
       "    </tr>\n",
       "    <tr>\n",
       "      <th>9996</th>\n",
       "      <td>4761</td>\n",
       "      <td>16518</td>\n",
       "      <td>2015-07-23</td>\n",
       "      <td>2015</td>\n",
       "      <td>1835</td>\n",
       "    </tr>\n",
       "    <tr>\n",
       "      <th>9997</th>\n",
       "      <td>15638</td>\n",
       "      <td>354</td>\n",
       "      <td>1992-09-05</td>\n",
       "      <td>1992</td>\n",
       "      <td>11</td>\n",
       "    </tr>\n",
       "    <tr>\n",
       "      <th>9998</th>\n",
       "      <td>6617</td>\n",
       "      <td>7270</td>\n",
       "      <td>2019-10-03</td>\n",
       "      <td>2019</td>\n",
       "      <td>1454</td>\n",
       "    </tr>\n",
       "  </tbody>\n",
       "</table>\n",
       "<p>9806 rows × 5 columns</p>\n",
       "</div>"
      ],
      "text/plain": [
       "      Popularity  Members       From  From Year  Average Members\n",
       "0              3  3037641 2009-04-05       2009           202509\n",
       "1            669   310979 2022-10-11       2022           155489\n",
       "2            238   703336 2022-04-09       2022           351668\n",
       "3             13  2338343 2011-04-06       2011           179872\n",
       "4            337   567213 2015-04-08       2015            63023\n",
       "...          ...      ...        ...        ...              ...\n",
       "9994       13310      680 2015-06-24       2015               75\n",
       "9995       12979      758 2012-11-01       2012               63\n",
       "9996        4761    16518 2015-07-23       2015             1835\n",
       "9997       15638      354 1992-09-05       1992               11\n",
       "9998        6617     7270 2019-10-03       2019             1454\n",
       "\n",
       "[9806 rows x 5 columns]"
      ]
     },
     "execution_count": 14,
     "metadata": {},
     "output_type": "execute_result"
    }
   ],
   "source": [
    "current_year = datetime.now().year\n",
    "pop_mem_df['From Year'] = pd.DatetimeIndex(pop_mem_df['From']).year\n",
    "def average_mem(row):\n",
    "    if current_year == row[\"From Year\"]:\n",
    "        average = row[\"Members\"]\n",
    "    else:\n",
    "        average = row[\"Members\"] / (current_year - row[\"From Year\"])\n",
    "    return int(average)\n",
    "pop_mem_df[\"Average Members\"] = pop_mem_df.apply(average_mem, axis = 1)\n",
    "pop_mem_df"
   ]
  },
  {
   "cell_type": "markdown",
   "metadata": {},
   "source": [
    "Sau đó, ta tính độ tương quan giữa độ phổ biến và lượng người xem trung bình"
   ]
  },
  {
   "cell_type": "code",
   "execution_count": 15,
   "metadata": {
    "scrolled": true
   },
   "outputs": [
    {
     "data": {
      "text/plain": [
       "-0.40224742526327917"
      ]
     },
     "execution_count": 15,
     "metadata": {},
     "output_type": "execute_result"
    }
   ],
   "source": [
    "pop_mem_df[\"Popularity\"].corr(pop_mem_df[\"Average Members\"])"
   ]
  },
  {
   "cell_type": "markdown",
   "metadata": {},
   "source": [
    "Nhìn chung độ tương quan ở mức vừa phải và 2 đại trưng này có vẻ có mối quan hệ nghịch biến với nhau, bâu giờ ta vẽ biểu đồ tương quan giữa hai đặc trưng trên."
   ]
  },
  {
   "cell_type": "code",
   "execution_count": 16,
   "metadata": {},
   "outputs": [
    {
     "data": {
      "text/plain": [
       "<Axes: xlabel='Popularity', ylabel='Average Members'>"
      ]
     },
     "execution_count": 16,
     "metadata": {},
     "output_type": "execute_result"
    },
    {
     "data": {
      "image/png": "[encoded data removed]",
      "text/plain": [
       "<Figure size 1500x1000 with 1 Axes>"
      ]
     },
     "metadata": {},
     "output_type": "display_data"
    }
   ],
   "source": [
    "plt.figure(figsize=(15, 10))\n",
    "sns.regplot(x = \"Popularity\", y = \"Average Members\", data = pop_mem_df, x_estimator = np.mean)"
   ]
  },
  {
   "cell_type": "markdown",
   "metadata": {},
   "source": [
    "***Nhận xét:***\n",
    "\n",
    "Nhìn vào biểu đồ tương quan trên ta có thể thấy mức độ phổ biến có tác động đến lượng người xem. Khi giá trị độ phổ biến càng tăng thì lượng người xem cũng giảm dần.\\\n",
    "Tuy nhiên trên thực tế vì giá trị độ phổ biến đại diện cho xếp hạng sự phổ biến nên khi giá trị này tăng có nghĩa là độ phổ biến giảm dần. Điều này có nghĩa là người dùng có xu hướng lựa chọn một bộ anime đang \"hot\". Vậy nên nếu một bộ anime được quảng bá và được phổ biến rộng rãi đến nhiều đối tượng thì số người vì tò mò mà xem bộ anime này cũng sẽ tăng và ngược lại."
   ]
  },
  {
   "cell_type": "markdown",
   "metadata": {},
   "source": [
    "### Câu 2: Xu hướng xem anime của mọi người ở thời điểm hiện tại là gì? Một bộ anime gồm những yếu tố nào (kinh dị, trinh thám,...) có thể thu hút người xem?"
   ]
  },
  {
   "cell_type": "markdown",
   "metadata": {},
   "source": [
    "***Ý nghĩa câu hỏi:*** Trả lời được câu hỏi này, ta có thể được cái nhìn tổng quan về các thể loại anime được quan tâm trong ngành công nghiệp phim những năm gần đây ngoài ra còn đáp ứng nhu cầu các nhóm đối tượng dưới đây:\n",
    "- Nhà sản xuất: Nắm rõ được yếu tố nào đáp ứng thị hiếu người xem. Từ đó có thể sản xuất ra bộ anime với yếu tố phù hợp, đem lại doanh thu.\n",
    "- Nhà đầu tư: Lựa chọn những bộ anime có thể loại phù hợp thị hiếu người dùng từ đó phán đoán xem có nên đầu tư vào bộ anime hay không."
   ]
  },
  {
   "cell_type": "markdown",
   "metadata": {},
   "source": [
    "***Trả lời:*** "
   ]
  },
  {
   "cell_type": "markdown",
   "metadata": {},
   "source": [
    "Vì xu hướng xem anime sẽ thay đổi theo thời gian và ta đang cần xem xét xu hướng xem anime của mọi người thời hiện tại nên ta sẽ lọc và chọn ra dữ liệu của những bộ phim sản xuất từ thời điểm 2010 trở đi và lưu vào dataframe `mod_animes_df`. Sau đó lọc lấy 3 cột là `Genres`, `Members`, `From` và lưu vào dataframe mới là `mod_genres_df`."
   ]
  },
  {
   "cell_type": "code",
   "execution_count": 17,
   "metadata": {
    "scrolled": true
   },
   "outputs": [
    {
     "data": {
      "text/html": [
       "<div>\n",
       "<style scoped>\n",
       "    .dataframe tbody tr th:only-of-type {\n",
       "        vertical-align: middle;\n",
       "    }\n",
       "\n",
       "    .dataframe tbody tr th {\n",
       "        vertical-align: top;\n",
       "    }\n",
       "\n",
       "    .dataframe thead th {\n",
       "        text-align: right;\n",
       "    }\n",
       "</style>\n",
       "<table border=\"1\" class=\"dataframe\">\n",
       "  <thead>\n",
       "    <tr style=\"text-align: right;\">\n",
       "      <th></th>\n",
       "      <th>Genres</th>\n",
       "      <th>Members</th>\n",
       "      <th>From</th>\n",
       "    </tr>\n",
       "  </thead>\n",
       "  <tbody>\n",
       "    <tr>\n",
       "      <th>1</th>\n",
       "      <td>[Adventure, Fantasy, Action]</td>\n",
       "      <td>310979</td>\n",
       "      <td>2022-10-11</td>\n",
       "    </tr>\n",
       "    <tr>\n",
       "      <th>2</th>\n",
       "      <td>[Comedy, Romance]</td>\n",
       "      <td>703336</td>\n",
       "      <td>2022-04-09</td>\n",
       "    </tr>\n",
       "    <tr>\n",
       "      <th>3</th>\n",
       "      <td>[Drama, Sci-Fi, Suspense]</td>\n",
       "      <td>2338343</td>\n",
       "      <td>2011-04-06</td>\n",
       "    </tr>\n",
       "    <tr>\n",
       "      <th>4</th>\n",
       "      <td>[Sci-Fi, Comedy, Action]</td>\n",
       "      <td>567213</td>\n",
       "      <td>2015-04-08</td>\n",
       "    </tr>\n",
       "    <tr>\n",
       "      <th>5</th>\n",
       "      <td>[Drama, Action]</td>\n",
       "      <td>1972472</td>\n",
       "      <td>2019-04-29</td>\n",
       "    </tr>\n",
       "    <tr>\n",
       "      <th>...</th>\n",
       "      <td>...</td>\n",
       "      <td>...</td>\n",
       "      <td>...</td>\n",
       "    </tr>\n",
       "    <tr>\n",
       "      <th>9980</th>\n",
       "      <td>[Comedy]</td>\n",
       "      <td>1048</td>\n",
       "      <td>2011-04-13</td>\n",
       "    </tr>\n",
       "    <tr>\n",
       "      <th>9982</th>\n",
       "      <td>[Comedy, Ecchi]</td>\n",
       "      <td>38808</td>\n",
       "      <td>2011-01-04</td>\n",
       "    </tr>\n",
       "    <tr>\n",
       "      <th>9987</th>\n",
       "      <td>[Adventure, Fantasy, Action]</td>\n",
       "      <td>36447</td>\n",
       "      <td>2020-04-05</td>\n",
       "    </tr>\n",
       "    <tr>\n",
       "      <th>9988</th>\n",
       "      <td>[Slice of Life, Comedy]</td>\n",
       "      <td>639</td>\n",
       "      <td>2019-04-02</td>\n",
       "    </tr>\n",
       "    <tr>\n",
       "      <th>9992</th>\n",
       "      <td>[Sci-Fi, Comedy]</td>\n",
       "      <td>57500</td>\n",
       "      <td>2016-01-07</td>\n",
       "    </tr>\n",
       "  </tbody>\n",
       "</table>\n",
       "<p>1909 rows × 3 columns</p>\n",
       "</div>"
      ],
      "text/plain": [
       "                            Genres  Members       From\n",
       "1     [Adventure, Fantasy, Action]   310979 2022-10-11\n",
       "2                [Comedy, Romance]   703336 2022-04-09\n",
       "3        [Drama, Sci-Fi, Suspense]  2338343 2011-04-06\n",
       "4         [Sci-Fi, Comedy, Action]   567213 2015-04-08\n",
       "5                  [Drama, Action]  1972472 2019-04-29\n",
       "...                            ...      ...        ...\n",
       "9980                      [Comedy]     1048 2011-04-13\n",
       "9982               [Comedy, Ecchi]    38808 2011-01-04\n",
       "9987  [Adventure, Fantasy, Action]    36447 2020-04-05\n",
       "9988       [Slice of Life, Comedy]      639 2019-04-02\n",
       "9992              [Sci-Fi, Comedy]    57500 2016-01-07\n",
       "\n",
       "[1909 rows x 3 columns]"
      ]
     },
     "execution_count": 17,
     "metadata": {},
     "output_type": "execute_result"
    }
   ],
   "source": [
    "mod_animes_df = anime_df[pd.DatetimeIndex(anime_df['From']).year >= 2010].dropna()\n",
    "mod_genres_df = mod_animes_df[['Genres', 'Members', 'From']]\n",
    "mod_genres_df"
   ]
  },
  {
   "cell_type": "markdown",
   "metadata": {},
   "source": [
    "Ta tính lượng người xem trung bình của từng thể loại và lưu vào dataframe `genres_df`"
   ]
  },
  {
   "cell_type": "code",
   "execution_count": 18,
   "metadata": {},
   "outputs": [
    {
     "data": {
      "text/html": [
       "<div>\n",
       "<style scoped>\n",
       "    .dataframe tbody tr th:only-of-type {\n",
       "        vertical-align: middle;\n",
       "    }\n",
       "\n",
       "    .dataframe tbody tr th {\n",
       "        vertical-align: top;\n",
       "    }\n",
       "\n",
       "    .dataframe thead th {\n",
       "        text-align: right;\n",
       "    }\n",
       "</style>\n",
       "<table border=\"1\" class=\"dataframe\">\n",
       "  <thead>\n",
       "    <tr style=\"text-align: right;\">\n",
       "      <th></th>\n",
       "      <th>Genre</th>\n",
       "      <th>Average Members</th>\n",
       "    </tr>\n",
       "  </thead>\n",
       "  <tbody>\n",
       "    <tr>\n",
       "      <th>0</th>\n",
       "      <td>Adventure</td>\n",
       "      <td>50609.187485</td>\n",
       "    </tr>\n",
       "    <tr>\n",
       "      <th>1</th>\n",
       "      <td>Fantasy</td>\n",
       "      <td>53616.265423</td>\n",
       "    </tr>\n",
       "    <tr>\n",
       "      <th>2</th>\n",
       "      <td>Action</td>\n",
       "      <td>51815.642079</td>\n",
       "    </tr>\n",
       "    <tr>\n",
       "      <th>3</th>\n",
       "      <td>Comedy</td>\n",
       "      <td>32260.983736</td>\n",
       "    </tr>\n",
       "    <tr>\n",
       "      <th>4</th>\n",
       "      <td>Romance</td>\n",
       "      <td>51704.191621</td>\n",
       "    </tr>\n",
       "    <tr>\n",
       "      <th>5</th>\n",
       "      <td>Drama</td>\n",
       "      <td>56745.967123</td>\n",
       "    </tr>\n",
       "    <tr>\n",
       "      <th>6</th>\n",
       "      <td>Sci-Fi</td>\n",
       "      <td>31199.684201</td>\n",
       "    </tr>\n",
       "    <tr>\n",
       "      <th>7</th>\n",
       "      <td>Suspense</td>\n",
       "      <td>106416.914126</td>\n",
       "    </tr>\n",
       "    <tr>\n",
       "      <th>8</th>\n",
       "      <td>Supernatural</td>\n",
       "      <td>43624.726394</td>\n",
       "    </tr>\n",
       "    <tr>\n",
       "      <th>9</th>\n",
       "      <td>Slice of Life</td>\n",
       "      <td>16251.523062</td>\n",
       "    </tr>\n",
       "    <tr>\n",
       "      <th>10</th>\n",
       "      <td>Mystery</td>\n",
       "      <td>44240.282607</td>\n",
       "    </tr>\n",
       "    <tr>\n",
       "      <th>11</th>\n",
       "      <td>Sports</td>\n",
       "      <td>25047.784804</td>\n",
       "    </tr>\n",
       "    <tr>\n",
       "      <th>12</th>\n",
       "      <td>Ecchi</td>\n",
       "      <td>44005.410032</td>\n",
       "    </tr>\n",
       "    <tr>\n",
       "      <th>13</th>\n",
       "      <td>Award Winning</td>\n",
       "      <td>122233.597509</td>\n",
       "    </tr>\n",
       "    <tr>\n",
       "      <th>14</th>\n",
       "      <td>Boys Love</td>\n",
       "      <td>21469.473226</td>\n",
       "    </tr>\n",
       "    <tr>\n",
       "      <th>15</th>\n",
       "      <td>Horror</td>\n",
       "      <td>53917.950033</td>\n",
       "    </tr>\n",
       "    <tr>\n",
       "      <th>16</th>\n",
       "      <td>Gourmet</td>\n",
       "      <td>39494.453847</td>\n",
       "    </tr>\n",
       "    <tr>\n",
       "      <th>17</th>\n",
       "      <td>Avant Garde</td>\n",
       "      <td>12953.182583</td>\n",
       "    </tr>\n",
       "    <tr>\n",
       "      <th>18</th>\n",
       "      <td>Girls Love</td>\n",
       "      <td>25282.748737</td>\n",
       "    </tr>\n",
       "  </tbody>\n",
       "</table>\n",
       "</div>"
      ],
      "text/plain": [
       "            Genre  Average Members\n",
       "0       Adventure     50609.187485\n",
       "1         Fantasy     53616.265423\n",
       "2          Action     51815.642079\n",
       "3          Comedy     32260.983736\n",
       "4         Romance     51704.191621\n",
       "5           Drama     56745.967123\n",
       "6          Sci-Fi     31199.684201\n",
       "7        Suspense    106416.914126\n",
       "8    Supernatural     43624.726394\n",
       "9   Slice of Life     16251.523062\n",
       "10        Mystery     44240.282607\n",
       "11         Sports     25047.784804\n",
       "12          Ecchi     44005.410032\n",
       "13  Award Winning    122233.597509\n",
       "14      Boys Love     21469.473226\n",
       "15         Horror     53917.950033\n",
       "16        Gourmet     39494.453847\n",
       "17    Avant Garde     12953.182583\n",
       "18     Girls Love     25282.748737"
      ]
     },
     "execution_count": 18,
     "metadata": {},
     "output_type": "execute_result"
    }
   ],
   "source": [
    "# Lấy năm hiện tại\n",
    "current_year = datetime.now().year\n",
    "\n",
    "# Tính số năm từ \"From\" đến năm hiện tại\n",
    "mod_genres_df['Years'] = current_year - mod_genres_df['From'].dt.year\n",
    "\n",
    "# Tính số lượng người xem trung bình cho từng thể loại\n",
    "genres_avg_members = {}\n",
    "for idx, row in mod_genres_df.iterrows():\n",
    "    for genre in row['Genres']:\n",
    "        if genre not in genres_avg_members:\n",
    "            genres_avg_members[genre] = []\n",
    "        genres_avg_members[genre].append(row['Members'] / row['Years'])\n",
    "\n",
    "# Tính số lượng người xem trung bình cho từng thể loại\n",
    "result = {genre: sum(avg_members) / len(avg_members) for genre, avg_members in genres_avg_members.items()}\n",
    "\n",
    "genres_df = pd.DataFrame(list(result.items()), columns=['Genre', 'Average Members'])\n",
    "genres_df"
   ]
  },
  {
   "cell_type": "markdown",
   "metadata": {},
   "source": [
    "Xem xét lại các thể loại phim"
   ]
  },
  {
   "cell_type": "code",
   "execution_count": 19,
   "metadata": {},
   "outputs": [
    {
     "data": {
      "text/plain": [
       "array(['Adventure', 'Fantasy', 'Action', 'Comedy', 'Romance', 'Drama',\n",
       "       'Sci-Fi', 'Suspense', 'Supernatural', 'Slice of Life', 'Mystery',\n",
       "       'Sports', 'Ecchi', 'Award Winning', 'Boys Love', 'Horror',\n",
       "       'Gourmet', 'Avant Garde', 'Girls Love'], dtype=object)"
      ]
     },
     "execution_count": 19,
     "metadata": {},
     "output_type": "execute_result"
    }
   ],
   "source": [
    "genres_df['Genre'].unique()"
   ]
  },
  {
   "cell_type": "markdown",
   "metadata": {},
   "source": [
    "***Nhận xét***: Ta cần loại bỏ: Award winning, Avant Garde.\\\n",
    "Đây là 2 thể loại không cần thiết để đưa vào danh sách xem xét vì:\n",
    "- Award winning: các bộ phim đạt giải\n",
    "- Avant Garde: các bộ phim tiên phong (cho các thể loại phim mới).\\\n",
    "\n",
    "Đây là hai thể loại khác với những thể loại rõ ràng tường minh"
   ]
  },
  {
   "cell_type": "code",
   "execution_count": 20,
   "metadata": {},
   "outputs": [],
   "source": [
    "genres_df = genres_df[~genres_df['Genre'].isin(['Award Winning', 'Avant Garde'])]"
   ]
  },
  {
   "cell_type": "code",
   "execution_count": 21,
   "metadata": {},
   "outputs": [
    {
     "data": {
      "text/html": [
       "<div>\n",
       "<style scoped>\n",
       "    .dataframe tbody tr th:only-of-type {\n",
       "        vertical-align: middle;\n",
       "    }\n",
       "\n",
       "    .dataframe tbody tr th {\n",
       "        vertical-align: top;\n",
       "    }\n",
       "\n",
       "    .dataframe thead th {\n",
       "        text-align: right;\n",
       "    }\n",
       "</style>\n",
       "<table border=\"1\" class=\"dataframe\">\n",
       "  <thead>\n",
       "    <tr style=\"text-align: right;\">\n",
       "      <th></th>\n",
       "      <th>Genre</th>\n",
       "      <th>Average Members</th>\n",
       "    </tr>\n",
       "  </thead>\n",
       "  <tbody>\n",
       "    <tr>\n",
       "      <th>0</th>\n",
       "      <td>Adventure</td>\n",
       "      <td>50609.187485</td>\n",
       "    </tr>\n",
       "    <tr>\n",
       "      <th>1</th>\n",
       "      <td>Fantasy</td>\n",
       "      <td>53616.265423</td>\n",
       "    </tr>\n",
       "    <tr>\n",
       "      <th>2</th>\n",
       "      <td>Action</td>\n",
       "      <td>51815.642079</td>\n",
       "    </tr>\n",
       "    <tr>\n",
       "      <th>3</th>\n",
       "      <td>Comedy</td>\n",
       "      <td>32260.983736</td>\n",
       "    </tr>\n",
       "    <tr>\n",
       "      <th>4</th>\n",
       "      <td>Romance</td>\n",
       "      <td>51704.191621</td>\n",
       "    </tr>\n",
       "    <tr>\n",
       "      <th>5</th>\n",
       "      <td>Drama</td>\n",
       "      <td>56745.967123</td>\n",
       "    </tr>\n",
       "    <tr>\n",
       "      <th>6</th>\n",
       "      <td>Sci-Fi</td>\n",
       "      <td>31199.684201</td>\n",
       "    </tr>\n",
       "    <tr>\n",
       "      <th>7</th>\n",
       "      <td>Suspense</td>\n",
       "      <td>106416.914126</td>\n",
       "    </tr>\n",
       "    <tr>\n",
       "      <th>8</th>\n",
       "      <td>Supernatural</td>\n",
       "      <td>43624.726394</td>\n",
       "    </tr>\n",
       "    <tr>\n",
       "      <th>9</th>\n",
       "      <td>Slice of Life</td>\n",
       "      <td>16251.523062</td>\n",
       "    </tr>\n",
       "    <tr>\n",
       "      <th>10</th>\n",
       "      <td>Mystery</td>\n",
       "      <td>44240.282607</td>\n",
       "    </tr>\n",
       "    <tr>\n",
       "      <th>11</th>\n",
       "      <td>Sports</td>\n",
       "      <td>25047.784804</td>\n",
       "    </tr>\n",
       "    <tr>\n",
       "      <th>12</th>\n",
       "      <td>Ecchi</td>\n",
       "      <td>44005.410032</td>\n",
       "    </tr>\n",
       "    <tr>\n",
       "      <th>14</th>\n",
       "      <td>Boys Love</td>\n",
       "      <td>21469.473226</td>\n",
       "    </tr>\n",
       "    <tr>\n",
       "      <th>15</th>\n",
       "      <td>Horror</td>\n",
       "      <td>53917.950033</td>\n",
       "    </tr>\n",
       "    <tr>\n",
       "      <th>16</th>\n",
       "      <td>Gourmet</td>\n",
       "      <td>39494.453847</td>\n",
       "    </tr>\n",
       "    <tr>\n",
       "      <th>18</th>\n",
       "      <td>Girls Love</td>\n",
       "      <td>25282.748737</td>\n",
       "    </tr>\n",
       "  </tbody>\n",
       "</table>\n",
       "</div>"
      ],
      "text/plain": [
       "            Genre  Average Members\n",
       "0       Adventure     50609.187485\n",
       "1         Fantasy     53616.265423\n",
       "2          Action     51815.642079\n",
       "3          Comedy     32260.983736\n",
       "4         Romance     51704.191621\n",
       "5           Drama     56745.967123\n",
       "6          Sci-Fi     31199.684201\n",
       "7        Suspense    106416.914126\n",
       "8    Supernatural     43624.726394\n",
       "9   Slice of Life     16251.523062\n",
       "10        Mystery     44240.282607\n",
       "11         Sports     25047.784804\n",
       "12          Ecchi     44005.410032\n",
       "14      Boys Love     21469.473226\n",
       "15         Horror     53917.950033\n",
       "16        Gourmet     39494.453847\n",
       "18     Girls Love     25282.748737"
      ]
     },
     "execution_count": 21,
     "metadata": {},
     "output_type": "execute_result"
    }
   ],
   "source": [
    "genres_df"
   ]
  },
  {
   "cell_type": "markdown",
   "metadata": {},
   "source": [
    "Ta thực hiện sắp xếp lại dữ liệu theo hướng giảm dần sau đó trực quan hòa bằng bar chart"
   ]
  },
  {
   "cell_type": "code",
   "execution_count": 26,
   "metadata": {},
   "outputs": [],
   "source": [
    "genres_df = genres_df.sort_values(by='Average Members', ascending = False)"
   ]
  },
  {
   "cell_type": "markdown",
   "metadata": {},
   "source": [
    "Trực quan hóa bằng biểu đồ:"
   ]
  },
  {
   "cell_type": "code",
   "execution_count": 28,
   "metadata": {},
   "outputs": [
    {
     "data": {
      "image/png": "[encoded data removed]",
      "text/plain": [
       "<Figure size 800x600 with 1 Axes>"
      ]
     },
     "metadata": {},
     "output_type": "display_data"
    }
   ],
   "source": [
    "plt.figure(figsize=(8, 6))\n",
    "sns.barplot(x='Average Members', y='Genre', data = genres_df, palette='viridis')\n",
    "plt.xlabel('Average Members')\n",
    "plt.ylabel('Genre')\n",
    "plt.title('Average Members by Genre')\n",
    "plt.tight_layout()\n",
    "plt.show()"
   ]
  },
  {
   "cell_type": "markdown",
   "metadata": {},
   "source": [
    "***Nhận xét:***\n",
    "\n",
    "- Từ bar chart trên ta có thể thấy nếu có yếu tố `Suspense` trong anime thì có thể thu hút nhiều người xem từ đó đem lại nguồn lợi nhuận tốt hơn. Ngoài ra ta còn có thể cân nhắc các yếu tố khác như `Drama`, `Horror`, `Fantasy`,..."
   ]
  },
  {
   "cell_type": "markdown",
   "metadata": {},
   "source": [
    " ### Câu hỏi 3: Top 5 Các Studio nào đang có sự áp đảo về điểm số (chất lượng) cũng như số lượng người xem, và thể loại của các studio đó là gì?"
   ]
  },
  {
   "cell_type": "markdown",
   "metadata": {},
   "source": [
    "*Ý nghĩa trả lời cho câu hỏi* : Giúp người xem có thể cân nhắc việc lựa chọn 1 studio phim anime để mang lại trải nghiệm tốt nhất cho thể loại yêu thích của họ"
   ]
  },
  {
   "cell_type": "markdown",
   "metadata": {},
   "source": [
    "Tính số điểm trung bình mỗi studio"
   ]
  },
  {
   "cell_type": "code",
   "execution_count": null,
   "metadata": {},
   "outputs": [],
   "source": [
    "df1=df[['Score','Studios','Members']].copy()\n",
    "df1=df1.Studios.apply(pd.Series).merge(df1,right_index=True,left_index=True)\n",
    "df1=df1.melt(id_vars=['Score','Members','Studios'],value_name=\"Studio\")\n",
    "df1=df1.drop([\"variable\",\"Studios\"],axis=1).dropna()\n",
    "df1=df1.groupby(['Studio'])[['Score','Members']].mean().reset_index()\n",
    "df1"
   ]
  },
  {
   "cell_type": "markdown",
   "metadata": {},
   "source": [
    "### Biểu đồ thể hiện mật độ điểm số trung bình của các studio"
   ]
  },
  {
   "cell_type": "code",
   "execution_count": null,
   "metadata": {},
   "outputs": [],
   "source": [
    "plt.subplots(figsize=(18,8))\n",
    "sns.histplot(data=df1,x=\"Score\",kde=True,binwidth=0.1)"
   ]
  },
  {
   "cell_type": "markdown",
   "metadata": {},
   "source": [
    "***Nhận xét***\n",
    "Mật độ studio tập trung nhiều ở múc điểm 6.3~7.0, điểm được đánh giá là khá cao vì không dưới trung bình, vẫn xuất hiện những studio được đánh giá với điểm trung bình cao (lên tới 8.3, 8.4, 8.5) nhưng không nhiều cho thấy các studio duy trì được phong độ ở các bộ phim là không cao tuy nhiên vẫn được chào đón."
   ]
  },
  {
   "cell_type": "code",
   "execution_count": null,
   "metadata": {},
   "outputs": [],
   "source": [
    "# Top 5 Score\n",
    "top=5\n",
    "df1.sort_values(by=['Score'],ascending=False,ignore_index=True)[:top][['Studio','Score']]"
   ]
  },
  {
   "cell_type": "code",
   "execution_count": null,
   "metadata": {},
   "outputs": [],
   "source": [
    "# Top 5 Score\n",
    "top=5\n",
    "df1.sort_values(by=['Members'],ascending=True,ignore_index=True)[:top][['Studio','Members']]"
   ]
  },
  {
   "cell_type": "code",
   "execution_count": null,
   "metadata": {},
   "outputs": [],
   "source": [
    "# Tinh tuong quan theo % cua 2 cot Score va Members\n",
    "# Final-Score = %Score  + %Members\n",
    "df1['Final-Score'] = df1['Score']/df1['Score'].sum()+df1['Members']/df1['Members'].sum()\n",
    "df1.sort_values(by=['Final-Score'], ascending=False,\n",
    "                ignore_index=True, inplace=True)\n",
    "df1.head(10)"
   ]
  },
  {
   "cell_type": "markdown",
   "metadata": {},
   "source": [
    "#### Biểu đồ thể hiện Top 10 studios có điểm và độ nổi tiếng cao"
   ]
  },
  {
   "cell_type": "code",
   "execution_count": null,
   "metadata": {},
   "outputs": [],
   "source": [
    "# Top 10 studios có điểm và độ nổi tiếng cao\n",
    "show_amount=10\n",
    "fig,axis=plt.subplots(figsize=(28,10))\n",
    "sns.barplot(\n",
    "    data=df1[:show_amount],\n",
    "x=\"Studio\",y=\"Score\",color=\"blue\",\n",
    "ax=axis)\n",
    "axis2=axis.twinx()\n",
    "sns.pointplot(data=df1[:show_amount],\n",
    "            x=\"Studio\",\n",
    "            y=\"Members\",\n",
    "            color='orange',\n",
    "            ax=axis2)"
   ]
  }
 ],
 "metadata": {
  "kernelspec": {
   "display_name": "Python 3 (ipykernel)",
   "language": "python",
   "name": "python3"
  },
  "language_info": {
   "codemirror_mode": {
    "name": "ipython",
    "version": 3
   },
   "file_extension": ".py",
   "mimetype": "text/x-python",
   "name": "python",
   "nbconvert_exporter": "python",
   "pygments_lexer": "ipython3",
   "version": "3.11.5"
  },
  "vscode": {
   "interpreter": {
    "hash": "6bfec4ce93f3c8730c5305a78a297c4af7425bada9233a6e3b20f480ff32d241"
   }
  }
 },
 "nbformat": 4,
 "nbformat_minor": 2
}
