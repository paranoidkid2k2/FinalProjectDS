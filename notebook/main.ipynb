{
 "cells": [
  {
   "cell_type": "markdown",
   "metadata": {},
   "source": [
    "# Đồ án thực hành Nhập môn Khoa học Dữ liệu"
   ]
  },
  {
   "cell_type": "markdown",
   "metadata": {},
   "source": [
    "### Nhóm: 12\n",
    "### Thành viên:\n",
    "- 21120531: Nguyễn Văn Phúc\n",
    "- 20120632: Trần Thái Vỹ\n",
    "- 20120409: Trần Thanh Tùng\n"
   ]
  },
  {
   "cell_type": "markdown",
   "metadata": {},
   "source": [
    "### Giảng viên hướng dẫn: Lê Nhựt Nam\n"
   ]
  },
  {
   "cell_type": "markdown",
   "metadata": {},
   "source": [
    "## **Mô tả đồ án:**\n",
    "- Thu thập dữ liệu của 10000 anime trên website.\n",
    "- Từ dữ liệu thu thập được tiến hành phân tích, khám phá, xử lý và đưa ra mô hình phù hợp.\n",
    "\n",
    "#### **Nguồn:**  [myanimelist.net](https://myanimelist.net)"
   ]
  },
  {
   "cell_type": "markdown",
   "metadata": {},
   "source": [
    "## Import thư viện"
   ]
  },
  {
   "cell_type": "code",
   "execution_count": 1,
   "metadata": {},
   "outputs": [],
   "source": [
    "import pandas as pd\n",
    "import matplotlib.pyplot as plt\n",
    "import seaborn as sns\n",
    "import numpy as np\n",
    "import re\n",
    "from datetime import datetime\n",
    "import warnings\n",
    "warnings.simplefilter('ignore')\n",
    "sns.set_theme()"
   ]
  },
  {
   "cell_type": "markdown",
   "metadata": {},
   "source": [
    "## Phần I"
   ]
  },
  {
   "cell_type": "markdown",
   "metadata": {},
   "source": [
    "## Thu thập dữ liệu"
   ]
  },
  {
   "cell_type": "markdown",
   "metadata": {},
   "source": [
    "### Thông tin về dữ liệu"
   ]
  },
  {
   "cell_type": "markdown",
   "metadata": {},
   "source": [
    "- Dữ liệu được sử dụng trong đồ án là tập dữ liệu về các **bộ anime** với những thông tin được lưu trữ liên quan tới những yếu tố được quan tâm với một bộ phim hoạt hình.\n",
    "- Tập dữ liệu được cào và download trực tiếp thông qua [đường dẫn](https://myanimelist.net/topanime.php)."
   ]
  },
  {
   "cell_type": "markdown",
   "metadata": {},
   "source": [
    "### Dữ liệu được thu thập thế nào ?"
   ]
  },
  {
   "cell_type": "markdown",
   "metadata": {},
   "source": [
    "- Nhóm tiến hành crawl dữ liệu với thư viện scrapy.\n",
    "- Ở đây nhóm không crawl hết toàn bộ các anime mà chỉ crawl 10000 bộ nổi nhất được sắp xếp trên web."
   ]
  },
  {
   "cell_type": "markdown",
   "metadata": {},
   "source": [
    "## Khám phá dữ liệu"
   ]
  },
  {
   "cell_type": "markdown",
   "metadata": {},
   "source": [
    "### Đọc dữ liệu từ file json vào dataframe"
   ]
  },
  {
   "cell_type": "code",
   "execution_count": 2,
   "metadata": {
    "scrolled": true
   },
   "outputs": [],
   "source": [
    "anime_df = pd.read_json('../anime_crawler/anime_crawler/dataset/animes_info.json')"
   ]
  },
  {
   "cell_type": "code",
   "execution_count": 3,
   "metadata": {},
   "outputs": [
    {
     "data": {
      "text/html": [
       "<div>\n",
       "<style scoped>\n",
       "    .dataframe tbody tr th:only-of-type {\n",
       "        vertical-align: middle;\n",
       "    }\n",
       "\n",
       "    .dataframe tbody tr th {\n",
       "        vertical-align: top;\n",
       "    }\n",
       "\n",
       "    .dataframe thead th {\n",
       "        text-align: right;\n",
       "    }\n",
       "</style>\n",
       "<table border=\"1\" class=\"dataframe\">\n",
       "  <thead>\n",
       "    <tr style=\"text-align: right;\">\n",
       "      <th></th>\n",
       "      <th>Name</th>\n",
       "      <th>Score</th>\n",
       "      <th>Rank</th>\n",
       "      <th>Type</th>\n",
       "      <th>Episodes</th>\n",
       "      <th>Aired</th>\n",
       "      <th>Premiered</th>\n",
       "      <th>Producers</th>\n",
       "      <th>Studios</th>\n",
       "      <th>Genres</th>\n",
       "      <th>Popularity</th>\n",
       "      <th>Members</th>\n",
       "      <th>Favorites</th>\n",
       "    </tr>\n",
       "  </thead>\n",
       "  <tbody>\n",
       "    <tr>\n",
       "      <th>0</th>\n",
       "      <td>Fullmetal Alchemist: Brotherhood</td>\n",
       "      <td>9.11</td>\n",
       "      <td>1</td>\n",
       "      <td>TV</td>\n",
       "      <td>64</td>\n",
       "      <td>Apr 5, 2009 to Jul 4, 2010</td>\n",
       "      <td>Spring 2009</td>\n",
       "      <td>[Mainichi Broadcasting System, Studio Moriken,...</td>\n",
       "      <td>[Bones]</td>\n",
       "      <td>[Adventure, Drama, Fantasy, Action]</td>\n",
       "      <td>#3</td>\n",
       "      <td>3,037,641</td>\n",
       "      <td>211,082</td>\n",
       "    </tr>\n",
       "    <tr>\n",
       "      <th>1</th>\n",
       "      <td>Bleach: Sennen Kessen-hen</td>\n",
       "      <td>9.10</td>\n",
       "      <td>2</td>\n",
       "      <td>TV</td>\n",
       "      <td>13</td>\n",
       "      <td>Oct 11, 2022 to Dec 27, 2022</td>\n",
       "      <td>Fall 2022</td>\n",
       "      <td>[TV Tokyo, Shueisha, Dentsu, Aniplex]</td>\n",
       "      <td>[Pierrot]</td>\n",
       "      <td>[Adventure, Fantasy, Action]</td>\n",
       "      <td>#669</td>\n",
       "      <td>310,979</td>\n",
       "      <td>11,798</td>\n",
       "    </tr>\n",
       "    <tr>\n",
       "      <th>2</th>\n",
       "      <td>Kaguya-sama wa Kokurasetai: Ultra Romantic</td>\n",
       "      <td>9.09</td>\n",
       "      <td>3</td>\n",
       "      <td>TV</td>\n",
       "      <td>13</td>\n",
       "      <td>Apr 9, 2022 to Jun 25, 2022</td>\n",
       "      <td>Spring 2022</td>\n",
       "      <td>[JR East Marketing &amp; Communications, Mainichi ...</td>\n",
       "      <td>[A-1 Pictures]</td>\n",
       "      <td>[Comedy, Romance]</td>\n",
       "      <td>#238</td>\n",
       "      <td>703,336</td>\n",
       "      <td>25,895</td>\n",
       "    </tr>\n",
       "    <tr>\n",
       "      <th>3</th>\n",
       "      <td>Steins;Gate</td>\n",
       "      <td>9.08</td>\n",
       "      <td>4</td>\n",
       "      <td>TV</td>\n",
       "      <td>24</td>\n",
       "      <td>Apr 6, 2011 to Sep 14, 2011</td>\n",
       "      <td>Spring 2011</td>\n",
       "      <td>[Movic, AT-X, Nitroplus, Kadokawa Pictures Jap...</td>\n",
       "      <td>[White Fox]</td>\n",
       "      <td>[Drama, Sci-Fi, Suspense]</td>\n",
       "      <td>#13</td>\n",
       "      <td>2,338,343</td>\n",
       "      <td>177,381</td>\n",
       "    </tr>\n",
       "    <tr>\n",
       "      <th>4</th>\n",
       "      <td>Gintama°</td>\n",
       "      <td>9.07</td>\n",
       "      <td>5</td>\n",
       "      <td>TV</td>\n",
       "      <td>51</td>\n",
       "      <td>Apr 8, 2015 to Mar 30, 2016</td>\n",
       "      <td>Spring 2015</td>\n",
       "      <td>[TV Tokyo, Dentsu, Aniplex]</td>\n",
       "      <td>[Bandai Namco Pictures]</td>\n",
       "      <td>[Sci-Fi, Comedy, Action]</td>\n",
       "      <td>#337</td>\n",
       "      <td>567,213</td>\n",
       "      <td>15,323</td>\n",
       "    </tr>\n",
       "  </tbody>\n",
       "</table>\n",
       "</div>"
      ],
      "text/plain": [
       "                                         Name  Score  Rank Type Episodes  \\\n",
       "0            Fullmetal Alchemist: Brotherhood   9.11     1   TV       64   \n",
       "1                   Bleach: Sennen Kessen-hen   9.10     2   TV       13   \n",
       "2  Kaguya-sama wa Kokurasetai: Ultra Romantic   9.09     3   TV       13   \n",
       "3                                 Steins;Gate   9.08     4   TV       24   \n",
       "4                                    Gintama°   9.07     5   TV       51   \n",
       "\n",
       "                          Aired    Premiered  \\\n",
       "0    Apr 5, 2009 to Jul 4, 2010  Spring 2009   \n",
       "1  Oct 11, 2022 to Dec 27, 2022    Fall 2022   \n",
       "2   Apr 9, 2022 to Jun 25, 2022  Spring 2022   \n",
       "3   Apr 6, 2011 to Sep 14, 2011  Spring 2011   \n",
       "4   Apr 8, 2015 to Mar 30, 2016  Spring 2015   \n",
       "\n",
       "                                           Producers                  Studios  \\\n",
       "0  [Mainichi Broadcasting System, Studio Moriken,...                  [Bones]   \n",
       "1              [TV Tokyo, Shueisha, Dentsu, Aniplex]                [Pierrot]   \n",
       "2  [JR East Marketing & Communications, Mainichi ...           [A-1 Pictures]   \n",
       "3  [Movic, AT-X, Nitroplus, Kadokawa Pictures Jap...              [White Fox]   \n",
       "4                        [TV Tokyo, Dentsu, Aniplex]  [Bandai Namco Pictures]   \n",
       "\n",
       "                                Genres Popularity    Members Favorites  \n",
       "0  [Adventure, Drama, Fantasy, Action]         #3  3,037,641   211,082  \n",
       "1         [Adventure, Fantasy, Action]       #669    310,979    11,798  \n",
       "2                    [Comedy, Romance]       #238    703,336    25,895  \n",
       "3            [Drama, Sci-Fi, Suspense]        #13  2,338,343   177,381  \n",
       "4             [Sci-Fi, Comedy, Action]       #337    567,213    15,323  "
      ]
     },
     "execution_count": 3,
     "metadata": {},
     "output_type": "execute_result"
    }
   ],
   "source": [
    "anime_df.head()"
   ]
  },
  {
   "cell_type": "markdown",
   "metadata": {},
   "source": [
    "### Dữ liệu có bao nhiêu dòng và bao nhiêu cột?"
   ]
  },
  {
   "cell_type": "markdown",
   "metadata": {},
   "source": [
    "Tiến hành tính số dòng và số cột rồi lưu vào 2 biến `num_rows` và `num_cols`."
   ]
  },
  {
   "cell_type": "code",
   "execution_count": 4,
   "metadata": {},
   "outputs": [],
   "source": [
    "num_rows = len(anime_df.axes[0])\n",
    "num_cols = len(anime_df.axes[1])"
   ]
  },
  {
   "cell_type": "code",
   "execution_count": 5,
   "metadata": {},
   "outputs": [
    {
     "name": "stdout",
     "output_type": "stream",
     "text": [
      "Số dòng:  10000\n",
      "Số cột: 13\n"
     ]
    }
   ],
   "source": [
    "print('Số dòng: ', num_rows)\n",
    "print('Số cột:' , num_cols)"
   ]
  },
  {
   "cell_type": "markdown",
   "metadata": {},
   "source": [
    "**Nhận xét:**\n",
    "* Tập dữ liệu gồm 10000 dòng và 13 cột."
   ]
  },
  {
   "cell_type": "markdown",
   "metadata": {},
   "source": [
    "### Mỗi dòng có ý nghĩa gì? Có vấn đề các dòng có ý nghĩa khác nhau không?"
   ]
  },
  {
   "cell_type": "markdown",
   "metadata": {},
   "source": [
    "- Mỗi dòng là thông tin của một bộ anime với các trường giống nhau nhưng dữ liệu bên trong là riêng biệt.\n",
    "- Các dòng không có ý nghĩa khác nhau\n",
    "- Mỗi dòng đại diện cho một bộ phim nhất định với những yếu tố khác nhau để thể hiện cái nhìn khách quan nhất cho người xem."
   ]
  },
  {
   "cell_type": "markdown",
   "metadata": {},
   "source": [
    "### Dữ liệu các dòng có bị lặp không?"
   ]
  },
  {
   "cell_type": "markdown",
   "metadata": {},
   "source": [
    "Tiến hành kiểm tra bằng cách lưu kết quả vào biến `have_duplicated_rows`. Biến có giá trị True nếu dữ liệu có các dòng bị lặp và False nếu ngược lại."
   ]
  },
  {
   "cell_type": "code",
   "execution_count": 6,
   "metadata": {},
   "outputs": [
    {
     "name": "stdout",
     "output_type": "stream",
     "text": [
      "Các dòng dữ liệu không bị lặp\n"
     ]
    }
   ],
   "source": [
    "have_duplicated_rows=anime_df.Name.duplicated().any()\n",
    "if have_duplicated_rows:\n",
    "    print('Các dòng dữ liệu bị lặp')\n",
    "else:\n",
    "    print('Các dòng dữ liệu không bị lặp')"
   ]
  },
  {
   "cell_type": "markdown",
   "metadata": {},
   "source": [
    "### Mỗi cột có ý nghĩa gì?"
   ]
  },
  {
   "cell_type": "markdown",
   "metadata": {},
   "source": [
    "|Column Name    | Meaning      |\n",
    "|---------------|-----------------------------------------------------------------------------|\n",
    "|Name           |Tên anime                                                                    |\n",
    "|Score          |Số điểm trung bình được đánh giá bởi cộng đồng người dùng của anime đó       |\n",
    "|Rank           |Thứ hạng của anime                                                           |\n",
    "|Type           |Loại anime (TV, Movie, OVA, ONA, Special, Music)                             |\n",
    "|Episodes       |Số tập hiện có                                                               |\n",
    "|Aired          |Thời gian phát sóng                                                          | \n",
    "|Premiered      |Mùa ra mắt                                                                   |\n",
    "|Producers      |Các nhà sản xuất                                                             |\n",
    "|Studios        |Các studio                                                                   |\n",
    "|Genres         |Các yếu tố có trong bộ anime (Trinh thám, Kinh Dị, Phiêu Lưu)                |\n",
    "|Popularity     |Độ phổ biến                                                                  |\n",
    "|Members        |Số lượng người dùng đã thêm anime vào danh sách anime của họ                 |\n",
    "|Favorites      |Số lượng người dùng đã thêm anime vào danh sách yêu thích của họ             |"
   ]
  },
  {
   "cell_type": "markdown",
   "metadata": {},
   "source": [
    "### Mỗi cột hiện đang có kiểu dữ liệu gì? Khoảng biểu diễn của kiểu dữ liệu đó ra sao? Có cột nào có kiểu dữ liệu chưa phù hợp để có thể xử lý tiếp không?"
   ]
  },
  {
   "cell_type": "markdown",
   "metadata": {},
   "source": [
    "Tiến hành lấy `dtype` của mỗi cột và lưu kết quả vào col_dtypes."
   ]
  },
  {
   "cell_type": "code",
   "execution_count": 7,
   "metadata": {},
   "outputs": [
    {
     "data": {
      "text/plain": [
       "Name           object\n",
       "Score         float64\n",
       "Rank            int64\n",
       "Type           object\n",
       "Episodes       object\n",
       "Aired          object\n",
       "Premiered      object\n",
       "Producers      object\n",
       "Studios        object\n",
       "Genres         object\n",
       "Popularity     object\n",
       "Members        object\n",
       "Favorites      object\n",
       "dtype: object"
      ]
     },
     "execution_count": 7,
     "metadata": {},
     "output_type": "execute_result"
    }
   ],
   "source": [
    "col_dtypes = anime_df.dtypes\n",
    "col_dtypes"
   ]
  },
  {
   "cell_type": "markdown",
   "metadata": {},
   "source": [
    "Khoảng biểu diễn của kiểu dữ liệu từng cột:\n",
    "- **Name**: object\n",
    "- **Score**: [np.float64, np.float32]\n",
    "- **Rank**: [np.int64, np.int32]\n",
    "- **Type**: object\n",
    "- **Episodes**: object\n",
    "- **Aired**: object\n",
    "- **Premiered**: object\n",
    "- **Producers**: object\n",
    "- **Studios**: object\n",
    "- **Genres**: object\n",
    "- **Popularity**: object\n",
    "- **Members**: object\n",
    "- **Favorites**: object"
   ]
  },
  {
   "cell_type": "markdown",
   "metadata": {},
   "source": [
    "**Nhận xét:**\n",
    "- Cột `Episode` chứa số tập phim (cần lưu dữ liệu ở dạng numeric) nhưng lại có kiểu dữ liệu object, một số dòng có giá trị \"Unknown\". Cần chuyển sang kiểu int để dễ thao tác\n",
    "- Cột `Aired` có kiểu dữ liệu object, chứa thông tin thời gian phát sóng, có dạng \"**Ngày bắt đầu** to **Ngày kết thúc**, trong đó **Ngày bắt đầu** được viết dưới dạng *%b %-d, %Y*, **Ngày kết thúc** có thể viết dưới dạng như **Ngày bắt đầu** hoặc có thể là dấu \"?\" thể hiện cho việc anime chưa kết thúc. Ngoài ra, một số anime thể loại đặc biệt như movie, OVA, ONA, Special, Music thì *thường* không có ngày kết thúc mà chỉ có ngày bắt đầu.\n",
    "- Cột `Popularites`, `Members`, `Favorites` có kiểu dữ liệu object, cần chuyển sang kiểu int"
   ]
  },
  {
   "cell_type": "markdown",
   "metadata": {},
   "source": [
    "## Tiền xử lý"
   ]
  },
  {
   "cell_type": "markdown",
   "metadata": {},
   "source": [
    "### Tiến hành để đưa các cột về kiểu dữ liệu phù hợp"
   ]
  },
  {
   "cell_type": "markdown",
   "metadata": {},
   "source": [
    "Ta tiến hành tiền xử lý các cột trên như sau:\n",
    "- Ở cột `Episodes`, ta chuyển các giá trị \"Unknown\" thành NaN và các giá trị khác thành kiểu int\n",
    "- Ở cột `Aired`, ta tách thành 2 cột là `From` và `To` lần lượt biểu diễn **Ngày bắt đầu** và **Ngày kết thúc**. Ở cột `From`, ta để kiểu dữ liệu datetime, còn ở cột `To`, ta để kiểu dữ liệu datetime đối với các anime có **Ngày kết thúc**, những anime chỉ có **Ngày bắt đầu** hoặc **Ngày kết thúc** có dạng \"?\" thì ta để giá trị NaN. Đặc biệt những bộ anime chỉ có 1 tập thì **Ngày bắt đầu** cũng là ngày **Ngày kết thúc**.\n",
    "- Ở cột `Popularity`, ta loại bỏ dấu \"#\" ở đầu và chuyển nó về kiểu dữ liệu int\n",
    "- Chuyển 2 cột `Members` và `Favorites` về kiểu dữ liệu int (loại bỏ dấu \",\")\n",
    "- Ở Cột `Premiered`, ta giữ lại giá trị mùa (Xuân, hạ, thu, đông) và loại bỏ yếu tố thời gian (năm)"
   ]
  },
  {
   "cell_type": "code",
   "execution_count": 8,
   "metadata": {},
   "outputs": [],
   "source": [
    "# Chuyển các giá trị \"Unknown\" thành NaN và các giá trị khác thành kiểu int ở cột Episodes\n",
    "anime_df['Episodes'].replace(to_replace = \"Unknown\", value=np.nan, inplace=True)\n",
    "anime_df['Episodes'] = anime_df['Episodes'].astype('Int64')\n",
    "\n",
    "anime_df['Aired'] = anime_df['Aired'].astype(str)\n",
    "\n",
    "# Hàm để chuyển đổi chuỗi thành đối tượng datetime\n",
    "def convert_to_datetime(date_str):\n",
    "    try:\n",
    "        return datetime.strptime(date_str, \"%b %d, %Y\")\n",
    "    except ValueError:\n",
    "        return np.nan\n",
    "\n",
    "# Tách thành 2 cột From và To\n",
    "anime_df['From'] = anime_df['Aired'].apply(lambda x: convert_to_datetime(x.split(' to ')[0]))\n",
    "\n",
    "# Tạo cột To và xử lý giá trị \"?\"\n",
    "anime_df['To'] = anime_df['Aired'].apply(lambda x: convert_to_datetime(x.split(' to ')[1]) if ' to ' in x else convert_to_datetime(x) if '?' not in x else np.nan)\n",
    "\n",
    "# Xóa Cột Aired\n",
    "anime_df.drop(columns=['Aired'], inplace=True)\n",
    "\n",
    "# Giữ lại giá trị mùa (Xuân, hạ, thu, đông) và loại bỏ yếu tố thời gian (năm) ở cột Premiered\n",
    "anime_df['Premiered'].replace(\"?\",np.nan,inplace=True)\n",
    "anime_df['Premiered'] = anime_df['Premiered'].transform(lambda x: re.findall(\"[a-zA-Z]+\",x)[0] if x is not np.nan else x)\n",
    "\n",
    "# Ở cột `Popularity`, ta loại bỏ dấu \"#\" ở đầu và chuyển nó về kiểu dữ liệu int\n",
    "anime_df['Popularity']=anime_df['Popularity'].transform(lambda x: int(x.replace(\"#\",\"\")))\n",
    "\n",
    "# Chuyển 2 cột `Members` và `Favorites` về kiểu dữ liệu int (loại bỏ dấu \",\")\n",
    "anime_df['Members'] = anime_df['Members'].transform(lambda x: int(x.replace(\",\",\"\")))\n",
    "anime_df['Favorites'] = anime_df['Favorites'].transform(lambda x: int(x.replace(\",\",\"\")))"
   ]
  },
  {
   "cell_type": "code",
   "execution_count": 9,
   "metadata": {},
   "outputs": [
    {
     "data": {
      "text/plain": [
       "Name                  object\n",
       "Score                float64\n",
       "Rank                   int64\n",
       "Type                  object\n",
       "Episodes               Int64\n",
       "Premiered             object\n",
       "Producers             object\n",
       "Studios               object\n",
       "Genres                object\n",
       "Popularity             int64\n",
       "Members                int64\n",
       "Favorites              int64\n",
       "From          datetime64[ns]\n",
       "To            datetime64[ns]\n",
       "dtype: object"
      ]
     },
     "execution_count": 9,
     "metadata": {},
     "output_type": "execute_result"
    }
   ],
   "source": [
    "anime_df.dtypes"
   ]
  },
  {
   "cell_type": "markdown",
   "metadata": {},
   "source": [
    "## Khám phá dữ liệu (tiếp tục)"
   ]
  },
  {
   "cell_type": "markdown",
   "metadata": {},
   "source": [
    "### Với mỗi cột có kiểu dữ liệu dạng numeric, các giá trị được phân bố như thế nào?"
   ]
  },
  {
   "cell_type": "markdown",
   "metadata": {},
   "source": [
    "Ta thấy các cột có giá trị **numeric** là:\n",
    "`Score`, \n",
    "`Rank`, \n",
    "`Episodes`, \n",
    "`From`, \n",
    "`To`, \n",
    "`Popularity`, \n",
    "`Members`, \n",
    "`Favorites`\\\n",
    "Các Cột này có thể Chia làm 2 nhóm:\n",
    "- Số thông thường có thể tính toán (float64, int64): `Score`, `Rank`, `Episodes`, `Popularity`, `Members`, `Favorites`\n",
    "- Ngày ( datetime64[ns]): `From`, `To`"
   ]
  },
  {
   "cell_type": "markdown",
   "metadata": {},
   "source": [
    "Với mỗi cột có kiểu dữ liệu `datetime`, ta tiến hành tính tỉ lệ % giá trị thiếu (từ 0 đến 100), min, max. Sau đó lưu kết quả vào dataframe `nume_col_profiles_df`. Dataframe này có 3 dòng là \"missing_ratio\", \"min\", \"max\"; và có các cột là các cột numeric."
   ]
  },
  {
   "cell_type": "code",
   "execution_count": 10,
   "metadata": {},
   "outputs": [
    {
     "data": {
      "text/html": [
       "<div>\n",
       "<style scoped>\n",
       "    .dataframe tbody tr th:only-of-type {\n",
       "        vertical-align: middle;\n",
       "    }\n",
       "\n",
       "    .dataframe tbody tr th {\n",
       "        vertical-align: top;\n",
       "    }\n",
       "\n",
       "    .dataframe thead th {\n",
       "        text-align: right;\n",
       "    }\n",
       "</style>\n",
       "<table border=\"1\" class=\"dataframe\">\n",
       "  <thead>\n",
       "    <tr style=\"text-align: right;\">\n",
       "      <th></th>\n",
       "      <th>missing_ratio</th>\n",
       "      <th>min</th>\n",
       "      <th>max</th>\n",
       "    </tr>\n",
       "  </thead>\n",
       "  <tbody>\n",
       "    <tr>\n",
       "      <th>From</th>\n",
       "      <td>1.94</td>\n",
       "      <td>1929-10-14</td>\n",
       "      <td>2022-12-08</td>\n",
       "    </tr>\n",
       "    <tr>\n",
       "      <th>To</th>\n",
       "      <td>3.09</td>\n",
       "      <td>1929-10-14</td>\n",
       "      <td>2023-01-08</td>\n",
       "    </tr>\n",
       "  </tbody>\n",
       "</table>\n",
       "</div>"
      ],
      "text/plain": [
       "      missing_ratio        min        max\n",
       "From           1.94 1929-10-14 2022-12-08\n",
       "To             3.09 1929-10-14 2023-01-08"
      ]
     },
     "execution_count": 10,
     "metadata": {},
     "output_type": "execute_result"
    }
   ],
   "source": [
    "nume_col_df_1 = anime_df.loc[:,[\"From\",\"To\"]]\n",
    "missing_ratio = pd.DataFrame(nume_col_df_1.isnull().sum()*100/len(nume_col_df_1),columns=['missing_ratio'])\n",
    "min = pd.DataFrame(pd.Series({'From':nume_col_df_1.loc[:,'From'].min(),'To':nume_col_df_1.loc[:,'To'].min()}),columns=['min'])\n",
    "max = pd.DataFrame(pd.Series({'From':nume_col_df_1.loc[:,'From'].max(),'To':nume_col_df_1.loc[:,'To'].max()}),columns=['max'])\n",
    "nume_col_profiles_df = pd.concat([missing_ratio, min,max],axis=1)\n",
    "nume_col_profiles_df"
   ]
  },
  {
   "cell_type": "markdown",
   "metadata": {},
   "source": [
    "Với mỗi cột có kiểu dữ liệu `numeric`, ta tính kết quả thu được và lưu vào Data Frame `nume_col_df_2`. Dataframe này gồm các dòng: \"missing_ratio\", \"count\", \"mean\", \"std\", \"min\", \"25%\", \"50%\", \"75%\", \"max\";"
   ]
  },
  {
   "cell_type": "code",
   "execution_count": 11,
   "metadata": {},
   "outputs": [
    {
     "data": {
      "text/html": [
       "<div>\n",
       "<style scoped>\n",
       "    .dataframe tbody tr th:only-of-type {\n",
       "        vertical-align: middle;\n",
       "    }\n",
       "\n",
       "    .dataframe tbody tr th {\n",
       "        vertical-align: top;\n",
       "    }\n",
       "\n",
       "    .dataframe thead th {\n",
       "        text-align: right;\n",
       "    }\n",
       "</style>\n",
       "<table border=\"1\" class=\"dataframe\">\n",
       "  <thead>\n",
       "    <tr style=\"text-align: right;\">\n",
       "      <th></th>\n",
       "      <th>Score</th>\n",
       "      <th>Rank</th>\n",
       "      <th>Episodes</th>\n",
       "      <th>Popularity</th>\n",
       "      <th>Members</th>\n",
       "      <th>Favorites</th>\n",
       "    </tr>\n",
       "  </thead>\n",
       "  <tbody>\n",
       "    <tr>\n",
       "      <th>missing_ratio</th>\n",
       "      <td>0.000000</td>\n",
       "      <td>0.000000</td>\n",
       "      <td>0.51</td>\n",
       "      <td>0.00000</td>\n",
       "      <td>0.000000e+00</td>\n",
       "      <td>0.00000</td>\n",
       "    </tr>\n",
       "    <tr>\n",
       "      <th>count</th>\n",
       "      <td>10000.000000</td>\n",
       "      <td>10000.000000</td>\n",
       "      <td>9949.0</td>\n",
       "      <td>10000.00000</td>\n",
       "      <td>1.000000e+04</td>\n",
       "      <td>10000.00000</td>\n",
       "    </tr>\n",
       "    <tr>\n",
       "      <th>mean</th>\n",
       "      <td>6.865628</td>\n",
       "      <td>5000.501300</td>\n",
       "      <td>14.359634</td>\n",
       "      <td>6310.71830</td>\n",
       "      <td>8.269937e+04</td>\n",
       "      <td>1003.94020</td>\n",
       "    </tr>\n",
       "    <tr>\n",
       "      <th>std</th>\n",
       "      <td>0.648243</td>\n",
       "      <td>2886.894709</td>\n",
       "      <td>47.566261</td>\n",
       "      <td>4324.82702</td>\n",
       "      <td>2.259088e+05</td>\n",
       "      <td>6549.66395</td>\n",
       "    </tr>\n",
       "    <tr>\n",
       "      <th>min</th>\n",
       "      <td>5.860000</td>\n",
       "      <td>1.000000</td>\n",
       "      <td>1.0</td>\n",
       "      <td>1.00000</td>\n",
       "      <td>1.700000e+02</td>\n",
       "      <td>0.00000</td>\n",
       "    </tr>\n",
       "    <tr>\n",
       "      <th>25%</th>\n",
       "      <td>6.340000</td>\n",
       "      <td>2500.750000</td>\n",
       "      <td>1.0</td>\n",
       "      <td>2604.75000</td>\n",
       "      <td>2.479000e+03</td>\n",
       "      <td>3.00000</td>\n",
       "    </tr>\n",
       "    <tr>\n",
       "      <th>50%</th>\n",
       "      <td>6.780000</td>\n",
       "      <td>5000.500000</td>\n",
       "      <td>5.0</td>\n",
       "      <td>5615.50000</td>\n",
       "      <td>1.079300e+04</td>\n",
       "      <td>17.00000</td>\n",
       "    </tr>\n",
       "    <tr>\n",
       "      <th>75%</th>\n",
       "      <td>7.300000</td>\n",
       "      <td>7500.250000</td>\n",
       "      <td>13.0</td>\n",
       "      <td>9657.75000</td>\n",
       "      <td>5.594475e+04</td>\n",
       "      <td>150.00000</td>\n",
       "    </tr>\n",
       "    <tr>\n",
       "      <th>max</th>\n",
       "      <td>9.110000</td>\n",
       "      <td>10000.000000</td>\n",
       "      <td>3057.0</td>\n",
       "      <td>18426.00000</td>\n",
       "      <td>3.583787e+06</td>\n",
       "      <td>211082.00000</td>\n",
       "    </tr>\n",
       "  </tbody>\n",
       "</table>\n",
       "</div>"
      ],
      "text/plain": [
       "                      Score          Rank   Episodes   Popularity  \\\n",
       "missing_ratio      0.000000      0.000000       0.51      0.00000   \n",
       "count          10000.000000  10000.000000     9949.0  10000.00000   \n",
       "mean               6.865628   5000.501300  14.359634   6310.71830   \n",
       "std                0.648243   2886.894709  47.566261   4324.82702   \n",
       "min                5.860000      1.000000        1.0      1.00000   \n",
       "25%                6.340000   2500.750000        1.0   2604.75000   \n",
       "50%                6.780000   5000.500000        5.0   5615.50000   \n",
       "75%                7.300000   7500.250000       13.0   9657.75000   \n",
       "max                9.110000  10000.000000     3057.0  18426.00000   \n",
       "\n",
       "                    Members     Favorites  \n",
       "missing_ratio  0.000000e+00       0.00000  \n",
       "count          1.000000e+04   10000.00000  \n",
       "mean           8.269937e+04    1003.94020  \n",
       "std            2.259088e+05    6549.66395  \n",
       "min            1.700000e+02       0.00000  \n",
       "25%            2.479000e+03       3.00000  \n",
       "50%            1.079300e+04      17.00000  \n",
       "75%            5.594475e+04     150.00000  \n",
       "max            3.583787e+06  211082.00000  "
      ]
     },
     "execution_count": 11,
     "metadata": {},
     "output_type": "execute_result"
    }
   ],
   "source": [
    "nume_col_df_2 =  anime_df.loc[:,['Score','Rank','Episodes','Popularity','Members','Favorites']]\n",
    "def missing_ratio(s):\n",
    "    return s.isna().mean() * 100\n",
    "missing_df = nume_col_df_2.agg([missing_ratio])\n",
    "nume_col_df = pd.concat([missing_df,nume_col_df_2.describe()])\n",
    "nume_col_df"
   ]
  },
  {
   "cell_type": "markdown",
   "metadata": {},
   "source": [
    "### Với mỗi cột có kiểu dữ liệu dạng categorical, các giá trị được phân bố như thế nào?"
   ]
  },
  {
   "cell_type": "markdown",
   "metadata": {},
   "source": [
    "Ta thấy các cột có giá trị categorical:\n",
    "`Type`, `Premiered`, `Producers`, `Studios` và `Genres`\\\n",
    "Ta không xét tới cột Name vì các giá trị của cột này đều là duy nhất."
   ]
  },
  {
   "cell_type": "markdown",
   "metadata": {},
   "source": [
    "Với mỗi cột categorical, ta tiến hành tính:\n",
    "- Tỉ lệ % giá trị thiếu (từ 0 đến 100)\n",
    "- Số lượng giá trị khác nhau (không xét giá trị thiếu), 3 cột Producers, Studios, và Genres chứa thông tin ở dạng list nên việc đếm các giá trị không có ý nghĩa mấy vì số lượng tổ hợp khá nhiều, nên ta sẽ đếm số lượng các phần tử có trong list\n",
    "- Tỉ lệ % (từ 0 đến 100) của mỗi giá trị được sort theo tỉ lệ % giảm dần (không xét giá trị thiếu, tỉ lệ là tỉ lệ so với số lượng các giá trị không thiếu): sử dụng dictionary với key là giá trị, value là tỉ lệ %\\\n",
    "\n",
    "Sau đó ta tiến hành lưu kết quả vào dataframe `cate_col_profiles_df`. Dataframe này có 3 dòng là \"missing_ratio\", \"num_vals\", \"vals_ratios\"; và có các cột là các cột categorical"
   ]
  },
  {
   "cell_type": "code",
   "execution_count": 12,
   "metadata": {},
   "outputs": [
    {
     "data": {
      "text/html": [
       "<div>\n",
       "<style scoped>\n",
       "    .dataframe tbody tr th:only-of-type {\n",
       "        vertical-align: middle;\n",
       "    }\n",
       "\n",
       "    .dataframe tbody tr th {\n",
       "        vertical-align: top;\n",
       "    }\n",
       "\n",
       "    .dataframe thead th {\n",
       "        text-align: right;\n",
       "    }\n",
       "</style>\n",
       "<table border=\"1\" class=\"dataframe\">\n",
       "  <thead>\n",
       "    <tr style=\"text-align: right;\">\n",
       "      <th></th>\n",
       "      <th>Type</th>\n",
       "      <th>Premiered</th>\n",
       "      <th>Producers</th>\n",
       "      <th>Studios</th>\n",
       "      <th>Genres</th>\n",
       "    </tr>\n",
       "  </thead>\n",
       "  <tbody>\n",
       "    <tr>\n",
       "      <th>missing_ratio</th>\n",
       "      <td>0.0</td>\n",
       "      <td>61.1</td>\n",
       "      <td>0.0</td>\n",
       "      <td>0.0</td>\n",
       "      <td>7.64</td>\n",
       "    </tr>\n",
       "    <tr>\n",
       "      <th>num_vals</th>\n",
       "      <td>7</td>\n",
       "      <td>4</td>\n",
       "      <td>692</td>\n",
       "      <td>557</td>\n",
       "      <td>19</td>\n",
       "    </tr>\n",
       "    <tr>\n",
       "      <th>value_ratios</th>\n",
       "      <td>{'TV': 39.1, 'Movie': 16.2, 'Special': 15.1, '...</td>\n",
       "      <td>{'Spring': 32.5, 'Fall': 30.2, 'Winter': 19.9,...</td>\n",
       "      <td>{'None found, ': 7.8, 'add some': 7.8, 'Aniple...</td>\n",
       "      <td>{'None found, ': 7.8, 'add some': 7.8, 'Toei A...</td>\n",
       "      <td>{'Comedy': 16.5, 'Action': 14.8, 'Drama': 10.4...</td>\n",
       "    </tr>\n",
       "  </tbody>\n",
       "</table>\n",
       "</div>"
      ],
      "text/plain": [
       "                                                            Type  \\\n",
       "missing_ratio                                                0.0   \n",
       "num_vals                                                       7   \n",
       "value_ratios   {'TV': 39.1, 'Movie': 16.2, 'Special': 15.1, '...   \n",
       "\n",
       "                                                       Premiered  \\\n",
       "missing_ratio                                               61.1   \n",
       "num_vals                                                       4   \n",
       "value_ratios   {'Spring': 32.5, 'Fall': 30.2, 'Winter': 19.9,...   \n",
       "\n",
       "                                                       Producers  \\\n",
       "missing_ratio                                                0.0   \n",
       "num_vals                                                     692   \n",
       "value_ratios   {'None found, ': 7.8, 'add some': 7.8, 'Aniple...   \n",
       "\n",
       "                                                         Studios  \\\n",
       "missing_ratio                                                0.0   \n",
       "num_vals                                                     557   \n",
       "value_ratios   {'None found, ': 7.8, 'add some': 7.8, 'Toei A...   \n",
       "\n",
       "                                                          Genres  \n",
       "missing_ratio                                               7.64  \n",
       "num_vals                                                      19  \n",
       "value_ratios   {'Comedy': 16.5, 'Action': 14.8, 'Drama': 10.4...  "
      ]
     },
     "execution_count": 12,
     "metadata": {},
     "output_type": "execute_result"
    }
   ],
   "source": [
    "cate_col_df = anime_df[[\"Type\",\"Premiered\", \"Producers\", \"Studios\", \"Genres\"]].copy()\n",
    "missing_ratio = cate_col_df.isnull().sum() * 100 / len(cate_col_df)\n",
    "cate_col_df[[\"Producers\", \"Studios\", \"Genres\"]] = cate_col_df[[\"Producers\", \"Studios\", \"Genres\"]].apply(lambda x: x.explode(ignore_index=True))\n",
    "num_values = cate_col_df.nunique()\n",
    "value_ratios = cate_col_df.apply(lambda x: dict(x.value_counts(normalize = True).mul(100).round(1)))\n",
    "\n",
    "r_name = [\"missing_ratio\", \"num_vals\", \"value_ratios\"]\n",
    "\n",
    "cate_col_profiles_df = pd.DataFrame([missing_ratio,num_values,pd.Series(value_ratios,index=[\"Type\",\"Premiered\", \"Producers\", \"Studios\", \"Genres\"])],index=r_name)\n",
    "cate_col_profiles_df"
   ]
  },
  {
   "cell_type": "markdown",
   "metadata": {},
   "source": [
    "**Nhận xét:**\n",
    " - Các cột `Type`, `Producers`, `Studios` đều không có giá trị thiếu. Có 2 cột `Premiered` và `Genres` vẫn có thiếu, đặc biệt cột 'Premiered' có tỉ lệ giá trị thiếu khá cao (hơn 50%). \n",
    " - Tuy nhiên điều này hoàn toàn có thể chấp nhận đươc vì các trường thiếu dữ liệu này không quá cần thiết cho một bộ phim."
   ]
  },
  {
   "cell_type": "markdown",
   "metadata": {},
   "source": [
    "Ta lưu dataframe đã được xử lý vào file `anime.csv`"
   ]
  },
  {
   "cell_type": "code",
   "execution_count": 13,
   "metadata": {},
   "outputs": [],
   "source": [
    "anime_df.to_csv('../anime_crawler/anime_crawler/dataset/anime.csv', index = False)"
   ]
  },
  {
   "cell_type": "markdown",
   "metadata": {},
   "source": [
    "---"
   ]
  },
  {
   "cell_type": "markdown",
   "metadata": {},
   "source": [
    "## Phần II"
   ]
  },
  {
   "cell_type": "markdown",
   "metadata": {},
   "source": [
    "## Đặt ra câu hỏi có ý nghĩa cần trả lời"
   ]
  },
  {
   "cell_type": "markdown",
   "metadata": {},
   "source": [
    "### Câu 1: Top 5 studio có số điểm (Trung Bình) và số lượng người xem đăng ký nhiều nhất ( Members)\n"
   ]
  },
  {
   "cell_type": "markdown",
   "metadata": {},
   "source": [
    "**_Nhận xét:_**\n",
    "\n",
    "Câu hỏi này giúp người xem có được đánh giá về việc lựa chọn 1 studio phim anime đứng top và có được những trải nghiệm tốt nhất.\n"
   ]
  },
  {
   "cell_type": "markdown",
   "metadata": {},
   "source": [
    "**_Các bước tiến hành:_**"
   ]
  },
  {
   "cell_type": "code",
   "execution_count": 14,
   "metadata": {},
   "outputs": [
    {
     "data": {
      "text/html": [
       "<div>\n",
       "<style scoped>\n",
       "    .dataframe tbody tr th:only-of-type {\n",
       "        vertical-align: middle;\n",
       "    }\n",
       "\n",
       "    .dataframe tbody tr th {\n",
       "        vertical-align: top;\n",
       "    }\n",
       "\n",
       "    .dataframe thead th {\n",
       "        text-align: right;\n",
       "    }\n",
       "</style>\n",
       "<table border=\"1\" class=\"dataframe\">\n",
       "  <thead>\n",
       "    <tr style=\"text-align: right;\">\n",
       "      <th></th>\n",
       "      <th>Studio</th>\n",
       "      <th>Score</th>\n",
       "      <th>Members</th>\n",
       "    </tr>\n",
       "  </thead>\n",
       "  <tbody>\n",
       "    <tr>\n",
       "      <th>0</th>\n",
       "      <td>10Gauge</td>\n",
       "      <td>6.784000</td>\n",
       "      <td>3053.400000</td>\n",
       "    </tr>\n",
       "    <tr>\n",
       "      <th>1</th>\n",
       "      <td>2:10 AM Animation</td>\n",
       "      <td>6.784000</td>\n",
       "      <td>2965.000000</td>\n",
       "    </tr>\n",
       "    <tr>\n",
       "      <th>2</th>\n",
       "      <td>5 Inc.</td>\n",
       "      <td>6.380000</td>\n",
       "      <td>5531.000000</td>\n",
       "    </tr>\n",
       "    <tr>\n",
       "      <th>3</th>\n",
       "      <td>7doc</td>\n",
       "      <td>6.385000</td>\n",
       "      <td>717.500000</td>\n",
       "    </tr>\n",
       "    <tr>\n",
       "      <th>4</th>\n",
       "      <td>8bit</td>\n",
       "      <td>7.164231</td>\n",
       "      <td>181995.557692</td>\n",
       "    </tr>\n",
       "    <tr>\n",
       "      <th>...</th>\n",
       "      <td>...</td>\n",
       "      <td>...</td>\n",
       "      <td>...</td>\n",
       "    </tr>\n",
       "    <tr>\n",
       "      <th>611</th>\n",
       "      <td>production doA</td>\n",
       "      <td>7.080000</td>\n",
       "      <td>70614.250000</td>\n",
       "    </tr>\n",
       "    <tr>\n",
       "      <th>612</th>\n",
       "      <td>studio MOTHER</td>\n",
       "      <td>7.084000</td>\n",
       "      <td>97721.000000</td>\n",
       "    </tr>\n",
       "    <tr>\n",
       "      <th>613</th>\n",
       "      <td>team Yamahitsuji</td>\n",
       "      <td>7.230000</td>\n",
       "      <td>106246.000000</td>\n",
       "    </tr>\n",
       "    <tr>\n",
       "      <th>614</th>\n",
       "      <td>teamKG</td>\n",
       "      <td>6.170000</td>\n",
       "      <td>34867.333333</td>\n",
       "    </tr>\n",
       "    <tr>\n",
       "      <th>615</th>\n",
       "      <td>ufotable</td>\n",
       "      <td>7.290781</td>\n",
       "      <td>233929.109375</td>\n",
       "    </tr>\n",
       "  </tbody>\n",
       "</table>\n",
       "<p>616 rows × 3 columns</p>\n",
       "</div>"
      ],
      "text/plain": [
       "                Studio     Score        Members\n",
       "0              10Gauge  6.784000    3053.400000\n",
       "1    2:10 AM Animation  6.784000    2965.000000\n",
       "2               5 Inc.  6.380000    5531.000000\n",
       "3                 7doc  6.385000     717.500000\n",
       "4                 8bit  7.164231  181995.557692\n",
       "..                 ...       ...            ...\n",
       "611     production doA  7.080000   70614.250000\n",
       "612      studio MOTHER  7.084000   97721.000000\n",
       "613   team Yamahitsuji  7.230000  106246.000000\n",
       "614             teamKG  6.170000   34867.333333\n",
       "615           ufotable  7.290781  233929.109375\n",
       "\n",
       "[616 rows x 3 columns]"
      ]
     },
     "execution_count": 14,
     "metadata": {},
     "output_type": "execute_result"
    }
   ],
   "source": [
    "df1=anime_df[['Score','Studios','Members']].copy()\n",
    "df1=df1.Studios.apply(pd.Series).merge(df1,right_index=True,left_index=True)\n",
    "df1=df1.melt(id_vars=['Score','Members','Studios'],value_name=\"Studio\")\n",
    "df1=df1.drop([\"variable\",\"Studios\"],axis=1).dropna()\n",
    "df1=df1.groupby(['Studio'])[['Score','Members']].mean().reset_index()\n",
    "df1"
   ]
  },
  {
   "cell_type": "code",
   "execution_count": 15,
   "metadata": {},
   "outputs": [
    {
     "data": {
      "text/plain": [
       "count    616.000000\n",
       "mean       6.704220\n",
       "std        0.457654\n",
       "min        5.870000\n",
       "25%        6.370000\n",
       "50%        6.676910\n",
       "75%        7.015312\n",
       "max        8.403333\n",
       "Name: Score, dtype: float64"
      ]
     },
     "execution_count": 15,
     "metadata": {},
     "output_type": "execute_result"
    }
   ],
   "source": [
    "df1['Score'].describe()"
   ]
  },
  {
   "cell_type": "code",
   "execution_count": 16,
   "metadata": {},
   "outputs": [
    {
     "data": {
      "text/plain": [
       "count          616\n",
       "unique         616\n",
       "top       ufotable\n",
       "freq             1\n",
       "Name: Studio, dtype: object"
      ]
     },
     "execution_count": 16,
     "metadata": {},
     "output_type": "execute_result"
    }
   ],
   "source": [
    "df1['Studio'].describe()"
   ]
  },
  {
   "cell_type": "markdown",
   "metadata": {},
   "source": [
    "### Biểu đồ thể hiện mật độ điểm số trung bình của các studio"
   ]
  },
  {
   "cell_type": "code",
   "execution_count": 17,
   "metadata": {},
   "outputs": [
    {
     "data": {
      "text/plain": [
       "<Axes: xlabel='Score', ylabel='Count'>"
      ]
     },
     "execution_count": 17,
     "metadata": {},
     "output_type": "execute_result"
    },
    {
     "data": {
      "image/png": "[encoded data removed]",
      "text/plain": [
       "<Figure size 800x600 with 1 Axes>"
      ]
     },
     "metadata": {},
     "output_type": "display_data"
    }
   ],
   "source": [
    "plt.subplots(figsize=(8,6))\n",
    "sns.histplot(data=df1,x=\"Score\",kde=True,binwidth=0.1)"
   ]
  },
  {
   "cell_type": "markdown",
   "metadata": {},
   "source": [
    "**_Nhận xét:_**\n",
    "\n",
    "Mật độ studio tập trung nhiều ở múc điểm 6.3~7.0, điểm được đánh giá là khá cao vì không dưới trung bình, vẫn xuất hiện những studio được đánh giá với điểm trung bình cao (lên tới 8.3, 8.4, 8.5) nhưng không nhiều cho thấy các studio duy trì được phong độ ở các bộ phim là không cao tuy nhiên vẫn được chào đón.\n"
   ]
  },
  {
   "cell_type": "code",
   "execution_count": 18,
   "metadata": {},
   "outputs": [
    {
     "data": {
      "text/html": [
       "<div>\n",
       "<style scoped>\n",
       "    .dataframe tbody tr th:only-of-type {\n",
       "        vertical-align: middle;\n",
       "    }\n",
       "\n",
       "    .dataframe tbody tr th {\n",
       "        vertical-align: top;\n",
       "    }\n",
       "\n",
       "    .dataframe thead th {\n",
       "        text-align: right;\n",
       "    }\n",
       "</style>\n",
       "<table border=\"1\" class=\"dataframe\">\n",
       "  <thead>\n",
       "    <tr style=\"text-align: right;\">\n",
       "      <th></th>\n",
       "      <th>Studio</th>\n",
       "      <th>Score</th>\n",
       "    </tr>\n",
       "  </thead>\n",
       "  <tbody>\n",
       "    <tr>\n",
       "      <th>0</th>\n",
       "      <td>K-Factory</td>\n",
       "      <td>8.403333</td>\n",
       "    </tr>\n",
       "    <tr>\n",
       "      <th>1</th>\n",
       "      <td>Studio Bind</td>\n",
       "      <td>8.346667</td>\n",
       "    </tr>\n",
       "    <tr>\n",
       "      <th>2</th>\n",
       "      <td>Egg Firm</td>\n",
       "      <td>8.292500</td>\n",
       "    </tr>\n",
       "    <tr>\n",
       "      <th>3</th>\n",
       "      <td>Nippon Ramayana Film Co.</td>\n",
       "      <td>8.250000</td>\n",
       "    </tr>\n",
       "    <tr>\n",
       "      <th>4</th>\n",
       "      <td>Studio Signpost</td>\n",
       "      <td>8.053333</td>\n",
       "    </tr>\n",
       "  </tbody>\n",
       "</table>\n",
       "</div>"
      ],
      "text/plain": [
       "                     Studio     Score\n",
       "0                 K-Factory  8.403333\n",
       "1               Studio Bind  8.346667\n",
       "2                  Egg Firm  8.292500\n",
       "3  Nippon Ramayana Film Co.  8.250000\n",
       "4           Studio Signpost  8.053333"
      ]
     },
     "execution_count": 18,
     "metadata": {},
     "output_type": "execute_result"
    }
   ],
   "source": [
    "# Top 5 Score\n",
    "top=5\n",
    "df1.sort_values(by=['Score'],ascending=False,ignore_index=True)[:top][['Studio','Score']]"
   ]
  },
  {
   "cell_type": "code",
   "execution_count": 19,
   "metadata": {},
   "outputs": [
    {
     "data": {
      "text/html": [
       "<div>\n",
       "<style scoped>\n",
       "    .dataframe tbody tr th:only-of-type {\n",
       "        vertical-align: middle;\n",
       "    }\n",
       "\n",
       "    .dataframe tbody tr th {\n",
       "        vertical-align: top;\n",
       "    }\n",
       "\n",
       "    .dataframe thead th {\n",
       "        text-align: right;\n",
       "    }\n",
       "</style>\n",
       "<table border=\"1\" class=\"dataframe\">\n",
       "  <thead>\n",
       "    <tr style=\"text-align: right;\">\n",
       "      <th></th>\n",
       "      <th>Studio</th>\n",
       "      <th>Score</th>\n",
       "      <th>Members</th>\n",
       "      <th>Final-Score</th>\n",
       "    </tr>\n",
       "  </thead>\n",
       "  <tbody>\n",
       "    <tr>\n",
       "      <th>0</th>\n",
       "      <td>Studio Bind</td>\n",
       "      <td>8.346667</td>\n",
       "      <td>613023.333333</td>\n",
       "      <td>0.024748</td>\n",
       "    </tr>\n",
       "    <tr>\n",
       "      <th>1</th>\n",
       "      <td>Egg Firm</td>\n",
       "      <td>8.292500</td>\n",
       "      <td>485864.250000</td>\n",
       "      <td>0.020021</td>\n",
       "    </tr>\n",
       "    <tr>\n",
       "      <th>2</th>\n",
       "      <td>White Fox</td>\n",
       "      <td>7.328605</td>\n",
       "      <td>397112.209302</td>\n",
       "      <td>0.016497</td>\n",
       "    </tr>\n",
       "    <tr>\n",
       "      <th>3</th>\n",
       "      <td>Studio Chizu</td>\n",
       "      <td>7.917500</td>\n",
       "      <td>351697.500000</td>\n",
       "      <td>0.014956</td>\n",
       "    </tr>\n",
       "    <tr>\n",
       "      <th>4</th>\n",
       "      <td>Wit Studio</td>\n",
       "      <td>7.426393</td>\n",
       "      <td>354050.557377</td>\n",
       "      <td>0.014924</td>\n",
       "    </tr>\n",
       "    <tr>\n",
       "      <th>5</th>\n",
       "      <td>MAPPA</td>\n",
       "      <td>7.321803</td>\n",
       "      <td>305373.967213</td>\n",
       "      <td>0.013094</td>\n",
       "    </tr>\n",
       "    <tr>\n",
       "      <th>6</th>\n",
       "      <td>Bones</td>\n",
       "      <td>7.346276</td>\n",
       "      <td>299298.572414</td>\n",
       "      <td>0.012875</td>\n",
       "    </tr>\n",
       "    <tr>\n",
       "      <th>7</th>\n",
       "      <td>CloverWorks</td>\n",
       "      <td>7.382326</td>\n",
       "      <td>290409.302326</td>\n",
       "      <td>0.012554</td>\n",
       "    </tr>\n",
       "    <tr>\n",
       "      <th>8</th>\n",
       "      <td>Trigger</td>\n",
       "      <td>7.202800</td>\n",
       "      <td>291343.680000</td>\n",
       "      <td>0.012545</td>\n",
       "    </tr>\n",
       "    <tr>\n",
       "      <th>9</th>\n",
       "      <td>AIC Build</td>\n",
       "      <td>7.017778</td>\n",
       "      <td>290722.888889</td>\n",
       "      <td>0.012478</td>\n",
       "    </tr>\n",
       "  </tbody>\n",
       "</table>\n",
       "</div>"
      ],
      "text/plain": [
       "         Studio     Score        Members  Final-Score\n",
       "0   Studio Bind  8.346667  613023.333333     0.024748\n",
       "1      Egg Firm  8.292500  485864.250000     0.020021\n",
       "2     White Fox  7.328605  397112.209302     0.016497\n",
       "3  Studio Chizu  7.917500  351697.500000     0.014956\n",
       "4    Wit Studio  7.426393  354050.557377     0.014924\n",
       "5         MAPPA  7.321803  305373.967213     0.013094\n",
       "6         Bones  7.346276  299298.572414     0.012875\n",
       "7   CloverWorks  7.382326  290409.302326     0.012554\n",
       "8       Trigger  7.202800  291343.680000     0.012545\n",
       "9     AIC Build  7.017778  290722.888889     0.012478"
      ]
     },
     "execution_count": 19,
     "metadata": {},
     "output_type": "execute_result"
    }
   ],
   "source": [
    "# Tinh tuong quan theo % cua 2 cot Score va Members\n",
    "# Final-Score = %Score  + %Members\n",
    "df1['Final-Score'] = df1['Score']/df1['Score'].sum()+df1['Members']/df1['Members'].sum()\n",
    "df1.sort_values(by=['Final-Score'], ascending=False,\n",
    "                ignore_index=True, inplace=True)\n",
    "df1.head(10)"
   ]
  },
  {
   "cell_type": "code",
   "execution_count": 20,
   "metadata": {},
   "outputs": [
    {
     "data": {
      "text/plain": [
       "<Axes: xlabel='Studio', ylabel='Members'>"
      ]
     },
     "execution_count": 20,
     "metadata": {},
     "output_type": "execute_result"
    },
    {
     "data": {
      "image/png": "[encoded data removed]",
      "text/plain": [
       "<Figure size 2200x600 with 2 Axes>"
      ]
     },
     "metadata": {},
     "output_type": "display_data"
    }
   ],
   "source": [
    "# Top 10 studios có điểm và độ nổi tiếng cao\n",
    "show_amount=5\n",
    "fig,axis=plt.subplots(figsize=(22,6))\n",
    "sns.barplot(\n",
    "    data=df1[:show_amount],\n",
    "x=\"Studio\",y=\"Score\",color=\"blue\",\n",
    "ax=axis)\n",
    "axis2=axis.twinx()\n",
    "sns.pointplot(data=df1[:show_amount],\n",
    "            x=\"Studio\",\n",
    "            y=\"Members\",\n",
    "            color='orange',\n",
    "            ax=axis2)"
   ]
  },
  {
   "cell_type": "markdown",
   "metadata": {},
   "source": [
    "### Câu 2: Có mối liên hệ nào giữa độ phổ biến của bộ anime và số người xem hay không? Có phải người dùng sẽ có xu hướng xem những bộ anime đang \"hot\" hay không?"
   ]
  },
  {
   "cell_type": "markdown",
   "metadata": {},
   "source": [
    "***Ý nghĩa câu hỏi:*** Câu hỏi này giúp ta xác định được xu hướng lựa chọn một bộ anime của người xem trong bối cảnh mỗi năm lại có thêm nhiều bộ anime ra mắt. Liệu người dùng chọn xem bộ anime này vì những yếu tố như kỹ xảo, nội dung,...hay chỉ đơn thuần là vì những người khác cũng xem bộ anime này?\n",
    "- Điều này giúp cho các nhà sản xuất có thể đưa ra các chiến lược quảng bá cho bộ phim phù hợp, hướng đến nhiều đối tượng hơn và mang lại lợi nhuận cao hơn."
   ]
  },
  {
   "cell_type": "markdown",
   "metadata": {},
   "source": [
    "***Trả lời:*** \\\n",
    "Đầu tiên ta lấy ra các cột `Popularity`, `Members`, `From` và lưu vào `pop_mem_df`. Lưu ý là không lấy các trị `NaN`."
   ]
  },
  {
   "cell_type": "code",
   "execution_count": 21,
   "metadata": {},
   "outputs": [
    {
     "data": {
      "text/html": [
       "<div>\n",
       "<style scoped>\n",
       "    .dataframe tbody tr th:only-of-type {\n",
       "        vertical-align: middle;\n",
       "    }\n",
       "\n",
       "    .dataframe tbody tr th {\n",
       "        vertical-align: top;\n",
       "    }\n",
       "\n",
       "    .dataframe thead th {\n",
       "        text-align: right;\n",
       "    }\n",
       "</style>\n",
       "<table border=\"1\" class=\"dataframe\">\n",
       "  <thead>\n",
       "    <tr style=\"text-align: right;\">\n",
       "      <th></th>\n",
       "      <th>Popularity</th>\n",
       "      <th>Members</th>\n",
       "      <th>From</th>\n",
       "    </tr>\n",
       "  </thead>\n",
       "  <tbody>\n",
       "    <tr>\n",
       "      <th>0</th>\n",
       "      <td>3</td>\n",
       "      <td>3037641</td>\n",
       "      <td>2009-04-05</td>\n",
       "    </tr>\n",
       "    <tr>\n",
       "      <th>1</th>\n",
       "      <td>669</td>\n",
       "      <td>310979</td>\n",
       "      <td>2022-10-11</td>\n",
       "    </tr>\n",
       "    <tr>\n",
       "      <th>2</th>\n",
       "      <td>238</td>\n",
       "      <td>703336</td>\n",
       "      <td>2022-04-09</td>\n",
       "    </tr>\n",
       "    <tr>\n",
       "      <th>3</th>\n",
       "      <td>13</td>\n",
       "      <td>2338343</td>\n",
       "      <td>2011-04-06</td>\n",
       "    </tr>\n",
       "    <tr>\n",
       "      <th>4</th>\n",
       "      <td>337</td>\n",
       "      <td>567213</td>\n",
       "      <td>2015-04-08</td>\n",
       "    </tr>\n",
       "    <tr>\n",
       "      <th>...</th>\n",
       "      <td>...</td>\n",
       "      <td>...</td>\n",
       "      <td>...</td>\n",
       "    </tr>\n",
       "    <tr>\n",
       "      <th>9994</th>\n",
       "      <td>13310</td>\n",
       "      <td>680</td>\n",
       "      <td>2015-06-24</td>\n",
       "    </tr>\n",
       "    <tr>\n",
       "      <th>9995</th>\n",
       "      <td>12979</td>\n",
       "      <td>758</td>\n",
       "      <td>2012-11-01</td>\n",
       "    </tr>\n",
       "    <tr>\n",
       "      <th>9996</th>\n",
       "      <td>4761</td>\n",
       "      <td>16518</td>\n",
       "      <td>2015-07-23</td>\n",
       "    </tr>\n",
       "    <tr>\n",
       "      <th>9997</th>\n",
       "      <td>15638</td>\n",
       "      <td>354</td>\n",
       "      <td>1992-09-05</td>\n",
       "    </tr>\n",
       "    <tr>\n",
       "      <th>9998</th>\n",
       "      <td>6617</td>\n",
       "      <td>7270</td>\n",
       "      <td>2019-10-03</td>\n",
       "    </tr>\n",
       "  </tbody>\n",
       "</table>\n",
       "<p>9806 rows × 3 columns</p>\n",
       "</div>"
      ],
      "text/plain": [
       "      Popularity  Members       From\n",
       "0              3  3037641 2009-04-05\n",
       "1            669   310979 2022-10-11\n",
       "2            238   703336 2022-04-09\n",
       "3             13  2338343 2011-04-06\n",
       "4            337   567213 2015-04-08\n",
       "...          ...      ...        ...\n",
       "9994       13310      680 2015-06-24\n",
       "9995       12979      758 2012-11-01\n",
       "9996        4761    16518 2015-07-23\n",
       "9997       15638      354 1992-09-05\n",
       "9998        6617     7270 2019-10-03\n",
       "\n",
       "[9806 rows x 3 columns]"
      ]
     },
     "execution_count": 21,
     "metadata": {},
     "output_type": "execute_result"
    }
   ],
   "source": [
    "pop_mem_df = anime_df[[\"Popularity\", \"Members\", \"From\"]].dropna()\n",
    "pop_mem_df"
   ]
  },
  {
   "cell_type": "markdown",
   "metadata": {},
   "source": [
    "Vì lượng người xem có xu hướng thay đổi theo thời gian nên ta chỉ xét số lượng người xem trung bình từng năm (để tính được, ta lấy số lượng người xem hiện tại chia cho số năm kể từ lúc anime được ra mắt)"
   ]
  },
  {
   "cell_type": "code",
   "execution_count": 22,
   "metadata": {},
   "outputs": [
    {
     "data": {
      "text/html": [
       "<div>\n",
       "<style scoped>\n",
       "    .dataframe tbody tr th:only-of-type {\n",
       "        vertical-align: middle;\n",
       "    }\n",
       "\n",
       "    .dataframe tbody tr th {\n",
       "        vertical-align: top;\n",
       "    }\n",
       "\n",
       "    .dataframe thead th {\n",
       "        text-align: right;\n",
       "    }\n",
       "</style>\n",
       "<table border=\"1\" class=\"dataframe\">\n",
       "  <thead>\n",
       "    <tr style=\"text-align: right;\">\n",
       "      <th></th>\n",
       "      <th>Popularity</th>\n",
       "      <th>Members</th>\n",
       "      <th>From</th>\n",
       "      <th>From Year</th>\n",
       "      <th>Average Members</th>\n",
       "    </tr>\n",
       "  </thead>\n",
       "  <tbody>\n",
       "    <tr>\n",
       "      <th>0</th>\n",
       "      <td>3</td>\n",
       "      <td>3037641</td>\n",
       "      <td>2009-04-05</td>\n",
       "      <td>2009</td>\n",
       "      <td>202509</td>\n",
       "    </tr>\n",
       "    <tr>\n",
       "      <th>1</th>\n",
       "      <td>669</td>\n",
       "      <td>310979</td>\n",
       "      <td>2022-10-11</td>\n",
       "      <td>2022</td>\n",
       "      <td>155489</td>\n",
       "    </tr>\n",
       "    <tr>\n",
       "      <th>2</th>\n",
       "      <td>238</td>\n",
       "      <td>703336</td>\n",
       "      <td>2022-04-09</td>\n",
       "      <td>2022</td>\n",
       "      <td>351668</td>\n",
       "    </tr>\n",
       "    <tr>\n",
       "      <th>3</th>\n",
       "      <td>13</td>\n",
       "      <td>2338343</td>\n",
       "      <td>2011-04-06</td>\n",
       "      <td>2011</td>\n",
       "      <td>179872</td>\n",
       "    </tr>\n",
       "    <tr>\n",
       "      <th>4</th>\n",
       "      <td>337</td>\n",
       "      <td>567213</td>\n",
       "      <td>2015-04-08</td>\n",
       "      <td>2015</td>\n",
       "      <td>63023</td>\n",
       "    </tr>\n",
       "    <tr>\n",
       "      <th>...</th>\n",
       "      <td>...</td>\n",
       "      <td>...</td>\n",
       "      <td>...</td>\n",
       "      <td>...</td>\n",
       "      <td>...</td>\n",
       "    </tr>\n",
       "    <tr>\n",
       "      <th>9994</th>\n",
       "      <td>13310</td>\n",
       "      <td>680</td>\n",
       "      <td>2015-06-24</td>\n",
       "      <td>2015</td>\n",
       "      <td>75</td>\n",
       "    </tr>\n",
       "    <tr>\n",
       "      <th>9995</th>\n",
       "      <td>12979</td>\n",
       "      <td>758</td>\n",
       "      <td>2012-11-01</td>\n",
       "      <td>2012</td>\n",
       "      <td>63</td>\n",
       "    </tr>\n",
       "    <tr>\n",
       "      <th>9996</th>\n",
       "      <td>4761</td>\n",
       "      <td>16518</td>\n",
       "      <td>2015-07-23</td>\n",
       "      <td>2015</td>\n",
       "      <td>1835</td>\n",
       "    </tr>\n",
       "    <tr>\n",
       "      <th>9997</th>\n",
       "      <td>15638</td>\n",
       "      <td>354</td>\n",
       "      <td>1992-09-05</td>\n",
       "      <td>1992</td>\n",
       "      <td>11</td>\n",
       "    </tr>\n",
       "    <tr>\n",
       "      <th>9998</th>\n",
       "      <td>6617</td>\n",
       "      <td>7270</td>\n",
       "      <td>2019-10-03</td>\n",
       "      <td>2019</td>\n",
       "      <td>1454</td>\n",
       "    </tr>\n",
       "  </tbody>\n",
       "</table>\n",
       "<p>9806 rows × 5 columns</p>\n",
       "</div>"
      ],
      "text/plain": [
       "      Popularity  Members       From  From Year  Average Members\n",
       "0              3  3037641 2009-04-05       2009           202509\n",
       "1            669   310979 2022-10-11       2022           155489\n",
       "2            238   703336 2022-04-09       2022           351668\n",
       "3             13  2338343 2011-04-06       2011           179872\n",
       "4            337   567213 2015-04-08       2015            63023\n",
       "...          ...      ...        ...        ...              ...\n",
       "9994       13310      680 2015-06-24       2015               75\n",
       "9995       12979      758 2012-11-01       2012               63\n",
       "9996        4761    16518 2015-07-23       2015             1835\n",
       "9997       15638      354 1992-09-05       1992               11\n",
       "9998        6617     7270 2019-10-03       2019             1454\n",
       "\n",
       "[9806 rows x 5 columns]"
      ]
     },
     "execution_count": 22,
     "metadata": {},
     "output_type": "execute_result"
    }
   ],
   "source": [
    "current_year = datetime.now().year\n",
    "pop_mem_df['From Year'] = pd.DatetimeIndex(pop_mem_df['From']).year\n",
    "def average_mem(row):\n",
    "    if current_year == row[\"From Year\"]:\n",
    "        average = row[\"Members\"]\n",
    "    else:\n",
    "        average = row[\"Members\"] / (current_year - row[\"From Year\"])\n",
    "    return int(average)\n",
    "pop_mem_df[\"Average Members\"] = pop_mem_df.apply(average_mem, axis = 1)\n",
    "pop_mem_df"
   ]
  },
  {
   "cell_type": "markdown",
   "metadata": {},
   "source": [
    "Sau đó, ta tính độ tương quan giữa độ phổ biến và lượng người xem trung bình"
   ]
  },
  {
   "cell_type": "code",
   "execution_count": 23,
   "metadata": {
    "scrolled": true
   },
   "outputs": [
    {
     "data": {
      "text/plain": [
       "-0.40224742526327917"
      ]
     },
     "execution_count": 23,
     "metadata": {},
     "output_type": "execute_result"
    }
   ],
   "source": [
    "pop_mem_df[\"Popularity\"].corr(pop_mem_df[\"Average Members\"])"
   ]
  },
  {
   "cell_type": "markdown",
   "metadata": {},
   "source": [
    "Nhìn chung độ tương quan ở mức vừa phải và 2 đại trưng này có vẻ có mối quan hệ nghịch biến với nhau, bâu giờ ta vẽ biểu đồ tương quan giữa hai đặc trưng trên."
   ]
  },
  {
   "cell_type": "code",
   "execution_count": 24,
   "metadata": {},
   "outputs": [
    {
     "data": {
      "text/plain": [
       "<Axes: xlabel='Popularity', ylabel='Average Members'>"
      ]
     },
     "execution_count": 24,
     "metadata": {},
     "output_type": "execute_result"
    },
    {
     "data": {
      "image/png": "[encoded data removed]",
      "text/plain": [
       "<Figure size 1500x1000 with 1 Axes>"
      ]
     },
     "metadata": {},
     "output_type": "display_data"
    }
   ],
   "source": [
    "plt.figure(figsize=(15, 10))\n",
    "sns.regplot(x = \"Popularity\", y = \"Average Members\", data = pop_mem_df, x_estimator = np.mean)"
   ]
  },
  {
   "cell_type": "markdown",
   "metadata": {},
   "source": [
    "***Nhận xét:***\n",
    "\n",
    "Nhìn vào biểu đồ tương quan trên ta có thể thấy mức độ phổ biến có tác động đến lượng người xem. Khi giá trị độ phổ biến càng tăng thì lượng người xem cũng giảm dần.\\\n",
    "Tuy nhiên trên thực tế vì giá trị độ phổ biến đại diện cho xếp hạng sự phổ biến nên khi giá trị này tăng có nghĩa là độ phổ biến giảm dần. Điều này có nghĩa là người dùng có xu hướng lựa chọn một bộ anime đang \"hot\". Vậy nên nếu một bộ anime được quảng bá và được phổ biến rộng rãi đến nhiều đối tượng thì số người vì tò mò mà xem bộ anime này cũng sẽ tăng và ngược lại."
   ]
  },
  {
   "cell_type": "markdown",
   "metadata": {},
   "source": [
    "### Câu 3: Xu hướng xem anime của mọi người từ năm 2010 đến nay? Một bộ anime gồm những yếu tố nào (kinh dị, trinh thám,...) có thể thu hút người xem?"
   ]
  },
  {
   "cell_type": "markdown",
   "metadata": {},
   "source": [
    "***Ý nghĩa câu hỏi:*** Trả lời được câu hỏi này, ta có thể được cái nhìn tổng quan về các thể loại anime được quan tâm trong ngành công nghiệp phim những năm gần đây ngoài ra còn đáp ứng nhu cầu các nhóm đối tượng dưới đây:\n",
    "- Nhà sản xuất: Nắm rõ được yếu tố nào đáp ứng thị hiếu người xem. Từ đó có thể sản xuất ra bộ anime với yếu tố phù hợp, đem lại doanh thu.\n",
    "- Nhà đầu tư: Lựa chọn những bộ anime có thể loại phù hợp thị hiếu người dùng từ đó phán đoán xem có nên đầu tư vào bộ anime hay không."
   ]
  },
  {
   "cell_type": "markdown",
   "metadata": {},
   "source": [
    "***Trả lời:*** "
   ]
  },
  {
   "cell_type": "markdown",
   "metadata": {},
   "source": [
    "Vì xu hướng xem anime sẽ thay đổi theo thời gian và ta đang cần xem xét xu hướng xem anime của mọi người thời hiện tại nên ta sẽ lọc và chọn ra dữ liệu của những bộ phim sản xuất từ thời điểm 2010 trở đi và lưu vào dataframe `mod_animes_df`. Sau đó lọc lấy 3 cột là `Genres`, `Members`, `From` và lưu vào dataframe mới là `mod_genres_df`."
   ]
  },
  {
   "cell_type": "code",
   "execution_count": 25,
   "metadata": {
    "scrolled": true
   },
   "outputs": [
    {
     "data": {
      "text/html": [
       "<div>\n",
       "<style scoped>\n",
       "    .dataframe tbody tr th:only-of-type {\n",
       "        vertical-align: middle;\n",
       "    }\n",
       "\n",
       "    .dataframe tbody tr th {\n",
       "        vertical-align: top;\n",
       "    }\n",
       "\n",
       "    .dataframe thead th {\n",
       "        text-align: right;\n",
       "    }\n",
       "</style>\n",
       "<table border=\"1\" class=\"dataframe\">\n",
       "  <thead>\n",
       "    <tr style=\"text-align: right;\">\n",
       "      <th></th>\n",
       "      <th>Genres</th>\n",
       "      <th>Members</th>\n",
       "      <th>From</th>\n",
       "    </tr>\n",
       "  </thead>\n",
       "  <tbody>\n",
       "    <tr>\n",
       "      <th>1</th>\n",
       "      <td>[Adventure, Fantasy, Action]</td>\n",
       "      <td>310979</td>\n",
       "      <td>2022-10-11</td>\n",
       "    </tr>\n",
       "    <tr>\n",
       "      <th>2</th>\n",
       "      <td>[Comedy, Romance]</td>\n",
       "      <td>703336</td>\n",
       "      <td>2022-04-09</td>\n",
       "    </tr>\n",
       "    <tr>\n",
       "      <th>3</th>\n",
       "      <td>[Drama, Sci-Fi, Suspense]</td>\n",
       "      <td>2338343</td>\n",
       "      <td>2011-04-06</td>\n",
       "    </tr>\n",
       "    <tr>\n",
       "      <th>4</th>\n",
       "      <td>[Sci-Fi, Comedy, Action]</td>\n",
       "      <td>567213</td>\n",
       "      <td>2015-04-08</td>\n",
       "    </tr>\n",
       "    <tr>\n",
       "      <th>5</th>\n",
       "      <td>[Drama, Action]</td>\n",
       "      <td>1972472</td>\n",
       "      <td>2019-04-29</td>\n",
       "    </tr>\n",
       "    <tr>\n",
       "      <th>...</th>\n",
       "      <td>...</td>\n",
       "      <td>...</td>\n",
       "      <td>...</td>\n",
       "    </tr>\n",
       "    <tr>\n",
       "      <th>9980</th>\n",
       "      <td>[Comedy]</td>\n",
       "      <td>1048</td>\n",
       "      <td>2011-04-13</td>\n",
       "    </tr>\n",
       "    <tr>\n",
       "      <th>9982</th>\n",
       "      <td>[Comedy, Ecchi]</td>\n",
       "      <td>38808</td>\n",
       "      <td>2011-01-04</td>\n",
       "    </tr>\n",
       "    <tr>\n",
       "      <th>9987</th>\n",
       "      <td>[Adventure, Fantasy, Action]</td>\n",
       "      <td>36447</td>\n",
       "      <td>2020-04-05</td>\n",
       "    </tr>\n",
       "    <tr>\n",
       "      <th>9988</th>\n",
       "      <td>[Slice of Life, Comedy]</td>\n",
       "      <td>639</td>\n",
       "      <td>2019-04-02</td>\n",
       "    </tr>\n",
       "    <tr>\n",
       "      <th>9992</th>\n",
       "      <td>[Sci-Fi, Comedy]</td>\n",
       "      <td>57500</td>\n",
       "      <td>2016-01-07</td>\n",
       "    </tr>\n",
       "  </tbody>\n",
       "</table>\n",
       "<p>1909 rows × 3 columns</p>\n",
       "</div>"
      ],
      "text/plain": [
       "                            Genres  Members       From\n",
       "1     [Adventure, Fantasy, Action]   310979 2022-10-11\n",
       "2                [Comedy, Romance]   703336 2022-04-09\n",
       "3        [Drama, Sci-Fi, Suspense]  2338343 2011-04-06\n",
       "4         [Sci-Fi, Comedy, Action]   567213 2015-04-08\n",
       "5                  [Drama, Action]  1972472 2019-04-29\n",
       "...                            ...      ...        ...\n",
       "9980                      [Comedy]     1048 2011-04-13\n",
       "9982               [Comedy, Ecchi]    38808 2011-01-04\n",
       "9987  [Adventure, Fantasy, Action]    36447 2020-04-05\n",
       "9988       [Slice of Life, Comedy]      639 2019-04-02\n",
       "9992              [Sci-Fi, Comedy]    57500 2016-01-07\n",
       "\n",
       "[1909 rows x 3 columns]"
      ]
     },
     "execution_count": 25,
     "metadata": {},
     "output_type": "execute_result"
    }
   ],
   "source": [
    "mod_animes_df = anime_df[pd.DatetimeIndex(anime_df['From']).year >= 2010].dropna()\n",
    "mod_genres_df = mod_animes_df[['Genres', 'Members', 'From']]\n",
    "mod_genres_df"
   ]
  },
  {
   "cell_type": "markdown",
   "metadata": {},
   "source": [
    "Ta tính lượng người xem trung bình của từng thể loại và lưu vào dataframe `genres_df`"
   ]
  },
  {
   "cell_type": "code",
   "execution_count": 26,
   "metadata": {},
   "outputs": [
    {
     "data": {
      "text/html": [
       "<div>\n",
       "<style scoped>\n",
       "    .dataframe tbody tr th:only-of-type {\n",
       "        vertical-align: middle;\n",
       "    }\n",
       "\n",
       "    .dataframe tbody tr th {\n",
       "        vertical-align: top;\n",
       "    }\n",
       "\n",
       "    .dataframe thead th {\n",
       "        text-align: right;\n",
       "    }\n",
       "</style>\n",
       "<table border=\"1\" class=\"dataframe\">\n",
       "  <thead>\n",
       "    <tr style=\"text-align: right;\">\n",
       "      <th></th>\n",
       "      <th>Genre</th>\n",
       "      <th>Average Members</th>\n",
       "    </tr>\n",
       "  </thead>\n",
       "  <tbody>\n",
       "    <tr>\n",
       "      <th>0</th>\n",
       "      <td>Adventure</td>\n",
       "      <td>50609.187485</td>\n",
       "    </tr>\n",
       "    <tr>\n",
       "      <th>1</th>\n",
       "      <td>Fantasy</td>\n",
       "      <td>53616.265423</td>\n",
       "    </tr>\n",
       "    <tr>\n",
       "      <th>2</th>\n",
       "      <td>Action</td>\n",
       "      <td>51815.642079</td>\n",
       "    </tr>\n",
       "    <tr>\n",
       "      <th>3</th>\n",
       "      <td>Comedy</td>\n",
       "      <td>32260.983736</td>\n",
       "    </tr>\n",
       "    <tr>\n",
       "      <th>4</th>\n",
       "      <td>Romance</td>\n",
       "      <td>51704.191621</td>\n",
       "    </tr>\n",
       "    <tr>\n",
       "      <th>5</th>\n",
       "      <td>Drama</td>\n",
       "      <td>56745.967123</td>\n",
       "    </tr>\n",
       "    <tr>\n",
       "      <th>6</th>\n",
       "      <td>Sci-Fi</td>\n",
       "      <td>31199.684201</td>\n",
       "    </tr>\n",
       "    <tr>\n",
       "      <th>7</th>\n",
       "      <td>Suspense</td>\n",
       "      <td>106416.914126</td>\n",
       "    </tr>\n",
       "    <tr>\n",
       "      <th>8</th>\n",
       "      <td>Supernatural</td>\n",
       "      <td>43624.726394</td>\n",
       "    </tr>\n",
       "    <tr>\n",
       "      <th>9</th>\n",
       "      <td>Slice of Life</td>\n",
       "      <td>16251.523062</td>\n",
       "    </tr>\n",
       "    <tr>\n",
       "      <th>10</th>\n",
       "      <td>Mystery</td>\n",
       "      <td>44240.282607</td>\n",
       "    </tr>\n",
       "    <tr>\n",
       "      <th>11</th>\n",
       "      <td>Sports</td>\n",
       "      <td>25047.784804</td>\n",
       "    </tr>\n",
       "    <tr>\n",
       "      <th>12</th>\n",
       "      <td>Ecchi</td>\n",
       "      <td>44005.410032</td>\n",
       "    </tr>\n",
       "    <tr>\n",
       "      <th>13</th>\n",
       "      <td>Award Winning</td>\n",
       "      <td>122233.597509</td>\n",
       "    </tr>\n",
       "    <tr>\n",
       "      <th>14</th>\n",
       "      <td>Boys Love</td>\n",
       "      <td>21469.473226</td>\n",
       "    </tr>\n",
       "    <tr>\n",
       "      <th>15</th>\n",
       "      <td>Horror</td>\n",
       "      <td>53917.950033</td>\n",
       "    </tr>\n",
       "    <tr>\n",
       "      <th>16</th>\n",
       "      <td>Gourmet</td>\n",
       "      <td>39494.453847</td>\n",
       "    </tr>\n",
       "    <tr>\n",
       "      <th>17</th>\n",
       "      <td>Avant Garde</td>\n",
       "      <td>12953.182583</td>\n",
       "    </tr>\n",
       "    <tr>\n",
       "      <th>18</th>\n",
       "      <td>Girls Love</td>\n",
       "      <td>25282.748737</td>\n",
       "    </tr>\n",
       "  </tbody>\n",
       "</table>\n",
       "</div>"
      ],
      "text/plain": [
       "            Genre  Average Members\n",
       "0       Adventure     50609.187485\n",
       "1         Fantasy     53616.265423\n",
       "2          Action     51815.642079\n",
       "3          Comedy     32260.983736\n",
       "4         Romance     51704.191621\n",
       "5           Drama     56745.967123\n",
       "6          Sci-Fi     31199.684201\n",
       "7        Suspense    106416.914126\n",
       "8    Supernatural     43624.726394\n",
       "9   Slice of Life     16251.523062\n",
       "10        Mystery     44240.282607\n",
       "11         Sports     25047.784804\n",
       "12          Ecchi     44005.410032\n",
       "13  Award Winning    122233.597509\n",
       "14      Boys Love     21469.473226\n",
       "15         Horror     53917.950033\n",
       "16        Gourmet     39494.453847\n",
       "17    Avant Garde     12953.182583\n",
       "18     Girls Love     25282.748737"
      ]
     },
     "execution_count": 26,
     "metadata": {},
     "output_type": "execute_result"
    }
   ],
   "source": [
    "# Lấy năm hiện tại\n",
    "current_year = datetime.now().year\n",
    "\n",
    "# Tính số năm từ \"From\" đến năm hiện tại\n",
    "mod_genres_df['Years'] = current_year - mod_genres_df['From'].dt.year\n",
    "\n",
    "# Tính số lượng người xem trung bình cho từng thể loại\n",
    "genres_avg_members = {}\n",
    "for idx, row in mod_genres_df.iterrows():\n",
    "    for genre in row['Genres']:\n",
    "        if genre not in genres_avg_members:\n",
    "            genres_avg_members[genre] = []\n",
    "        genres_avg_members[genre].append(row['Members'] / row['Years'])\n",
    "\n",
    "# Tính số lượng người xem trung bình cho từng thể loại\n",
    "result = {genre: sum(avg_members) / len(avg_members) for genre, avg_members in genres_avg_members.items()}\n",
    "\n",
    "genres_df = pd.DataFrame(list(result.items()), columns=['Genre', 'Average Members'])\n",
    "genres_df"
   ]
  },
  {
   "cell_type": "markdown",
   "metadata": {},
   "source": [
    "Xem xét lại các thể loại phim"
   ]
  },
  {
   "cell_type": "code",
   "execution_count": 27,
   "metadata": {},
   "outputs": [
    {
     "data": {
      "text/plain": [
       "array(['Adventure', 'Fantasy', 'Action', 'Comedy', 'Romance', 'Drama',\n",
       "       'Sci-Fi', 'Suspense', 'Supernatural', 'Slice of Life', 'Mystery',\n",
       "       'Sports', 'Ecchi', 'Award Winning', 'Boys Love', 'Horror',\n",
       "       'Gourmet', 'Avant Garde', 'Girls Love'], dtype=object)"
      ]
     },
     "execution_count": 27,
     "metadata": {},
     "output_type": "execute_result"
    }
   ],
   "source": [
    "genres_df['Genre'].unique()"
   ]
  },
  {
   "cell_type": "markdown",
   "metadata": {},
   "source": [
    "***Nhận xét***: Ta cần loại bỏ: Award winning, Avant Garde.\\\n",
    "Đây là 2 thể loại không cần thiết để đưa vào danh sách xem xét vì:\n",
    "- Award winning: các bộ phim đạt giải\n",
    "- Avant Garde: các bộ phim tiên phong (cho các thể loại phim mới).\\\n",
    "\n",
    "Đây là hai thể loại khác với những thể loại rõ ràng tường minh"
   ]
  },
  {
   "cell_type": "code",
   "execution_count": 28,
   "metadata": {},
   "outputs": [],
   "source": [
    "genres_df = genres_df[~genres_df['Genre'].isin(['Award Winning', 'Avant Garde'])]"
   ]
  },
  {
   "cell_type": "code",
   "execution_count": 29,
   "metadata": {},
   "outputs": [
    {
     "data": {
      "text/html": [
       "<div>\n",
       "<style scoped>\n",
       "    .dataframe tbody tr th:only-of-type {\n",
       "        vertical-align: middle;\n",
       "    }\n",
       "\n",
       "    .dataframe tbody tr th {\n",
       "        vertical-align: top;\n",
       "    }\n",
       "\n",
       "    .dataframe thead th {\n",
       "        text-align: right;\n",
       "    }\n",
       "</style>\n",
       "<table border=\"1\" class=\"dataframe\">\n",
       "  <thead>\n",
       "    <tr style=\"text-align: right;\">\n",
       "      <th></th>\n",
       "      <th>Genre</th>\n",
       "      <th>Average Members</th>\n",
       "    </tr>\n",
       "  </thead>\n",
       "  <tbody>\n",
       "    <tr>\n",
       "      <th>0</th>\n",
       "      <td>Adventure</td>\n",
       "      <td>50609.187485</td>\n",
       "    </tr>\n",
       "    <tr>\n",
       "      <th>1</th>\n",
       "      <td>Fantasy</td>\n",
       "      <td>53616.265423</td>\n",
       "    </tr>\n",
       "    <tr>\n",
       "      <th>2</th>\n",
       "      <td>Action</td>\n",
       "      <td>51815.642079</td>\n",
       "    </tr>\n",
       "    <tr>\n",
       "      <th>3</th>\n",
       "      <td>Comedy</td>\n",
       "      <td>32260.983736</td>\n",
       "    </tr>\n",
       "    <tr>\n",
       "      <th>4</th>\n",
       "      <td>Romance</td>\n",
       "      <td>51704.191621</td>\n",
       "    </tr>\n",
       "    <tr>\n",
       "      <th>5</th>\n",
       "      <td>Drama</td>\n",
       "      <td>56745.967123</td>\n",
       "    </tr>\n",
       "    <tr>\n",
       "      <th>6</th>\n",
       "      <td>Sci-Fi</td>\n",
       "      <td>31199.684201</td>\n",
       "    </tr>\n",
       "    <tr>\n",
       "      <th>7</th>\n",
       "      <td>Suspense</td>\n",
       "      <td>106416.914126</td>\n",
       "    </tr>\n",
       "    <tr>\n",
       "      <th>8</th>\n",
       "      <td>Supernatural</td>\n",
       "      <td>43624.726394</td>\n",
       "    </tr>\n",
       "    <tr>\n",
       "      <th>9</th>\n",
       "      <td>Slice of Life</td>\n",
       "      <td>16251.523062</td>\n",
       "    </tr>\n",
       "    <tr>\n",
       "      <th>10</th>\n",
       "      <td>Mystery</td>\n",
       "      <td>44240.282607</td>\n",
       "    </tr>\n",
       "    <tr>\n",
       "      <th>11</th>\n",
       "      <td>Sports</td>\n",
       "      <td>25047.784804</td>\n",
       "    </tr>\n",
       "    <tr>\n",
       "      <th>12</th>\n",
       "      <td>Ecchi</td>\n",
       "      <td>44005.410032</td>\n",
       "    </tr>\n",
       "    <tr>\n",
       "      <th>14</th>\n",
       "      <td>Boys Love</td>\n",
       "      <td>21469.473226</td>\n",
       "    </tr>\n",
       "    <tr>\n",
       "      <th>15</th>\n",
       "      <td>Horror</td>\n",
       "      <td>53917.950033</td>\n",
       "    </tr>\n",
       "    <tr>\n",
       "      <th>16</th>\n",
       "      <td>Gourmet</td>\n",
       "      <td>39494.453847</td>\n",
       "    </tr>\n",
       "    <tr>\n",
       "      <th>18</th>\n",
       "      <td>Girls Love</td>\n",
       "      <td>25282.748737</td>\n",
       "    </tr>\n",
       "  </tbody>\n",
       "</table>\n",
       "</div>"
      ],
      "text/plain": [
       "            Genre  Average Members\n",
       "0       Adventure     50609.187485\n",
       "1         Fantasy     53616.265423\n",
       "2          Action     51815.642079\n",
       "3          Comedy     32260.983736\n",
       "4         Romance     51704.191621\n",
       "5           Drama     56745.967123\n",
       "6          Sci-Fi     31199.684201\n",
       "7        Suspense    106416.914126\n",
       "8    Supernatural     43624.726394\n",
       "9   Slice of Life     16251.523062\n",
       "10        Mystery     44240.282607\n",
       "11         Sports     25047.784804\n",
       "12          Ecchi     44005.410032\n",
       "14      Boys Love     21469.473226\n",
       "15         Horror     53917.950033\n",
       "16        Gourmet     39494.453847\n",
       "18     Girls Love     25282.748737"
      ]
     },
     "execution_count": 29,
     "metadata": {},
     "output_type": "execute_result"
    }
   ],
   "source": [
    "genres_df"
   ]
  },
  {
   "cell_type": "markdown",
   "metadata": {},
   "source": [
    "Ta thực hiện sắp xếp lại dữ liệu theo hướng giảm dần sau đó trực quan hòa bằng bar chart"
   ]
  },
  {
   "cell_type": "code",
   "execution_count": 30,
   "metadata": {},
   "outputs": [],
   "source": [
    "genres_df = genres_df.sort_values(by='Average Members', ascending = False)"
   ]
  },
  {
   "cell_type": "markdown",
   "metadata": {},
   "source": [
    "Trực quan hóa bằng biểu đồ:"
   ]
  },
  {
   "cell_type": "code",
   "execution_count": 31,
   "metadata": {},
   "outputs": [
    {
     "data": {
      "image/png": "[encoded data removed]",
      "text/plain": [
       "<Figure size 800x600 with 1 Axes>"
      ]
     },
     "metadata": {},
     "output_type": "display_data"
    }
   ],
   "source": [
    "plt.figure(figsize=(8, 6))\n",
    "sns.barplot(x='Average Members', y='Genre', data = genres_df, palette='viridis')\n",
    "plt.xlabel('Average Members')\n",
    "plt.ylabel('Genre')\n",
    "plt.title('Average Members by Genre')\n",
    "plt.tight_layout()\n",
    "plt.show()"
   ]
  },
  {
   "cell_type": "markdown",
   "metadata": {},
   "source": [
    "***Nhận xét:***\n",
    "\n",
    "- Từ bar chart trên ta có thể thấy nếu có yếu tố `Suspense` trong anime thì có thể thu hút nhiều người xem từ đó đem lại nguồn lợi nhuận tốt hơn. Ngoài ra ta còn có thể cân nhắc các yếu tố khác như `Drama`, `Horror`, `Fantasy`,..."
   ]
  },
  {
   "cell_type": "markdown",
   "metadata": {},
   "source": [
    "### Câu 4. Thời gian thích hợp để phát hành phim trong năm?"
   ]
  },
  {
   "cell_type": "code",
   "execution_count": 32,
   "metadata": {},
   "outputs": [
    {
     "data": {
      "text/html": [
       "<div>\n",
       "<style scoped>\n",
       "    .dataframe tbody tr th:only-of-type {\n",
       "        vertical-align: middle;\n",
       "    }\n",
       "\n",
       "    .dataframe tbody tr th {\n",
       "        vertical-align: top;\n",
       "    }\n",
       "\n",
       "    .dataframe thead th {\n",
       "        text-align: right;\n",
       "    }\n",
       "</style>\n",
       "<table border=\"1\" class=\"dataframe\">\n",
       "  <thead>\n",
       "    <tr style=\"text-align: right;\">\n",
       "      <th>Year</th>\n",
       "      <th>2008</th>\n",
       "      <th>2009</th>\n",
       "      <th>2010</th>\n",
       "      <th>2011</th>\n",
       "      <th>2012</th>\n",
       "      <th>2013</th>\n",
       "      <th>2014</th>\n",
       "      <th>2015</th>\n",
       "      <th>2016</th>\n",
       "      <th>2017</th>\n",
       "      <th>2018</th>\n",
       "      <th>2019</th>\n",
       "      <th>2020</th>\n",
       "      <th>2021</th>\n",
       "      <th>2022</th>\n",
       "    </tr>\n",
       "    <tr>\n",
       "      <th>Month</th>\n",
       "      <th></th>\n",
       "      <th></th>\n",
       "      <th></th>\n",
       "      <th></th>\n",
       "      <th></th>\n",
       "      <th></th>\n",
       "      <th></th>\n",
       "      <th></th>\n",
       "      <th></th>\n",
       "      <th></th>\n",
       "      <th></th>\n",
       "      <th></th>\n",
       "      <th></th>\n",
       "      <th></th>\n",
       "      <th></th>\n",
       "    </tr>\n",
       "  </thead>\n",
       "  <tbody>\n",
       "    <tr>\n",
       "      <th>January</th>\n",
       "      <td>26</td>\n",
       "      <td>31</td>\n",
       "      <td>31</td>\n",
       "      <td>30</td>\n",
       "      <td>42</td>\n",
       "      <td>36</td>\n",
       "      <td>58</td>\n",
       "      <td>47</td>\n",
       "      <td>58</td>\n",
       "      <td>54</td>\n",
       "      <td>66</td>\n",
       "      <td>55</td>\n",
       "      <td>72</td>\n",
       "      <td>67</td>\n",
       "      <td>64</td>\n",
       "    </tr>\n",
       "    <tr>\n",
       "      <th>February</th>\n",
       "      <td>15</td>\n",
       "      <td>13</td>\n",
       "      <td>13</td>\n",
       "      <td>17</td>\n",
       "      <td>19</td>\n",
       "      <td>14</td>\n",
       "      <td>23</td>\n",
       "      <td>14</td>\n",
       "      <td>22</td>\n",
       "      <td>25</td>\n",
       "      <td>17</td>\n",
       "      <td>23</td>\n",
       "      <td>24</td>\n",
       "      <td>28</td>\n",
       "      <td>28</td>\n",
       "    </tr>\n",
       "    <tr>\n",
       "      <th>March</th>\n",
       "      <td>23</td>\n",
       "      <td>17</td>\n",
       "      <td>27</td>\n",
       "      <td>33</td>\n",
       "      <td>32</td>\n",
       "      <td>32</td>\n",
       "      <td>41</td>\n",
       "      <td>29</td>\n",
       "      <td>36</td>\n",
       "      <td>30</td>\n",
       "      <td>33</td>\n",
       "      <td>29</td>\n",
       "      <td>22</td>\n",
       "      <td>29</td>\n",
       "      <td>38</td>\n",
       "    </tr>\n",
       "    <tr>\n",
       "      <th>April</th>\n",
       "      <td>53</td>\n",
       "      <td>55</td>\n",
       "      <td>46</td>\n",
       "      <td>61</td>\n",
       "      <td>60</td>\n",
       "      <td>54</td>\n",
       "      <td>69</td>\n",
       "      <td>63</td>\n",
       "      <td>68</td>\n",
       "      <td>84</td>\n",
       "      <td>83</td>\n",
       "      <td>64</td>\n",
       "      <td>65</td>\n",
       "      <td>75</td>\n",
       "      <td>70</td>\n",
       "    </tr>\n",
       "    <tr>\n",
       "      <th>May</th>\n",
       "      <td>4</td>\n",
       "      <td>11</td>\n",
       "      <td>9</td>\n",
       "      <td>18</td>\n",
       "      <td>11</td>\n",
       "      <td>12</td>\n",
       "      <td>12</td>\n",
       "      <td>15</td>\n",
       "      <td>23</td>\n",
       "      <td>28</td>\n",
       "      <td>19</td>\n",
       "      <td>19</td>\n",
       "      <td>21</td>\n",
       "      <td>19</td>\n",
       "      <td>14</td>\n",
       "    </tr>\n",
       "    <tr>\n",
       "      <th>June</th>\n",
       "      <td>11</td>\n",
       "      <td>20</td>\n",
       "      <td>13</td>\n",
       "      <td>23</td>\n",
       "      <td>20</td>\n",
       "      <td>21</td>\n",
       "      <td>23</td>\n",
       "      <td>23</td>\n",
       "      <td>25</td>\n",
       "      <td>17</td>\n",
       "      <td>25</td>\n",
       "      <td>30</td>\n",
       "      <td>19</td>\n",
       "      <td>25</td>\n",
       "      <td>21</td>\n",
       "    </tr>\n",
       "    <tr>\n",
       "      <th>July</th>\n",
       "      <td>35</td>\n",
       "      <td>28</td>\n",
       "      <td>45</td>\n",
       "      <td>51</td>\n",
       "      <td>51</td>\n",
       "      <td>63</td>\n",
       "      <td>63</td>\n",
       "      <td>68</td>\n",
       "      <td>67</td>\n",
       "      <td>68</td>\n",
       "      <td>74</td>\n",
       "      <td>61</td>\n",
       "      <td>49</td>\n",
       "      <td>86</td>\n",
       "      <td>67</td>\n",
       "    </tr>\n",
       "    <tr>\n",
       "      <th>August</th>\n",
       "      <td>17</td>\n",
       "      <td>25</td>\n",
       "      <td>19</td>\n",
       "      <td>17</td>\n",
       "      <td>25</td>\n",
       "      <td>26</td>\n",
       "      <td>26</td>\n",
       "      <td>17</td>\n",
       "      <td>25</td>\n",
       "      <td>25</td>\n",
       "      <td>30</td>\n",
       "      <td>30</td>\n",
       "      <td>25</td>\n",
       "      <td>32</td>\n",
       "      <td>24</td>\n",
       "    </tr>\n",
       "    <tr>\n",
       "      <th>September</th>\n",
       "      <td>17</td>\n",
       "      <td>12</td>\n",
       "      <td>18</td>\n",
       "      <td>22</td>\n",
       "      <td>28</td>\n",
       "      <td>23</td>\n",
       "      <td>29</td>\n",
       "      <td>22</td>\n",
       "      <td>34</td>\n",
       "      <td>36</td>\n",
       "      <td>24</td>\n",
       "      <td>25</td>\n",
       "      <td>25</td>\n",
       "      <td>28</td>\n",
       "      <td>17</td>\n",
       "    </tr>\n",
       "    <tr>\n",
       "      <th>October</th>\n",
       "      <td>50</td>\n",
       "      <td>59</td>\n",
       "      <td>42</td>\n",
       "      <td>47</td>\n",
       "      <td>63</td>\n",
       "      <td>58</td>\n",
       "      <td>68</td>\n",
       "      <td>67</td>\n",
       "      <td>72</td>\n",
       "      <td>72</td>\n",
       "      <td>69</td>\n",
       "      <td>73</td>\n",
       "      <td>78</td>\n",
       "      <td>76</td>\n",
       "      <td>59</td>\n",
       "    </tr>\n",
       "    <tr>\n",
       "      <th>November</th>\n",
       "      <td>9</td>\n",
       "      <td>10</td>\n",
       "      <td>17</td>\n",
       "      <td>13</td>\n",
       "      <td>22</td>\n",
       "      <td>20</td>\n",
       "      <td>17</td>\n",
       "      <td>25</td>\n",
       "      <td>34</td>\n",
       "      <td>30</td>\n",
       "      <td>25</td>\n",
       "      <td>32</td>\n",
       "      <td>21</td>\n",
       "      <td>18</td>\n",
       "      <td>13</td>\n",
       "    </tr>\n",
       "    <tr>\n",
       "      <th>December</th>\n",
       "      <td>13</td>\n",
       "      <td>24</td>\n",
       "      <td>26</td>\n",
       "      <td>25</td>\n",
       "      <td>29</td>\n",
       "      <td>30</td>\n",
       "      <td>33</td>\n",
       "      <td>34</td>\n",
       "      <td>43</td>\n",
       "      <td>29</td>\n",
       "      <td>31</td>\n",
       "      <td>34</td>\n",
       "      <td>30</td>\n",
       "      <td>39</td>\n",
       "      <td>3</td>\n",
       "    </tr>\n",
       "  </tbody>\n",
       "</table>\n",
       "</div>"
      ],
      "text/plain": [
       "Year       2008  2009  2010  2011  2012  2013  2014  2015  2016  2017  2018  \\\n",
       "Month                                                                         \n",
       "January      26    31    31    30    42    36    58    47    58    54    66   \n",
       "February     15    13    13    17    19    14    23    14    22    25    17   \n",
       "March        23    17    27    33    32    32    41    29    36    30    33   \n",
       "April        53    55    46    61    60    54    69    63    68    84    83   \n",
       "May           4    11     9    18    11    12    12    15    23    28    19   \n",
       "June         11    20    13    23    20    21    23    23    25    17    25   \n",
       "July         35    28    45    51    51    63    63    68    67    68    74   \n",
       "August       17    25    19    17    25    26    26    17    25    25    30   \n",
       "September    17    12    18    22    28    23    29    22    34    36    24   \n",
       "October      50    59    42    47    63    58    68    67    72    72    69   \n",
       "November      9    10    17    13    22    20    17    25    34    30    25   \n",
       "December     13    24    26    25    29    30    33    34    43    29    31   \n",
       "\n",
       "Year       2019  2020  2021  2022  \n",
       "Month                              \n",
       "January      55    72    67    64  \n",
       "February     23    24    28    28  \n",
       "March        29    22    29    38  \n",
       "April        64    65    75    70  \n",
       "May          19    21    19    14  \n",
       "June         30    19    25    21  \n",
       "July         61    49    86    67  \n",
       "August       30    25    32    24  \n",
       "September    25    25    28    17  \n",
       "October      73    78    76    59  \n",
       "November     32    21    18    13  \n",
       "December     34    30    39     3  "
      ]
     },
     "execution_count": 32,
     "metadata": {},
     "output_type": "execute_result"
    }
   ],
   "source": [
    "df = anime_df[['Name', 'From']].copy()\n",
    "df.dropna(inplace=True)\n",
    "df['Month'] = df['From'].dt.month_name()\n",
    "df['Year'] = df['From'].dt.year\n",
    "df = df[df['Year'] >= 2008]\n",
    "\n",
    "df = df.groupby(['Year', 'Month'])['Name'].count().unstack(level=0)\n",
    "df = df.reindex(['January', 'February', 'March', 'April', 'May', 'June',\n",
    "                'July', 'August', 'September', 'October', 'November', 'December'])\n",
    "df = df.fillna(0)\n",
    "df"
   ]
  },
  {
   "cell_type": "markdown",
   "metadata": {},
   "source": [
    "### Visualize"
   ]
  },
  {
   "cell_type": "code",
   "execution_count": 33,
   "metadata": {},
   "outputs": [
    {
     "data": {
      "text/plain": [
       "Text(216.25, 0.5, 'Tháng')"
      ]
     },
     "execution_count": 33,
     "metadata": {},
     "output_type": "execute_result"
    },
    {
     "data": {
      "image/png": "[encoded data removed]",
      "text/plain": [
       "<Figure size 2000x1000 with 2 Axes>"
      ]
     },
     "metadata": {},
     "output_type": "display_data"
    }
   ],
   "source": [
    "plt.subplots(figsize=(20, 10))\n",
    "sns.heatmap(data=df,\n",
    "            cmap='viridis')\n",
    "plt.title('Số lượng phim phát hành qua các tháng', fontsize='20')\n",
    "plt.xlabel('Năm', color=\"blue\")\n",
    "plt.ylabel('Tháng', color=\"blue\")"
   ]
  },
  {
   "cell_type": "markdown",
   "metadata": {},
   "source": [
    "### Assessment:\n",
    "\n",
    "Quan sát biểu đồ, ta có thể nhận thấy rằng các nhà sản xuất phim thường ưa chuộng phát hành sản phẩm của họ vào các tháng 1, 4, 7 và 10. Điều này có lẽ là do những thời điểm này thường là những kì nghỉ lớn hoặc ngày lễ, khi mà người hâm mộ có thời gian dành cho việc xem các bộ phim mới.\n",
    "\n",
    "Nếu quan sát kỹ hơn, có thể thấy rằng việc phân bố này được thực hiện khá đều trong năm, có thể nhằm giảm thiểu sự cạnh tranh giữa các bộ phim, thay vì tập trung vào một khoảng thời gian cụ thể. Tuy nhiên, cũng có sự tập trung ở những thời điểm nhất định để tạo ra sự hấp dẫn mạnh mẽ cho chuỗi các bộ phim mới. Điều này giúp tăng cường sự chú ý và tạo điều kiện thuận lợi cho chiến lược tiếp thị và quảng bá mà không gặp phải sự cạnh tranh quá mức giữa các bộ phim."
   ]
  },
  {
   "cell_type": "markdown",
   "metadata": {},
   "source": [
    "### Câu 5. Số lượng lượt xem có bị ảnh hưởng bởi mùa phát hành không? Quan sát những năm gần đây, kiểm tra nếu có sự biến động nào về lượt xem ở các mùa qua từng năm."
   ]
  },
  {
   "cell_type": "code",
   "execution_count": 34,
   "metadata": {},
   "outputs": [],
   "source": [
    "def calculate_average_members(row):\n",
    "    if current_year == row[\"FromYear\"]:\n",
    "        average_members = row[\"Members\"]\n",
    "    else:\n",
    "        years_passed = current_year - row[\"FromYear\"]\n",
    "        average_members = row[\"Members\"] / years_passed\n",
    "    return int(average_members)"
   ]
  },
  {
   "cell_type": "code",
   "execution_count": 35,
   "metadata": {},
   "outputs": [
    {
     "data": {
      "text/html": [
       "<div>\n",
       "<style scoped>\n",
       "    .dataframe tbody tr th:only-of-type {\n",
       "        vertical-align: middle;\n",
       "    }\n",
       "\n",
       "    .dataframe tbody tr th {\n",
       "        vertical-align: top;\n",
       "    }\n",
       "\n",
       "    .dataframe thead th {\n",
       "        text-align: right;\n",
       "    }\n",
       "</style>\n",
       "<table border=\"1\" class=\"dataframe\">\n",
       "  <thead>\n",
       "    <tr style=\"text-align: right;\">\n",
       "      <th></th>\n",
       "      <th>Premiered</th>\n",
       "      <th>Members</th>\n",
       "      <th>From</th>\n",
       "      <th>FromYear</th>\n",
       "      <th>AverageMembers</th>\n",
       "    </tr>\n",
       "  </thead>\n",
       "  <tbody>\n",
       "    <tr>\n",
       "      <th>0</th>\n",
       "      <td>Spring</td>\n",
       "      <td>3037641</td>\n",
       "      <td>2009-04-05</td>\n",
       "      <td>2009.0</td>\n",
       "      <td>202509</td>\n",
       "    </tr>\n",
       "    <tr>\n",
       "      <th>1</th>\n",
       "      <td>Fall</td>\n",
       "      <td>310979</td>\n",
       "      <td>2022-10-11</td>\n",
       "      <td>2022.0</td>\n",
       "      <td>155489</td>\n",
       "    </tr>\n",
       "    <tr>\n",
       "      <th>2</th>\n",
       "      <td>Spring</td>\n",
       "      <td>703336</td>\n",
       "      <td>2022-04-09</td>\n",
       "      <td>2022.0</td>\n",
       "      <td>351668</td>\n",
       "    </tr>\n",
       "    <tr>\n",
       "      <th>3</th>\n",
       "      <td>Spring</td>\n",
       "      <td>2338343</td>\n",
       "      <td>2011-04-06</td>\n",
       "      <td>2011.0</td>\n",
       "      <td>179872</td>\n",
       "    </tr>\n",
       "    <tr>\n",
       "      <th>4</th>\n",
       "      <td>Spring</td>\n",
       "      <td>567213</td>\n",
       "      <td>2015-04-08</td>\n",
       "      <td>2015.0</td>\n",
       "      <td>63023</td>\n",
       "    </tr>\n",
       "    <tr>\n",
       "      <th>...</th>\n",
       "      <td>...</td>\n",
       "      <td>...</td>\n",
       "      <td>...</td>\n",
       "      <td>...</td>\n",
       "      <td>...</td>\n",
       "    </tr>\n",
       "    <tr>\n",
       "      <th>9987</th>\n",
       "      <td>Spring</td>\n",
       "      <td>36447</td>\n",
       "      <td>2020-04-05</td>\n",
       "      <td>2020.0</td>\n",
       "      <td>9111</td>\n",
       "    </tr>\n",
       "    <tr>\n",
       "      <th>9988</th>\n",
       "      <td>Spring</td>\n",
       "      <td>639</td>\n",
       "      <td>2019-04-02</td>\n",
       "      <td>2019.0</td>\n",
       "      <td>127</td>\n",
       "    </tr>\n",
       "    <tr>\n",
       "      <th>9990</th>\n",
       "      <td>Winter</td>\n",
       "      <td>1064</td>\n",
       "      <td>1982-02-13</td>\n",
       "      <td>1982.0</td>\n",
       "      <td>25</td>\n",
       "    </tr>\n",
       "    <tr>\n",
       "      <th>9991</th>\n",
       "      <td>Spring</td>\n",
       "      <td>954</td>\n",
       "      <td>1983-04-09</td>\n",
       "      <td>1983.0</td>\n",
       "      <td>23</td>\n",
       "    </tr>\n",
       "    <tr>\n",
       "      <th>9992</th>\n",
       "      <td>Winter</td>\n",
       "      <td>57500</td>\n",
       "      <td>2016-01-07</td>\n",
       "      <td>2016.0</td>\n",
       "      <td>7187</td>\n",
       "    </tr>\n",
       "  </tbody>\n",
       "</table>\n",
       "<p>3888 rows × 5 columns</p>\n",
       "</div>"
      ],
      "text/plain": [
       "     Premiered  Members       From  FromYear  AverageMembers\n",
       "0       Spring  3037641 2009-04-05    2009.0          202509\n",
       "1         Fall   310979 2022-10-11    2022.0          155489\n",
       "2       Spring   703336 2022-04-09    2022.0          351668\n",
       "3       Spring  2338343 2011-04-06    2011.0          179872\n",
       "4       Spring   567213 2015-04-08    2015.0           63023\n",
       "...        ...      ...        ...       ...             ...\n",
       "9987    Spring    36447 2020-04-05    2020.0            9111\n",
       "9988    Spring      639 2019-04-02    2019.0             127\n",
       "9990    Winter     1064 1982-02-13    1982.0              25\n",
       "9991    Spring      954 1983-04-09    1983.0              23\n",
       "9992    Winter    57500 2016-01-07    2016.0            7187\n",
       "\n",
       "[3888 rows x 5 columns]"
      ]
     },
     "execution_count": 35,
     "metadata": {},
     "output_type": "execute_result"
    }
   ],
   "source": [
    "season_df = anime_df[[\"Premiered\", \"Members\", \"From\"]].copy()\n",
    "season_df[\"FromYear\"] = pd.DatetimeIndex(season_df['From']).year\n",
    "season_df = season_df.dropna()\n",
    "season_df[\"AverageMembers\"] = season_df.apply(calculate_average_members, axis=1)\n",
    "season_df"
   ]
  },
  {
   "cell_type": "code",
   "execution_count": 36,
   "metadata": {},
   "outputs": [
    {
     "data": {
      "text/html": [
       "<div>\n",
       "<style scoped>\n",
       "    .dataframe tbody tr th:only-of-type {\n",
       "        vertical-align: middle;\n",
       "    }\n",
       "\n",
       "    .dataframe tbody tr th {\n",
       "        vertical-align: top;\n",
       "    }\n",
       "\n",
       "    .dataframe thead th {\n",
       "        text-align: right;\n",
       "    }\n",
       "</style>\n",
       "<table border=\"1\" class=\"dataframe\">\n",
       "  <thead>\n",
       "    <tr style=\"text-align: right;\">\n",
       "      <th></th>\n",
       "      <th>Premiered</th>\n",
       "      <th>Members</th>\n",
       "      <th>From</th>\n",
       "      <th>FromYear</th>\n",
       "      <th>AverageMembers</th>\n",
       "    </tr>\n",
       "  </thead>\n",
       "  <tbody>\n",
       "    <tr>\n",
       "      <th>1</th>\n",
       "      <td>Fall</td>\n",
       "      <td>310979</td>\n",
       "      <td>2022-10-11</td>\n",
       "      <td>2022.0</td>\n",
       "      <td>155489</td>\n",
       "    </tr>\n",
       "    <tr>\n",
       "      <th>2</th>\n",
       "      <td>Spring</td>\n",
       "      <td>703336</td>\n",
       "      <td>2022-04-09</td>\n",
       "      <td>2022.0</td>\n",
       "      <td>351668</td>\n",
       "    </tr>\n",
       "    <tr>\n",
       "      <th>4</th>\n",
       "      <td>Spring</td>\n",
       "      <td>567213</td>\n",
       "      <td>2015-04-08</td>\n",
       "      <td>2015.0</td>\n",
       "      <td>63023</td>\n",
       "    </tr>\n",
       "    <tr>\n",
       "      <th>5</th>\n",
       "      <td>Spring</td>\n",
       "      <td>1972472</td>\n",
       "      <td>2019-04-29</td>\n",
       "      <td>2019.0</td>\n",
       "      <td>394494</td>\n",
       "    </tr>\n",
       "    <tr>\n",
       "      <th>8</th>\n",
       "      <td>Fall</td>\n",
       "      <td>296566</td>\n",
       "      <td>2012-10-04</td>\n",
       "      <td>2012.0</td>\n",
       "      <td>24713</td>\n",
       "    </tr>\n",
       "    <tr>\n",
       "      <th>...</th>\n",
       "      <td>...</td>\n",
       "      <td>...</td>\n",
       "      <td>...</td>\n",
       "      <td>...</td>\n",
       "      <td>...</td>\n",
       "    </tr>\n",
       "    <tr>\n",
       "      <th>9976</th>\n",
       "      <td>Fall</td>\n",
       "      <td>5697</td>\n",
       "      <td>2021-10-03</td>\n",
       "      <td>2021.0</td>\n",
       "      <td>1899</td>\n",
       "    </tr>\n",
       "    <tr>\n",
       "      <th>9978</th>\n",
       "      <td>Winter</td>\n",
       "      <td>22989</td>\n",
       "      <td>2020-01-07</td>\n",
       "      <td>2020.0</td>\n",
       "      <td>5747</td>\n",
       "    </tr>\n",
       "    <tr>\n",
       "      <th>9987</th>\n",
       "      <td>Spring</td>\n",
       "      <td>36447</td>\n",
       "      <td>2020-04-05</td>\n",
       "      <td>2020.0</td>\n",
       "      <td>9111</td>\n",
       "    </tr>\n",
       "    <tr>\n",
       "      <th>9988</th>\n",
       "      <td>Spring</td>\n",
       "      <td>639</td>\n",
       "      <td>2019-04-02</td>\n",
       "      <td>2019.0</td>\n",
       "      <td>127</td>\n",
       "    </tr>\n",
       "    <tr>\n",
       "      <th>9992</th>\n",
       "      <td>Winter</td>\n",
       "      <td>57500</td>\n",
       "      <td>2016-01-07</td>\n",
       "      <td>2016.0</td>\n",
       "      <td>7187</td>\n",
       "    </tr>\n",
       "  </tbody>\n",
       "</table>\n",
       "<p>1788 rows × 5 columns</p>\n",
       "</div>"
      ],
      "text/plain": [
       "     Premiered  Members       From  FromYear  AverageMembers\n",
       "1         Fall   310979 2022-10-11    2022.0          155489\n",
       "2       Spring   703336 2022-04-09    2022.0          351668\n",
       "4       Spring   567213 2015-04-08    2015.0           63023\n",
       "5       Spring  1972472 2019-04-29    2019.0          394494\n",
       "8         Fall   296566 2012-10-04    2012.0           24713\n",
       "...        ...      ...        ...       ...             ...\n",
       "9976      Fall     5697 2021-10-03    2021.0            1899\n",
       "9978    Winter    22989 2020-01-07    2020.0            5747\n",
       "9987    Spring    36447 2020-04-05    2020.0            9111\n",
       "9988    Spring      639 2019-04-02    2019.0             127\n",
       "9992    Winter    57500 2016-01-07    2016.0            7187\n",
       "\n",
       "[1788 rows x 5 columns]"
      ]
     },
     "execution_count": 36,
     "metadata": {},
     "output_type": "execute_result"
    }
   ],
   "source": [
    "genres_df = anime_df[[\"Genres\", \"Members\", \"From\"]].copy()\n",
    "genres_df = genres_df.dropna()\n",
    "genres_df[\"FromYear\"] = pd.DatetimeIndex(genres_df['From']).year\n",
    "max_year = genres_df[\"FromYear\"].max()\n",
    "ten_nearest_years = max_year - 10\n",
    "season_df = season_df[season_df[\"FromYear\"] >= ten_nearest_years]\n",
    "season_df"
   ]
  },
  {
   "cell_type": "code",
   "execution_count": 37,
   "metadata": {},
   "outputs": [
    {
     "data": {
      "text/html": [
       "<div>\n",
       "<style scoped>\n",
       "    .dataframe tbody tr th:only-of-type {\n",
       "        vertical-align: middle;\n",
       "    }\n",
       "\n",
       "    .dataframe tbody tr th {\n",
       "        vertical-align: top;\n",
       "    }\n",
       "\n",
       "    .dataframe thead th {\n",
       "        text-align: right;\n",
       "    }\n",
       "</style>\n",
       "<table border=\"1\" class=\"dataframe\">\n",
       "  <thead>\n",
       "    <tr style=\"text-align: right;\">\n",
       "      <th></th>\n",
       "      <th>FromYear</th>\n",
       "      <th>Premiered</th>\n",
       "      <th>AverageMembers</th>\n",
       "    </tr>\n",
       "  </thead>\n",
       "  <tbody>\n",
       "    <tr>\n",
       "      <th>0</th>\n",
       "      <td>2012.0</td>\n",
       "      <td>Fall</td>\n",
       "      <td>1262583</td>\n",
       "    </tr>\n",
       "    <tr>\n",
       "      <th>1</th>\n",
       "      <td>2012.0</td>\n",
       "      <td>Spring</td>\n",
       "      <td>734319</td>\n",
       "    </tr>\n",
       "    <tr>\n",
       "      <th>2</th>\n",
       "      <td>2012.0</td>\n",
       "      <td>Summer</td>\n",
       "      <td>614455</td>\n",
       "    </tr>\n",
       "    <tr>\n",
       "      <th>3</th>\n",
       "      <td>2012.0</td>\n",
       "      <td>Winter</td>\n",
       "      <td>618230</td>\n",
       "    </tr>\n",
       "    <tr>\n",
       "      <th>4</th>\n",
       "      <td>2013.0</td>\n",
       "      <td>Fall</td>\n",
       "      <td>1156565</td>\n",
       "    </tr>\n",
       "    <tr>\n",
       "      <th>5</th>\n",
       "      <td>2013.0</td>\n",
       "      <td>Spring</td>\n",
       "      <td>994341</td>\n",
       "    </tr>\n",
       "    <tr>\n",
       "      <th>6</th>\n",
       "      <td>2013.0</td>\n",
       "      <td>Summer</td>\n",
       "      <td>717181</td>\n",
       "    </tr>\n",
       "    <tr>\n",
       "      <th>7</th>\n",
       "      <td>2013.0</td>\n",
       "      <td>Winter</td>\n",
       "      <td>445821</td>\n",
       "    </tr>\n",
       "    <tr>\n",
       "      <th>8</th>\n",
       "      <td>2014.0</td>\n",
       "      <td>Fall</td>\n",
       "      <td>1628028</td>\n",
       "    </tr>\n",
       "    <tr>\n",
       "      <th>9</th>\n",
       "      <td>2014.0</td>\n",
       "      <td>Spring</td>\n",
       "      <td>1462184</td>\n",
       "    </tr>\n",
       "    <tr>\n",
       "      <th>10</th>\n",
       "      <td>2014.0</td>\n",
       "      <td>Summer</td>\n",
       "      <td>1411895</td>\n",
       "    </tr>\n",
       "    <tr>\n",
       "      <th>11</th>\n",
       "      <td>2014.0</td>\n",
       "      <td>Winter</td>\n",
       "      <td>826101</td>\n",
       "    </tr>\n",
       "    <tr>\n",
       "      <th>12</th>\n",
       "      <td>2015.0</td>\n",
       "      <td>Fall</td>\n",
       "      <td>1332751</td>\n",
       "    </tr>\n",
       "    <tr>\n",
       "      <th>13</th>\n",
       "      <td>2015.0</td>\n",
       "      <td>Spring</td>\n",
       "      <td>1554607</td>\n",
       "    </tr>\n",
       "    <tr>\n",
       "      <th>14</th>\n",
       "      <td>2015.0</td>\n",
       "      <td>Summer</td>\n",
       "      <td>1489048</td>\n",
       "    </tr>\n",
       "    <tr>\n",
       "      <th>15</th>\n",
       "      <td>2015.0</td>\n",
       "      <td>Winter</td>\n",
       "      <td>1243487</td>\n",
       "    </tr>\n",
       "    <tr>\n",
       "      <th>16</th>\n",
       "      <td>2016.0</td>\n",
       "      <td>Fall</td>\n",
       "      <td>1026166</td>\n",
       "    </tr>\n",
       "    <tr>\n",
       "      <th>17</th>\n",
       "      <td>2016.0</td>\n",
       "      <td>Spring</td>\n",
       "      <td>1739785</td>\n",
       "    </tr>\n",
       "    <tr>\n",
       "      <th>18</th>\n",
       "      <td>2016.0</td>\n",
       "      <td>Summer</td>\n",
       "      <td>1526510</td>\n",
       "    </tr>\n",
       "    <tr>\n",
       "      <th>19</th>\n",
       "      <td>2016.0</td>\n",
       "      <td>Winter</td>\n",
       "      <td>1403800</td>\n",
       "    </tr>\n",
       "    <tr>\n",
       "      <th>20</th>\n",
       "      <td>2017.0</td>\n",
       "      <td>Fall</td>\n",
       "      <td>1377554</td>\n",
       "    </tr>\n",
       "    <tr>\n",
       "      <th>21</th>\n",
       "      <td>2017.0</td>\n",
       "      <td>Spring</td>\n",
       "      <td>1659961</td>\n",
       "    </tr>\n",
       "    <tr>\n",
       "      <th>22</th>\n",
       "      <td>2017.0</td>\n",
       "      <td>Summer</td>\n",
       "      <td>1438670</td>\n",
       "    </tr>\n",
       "    <tr>\n",
       "      <th>23</th>\n",
       "      <td>2017.0</td>\n",
       "      <td>Winter</td>\n",
       "      <td>1331884</td>\n",
       "    </tr>\n",
       "    <tr>\n",
       "      <th>24</th>\n",
       "      <td>2018.0</td>\n",
       "      <td>Fall</td>\n",
       "      <td>1799941</td>\n",
       "    </tr>\n",
       "    <tr>\n",
       "      <th>25</th>\n",
       "      <td>2018.0</td>\n",
       "      <td>Spring</td>\n",
       "      <td>1800764</td>\n",
       "    </tr>\n",
       "    <tr>\n",
       "      <th>26</th>\n",
       "      <td>2018.0</td>\n",
       "      <td>Summer</td>\n",
       "      <td>1610191</td>\n",
       "    </tr>\n",
       "    <tr>\n",
       "      <th>27</th>\n",
       "      <td>2018.0</td>\n",
       "      <td>Winter</td>\n",
       "      <td>1933383</td>\n",
       "    </tr>\n",
       "    <tr>\n",
       "      <th>28</th>\n",
       "      <td>2019.0</td>\n",
       "      <td>Fall</td>\n",
       "      <td>1894607</td>\n",
       "    </tr>\n",
       "    <tr>\n",
       "      <th>29</th>\n",
       "      <td>2019.0</td>\n",
       "      <td>Spring</td>\n",
       "      <td>2243675</td>\n",
       "    </tr>\n",
       "    <tr>\n",
       "      <th>30</th>\n",
       "      <td>2019.0</td>\n",
       "      <td>Summer</td>\n",
       "      <td>1858624</td>\n",
       "    </tr>\n",
       "    <tr>\n",
       "      <th>31</th>\n",
       "      <td>2019.0</td>\n",
       "      <td>Winter</td>\n",
       "      <td>2265159</td>\n",
       "    </tr>\n",
       "    <tr>\n",
       "      <th>32</th>\n",
       "      <td>2020.0</td>\n",
       "      <td>Fall</td>\n",
       "      <td>2162223</td>\n",
       "    </tr>\n",
       "    <tr>\n",
       "      <th>33</th>\n",
       "      <td>2020.0</td>\n",
       "      <td>Spring</td>\n",
       "      <td>1639471</td>\n",
       "    </tr>\n",
       "    <tr>\n",
       "      <th>34</th>\n",
       "      <td>2020.0</td>\n",
       "      <td>Summer</td>\n",
       "      <td>1706015</td>\n",
       "    </tr>\n",
       "    <tr>\n",
       "      <th>35</th>\n",
       "      <td>2020.0</td>\n",
       "      <td>Winter</td>\n",
       "      <td>2199780</td>\n",
       "    </tr>\n",
       "    <tr>\n",
       "      <th>36</th>\n",
       "      <td>2021.0</td>\n",
       "      <td>Fall</td>\n",
       "      <td>2299148</td>\n",
       "    </tr>\n",
       "    <tr>\n",
       "      <th>37</th>\n",
       "      <td>2021.0</td>\n",
       "      <td>Spring</td>\n",
       "      <td>3529580</td>\n",
       "    </tr>\n",
       "    <tr>\n",
       "      <th>38</th>\n",
       "      <td>2021.0</td>\n",
       "      <td>Summer</td>\n",
       "      <td>2080516</td>\n",
       "    </tr>\n",
       "    <tr>\n",
       "      <th>39</th>\n",
       "      <td>2021.0</td>\n",
       "      <td>Winter</td>\n",
       "      <td>3895698</td>\n",
       "    </tr>\n",
       "    <tr>\n",
       "      <th>40</th>\n",
       "      <td>2022.0</td>\n",
       "      <td>Fall</td>\n",
       "      <td>2593940</td>\n",
       "    </tr>\n",
       "    <tr>\n",
       "      <th>41</th>\n",
       "      <td>2022.0</td>\n",
       "      <td>Spring</td>\n",
       "      <td>3571969</td>\n",
       "    </tr>\n",
       "    <tr>\n",
       "      <th>42</th>\n",
       "      <td>2022.0</td>\n",
       "      <td>Summer</td>\n",
       "      <td>2550132</td>\n",
       "    </tr>\n",
       "    <tr>\n",
       "      <th>43</th>\n",
       "      <td>2022.0</td>\n",
       "      <td>Winter</td>\n",
       "      <td>2502378</td>\n",
       "    </tr>\n",
       "  </tbody>\n",
       "</table>\n",
       "</div>"
      ],
      "text/plain": [
       "    FromYear Premiered  AverageMembers\n",
       "0     2012.0      Fall         1262583\n",
       "1     2012.0    Spring          734319\n",
       "2     2012.0    Summer          614455\n",
       "3     2012.0    Winter          618230\n",
       "4     2013.0      Fall         1156565\n",
       "5     2013.0    Spring          994341\n",
       "6     2013.0    Summer          717181\n",
       "7     2013.0    Winter          445821\n",
       "8     2014.0      Fall         1628028\n",
       "9     2014.0    Spring         1462184\n",
       "10    2014.0    Summer         1411895\n",
       "11    2014.0    Winter          826101\n",
       "12    2015.0      Fall         1332751\n",
       "13    2015.0    Spring         1554607\n",
       "14    2015.0    Summer         1489048\n",
       "15    2015.0    Winter         1243487\n",
       "16    2016.0      Fall         1026166\n",
       "17    2016.0    Spring         1739785\n",
       "18    2016.0    Summer         1526510\n",
       "19    2016.0    Winter         1403800\n",
       "20    2017.0      Fall         1377554\n",
       "21    2017.0    Spring         1659961\n",
       "22    2017.0    Summer         1438670\n",
       "23    2017.0    Winter         1331884\n",
       "24    2018.0      Fall         1799941\n",
       "25    2018.0    Spring         1800764\n",
       "26    2018.0    Summer         1610191\n",
       "27    2018.0    Winter         1933383\n",
       "28    2019.0      Fall         1894607\n",
       "29    2019.0    Spring         2243675\n",
       "30    2019.0    Summer         1858624\n",
       "31    2019.0    Winter         2265159\n",
       "32    2020.0      Fall         2162223\n",
       "33    2020.0    Spring         1639471\n",
       "34    2020.0    Summer         1706015\n",
       "35    2020.0    Winter         2199780\n",
       "36    2021.0      Fall         2299148\n",
       "37    2021.0    Spring         3529580\n",
       "38    2021.0    Summer         2080516\n",
       "39    2021.0    Winter         3895698\n",
       "40    2022.0      Fall         2593940\n",
       "41    2022.0    Spring         3571969\n",
       "42    2022.0    Summer         2550132\n",
       "43    2022.0    Winter         2502378"
      ]
     },
     "execution_count": 37,
     "metadata": {},
     "output_type": "execute_result"
    }
   ],
   "source": [
    "season_mem = season_df.groupby([\"FromYear\", \"Premiered\"])[\"AverageMembers\"].sum().to_frame()\n",
    "temp = season_mem.reset_index()\n",
    "temp"
   ]
  },
  {
   "cell_type": "code",
   "execution_count": 38,
   "metadata": {},
   "outputs": [
    {
     "data": {
      "image/png": "[encoded data removed]",
      "text/plain": [
       "<Figure size 3000x1200 with 1 Axes>"
      ]
     },
     "metadata": {},
     "output_type": "display_data"
    }
   ],
   "source": [
    "fig, ax = plt.subplots(figsize=(30, 12))\n",
    "\n",
    "sns.lineplot(data=temp, x=\"FromYear\", y=\"AverageMembers\", hue=\"Premiered\", marker='o', ax=ax)\n",
    "\n",
    "ax.set_xlabel('Year')\n",
    "ax.set_ylabel('Total Average Members')\n",
    "ax.set_title('Total Average Members Over Years by Premiered Season')\n",
    "plt.show()"
   ]
  },
  {
   "cell_type": "markdown",
   "metadata": {},
   "source": [
    "#### Assessment: \n",
    "Nhìn chung, tổng số lượt xem trung bình qua các mùa không có sự chênh lệch đáng kể và có thể nhận thấy một xu hướng tăng theo từng năm. Năm 2021 đánh dấu điểm cao nhất, tăng đột ngột số lượng người xem, đặc biệt là trong các mùa xuân và đông. Có thể giải thích điều này bằng việc đang trong giai đoạn đại dịch COVID-19, khiến cho người xem tăng lên do nhiều người ở nhà và thưởng thức anime. Điều này đặc biệt đúng vào các mùa xuân và đông, là hai mùa thường có nhiều kì nghỉ lễ."
   ]
  },
  {
   "cell_type": "markdown",
   "metadata": {},
   "source": [
    "## Phần III"
   ]
  },
  {
   "cell_type": "markdown",
   "metadata": {},
   "source": [
    "# Data Modeling - Mô hình hóa dữ liệu\n",
    "### I. Introduction - Giới thiệu:"
   ]
  },
  {
   "cell_type": "markdown",
   "metadata": {},
   "source": [
    "MyAnimeList, thường được viết tắt là MAL, là một trang web ứng dụng danh mục xã hội và mạng xã hội anime và manga được điều hành bởi các tình nguyện viên. Trang web cung cấp cho người dùng một hệ thống giống như danh sách để sắp xếp và chấm điểm anime và manga. Nó tạo điều kiện thuận lợi cho việc tìm kiếm những người dùng có cùng sở thích và cung cấp cơ sở dữ liệu lớn về anime và manga. Tính đến tháng 1 năm 2023, trang này báo cáo có khoảng 23.000 mục anime và 62.000 mục manga. Năm 2015, trang web này nhận được 120 triệu lượt truy cập mỗi tháng.\n",
    "\n",
    "Dựa trên thông tin thu thập từ dữ liệu, mục tiêu của nhóm chúng em trong việc mô hình hóa dữ liệu là đánh giá chất lượng của các bộ anime dựa trên số lượng người xem và số lượng người yêu thích. Điều này cho phép nhóm sử dụng các thông số thống kê của các bộ anime mới để dự đoán mức độ chất lượng của chúng.\n"
   ]
  },
  {
   "cell_type": "markdown",
   "metadata": {},
   "source": [
    "### II. Analyze and select features with high relevance and importance - Phân tích, lựa chọn các đặc trưng có mức độ liên quan cao và quan trọng:\n",
    "Sau khi nhóm nghiên cứu, phương pháp tính điểm trên MAL cho từng anime dựa vào đánh giá của toàn bộ cộng đồng người dùng và số lượng người xem bộ đó. Vì không thể biết được cách mà từng người dùng đánh giá, nhóm quyết định thử dự đoán điểm số thông qua các thông tin có sẵn. Nhóm xem xét một số đặc trưng quan trọng như sau:\n",
    "\n",
    "1. **Members (Số lượng người xem):** Chúng tôi lựa chọn đặc trưng này vì nó ảnh hưởng đến tiêu chí tính điểm của MAL.\n",
    "\n",
    "2. **Favorites (Số lượng người yêu thích):** Do không có cách nào biết được cách đánh giá của từng người xem, chúng tôi quyết định đánh giá dựa trên số lượng người yêu thích. Nếu một anime có nhiều người yêu thích, khả năng cao là điểm số của nó cũng sẽ tăng lên.\n",
    "\n",
    "3. **From (Năm phát hành):** Với những bộ anime mới, việc đạt được mức lượng người xem và người yêu thích cao có thể khó khăn. Đặc trưng này giúp chúng tôi xem xét thời gian tồn tại của anime, vì những bộ phim mới có thể đạt được vị thế cao một cách dễ dàng."
   ]
  },
  {
   "cell_type": "markdown",
   "metadata": {},
   "source": [
    "### III. Model Selection - Lựa chọn mô hình:\n",
    "\n",
    "Do bài toán yêu cầu dự đoán điểm số của một bộ phim và dữ liệu liên quan đều có định dạng số, nên nhóm quyết định áp dụng các mô hình hồi quy. Trong khuôn khổ của nhiệm vụ, nhóm đã lựa chọn hai mô hình cụ thể để triển khai và so sánh, đó là Linear Regression và K-Nearest-Neighbors Regression. Lựa chọn này dựa trên đặc tính của dữ liệu, với hi vọng rằng những mô hình này sẽ mag lại hiệu suất đáng kể trong việc dự đoán điểm số cho các bộ phim."
   ]
  },
  {
   "cell_type": "code",
   "execution_count": 39,
   "metadata": {},
   "outputs": [],
   "source": [
    "from sklearn.linear_model import LinearRegression\n",
    "from sklearn.neighbors import KNeighborsRegressor\n",
    "from sklearn.preprocessing import StandardScaler\n",
    "from sklearn.model_selection import GridSearchCV, train_test_split\n",
    "from sklearn.pipeline import Pipeline\n",
    "from sklearn.metrics import mean_squared_error, make_scorer, r2_score"
   ]
  },
  {
   "cell_type": "code",
   "execution_count": 40,
   "metadata": {},
   "outputs": [
    {
     "data": {
      "text/html": [
       "<div>\n",
       "<style scoped>\n",
       "    .dataframe tbody tr th:only-of-type {\n",
       "        vertical-align: middle;\n",
       "    }\n",
       "\n",
       "    .dataframe tbody tr th {\n",
       "        vertical-align: top;\n",
       "    }\n",
       "\n",
       "    .dataframe thead th {\n",
       "        text-align: right;\n",
       "    }\n",
       "</style>\n",
       "<table border=\"1\" class=\"dataframe\">\n",
       "  <thead>\n",
       "    <tr style=\"text-align: right;\">\n",
       "      <th></th>\n",
       "      <th>Score</th>\n",
       "      <th>Members</th>\n",
       "      <th>Favorites</th>\n",
       "      <th>Years</th>\n",
       "    </tr>\n",
       "  </thead>\n",
       "  <tbody>\n",
       "    <tr>\n",
       "      <th>0</th>\n",
       "      <td>9.11</td>\n",
       "      <td>3037641</td>\n",
       "      <td>211082</td>\n",
       "      <td>2009.0</td>\n",
       "    </tr>\n",
       "    <tr>\n",
       "      <th>1</th>\n",
       "      <td>9.10</td>\n",
       "      <td>310979</td>\n",
       "      <td>11798</td>\n",
       "      <td>2022.0</td>\n",
       "    </tr>\n",
       "    <tr>\n",
       "      <th>2</th>\n",
       "      <td>9.09</td>\n",
       "      <td>703336</td>\n",
       "      <td>25895</td>\n",
       "      <td>2022.0</td>\n",
       "    </tr>\n",
       "    <tr>\n",
       "      <th>3</th>\n",
       "      <td>9.08</td>\n",
       "      <td>2338343</td>\n",
       "      <td>177381</td>\n",
       "      <td>2011.0</td>\n",
       "    </tr>\n",
       "    <tr>\n",
       "      <th>4</th>\n",
       "      <td>9.07</td>\n",
       "      <td>567213</td>\n",
       "      <td>15323</td>\n",
       "      <td>2015.0</td>\n",
       "    </tr>\n",
       "  </tbody>\n",
       "</table>\n",
       "</div>"
      ],
      "text/plain": [
       "   Score  Members  Favorites   Years\n",
       "0   9.11  3037641     211082  2009.0\n",
       "1   9.10   310979      11798  2022.0\n",
       "2   9.09   703336      25895  2022.0\n",
       "3   9.08  2338343     177381  2011.0\n",
       "4   9.07   567213      15323  2015.0"
      ]
     },
     "execution_count": 40,
     "metadata": {},
     "output_type": "execute_result"
    }
   ],
   "source": [
    "df = anime_df[['Score', 'Members', 'Favorites', 'From']].copy()\n",
    "df['Years'] = df['From'].dt.year\n",
    "df.drop(columns=['From'], inplace=True)\n",
    "df.dropna(inplace=True)\n",
    "df.head()"
   ]
  },
  {
   "cell_type": "markdown",
   "metadata": {},
   "source": [
    "###### Phân chia dữ liệu thành hai phần: tập huấn luyện (training) và tập kiểm thử (testing).\n",
    "\n",
    "Lý do: Nếu sử dụng cùng một tập dữ liệu cho cả quá trình huấn luyện và kiểm thử, có thể gây hiện tượng học thuộc lòng, làm cho mô hình đánh giá có tỉ lệ chính xác cao, thậm chí lên đến 100%, dẫn đến hiện tượng quá mức khớp (overfitting). Vì vậy, chúng ta cần phải tách tập dữ liệu ban đầu thành hai phần riêng biệt để sử dụng cho quá trình huấn luyện và kiểm thử. Trong trường hợp này, nhóm sẽ phân chia như sau:\n",
    "- Tập huấn luyện: 80% dữ liệu\n",
    "- Tập kiểm thử: 20% dữ liệu"
   ]
  },
  {
   "cell_type": "code",
   "execution_count": 41,
   "metadata": {},
   "outputs": [],
   "source": [
    "X=df.drop(columns=['Score'])\n",
    "y=df['Score']\n",
    "X_train,X_test,y_train,y_test=train_test_split(X,y,test_size=0.2)"
   ]
  },
  {
   "cell_type": "markdown",
   "metadata": {},
   "source": [
    "### **III.1. Linear Regression:**\n",
    "\n",
    "- Phân tích hồi quy tuyến tính là phương pháp để xem xét mối quan hệ giữa biến phụ thuộc Y và một hoặc nhiều biến độc lập X. Mô hình hóa này sử dụng hàm tuyến tính (bậc 1), và các tham số của mô hình (hoặc hàm số) được ước lượng dựa trên dữ liệu.\n",
    "\n",
    "- Hồi quy tuyến tính được ứng dụng phổ biến trong thực tế do tính đơn giản hóa của nó trong việc mô tả mối quan hệ giữa các biến. Sự dễ dàng trong quá trình ước lượng tham số làm cho nó trở thành một công cụ phân tích mạnh mẽ."
   ]
  },
  {
   "cell_type": "code",
   "execution_count": 42,
   "metadata": {},
   "outputs": [],
   "source": [
    "linear_model_pipeline = Pipeline([('model', LinearRegression())])\n",
    "linear_model_pipeline.fit(X_train, y_train)\n",
    "predictions = linear_model_pipeline.predict(X_test)"
   ]
  },
  {
   "cell_type": "code",
   "execution_count": 43,
   "metadata": {},
   "outputs": [
    {
     "data": {
      "text/plain": [
       "Text(0, 0.5, 'Predicted Values')"
      ]
     },
     "execution_count": 43,
     "metadata": {},
     "output_type": "execute_result"
    },
    {
     "data": {
      "image/png": "[encoded data removed]",
      "text/plain": [
       "<Figure size 500x500 with 1 Axes>"
      ]
     },
     "metadata": {},
     "output_type": "display_data"
    }
   ],
   "source": [
    "# Visualize\n",
    "plt.figure(figsize=(5, 5))\n",
    "plt.scatter(y_test, predictions)\n",
    "plt.plot([6, 10], [6, 10], color=\"red\")\n",
    "plt.xlabel(\"True Values\")\n",
    "plt.ylabel(\"Predicted Values\")"
   ]
  },
  {
   "cell_type": "markdown",
   "metadata": {},
   "source": [
    "#### Assessment: \n",
    "Ta nhận thấy rằng: các điểm được vẽ có xu hướng tập trung gần đường chéo, cho thấy mô hình có khả năng dự đoán gần đúng số điểm của các bộ anime. Mặc dù không hoàn toàn chính xác, kết quả vẫn nằm trong mức tạm chấp nhận. Nhóm sẽ tính độ lỗi bằng Mean Squared Error (MSE) để đánh giá hiệu suất của mô hình."
   ]
  },
  {
   "cell_type": "code",
   "execution_count": 44,
   "metadata": {},
   "outputs": [
    {
     "name": "stdout",
     "output_type": "stream",
     "text": [
      "Mean Squared Error (MSE): 0.329768596000313\n"
     ]
    }
   ],
   "source": [
    "# Sử dụng MSE để đo độ lỗi\n",
    "mse = mean_squared_error(y_test, predictions)\n",
    "print(f\"Mean Squared Error (MSE): {mse}\")"
   ]
  },
  {
   "cell_type": "markdown",
   "metadata": {},
   "source": [
    "#### Assessment: \n",
    "Ta có thể thấy đây là một mô hình tương đối tốt vì độ lỗi khá thấp."
   ]
  },
  {
   "cell_type": "markdown",
   "metadata": {},
   "source": [
    "### III.2. K-Nearest Neighbors Regression:\n",
    "K-Nearest Neighbors Regression (k-NN Regression) là một phương pháp hồi quy trong thống kê và máy học. Trong k-NN Regression, giá trị dự đoán của một điểm dữ liệu mới được tính bằng cách lấy trung bình của giá trị đầu ra của k điểm dữ liệu gần nhất từ tập dữ liệu huấn luyện. Điều này làm cho k-NN Regression trở thành một phương pháp linh hoạt và đơn giản cho việc dự đoán giá trị liên tục dựa trên thông tin từ các điểm láng giềng. Không gian thuộc tính xác định độ tương đồng giữa các điểm dữ liệu, và k-NN Regression thường được ứng dụng trong các vấn đề liên quan đến dự đoán và ước lượng giá trị.\n",
    "\n",
    "Mô hình này cần được cung cấp tham số k (nearest neighbors). Ta sử dụng tham số mặc định của sklearn cho k là 5."
   ]
  },
  {
   "cell_type": "code",
   "execution_count": 45,
   "metadata": {},
   "outputs": [],
   "source": [
    "knn_model = Pipeline([('model', KNeighborsRegressor())])\n",
    "knn_model.fit(X_train, y_train)\n",
    "knn_predictions = knn_model.predict(X_test)"
   ]
  },
  {
   "cell_type": "code",
   "execution_count": 46,
   "metadata": {},
   "outputs": [
    {
     "data": {
      "text/plain": [
       "Text(0, 0.5, 'Predicted Values')"
      ]
     },
     "execution_count": 46,
     "metadata": {},
     "output_type": "execute_result"
    },
    {
     "data": {
      "image/png": "[encoded data removed]",
      "text/plain": [
       "<Figure size 500x500 with 1 Axes>"
      ]
     },
     "metadata": {},
     "output_type": "display_data"
    }
   ],
   "source": [
    "plt.figure(figsize=(5, 5))\n",
    "plt.plot(np.arange(6, 10, 0.2), np.arange(6, 10, 0.2), color='red')\n",
    "plt.scatter(y_test, knn_predictions)\n",
    "plt.xlabel(\"True Values\")\n",
    "plt.ylabel(\"Predicted Values\")"
   ]
  },
  {
   "cell_type": "markdown",
   "metadata": {},
   "source": [
    "#### Assessment: \n",
    "So với Linear Regression, mô hình KNN thể hiện tốt hơn. Vì các điểm dữ liệu gần như nằm sát đường chéo, nhóm sẽ tính độ lỗi MSE để so sánh với mô hình trước đó và đánh giá hiệu suất của mô hình hiện tại."
   ]
  },
  {
   "cell_type": "code",
   "execution_count": 47,
   "metadata": {},
   "outputs": [
    {
     "name": "stdout",
     "output_type": "stream",
     "text": [
      "Mean Squared Error (MSE) for k-NN Regression: 0.24277788786952093\n"
     ]
    }
   ],
   "source": [
    "# Sử dụng MSE để đo độ lỗi\n",
    "mse_knn_default = mean_squared_error(y_test, knn_predictions)\n",
    "print(f\"Mean Squared Error (MSE) for k-NN Regression: {mse_knn_default}\")"
   ]
  },
  {
   "cell_type": "markdown",
   "metadata": {},
   "source": [
    "#### Comparision: \n",
    "Với k=5. Ta thấy, độ lỗi của mô hình Linear Regression cao hơn mô hình KNN."
   ]
  },
  {
   "cell_type": "markdown",
   "metadata": {},
   "source": [
    "### III.3. Feature Scaling:\n",
    "Feature scaling là một quy trình trong xử lý dữ liệu, nhằm đồng bộ hóa hoặc chuẩn hóa giá trị của các đặc trưng (features) trong tập dữ liệu. Mục tiêu chính của feature scaling là giữ cho các đặc trưng có cùng thang đo, đảm bảo rằng chúng không ảnh hưởng quá mức đến hiệu suất của các mô hình máy học. \n",
    "\n",
    "Ba phương pháp chính của Feature Scaling:\n",
    "- Min-Max Scaling (Normalization): Phương pháp này chuyển đổi giá trị của các đặc trưng sao cho chúng nằm trong khoảng giới hạn cụ thể, thường là từ 0 đến 1.\n",
    "- Standard Scaling (Z-score Normalization): Chuyển đổi giá trị của các đặc trưng sao cho chúng có giá trị trung bình bằng 0 và độ lệch chuẩn bằng 1. \n",
    "- Robust Scaling: Phương pháp này dựa trên tỷ lệ tức là chia giá trị của đặc trưng cho phạm vi tương đối giữa giá trị 25 và giá trị 75 trong tập dữ liệu. Điều này giúp giảm ảnh hưởng của giá trị ngoại lai.\n",
    "\n",
    "Nhóm em chọn Standard Scaling để scale bài toán này."
   ]
  },
  {
   "cell_type": "code",
   "execution_count": 48,
   "metadata": {},
   "outputs": [],
   "source": [
    "scaler = StandardScaler()\n",
    "knn_model = KNeighborsRegressor()\n",
    "\n",
    "X_train_scaled = scaler.fit_transform(X_train)\n",
    "X_test_scaled = scaler.transform(X_test)\n",
    "\n",
    "knn_model.fit(X_train_scaled, y_train)\n",
    "knn_predictions = knn_model.predict(X_test_scaled)"
   ]
  },
  {
   "cell_type": "code",
   "execution_count": 49,
   "metadata": {},
   "outputs": [
    {
     "data": {
      "text/plain": [
       "Text(0, 0.5, 'Predicted Values')"
      ]
     },
     "execution_count": 49,
     "metadata": {},
     "output_type": "execute_result"
    },
    {
     "data": {
      "image/png": "[encoded data removed]",
      "text/plain": [
       "<Figure size 500x500 with 1 Axes>"
      ]
     },
     "metadata": {},
     "output_type": "display_data"
    }
   ],
   "source": [
    "plt.figure(figsize=(5, 5))\n",
    "plt.plot(np.arange(6, 10, 0.2), np.arange(6, 10, 0.2), color='red')\n",
    "plt.scatter(y_test, knn_predictions)\n",
    "plt.xlabel(\"True Values\")\n",
    "plt.ylabel(\"Predicted Values\")"
   ]
  },
  {
   "cell_type": "code",
   "execution_count": 50,
   "metadata": {},
   "outputs": [
    {
     "name": "stdout",
     "output_type": "stream",
     "text": [
      "Mean Squared Error (MSE): 0.23604506422018348\n"
     ]
    }
   ],
   "source": [
    "# Sử dụng MSE để đo độ lỗi\n",
    "mse_knn_standard = mean_squared_error(y_test, knn_predictions)\n",
    "print(f\"Mean Squared Error (MSE): {mse_knn_standard}\")"
   ]
  },
  {
   "cell_type": "markdown",
   "metadata": {},
   "source": [
    "#### Assessment: \n",
    "Độ lỗi MSE đã giảm sau khi sử dụng Standard Scaling "
   ]
  },
  {
   "cell_type": "markdown",
   "metadata": {},
   "source": [
    "### IV. Refine:\n",
    "#### IV.1. Fine-tune parameters - Tinh chỉnh tham số:\n",
    "Tinh chỉnh tham số là một bước quan trọng trong quá trình xây dựng mô hình. Ban đầu, chúng ta áp dụng mô hình k-NN với tham số k=5. Tuy nhiên, giá trị k=5 không chắc chắn làm cho mô hình có độ lỗi thấp nhất.\n",
    "\n",
    "Để xác định tham số k tối ưu nhất cho mô hình, nhóm quyết định sử dụng lớp GridSearchCV và kỹ thuật cross-validation có sẵn trong thư viện sklearn. Quá trình này thực hiện cross-validation bằng cách chia bộ dữ liệu thành 5 phần, nhằm đánh giá hiệu suất của mô hình với nhiều giá trị k khác nhau để đảm bảo tính tổng quát của kết quả đánh giá.\n",
    "\n",
    "Chúng ta xét giá trị k trong khoảng từ 1 đến 50 và lựa chọn giá trị k có điểm đánh giá cao nhất, đồng thời giúp tối ưu hóa hiệu suất của mô hình."
   ]
  },
  {
   "cell_type": "markdown",
   "metadata": {},
   "source": [
    "#### IV.2. Build a scoring function - Xây dựng hàm:\n",
    "Nhóm sẽ đánh giá theo MSE. Vì độ lỗi càng thấp thì model càng hiệu quả nên điểm sẽ được tính bằng: -MSE"
   ]
  },
  {
   "cell_type": "code",
   "execution_count": 51,
   "metadata": {},
   "outputs": [],
   "source": [
    "# Hàm tính điểm để đánh giá\n",
    "def mse_score(y_true,y_predict):\n",
    "    return -mean_squared_error(y_true,y_predict)"
   ]
  },
  {
   "cell_type": "code",
   "execution_count": 52,
   "metadata": {},
   "outputs": [
    {
     "data": {
      "text/html": [
       "<style>#sk-container-id-1 {color: black;background-color: white;}#sk-container-id-1 pre{padding: 0;}#sk-container-id-1 div.sk-toggleable {background-color: white;}#sk-container-id-1 label.sk-toggleable__label {cursor: pointer;display: block;width: 100%;margin-bottom: 0;padding: 0.3em;box-sizing: border-box;text-align: center;}#sk-container-id-1 label.sk-toggleable__label-arrow:before {content: \"▸\";float: left;margin-right: 0.25em;color: #696969;}#sk-container-id-1 label.sk-toggleable__label-arrow:hover:before {color: black;}#sk-container-id-1 div.sk-estimator:hover label.sk-toggleable__label-arrow:before {color: black;}#sk-container-id-1 div.sk-toggleable__content {max-height: 0;max-width: 0;overflow: hidden;text-align: left;background-color: #f0f8ff;}#sk-container-id-1 div.sk-toggleable__content pre {margin: 0.2em;color: black;border-radius: 0.25em;background-color: #f0f8ff;}#sk-container-id-1 input.sk-toggleable__control:checked~div.sk-toggleable__content {max-height: 200px;max-width: 100%;overflow: auto;}#sk-container-id-1 input.sk-toggleable__control:checked~label.sk-toggleable__label-arrow:before {content: \"▾\";}#sk-container-id-1 div.sk-estimator input.sk-toggleable__control:checked~label.sk-toggleable__label {background-color: #d4ebff;}#sk-container-id-1 div.sk-label input.sk-toggleable__control:checked~label.sk-toggleable__label {background-color: #d4ebff;}#sk-container-id-1 input.sk-hidden--visually {border: 0;clip: rect(1px 1px 1px 1px);clip: rect(1px, 1px, 1px, 1px);height: 1px;margin: -1px;overflow: hidden;padding: 0;position: absolute;width: 1px;}#sk-container-id-1 div.sk-estimator {font-family: monospace;background-color: #f0f8ff;border: 1px dotted black;border-radius: 0.25em;box-sizing: border-box;margin-bottom: 0.5em;}#sk-container-id-1 div.sk-estimator:hover {background-color: #d4ebff;}#sk-container-id-1 div.sk-parallel-item::after {content: \"\";width: 100%;border-bottom: 1px solid gray;flex-grow: 1;}#sk-container-id-1 div.sk-label:hover label.sk-toggleable__label {background-color: #d4ebff;}#sk-container-id-1 div.sk-serial::before {content: \"\";position: absolute;border-left: 1px solid gray;box-sizing: border-box;top: 0;bottom: 0;left: 50%;z-index: 0;}#sk-container-id-1 div.sk-serial {display: flex;flex-direction: column;align-items: center;background-color: white;padding-right: 0.2em;padding-left: 0.2em;position: relative;}#sk-container-id-1 div.sk-item {position: relative;z-index: 1;}#sk-container-id-1 div.sk-parallel {display: flex;align-items: stretch;justify-content: center;background-color: white;position: relative;}#sk-container-id-1 div.sk-item::before, #sk-container-id-1 div.sk-parallel-item::before {content: \"\";position: absolute;border-left: 1px solid gray;box-sizing: border-box;top: 0;bottom: 0;left: 50%;z-index: -1;}#sk-container-id-1 div.sk-parallel-item {display: flex;flex-direction: column;z-index: 1;position: relative;background-color: white;}#sk-container-id-1 div.sk-parallel-item:first-child::after {align-self: flex-end;width: 50%;}#sk-container-id-1 div.sk-parallel-item:last-child::after {align-self: flex-start;width: 50%;}#sk-container-id-1 div.sk-parallel-item:only-child::after {width: 0;}#sk-container-id-1 div.sk-dashed-wrapped {border: 1px dashed gray;margin: 0 0.4em 0.5em 0.4em;box-sizing: border-box;padding-bottom: 0.4em;background-color: white;}#sk-container-id-1 div.sk-label label {font-family: monospace;font-weight: bold;display: inline-block;line-height: 1.2em;}#sk-container-id-1 div.sk-label-container {text-align: center;}#sk-container-id-1 div.sk-container {/* jupyter's `normalize.less` sets `[hidden] { display: none; }` but bootstrap.min.css set `[hidden] { display: none !important; }` so we also need the `!important` here to be able to override the default hidden behavior on the sphinx rendered scikit-learn.org. See: https://github.com/scikit-learn/scikit-learn/issues/21755 */display: inline-block !important;position: relative;}#sk-container-id-1 div.sk-text-repr-fallback {display: none;}</style><div id=\"sk-container-id-1\" class=\"sk-top-container\"><div class=\"sk-text-repr-fallback\"><pre>GridSearchCV(cv=5,\n",
       "             estimator=Pipeline(steps=[(&#x27;scaler&#x27;, StandardScaler()),\n",
       "                                       (&#x27;model&#x27;, KNeighborsRegressor())]),\n",
       "             param_grid={&#x27;model__n_neighbors&#x27;: array([ 1,  2,  3,  4,  5,  6,  7,  8,  9, 10, 11, 12, 13, 14, 15, 16, 17,\n",
       "       18, 19, 20, 21, 22, 23, 24, 25, 26, 27, 28, 29, 30, 31, 32, 33, 34,\n",
       "       35, 36, 37, 38, 39, 40, 41, 42, 43, 44, 45, 46, 47, 48, 49])},\n",
       "             refit=&#x27;mse&#x27;, scoring={&#x27;mse&#x27;: make_scorer(mse_score)})</pre><b>In a Jupyter environment, please rerun this cell to show the HTML representation or trust the notebook. <br />On GitHub, the HTML representation is unable to render, please try loading this page with nbviewer.org.</b></div><div class=\"sk-container\" hidden><div class=\"sk-item sk-dashed-wrapped\"><div class=\"sk-label-container\"><div class=\"sk-label sk-toggleable\"><input class=\"sk-toggleable__control sk-hidden--visually\" id=\"sk-estimator-id-1\" type=\"checkbox\" ><label for=\"sk-estimator-id-1\" class=\"sk-toggleable__label sk-toggleable__label-arrow\">GridSearchCV</label><div class=\"sk-toggleable__content\"><pre>GridSearchCV(cv=5,\n",
       "             estimator=Pipeline(steps=[(&#x27;scaler&#x27;, StandardScaler()),\n",
       "                                       (&#x27;model&#x27;, KNeighborsRegressor())]),\n",
       "             param_grid={&#x27;model__n_neighbors&#x27;: array([ 1,  2,  3,  4,  5,  6,  7,  8,  9, 10, 11, 12, 13, 14, 15, 16, 17,\n",
       "       18, 19, 20, 21, 22, 23, 24, 25, 26, 27, 28, 29, 30, 31, 32, 33, 34,\n",
       "       35, 36, 37, 38, 39, 40, 41, 42, 43, 44, 45, 46, 47, 48, 49])},\n",
       "             refit=&#x27;mse&#x27;, scoring={&#x27;mse&#x27;: make_scorer(mse_score)})</pre></div></div></div><div class=\"sk-parallel\"><div class=\"sk-parallel-item\"><div class=\"sk-item\"><div class=\"sk-label-container\"><div class=\"sk-label sk-toggleable\"><input class=\"sk-toggleable__control sk-hidden--visually\" id=\"sk-estimator-id-2\" type=\"checkbox\" ><label for=\"sk-estimator-id-2\" class=\"sk-toggleable__label sk-toggleable__label-arrow\">estimator: Pipeline</label><div class=\"sk-toggleable__content\"><pre>Pipeline(steps=[(&#x27;scaler&#x27;, StandardScaler()), (&#x27;model&#x27;, KNeighborsRegressor())])</pre></div></div></div><div class=\"sk-serial\"><div class=\"sk-item\"><div class=\"sk-serial\"><div class=\"sk-item\"><div class=\"sk-estimator sk-toggleable\"><input class=\"sk-toggleable__control sk-hidden--visually\" id=\"sk-estimator-id-3\" type=\"checkbox\" ><label for=\"sk-estimator-id-3\" class=\"sk-toggleable__label sk-toggleable__label-arrow\">StandardScaler</label><div class=\"sk-toggleable__content\"><pre>StandardScaler()</pre></div></div></div><div class=\"sk-item\"><div class=\"sk-estimator sk-toggleable\"><input class=\"sk-toggleable__control sk-hidden--visually\" id=\"sk-estimator-id-4\" type=\"checkbox\" ><label for=\"sk-estimator-id-4\" class=\"sk-toggleable__label sk-toggleable__label-arrow\">KNeighborsRegressor</label><div class=\"sk-toggleable__content\"><pre>KNeighborsRegressor()</pre></div></div></div></div></div></div></div></div></div></div></div></div>"
      ],
      "text/plain": [
       "GridSearchCV(cv=5,\n",
       "             estimator=Pipeline(steps=[('scaler', StandardScaler()),\n",
       "                                       ('model', KNeighborsRegressor())]),\n",
       "             param_grid={'model__n_neighbors': array([ 1,  2,  3,  4,  5,  6,  7,  8,  9, 10, 11, 12, 13, 14, 15, 16, 17,\n",
       "       18, 19, 20, 21, 22, 23, 24, 25, 26, 27, 28, 29, 30, 31, 32, 33, 34,\n",
       "       35, 36, 37, 38, 39, 40, 41, 42, 43, 44, 45, 46, 47, 48, 49])},\n",
       "             refit='mse', scoring={'mse': make_scorer(mse_score)})"
      ]
     },
     "execution_count": 52,
     "metadata": {},
     "output_type": "execute_result"
    }
   ],
   "source": [
    "knn_model = Pipeline([('scaler', StandardScaler()), ('model', KNeighborsRegressor())])\n",
    "\n",
    "grid_search = GridSearchCV(\n",
    "    estimator=knn_model,\n",
    "    param_grid={'model__n_neighbors': np.arange(1, 50)},\n",
    "    scoring={'mse': make_scorer(mse_score)},\n",
    "    refit='mse',\n",
    "    cv=5\n",
    ")\n",
    "\n",
    "grid_search.fit(X, y)"
   ]
  },
  {
   "cell_type": "code",
   "execution_count": 53,
   "metadata": {},
   "outputs": [
    {
     "data": {
      "text/plain": [
       "[<matplotlib.lines.Line2D at 0x7fa14e3dbdd0>]"
      ]
     },
     "execution_count": 53,
     "metadata": {},
     "output_type": "execute_result"
    },
    {
     "data": {
      "image/png": "[encoded data removed]",
      "text/plain": [
       "<Figure size 640x480 with 1 Axes>"
      ]
     },
     "metadata": {},
     "output_type": "display_data"
    }
   ],
   "source": [
    "# Điểm đánh giá của từng giá trị k\n",
    "df_result = pd.DataFrame(grid_search.cv_results_)\n",
    "\n",
    "plt.plot(df_result['param_model__n_neighbors'], df_result['mean_test_mse'])\n",
    "\n",
    "best_index = list(df_result['param_model__n_neighbors']).index(grid_search.best_params_['model__n_neighbors'])\n",
    "best = (\n",
    "    list(df_result['param_model__n_neighbors'])[best_index],\n",
    "    list(df_result['mean_test_mse'])[best_index]\n",
    ")\n",
    "\n",
    "plt.plot([best[0], best[0]], [df_result['mean_test_mse'].min(), best[1]], linestyle='dashed', color='red')\n",
    "plt.plot([0, best[0]], [best[1], best[1]], linestyle='dashed', color='red')"
   ]
  },
  {
   "cell_type": "code",
   "execution_count": 54,
   "metadata": {},
   "outputs": [
    {
     "name": "stdout",
     "output_type": "stream",
     "text": [
      "Best value for k: 10\n"
     ]
    }
   ],
   "source": [
    "# Tham số k có điểm đánh giá cao nhất\n",
    "best_k_value = grid_search.best_params_['model__n_neighbors']\n",
    "print(f\"Best value for k: {best_k_value}\")"
   ]
  },
  {
   "cell_type": "code",
   "execution_count": 55,
   "metadata": {},
   "outputs": [],
   "source": [
    "# Mô hình k-NN với tham số k tốt nhất\n",
    "best_k_value = grid_search.best_params_['model__n_neighbors']\n",
    "\n",
    "knn_model1 = Pipeline([\n",
    "    ('scaler', StandardScaler()),\n",
    "    ('model', KNeighborsRegressor(n_neighbors=best_k_value))\n",
    "])\n",
    "\n",
    "knn_model1.fit(X_train, y_train)\n",
    "knn_predictions = knn_model1.predict(X_test)"
   ]
  },
  {
   "cell_type": "code",
   "execution_count": 56,
   "metadata": {},
   "outputs": [
    {
     "data": {
      "text/plain": [
       "Text(0, 0.5, 'Predicted Values')"
      ]
     },
     "execution_count": 56,
     "metadata": {},
     "output_type": "execute_result"
    },
    {
     "data": {
      "image/png": "[encoded data removed]",
      "text/plain": [
       "<Figure size 500x500 with 1 Axes>"
      ]
     },
     "metadata": {},
     "output_type": "display_data"
    }
   ],
   "source": [
    "# Visualize\n",
    "plt.figure(figsize=(5, 5))\n",
    "plt.plot([6, 10], [6, 10], color='red')\n",
    "plt.scatter(y_test, knn_predictions)\n",
    "plt.xlabel(\"True Values\")\n",
    "plt.ylabel(\"Predicted Values\")"
   ]
  },
  {
   "cell_type": "code",
   "execution_count": 57,
   "metadata": {},
   "outputs": [
    {
     "name": "stdout",
     "output_type": "stream",
     "text": [
      "Mean Squared Error (MSE): 0.22359646432212024\n"
     ]
    }
   ],
   "source": [
    "# Sử dụng MSE để đo độ lỗi\n",
    "mse_knn = mean_squared_error(y_test, knn_predictions)\n",
    "print(f\"Mean Squared Error (MSE): {mse_knn}\")"
   ]
  },
  {
   "cell_type": "markdown",
   "metadata": {},
   "source": [
    "#### Assessment:\n",
    "Quan sát kết quả ta thấy, mô hình làm việc khá tốt đối với tập dữ liệu này. Được thể hiện ở độ lỗi khi cả hai đều cho ra độ lỗi khá thấp:\n",
    "- 0.3 (Linear Regression).\n",
    "- 0.2 (K-Nearest Neighbors Regression)."
   ]
  },
  {
   "cell_type": "markdown",
   "metadata": {},
   "source": [
    "#### IV.3. Evaluation of two models:\n",
    "Dựa trên kết quả độ lỗi MSE, mô hình Linear Regression và K-Nearest Neighbors Regression được đánh giá như sau:\n",
    "\n",
    "- **Linear Regression:** Mô hình này dựa trên giả định về mối quan hệ tuyến tính giữa các biến độc lập và biến phụ thuộc. Kết quả MSE cho thấy mức độ chính xác của mô hình trên tập kiểm thử.\n",
    "\n",
    "- **K-Nearest Neighbors Regression (k-NN):** Mô hình này sử dụng thông tin từ k hàng xóm gần nhất để dự đoán giá trị. Độ lỗi MSE cho biết mức độ chính xác của mô hình với giả sử về sự tương đồng giữa các điểm dữ liệu.\n",
    "\n",
    "Thông qua những dữ liệu trên, ta nhận thấy KNN thể hiện tốt hơn một chút so với Linear Regression.\n",
    "\n",
    "Tùy thuộc vào bài toán và đặc điểm của dữ liệu, một trong hai mô hình có thể phù hợp tốt hơn. Đánh giá cụ thể hơn có thể được thực hiện bằng cách so sánh các chỉ số đánh giá khác như R-squared, đồng thời cân nhắc đến sự phức tạp của mô hình và đặc điểm của dữ liệu cụ thể."
   ]
  },
  {
   "cell_type": "markdown",
   "metadata": {},
   "source": [
    "# The End!"
   ]
  }
 ],
 "metadata": {
  "kernelspec": {
   "display_name": "Python 3 (ipykernel)",
   "language": "python",
   "name": "python3"
  },
  "language_info": {
   "codemirror_mode": {
    "name": "ipython",
    "version": 3
   },
   "file_extension": ".py",
   "mimetype": "text/x-python",
   "name": "python",
   "nbconvert_exporter": "python",
   "pygments_lexer": "ipython3",
   "version": "3.11.4"
  },
  "vscode": {
   "interpreter": {
    "hash": "6bfec4ce93f3c8730c5305a78a297c4af7425bada9233a6e3b20f480ff32d241"
   }
  }
 },
 "nbformat": 4,
 "nbformat_minor": 2
}
